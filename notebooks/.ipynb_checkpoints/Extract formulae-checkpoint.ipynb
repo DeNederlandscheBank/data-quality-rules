{
 "cells": [
  {
   "cell_type": "markdown",
   "metadata": {},
   "source": [
    "Generate pages"
   ]
  },
  {
   "cell_type": "markdown",
   "metadata": {},
   "source": [
    "## Read the XBRL-instance"
   ]
  },
  {
   "cell_type": "code",
   "execution_count": null,
   "metadata": {},
   "outputs": [],
   "source": [
    "from arelle import ViewFileDTS, ViewFileFactTable, ViewFileFactList, ModelManager, FileSource, ViewFileRelationshipSet\n",
    "from arelle import Cntlr, ModelXbrl, ModelDocument, ViewFileFormulae\n",
    "from arelle import ModelFormulaObject, RenderingEvaluator, XbrlConst\n",
    "from arelle.ModelDtsObject import ModelRelationship\n",
    "import arelle\n",
    "from arelle import ModelObject, XbrlConst, ViewFile\n",
    "from arelle.ModelDtsObject import ModelRelationship\n",
    "from arelle.ModelFormulaObject import ModelParameter, ModelVariable, ModelVariableSetAssertion, ModelConsistencyAssertion\n"
   ]
  },
  {
   "cell_type": "code",
   "execution_count": null,
   "metadata": {},
   "outputs": [],
   "source": [
    "import src\n",
    "import pandas as pd\n",
    "import re\n",
    "import os\n",
    "from os import listdir, walk, makedirs\n",
    "from os.path import isfile, join, exists\n",
    "from io import StringIO"
   ]
  },
  {
   "cell_type": "code",
   "execution_count": null,
   "metadata": {},
   "outputs": [],
   "source": [
    "# make sure you have a 'arelle' directory in the data_path! (This is where the taxonomy is stored)\n",
    "XBRL_DATA_PATH    = '..\\\\data\\\\taxonomy\\\\' \n",
    "#DATA_PATH    = 'H:\\\\20_local_data\\\\xbrl\\\\' \n",
    "XBRL_RESULTS_PATH = '..\\\\data\\\\'\n",
    "LANGUAGE     = \"en-GB\"\n",
    "# set the location of taxonomy\n",
    "os.environ['XDG_CONFIG_HOME'] = XBRL_DATA_PATH "
   ]
  },
  {
   "cell_type": "code",
   "execution_count": null,
   "metadata": {},
   "outputs": [],
   "source": [
    "DOCS_PATH =\"..\\\\docs\\\\\"\n",
    "DATA_PATH =\"..\\\\data\\\\\"\n",
    "RULES_PATH = \"..\\\\Solvency2-rules\\\\\""
   ]
  },
  {
   "cell_type": "code",
   "execution_count": null,
   "metadata": {
    "scrolled": true
   },
   "outputs": [],
   "source": [
    "# Now we make a modelmanager\n",
    "controller = Cntlr.Cntlr()\n",
    "controller.webCache.workOffline = True\n",
    "\n",
    "modelmanager = ModelManager.initialize(controller)\n",
    "modelmanager.defaultLang = LANGUAGE\n",
    "modelmanager.formulaOptions = ModelFormulaObject.FormulaOptions()\n",
    "modelmanager.loadCustomTransforms()"
   ]
  },
  {
   "cell_type": "code",
   "execution_count": null,
   "metadata": {},
   "outputs": [],
   "source": [
    "# And we read the XBRL instance\n",
    "XBRL_INSTANCE = 'examples\\qrs_240_instance.xbrl'\n",
    "\n",
    "xbrl_instance = ModelXbrl.load(modelmanager, XBRL_DATA_PATH + XBRL_INSTANCE)"
   ]
  },
  {
   "cell_type": "code",
   "execution_count": null,
   "metadata": {},
   "outputs": [],
   "source": [
    "tables = list(xbrl_instance.relationshipSet(\"Table-rendering\").linkRoleUris)\n",
    "tables.sort()\n",
    "print(tables[0:5])"
   ]
  },
  {
   "cell_type": "markdown",
   "metadata": {},
   "source": [
    "## Extract from XBRL-instance"
   ]
  },
  {
   "cell_type": "code",
   "execution_count": null,
   "metadata": {},
   "outputs": [],
   "source": [
    "from arelle.ViewUtilFormulae import rootFormulaObjects, formulaObjSortKey"
   ]
  },
  {
   "cell_type": "code",
   "execution_count": null,
   "metadata": {},
   "outputs": [],
   "source": [
    "allFormulaRelationshipsSet = xbrl_instance.relationshipSet(\"XBRL-formulae\")\n",
    "varSetFilterRelationshipSet = xbrl_instance.relationshipSet(XbrlConst.variableSetFilter)\n",
    "assertionSetRelSet = xbrl_instance.relationshipSet(XbrlConst.assertionSet)\n",
    "consisAsserFormulaRelSet = xbrl_instance.relationshipSet(XbrlConst.consistencyAssertionFormula)\n",
    "\n",
    "def rootFormulaObjects():\n",
    "    if allFormulaRelationshipsSet is None or len(allFormulaRelationshipsSet.modelRelationships) == 0:\n",
    "        return set()\n",
    "    rootObjects = set(xbrl_instance.modelVariableSets)\n",
    "    # remove formulae under consistency assertions from root objects\n",
    "    for modelRel in consisAsserFormulaRelSet.modelRelationships:\n",
    "        if modelRel.fromModelObject is not None and modelRel.toModelObject is not None:\n",
    "            rootObjects.add(modelRel.fromModelObject)   # display consis assertion\n",
    "            rootObjects.discard(modelRel.toModelObject) # remove formula from root objects\n",
    "    # remove assertions under assertion sets from root objects\n",
    "    for modelRel in assertionSetRelSet.modelRelationships:\n",
    "        if isinstance(modelRel.fromModelObject, ModelObject.ModelObject) and isinstance(modelRel.toModelObject, ModelObject.ModelObject):\n",
    "            rootObjects.add(modelRel.fromModelObject)   # display assertion set\n",
    "            rootObjects.discard(modelRel.toModelObject) # remove assertion from root objects\n",
    "    return rootObjects"
   ]
  },
  {
   "cell_type": "code",
   "execution_count": null,
   "metadata": {},
   "outputs": [],
   "source": [
    "def view():\n",
    "    # determine relationships indent depth\n",
    "    rootObjects = rootFormulaObjects()\n",
    "    for rootObject in rootObjects:\n",
    "        treeDepth(rootObject, 1, set())\n",
    "    for rootObject in sorted(rootObjects, key=formulaObjSortKey):\n",
    "        viewFormulaObjects(rootObject, None, 0, set())\n",
    "    for cfQnameArity in sorted(qnameArity\n",
    "                               for qnameArity in xbrl_instance.modelCustomFunctionSignatures.keys()\n",
    "                               if isinstance(qnameArity, (tuple,list))):\n",
    "        cfObject = xbrl_instance.modelCustomFunctionSignatures[cfQnameArity]\n",
    "        viewFormulaObjects(cfObject, None, 0, set())\n",
    "\n",
    "def treeDepth(fromObject, indent, visited):\n",
    "    if fromObject is None:\n",
    "        return\n",
    "    if fromObject not in visited:\n",
    "        visited.add(fromObject)\n",
    "        relationshipArcsShown = set()\n",
    "        for relationshipSet in (varSetFilterRelationshipSet,\n",
    "                                allFormulaRelationshipsSet):\n",
    "            for modelRel in relationshipSet.fromModelObject(fromObject):\n",
    "                if modelRel.arcElement not in relationshipArcsShown:\n",
    "                    relationshipArcsShown.add(modelRel.arcElement)\n",
    "                    toObject = modelRel.toModelObject\n",
    "                    treeDepth(toObject, indent + 1, visited)\n",
    "        visited.remove(fromObject)\n",
    "\n",
    "formulae = []\n",
    "        \n",
    "def viewFormulaObjects(fromObject, fromRel, indent, visited):\n",
    "    if fromObject is None:\n",
    "        return None\n",
    "    if isinstance(fromObject, (ModelVariable, ModelParameter)) and fromRel is not None:\n",
    "        text = \"{0} ${1}\".format(fromObject.localName, fromRel.variableQname)\n",
    "        xmlRowEltAttr = {\"type\": str(fromObject.localName), \"name\": str(fromRel.variableQname)}\n",
    "    elif isinstance(fromObject, (ModelVariableSetAssertion, ModelConsistencyAssertion)):\n",
    "        text = \"{0} {1}\".format(fromObject.localName, fromObject.id)\n",
    "        xmlRowEltAttr = {\"type\": str(fromObject.localName), \"id\": str(fromObject.id)}\n",
    "    else:\n",
    "        text = fromObject.localName\n",
    "        xmlRowEltAttr = {\"type\": str(fromObject.localName)}\n",
    "    cols = [text, fromObject.xlinkLabel] # label\n",
    "    if fromRel is not None and fromRel.elementQname == XbrlConst.qnVariableFilterArc:\n",
    "        cols.append(\"true\" if fromRel.isCovered else \"false\") # cover\n",
    "        cols.append(\"true\" if fromRel.isComplemented else \"false\") #complement\n",
    "    else:\n",
    "        cols.append(None) # cover\n",
    "        cols.append(None) # compelement\n",
    "    if isinstance(fromObject, ModelVariable):\n",
    "        cols.append(fromObject.bindAsSequence) # bind as sequence\n",
    "    else:\n",
    "        cols.append(None) # bind as sequence\n",
    "    if hasattr(fromObject, \"viewExpression\"):\n",
    "        cols.append(fromObject.viewExpression) # expression\n",
    "    else:            \n",
    "        cols.append(None) # expression\n",
    "    formulae.append(cols)\n",
    "    if fromObject not in visited:\n",
    "        visited.add(fromObject)\n",
    "        relationshipArcsShown = set()\n",
    "        for relationshipSet in (varSetFilterRelationshipSet,\n",
    "                                allFormulaRelationshipsSet):\n",
    "            for modelRel in relationshipSet.fromModelObject(fromObject):\n",
    "                if modelRel.arcElement not in relationshipArcsShown:\n",
    "                    relationshipArcsShown.add(modelRel.arcElement)\n",
    "                    toObject = modelRel.toModelObject\n",
    "                    viewFormulaObjects(toObject, modelRel, indent + 1, visited)\n",
    "        visited.remove(fromObject)\n"
   ]
  },
  {
   "cell_type": "code",
   "execution_count": null,
   "metadata": {},
   "outputs": [],
   "source": [
    "view()"
   ]
  },
  {
   "cell_type": "code",
   "execution_count": null,
   "metadata": {},
   "outputs": [],
   "source": [
    "assertions = []\n",
    "for item in formulae:\n",
    "    if 'valueAssertion' in item[0]:\n",
    "        assertions.append(item[1])\n",
    "\n",
    "d = {}\n",
    "for assertion in assertions:\n",
    "    for item in formulae:\n",
    "        if 'message' in item[0]:\n",
    "            if assertion == item[1]:\n",
    "                d[assertion]=item[5]"
   ]
  },
  {
   "cell_type": "code",
   "execution_count": null,
   "metadata": {},
   "outputs": [],
   "source": [
    "d"
   ]
  },
  {
   "cell_type": "code",
   "execution_count": null,
   "metadata": {},
   "outputs": [],
   "source": []
  }
 ],
 "metadata": {
  "kernelspec": {
   "display_name": "Python 3",
   "language": "python",
   "name": "python3"
  },
  "language_info": {
   "codemirror_mode": {
    "name": "ipython",
    "version": 3
   },
   "file_extension": ".py",
   "mimetype": "text/x-python",
   "name": "python",
   "nbconvert_exporter": "python",
   "pygments_lexer": "ipython3",
   "version": "3.5.6"
  }
 },
 "nbformat": 4,
 "nbformat_minor": 2
}

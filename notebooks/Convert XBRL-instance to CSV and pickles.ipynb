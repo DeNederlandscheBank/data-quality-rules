{
 "cells": [
  {
   "cell_type": "markdown",
   "metadata": {},
   "source": [
    "# Convert Solvency 2 XBRL-instances to CSV and pickles"
   ]
  },
  {
   "cell_type": "markdown",
   "metadata": {},
   "source": [
    "## Read the XBRL-instance"
   ]
  },
  {
   "cell_type": "code",
   "execution_count": 1,
   "metadata": {},
   "outputs": [],
   "source": [
    "from arelle import ModelManager, Cntlr, ModelFormulaObject, ModelXbrl, ViewFileFormulae, XbrlConst, ViewFileRenderedGrid\n",
    "from arelle import RenderingEvaluator"
   ]
  },
  {
   "cell_type": "code",
   "execution_count": 2,
   "metadata": {},
   "outputs": [],
   "source": [
    "import src\n",
    "import pandas as pd\n",
    "from os import listdir, walk, makedirs, environ\n",
    "from os.path import isfile, join, exists, basename\n",
    "from io import StringIO\n",
    "import ast"
   ]
  },
  {
   "cell_type": "code",
   "execution_count": 3,
   "metadata": {},
   "outputs": [],
   "source": [
    "# make sure you have a 'arelle' directory in the data_path! (This is where the taxonomy is stored)\n",
    "XBRL_DATA_PATH    = '..\\\\data\\\\taxonomy\\\\' \n",
    "XBRL_RESULTS_PATH = '..\\\\results\\\\' \n",
    "LANGUAGE     = \"en-GB\"\n",
    "# set the location of taxonomy\n",
    "environ['XDG_CONFIG_HOME'] = XBRL_DATA_PATH"
   ]
  },
  {
   "cell_type": "code",
   "execution_count": 4,
   "metadata": {
    "scrolled": true
   },
   "outputs": [],
   "source": [
    "# Now we make a modelmanager\n",
    "controller = Cntlr.Cntlr()\n",
    "controller.webCache.workOffline = True\n",
    "\n",
    "modelmanager = ModelManager.initialize(controller)\n",
    "modelmanager.defaultLang = LANGUAGE\n",
    "modelmanager.formulaOptions = ModelFormulaObject.FormulaOptions()\n",
    "modelmanager.loadCustomTransforms()"
   ]
  },
  {
   "cell_type": "markdown",
   "metadata": {},
   "source": [
    "## Convert XBRL-instance to CSV"
   ]
  },
  {
   "cell_type": "code",
   "execution_count": 5,
   "metadata": {},
   "outputs": [],
   "source": [
    "# And we read the XBRL instance\n",
    "XBRL_INSTANCE = 'examples\\\\qrs_240_instance.xbrl'\n",
    "\n",
    "xbrl_instance = ModelXbrl.load(modelmanager, XBRL_DATA_PATH + XBRL_INSTANCE)"
   ]
  },
  {
   "cell_type": "code",
   "execution_count": 6,
   "metadata": {},
   "outputs": [
    {
     "name": "stdout",
     "output_type": "stream",
     "text": [
      "Formula xpath2 grammar initialized in 1,61 secs\n"
     ]
    },
    {
     "name": "stderr",
     "output_type": "stream",
     "text": [
      "Closed definition node s2md_c74 does not contribute at least one structural node\n",
      "Closed definition node s2md_c499 does not contribute at least one structural node\n",
      "Closed definition node s2md_c2703 does not contribute at least one structural node\n",
      "Closed definition node s2md_c2707 does not contribute at least one structural node\n",
      "Closed definition node s2md_c2714 does not contribute at least one structural node\n",
      "Closed definition node s2md_c4300 does not contribute at least one structural node\n",
      "Closed definition node s2md_c8902 does not contribute at least one structural node\n",
      "Closed definition node s2md_c8912 does not contribute at least one structural node\n",
      "Closed definition node s2md_c8968 does not contribute at least one structural node\n"
     ]
    }
   ],
   "source": [
    "tables = list(xbrl_instance.relationshipSet(\"Table-rendering\").linkRoleUris)\n",
    "tables.sort()\n",
    "\n",
    "RenderingEvaluator.init(xbrl_instance)\n",
    "for table in tables:\n",
    "    src.toDataFrame.generateCSVTables(xbrl_instance, XBRL_RESULTS_PATH, table_uri = table, lang = LANGUAGE)"
   ]
  },
  {
   "cell_type": "code",
   "execution_count": 7,
   "metadata": {},
   "outputs": [
    {
     "name": "stderr",
     "output_type": "stream",
     "text": [
      "aset-sr.01.01.07.01_sr.26.04.01.01_sr.26.04.01.06_sr.26.04.01.07_sr.26.04.01.08.xml: file error: [Errno 2] No such file or directory: '..\\\\data\\\\taxonomy\\\\arelle\\\\cache\\\\http\\\\eiopa.europa.eu\\\\eu\\\\xbrl\\\\s2md\\\\fws\\\\solvency\\\\solvency2\\\\2019-07-15\\\\val\\\\aset-sr.01.01.07.01_sr.26.04.01.01_sr.26.04.01.06_sr.26.04.01.07_sr.26.04.01.08.xml'\n"
     ]
    }
   ],
   "source": [
    "# And we read the XBRL instance\n",
    "XBRL_INSTANCE = 'examples\\\\aeb_240_instance.xbrl'\n",
    "\n",
    "xbrl_instance = ModelXbrl.load(modelmanager, XBRL_DATA_PATH + XBRL_INSTANCE)"
   ]
  },
  {
   "cell_type": "code",
   "execution_count": 8,
   "metadata": {},
   "outputs": [
    {
     "name": "stderr",
     "output_type": "stream",
     "text": [
      "Closed definition node s2md_c548 does not contribute at least one structural node\n",
      "Closed definition node s2md_c574 does not contribute at least one structural node\n",
      "Closed definition node s2md_c2643 does not contribute at least one structural node\n",
      "Closed definition node s2md_c2647 does not contribute at least one structural node\n",
      "Closed definition node s2md_c2659 does not contribute at least one structural node\n",
      "Closed definition node s2md_c4223 does not contribute at least one structural node\n",
      "Closed definition node s2md_c4423 does not contribute at least one structural node\n",
      "Closed definition node s2md_c5332 does not contribute at least one structural node\n",
      "Closed definition node s2md_c5535 does not contribute at least one structural node\n",
      "Closed definition node s2md_c6087 does not contribute at least one structural node\n",
      "Closed definition node s2md_c6862 does not contribute at least one structural node\n",
      "Closed definition node s2md_c6903 does not contribute at least one structural node\n",
      "Closed definition node s2md_c8902 does not contribute at least one structural node\n",
      "Closed definition node s2md_c8912 does not contribute at least one structural node\n",
      "Closed definition node s2md_c8968 does not contribute at least one structural node\n",
      "Closed definition node s2md_c416 does not contribute at least one structural node\n",
      "Closed definition node s2md_c304 does not contribute at least one structural node\n",
      "Closed definition node s2md_c2735 does not contribute at least one structural node\n",
      "Closed definition node s2md_c2739 does not contribute at least one structural node\n",
      "Closed definition node s2md_c2746 does not contribute at least one structural node\n",
      "Closed definition node s2md_c5484 does not contribute at least one structural node\n",
      "Closed definition node s2md_c5664 does not contribute at least one structural node\n",
      "Closed definition node s2md_c6998 does not contribute at least one structural node\n",
      "Closed definition node s2md_c7045 does not contribute at least one structural node\n"
     ]
    }
   ],
   "source": [
    "tables = list(xbrl_instance.relationshipSet(\"Table-rendering\").linkRoleUris)\n",
    "tables.sort()\n",
    "\n",
    "RenderingEvaluator.init(xbrl_instance)\n",
    "for table in tables:\n",
    "    src.toDataFrame.generateCSVTables(xbrl_instance, XBRL_RESULTS_PATH, table_uri = table, lang = LANGUAGE)"
   ]
  },
  {
   "cell_type": "code",
   "execution_count": null,
   "metadata": {},
   "outputs": [],
   "source": []
  }
 ],
 "metadata": {
  "kernelspec": {
   "display_name": "Python 3",
   "language": "python",
   "name": "python3"
  },
  "language_info": {
   "codemirror_mode": {
    "name": "ipython",
    "version": 3
   },
   "file_extension": ".py",
   "mimetype": "text/x-python",
   "name": "python",
   "nbconvert_exporter": "python",
   "pygments_lexer": "ipython3",
   "version": "3.5.6"
  }
 },
 "nbformat": 4,
 "nbformat_minor": 2
}

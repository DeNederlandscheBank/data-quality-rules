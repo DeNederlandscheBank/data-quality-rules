{
 "cells": [
  {
   "cell_type": "markdown",
   "metadata": {},
   "source": [
    "# Convert Solvency 2 XBRL-instances to CSV and pickles"
   ]
  },
  {
   "cell_type": "markdown",
   "metadata": {},
   "source": [
    "## Read the XBRL-instance"
   ]
  },
  {
   "cell_type": "code",
   "execution_count": null,
   "metadata": {},
   "outputs": [],
   "source": [
    "from arelle import ModelManager, Cntlr, ModelFormulaObject, ModelXbrl, ViewFileFormulae, XbrlConst, ViewFileRenderedGrid\n",
    "from arelle import RenderingEvaluator"
   ]
  },
  {
   "cell_type": "code",
   "execution_count": null,
   "metadata": {},
   "outputs": [],
   "source": [
    "import src\n",
    "import pandas as pd\n",
    "from os import listdir, walk, makedirs, environ\n",
    "from os.path import isfile, join, exists, basename\n",
    "from io import StringIO\n",
    "import ast"
   ]
  },
  {
   "cell_type": "code",
   "execution_count": null,
   "metadata": {},
   "outputs": [],
   "source": [
    "# make sure you have a 'arelle' directory in the data_path! (This is where the taxonomy is stored)\n",
    "XBRL_DATA_PATH    = join('..', 'data', 'taxonomy')\n",
    "XBRL_RESULTS_PATH = join('..', 'results')\n",
    "LANGUAGE     = \"en-GB\"\n",
    "# set the location of taxonomy\n",
    "environ['XDG_CONFIG_HOME'] = XBRL_DATA_PATH"
   ]
  },
  {
   "cell_type": "code",
   "execution_count": null,
   "metadata": {
    "scrolled": true
   },
   "outputs": [],
   "source": [
    "# Now we make a modelmanager\n",
    "controller = Cntlr.Cntlr()\n",
    "controller.webCache.workOffline = True\n",
    "\n",
    "modelmanager = ModelManager.initialize(controller)\n",
    "modelmanager.defaultLang = LANGUAGE\n",
    "modelmanager.formulaOptions = ModelFormulaObject.FormulaOptions()\n",
    "modelmanager.loadCustomTransforms()"
   ]
  },
  {
   "cell_type": "markdown",
   "metadata": {},
   "source": [
    "## Convert XBRL-instance to CSV"
   ]
  },
  {
   "cell_type": "code",
   "execution_count": null,
   "metadata": {},
   "outputs": [],
   "source": [
    "# And we read the XBRL instance\n",
    "XBRL_INSTANCE = join('examples', 'qrs_240_instance.xbrl')\n",
    "\n",
    "xbrl_instance = ModelXbrl.load(modelmanager, join(XBRL_DATA_PATH, XBRL_INSTANCE))"
   ]
  },
  {
   "cell_type": "code",
   "execution_count": null,
   "metadata": {},
   "outputs": [],
   "source": [
    "tables = list(xbrl_instance.relationshipSet(\"Table-rendering\").linkRoleUris)\n",
    "tables.sort()\n",
    "\n",
    "RenderingEvaluator.init(xbrl_instance)\n",
    "for table in tables:\n",
    "    src.toDataFrame.generateCSVTables(xbrl_instance, XBRL_RESULTS_PATH, table_uri = table, lang = LANGUAGE)"
   ]
  },
  {
   "cell_type": "code",
   "execution_count": null,
   "metadata": {},
   "outputs": [],
   "source": [
    "# And we read the XBRL instance\n",
    "XBRL_INSTANCE = join('examples', 'aeb_240_instance.xbrl')\n",
    "xbrl_instance = ModelXbrl.load(modelmanager, join(XBRL_DATA_PATH, XBRL_INSTANCE))"
   ]
  },
  {
   "cell_type": "code",
   "execution_count": null,
   "metadata": {},
   "outputs": [],
   "source": [
    "tables = list(xbrl_instance.relationshipSet(\"Table-rendering\").linkRoleUris)\n",
    "tables.sort()\n",
    "\n",
    "RenderingEvaluator.init(xbrl_instance)\n",
    "for table in tables:\n",
    "    src.toDataFrame.generateCSVTables(xbrl_instance, XBRL_RESULTS_PATH, table_uri = table, lang = LANGUAGE)"
   ]
  },
  {
   "cell_type": "code",
   "execution_count": null,
   "metadata": {},
   "outputs": [],
   "source": []
  }
 ],
 "metadata": {
  "kernelspec": {
   "display_name": "Python 3",
   "language": "python",
   "name": "python3"
  },
  "language_info": {
   "codemirror_mode": {
    "name": "ipython",
    "version": 3
   },
   "file_extension": ".py",
   "mimetype": "text/x-python",
   "name": "python",
   "nbconvert_exporter": "python",
   "pygments_lexer": "ipython3",
   "version": "3.6.10"
  }
 },
 "nbformat": 4,
 "nbformat_minor": 2
}

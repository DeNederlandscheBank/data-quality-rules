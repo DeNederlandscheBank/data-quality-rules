{
 "cells": [
  {
   "cell_type": "markdown",
   "metadata": {},
   "source": [
    "This tutorial describes how to evaluate new rules applicable to the derivatives data."
   ]
  },
  {
   "cell_type": "code",
   "execution_count": 1,
   "metadata": {},
   "outputs": [],
   "source": [
    "from arelle import ModelManager, Cntlr, ModelFormulaObject, ModelXbrl, ViewFileFormulae, XbrlConst, ViewFileRenderedGrid\n",
    "from arelle import RenderingEvaluator "
   ]
  },
  {
   "cell_type": "code",
   "execution_count": 2,
   "metadata": {},
   "outputs": [],
   "source": [
    "import pandas as pd\n",
    "import numpy as np\n",
    "from os import listdir\n",
    "from os.path import join, isfile\n",
    "import re\n",
    "from src import Evaluator\n",
    "import logging\n",
    "import data_patterns\n",
    "import pickle"
   ]
  },
  {
   "cell_type": "code",
   "execution_count": 3,
   "metadata": {},
   "outputs": [],
   "source": [
    "DECIMALS = 0\n",
    "RULES_PATH = join('..', 'solvency2-rules')\n",
    "INSTANCES_DATA_PATH = join('..','data','instances')\n",
    "TEST_DATA_PATH = join('..', 'tests', 'data', 'demo')\n",
    "FILENAME_DATAPOINTS = 'QRS.csv'\n",
    "RESULTS_PATH = join('..', 'results')\n",
    "DATA_PATH = join('..', 'data')\n",
    "logging.basicConfig(filename = join(RESULTS_PATH, 'rules.log'),level = logging.INFO, \n",
    "                    format='%(asctime)s - %(name)s - %(levelname)s - %(message)s')"
   ]
  },
  {
   "cell_type": "markdown",
   "metadata": {},
   "source": [
    "#### Load dictionaries to convert Solvency II rules to FTK rules"
   ]
  },
  {
   "cell_type": "code",
   "execution_count": 4,
   "metadata": {},
   "outputs": [],
   "source": [
    "def load_obj(name ):\n",
    "    with open(join('..','data','dicts','') + name + '.pkl', 'rb') as f:\n",
    "        return pickle.load(f)\n",
    "\n",
    "d_06 = load_obj('dictionary_s06')\n",
    "d_08 = load_obj('dictionary_s08')"
   ]
  },
  {
   "cell_type": "markdown",
   "metadata": {},
   "source": [
    "### Import rules"
   ]
  },
  {
   "cell_type": "markdown",
   "metadata": {},
   "source": [
    "We start with importing the new rules applicable to the assets and derivatives data. There are several sets of rules applicable to different templates:\n",
    "* S.06.02.01 / K208A (Information on positions held)\n",
    "* S.06.02.02 / K208B (Information on assets)\n",
    "* S.06.02.01 / K208A (Information on positions held) and S.06.02.02 / K208B (Information on assets)\n",
    "* S.08.01.01.01 / K210A (Information on positions held) and S2.08.01.01.02 / K210B (Information on derivatives)\n",
    "* S.08.01.01.02 / K210B (Information on derivatives)\n",
    "Subsequently, we adjust the rules such that they have the right FTK labels.  "
   ]
  },
  {
   "cell_type": "markdown",
   "metadata": {},
   "source": [
    "#### S06"
   ]
  },
  {
   "cell_type": "code",
   "execution_count": 5,
   "metadata": {},
   "outputs": [],
   "source": [
    "dfr_s06 = pd.read_excel(join(RULES_PATH,'S2_06_02.xlsx'))\n",
    "dfr_s06_2 = pd.read_excel(join(RULES_PATH,'S2_06_02_01_02.xlsx'))\n",
    "dfr_s06_1 = pd.read_excel(join(RULES_PATH,'S2_06_02_01_01.xlsx'))\n",
    "\n",
    "#Capitalize row-column references:\n",
    "column_replace = set([column for sublist in [row for row in dfr_s06['pandas ex'].str.findall(r'c\\d\\d\\d\\d')] for column in sublist])\n",
    "for ref in column_replace:\n",
    "    dfr_s06.replace(to_replace=ref, value=ref.capitalize(), inplace=True, regex=True)\n",
    "column_replace = set([column for sublist in [row for row in dfr_s06_2['pandas ex'].str.findall(r'c\\d\\d\\d\\d')] for column in sublist])\n",
    "for ref in column_replace:\n",
    "    dfr_s06_2.replace(to_replace=ref, value=ref.capitalize(), inplace=True, regex=True)\n",
    "column_replace = set([column for sublist in [row for row in dfr_s06_1['pandas ex'].str.findall(r'c\\d\\d\\d\\d')] for column in sublist])\n",
    "for ref in column_replace:\n",
    "    dfr_s06_1.replace(to_replace=ref, value=ref.capitalize(), inplace=True, regex=True)\n",
    "    \n",
    "#Adjust SII labels to FTK labels\n",
    "for key in d_06.keys():\n",
    "    dfr_s06.replace(key, d_06[key], inplace = True,regex=True)\n",
    "    dfr_s06_1.replace(key, d_06[key], inplace = True,regex=True)\n",
    "    dfr_s06_2.replace(key, d_06[key], inplace = True,regex=True)\n",
    "    \n",
    "# delete rules that do not have cell in FTK\n",
    "dfr_s06_1 = dfr_s06_1[~dfr_s06_1[\"pattern_def\"].str.contains('S.06.02.01.01')]\n",
    "dfr_s06_2 = dfr_s06_2[~dfr_s06_2[\"pattern_def\"].str.contains('S.06.02.01.02')]\n",
    "dfr_s06 = dfr_s06[~dfr_s06[\"pattern_def\"].str.contains('S.06.02.01')]    "
   ]
  },
  {
   "cell_type": "markdown",
   "metadata": {},
   "source": [
    "#### S08"
   ]
  },
  {
   "cell_type": "code",
   "execution_count": 6,
   "metadata": {},
   "outputs": [],
   "source": [
    "dfr_s08 = pd.read_excel(join(RULES_PATH,'S2_08_01_01.xlsx'))\n",
    "dfr_s08_2 = pd.read_excel(join(RULES_PATH,'S2_08_01_01_02.xlsx'))\n",
    "\n",
    "#Capitalize row-column references:\n",
    "column_replace = set([column for sublist in [row for row in dfr_s08['pandas ex'].str.findall(r'c\\d\\d\\d\\d')] for column in sublist])\n",
    "for ref in column_replace:\n",
    "    dfr_s08.replace(to_replace=ref, value=ref.capitalize(), inplace=True, regex=True)\n",
    "column_replace = set([column for sublist in [row for row in dfr_s08_2['pandas ex'].str.findall(r'c\\d\\d\\d\\d')] for column in sublist])\n",
    "for ref in column_replace:\n",
    "    dfr_s08_2.replace(to_replace=ref, value=ref.capitalize(), inplace=True, regex=True)\n",
    "    \n",
    "#Adjust SII labels to FTK labels\n",
    "for key in d_08.keys():\n",
    "    dfr_s08.replace(key, d_08[key], inplace = True,regex=True)\n",
    "    dfr_s08_2.replace(key, d_08[key], inplace = True,regex=True)\n",
    "\n",
    "# delete rules that do not have cell in FTK\n",
    "dfr_s08 = dfr_s08[~dfr_s08[\"pattern_def\"].str.contains('S.08.01.01')]\n",
    "dfr_s08_2 = dfr_s08_2[~dfr_s08_2[\"pattern_def\"].str.contains('S.08.01.01.02')]"
   ]
  },
  {
   "cell_type": "markdown",
   "metadata": {},
   "source": [
    "### Import templates"
   ]
  },
  {
   "cell_type": "markdown",
   "metadata": {},
   "source": [
    "Next we import the reporting data. In the tutorial 'Convert Solvency 2 XBRL-instances to CSV, HTML and pickles' the XBRL-instances are converted to pickle files per template. The pickle files are written to the data/instances folder. We import these pickle files. We merge dataframes for the sets of rules that are applicable to two templates."
   ]
  },
  {
   "cell_type": "markdown",
   "metadata": {},
   "source": [
    "#### S06"
   ]
  },
  {
   "cell_type": "code",
   "execution_count": 7,
   "metadata": {},
   "outputs": [],
   "source": [
    "df_s06_1 = pd.read_pickle(join(TEST_DATA_PATH,'FTK.K208A.pickle')).reset_index() #Import demo pickles\n",
    "df_s06_2 = pd.read_pickle(join(TEST_DATA_PATH,'FTK.K208B.pickle')).reset_index() #Import demo pickles\n",
    "#df_s06_1 = pd.read_pickle(join(join(INSTANCES_DATA_PATH,'DNB-NR_FTK-2019-06_2019-12-31_MOD_FTK-BEL'),'FTK.K208A.pickle')).reset_index()\n",
    "#df_s06_2 = pd.read_pickle(join(join(INSTANCES_DATA_PATH,'DNB-NR_FTK-2019-06_2019-12-31_MOD_FTK-BEL'), 'FTK.K208B.pickle')).reset_index()\n",
    "df_s06 = pd.merge(df_s06_1,df_s06_2,how='inner', left_on=['entity', 'period', 'K208A,020'], right_on=['entity','period', 'K208B,130']).set_index(['entity', 'period', 'K208A,020'])\n",
    "df_s06_2 = df_s06_2.set_index(['entity','period', 'K208B,130'])\n",
    "df_s06_1 = df_s06_1.set_index(['entity', 'period', 'K208A,020'])\n",
    "df_s06_2['K208B,130'] = df_s06_2.index.get_level_values(2)\n",
    "df_s06['K208A,020'] = df_s06.index.get_level_values(2)"
   ]
  },
  {
   "cell_type": "markdown",
   "metadata": {},
   "source": [
    "#### S08"
   ]
  },
  {
   "cell_type": "code",
   "execution_count": 8,
   "metadata": {},
   "outputs": [],
   "source": [
    "df_s08_1 = pd.read_pickle(join(TEST_DATA_PATH,'FTK.K210A.pickle')).reset_index() #Import demo pickles\n",
    "df_s08_2 = pd.read_pickle(join(TEST_DATA_PATH, 'FTK.K210B.pickle')).reset_index() #Import demo pickles\n",
    "#df_s08_1 = pd.read_pickle(join(join(INSTANCES_DATA_PATH,'DNB-NR_FTK-2019-06_2019-12-31_MOD_FTK-BEL'),'FTK.K210A.pickle')).reset_index()\n",
    "#df_s08_2 = pd.read_pickle(join(join(INSTANCES_DATA_PATH,'DNB-NR_FTK-2019-06_2019-12-31_MOD_FTK-BEL'), 'FTK.K210B.pickle')).reset_index()\n",
    "df_s08 = pd.merge(df_s08_1,df_s08_2,how='inner', left_on=['entity', 'period', 'K210A,020'], right_on=['entity', 'period', 'K210B,200']).set_index(['entity', 'period', 'K210A,020'])\n",
    "df_s08_1 = df_s08_1.set_index(['entity', 'period', 'K210A,020'])\n",
    "df_s08_2 = df_s08_2.set_index(['entity', 'period', 'K210B,200'])\n",
    "df_s08_2['K210B,200'] = df_s08_2.index.get_level_values(2)\n",
    "df_s08['K210A,020'] = df_s08.index.get_level_values(2)"
   ]
  },
  {
   "cell_type": "code",
   "execution_count": 14,
   "metadata": {},
   "outputs": [
    {
     "data": {
      "text/html": [
       "<div>\n",
       "<style scoped>\n",
       "    .dataframe tbody tr th:only-of-type {\n",
       "        vertical-align: middle;\n",
       "    }\n",
       "\n",
       "    .dataframe tbody tr th {\n",
       "        vertical-align: top;\n",
       "    }\n",
       "\n",
       "    .dataframe thead th {\n",
       "        text-align: right;\n",
       "    }\n",
       "</style>\n",
       "<table border=\"1\" class=\"dataframe\">\n",
       "  <thead>\n",
       "    <tr style=\"text-align: right;\">\n",
       "      <th></th>\n",
       "      <th></th>\n",
       "      <th></th>\n",
       "      <th>K210A,010</th>\n",
       "      <th>FTK.K210A,C030</th>\n",
       "      <th>FTK.K210A,C040</th>\n",
       "      <th>FTK.K210A,C050</th>\n",
       "      <th>FTK.K210A,C060</th>\n",
       "      <th>FTK.K210A,C070</th>\n",
       "      <th>FTK.K210A,C080</th>\n",
       "      <th>FTK.K210A,C090</th>\n",
       "      <th>FTK.K210A,C100</th>\n",
       "      <th>FTK.K210A,C110</th>\n",
       "      <th>...</th>\n",
       "      <th>FTK.K210B,C250</th>\n",
       "      <th>FTK.K210B,C260</th>\n",
       "      <th>FTK.K210B,C270</th>\n",
       "      <th>FTK.K210B,C280</th>\n",
       "      <th>FTK.K210B,C290</th>\n",
       "      <th>FTK.K210B,C300</th>\n",
       "      <th>FTK.K210B,C310</th>\n",
       "      <th>FTK.K210B,C320</th>\n",
       "      <th>FTK.K210B,C330</th>\n",
       "      <th>FTK.K210B,C340</th>\n",
       "    </tr>\n",
       "    <tr>\n",
       "      <th>entity</th>\n",
       "      <th>period</th>\n",
       "      <th>K210A,020</th>\n",
       "      <th></th>\n",
       "      <th></th>\n",
       "      <th></th>\n",
       "      <th></th>\n",
       "      <th></th>\n",
       "      <th></th>\n",
       "      <th></th>\n",
       "      <th></th>\n",
       "      <th></th>\n",
       "      <th></th>\n",
       "      <th></th>\n",
       "      <th></th>\n",
       "      <th></th>\n",
       "      <th></th>\n",
       "      <th></th>\n",
       "      <th></th>\n",
       "      <th></th>\n",
       "      <th></th>\n",
       "      <th></th>\n",
       "      <th></th>\n",
       "      <th></th>\n",
       "    </tr>\n",
       "  </thead>\n",
       "  <tbody>\n",
       "    <tr>\n",
       "      <th>LEGALIDENTIFIER20P32</th>\n",
       "      <th>2018-12-31</th>\n",
       "      <th>Key 9</th>\n",
       "      <td>8</td>\n",
       "      <td>Defined benefit and Defined benefit part of Mixed</td>\n",
       "      <td>Text 38</td>\n",
       "      <td>Micro hedge [MI]</td>\n",
       "      <td>0.28</td>\n",
       "      <td>1048000.0</td>\n",
       "      <td>Open</td>\n",
       "      <td>1049000.0</td>\n",
       "      <td>1050000.0</td>\n",
       "      <td>1.0</td>\n",
       "      <td>...</td>\n",
       "      <td>Credit quality step 0</td>\n",
       "      <td>Text 42</td>\n",
       "      <td>Text 43</td>\n",
       "      <td>EUR</td>\n",
       "      <td>Text 44</td>\n",
       "      <td>Text 45</td>\n",
       "      <td>Bankruptcy of the underlying or reference enti...</td>\n",
       "      <td>EUR</td>\n",
       "      <td>EUR</td>\n",
       "      <td>1903-12-31 00:00:00</td>\n",
       "    </tr>\n",
       "  </tbody>\n",
       "</table>\n",
       "<p>1 rows × 33 columns</p>\n",
       "</div>"
      ],
      "text/plain": [
       "                                          K210A,010  \\\n",
       "entity               period     K210A,020             \n",
       "LEGALIDENTIFIER20P32 2018-12-31 Key 9             8   \n",
       "\n",
       "                                                                              FTK.K210A,C030  \\\n",
       "entity               period     K210A,020                                                      \n",
       "LEGALIDENTIFIER20P32 2018-12-31 Key 9      Defined benefit and Defined benefit part of Mixed   \n",
       "\n",
       "                                          FTK.K210A,C040    FTK.K210A,C050  \\\n",
       "entity               period     K210A,020                                    \n",
       "LEGALIDENTIFIER20P32 2018-12-31 Key 9            Text 38  Micro hedge [MI]   \n",
       "\n",
       "                                           FTK.K210A,C060  FTK.K210A,C070  \\\n",
       "entity               period     K210A,020                                   \n",
       "LEGALIDENTIFIER20P32 2018-12-31 Key 9                0.28       1048000.0   \n",
       "\n",
       "                                          FTK.K210A,C080  FTK.K210A,C090  \\\n",
       "entity               period     K210A,020                                  \n",
       "LEGALIDENTIFIER20P32 2018-12-31 Key 9               Open       1049000.0   \n",
       "\n",
       "                                           FTK.K210A,C100  FTK.K210A,C110  \\\n",
       "entity               period     K210A,020                                   \n",
       "LEGALIDENTIFIER20P32 2018-12-31 Key 9           1050000.0             1.0   \n",
       "\n",
       "                                                  ...           \\\n",
       "entity               period     K210A,020         ...            \n",
       "LEGALIDENTIFIER20P32 2018-12-31 Key 9             ...            \n",
       "\n",
       "                                                  FTK.K210B,C250  \\\n",
       "entity               period     K210A,020                          \n",
       "LEGALIDENTIFIER20P32 2018-12-31 Key 9      Credit quality step 0   \n",
       "\n",
       "                                           FTK.K210B,C260  FTK.K210B,C270  \\\n",
       "entity               period     K210A,020                                   \n",
       "LEGALIDENTIFIER20P32 2018-12-31 Key 9             Text 42         Text 43   \n",
       "\n",
       "                                           FTK.K210B,C280 FTK.K210B,C290  \\\n",
       "entity               period     K210A,020                                  \n",
       "LEGALIDENTIFIER20P32 2018-12-31 Key 9                 EUR        Text 44   \n",
       "\n",
       "                                           FTK.K210B,C300  \\\n",
       "entity               period     K210A,020                   \n",
       "LEGALIDENTIFIER20P32 2018-12-31 Key 9             Text 45   \n",
       "\n",
       "                                                                              FTK.K210B,C310  \\\n",
       "entity               period     K210A,020                                                      \n",
       "LEGALIDENTIFIER20P32 2018-12-31 Key 9      Bankruptcy of the underlying or reference enti...   \n",
       "\n",
       "                                          FTK.K210B,C320 FTK.K210B,C330  \\\n",
       "entity               period     K210A,020                                 \n",
       "LEGALIDENTIFIER20P32 2018-12-31 Key 9                EUR            EUR   \n",
       "\n",
       "                                                FTK.K210B,C340  \n",
       "entity               period     K210A,020                       \n",
       "LEGALIDENTIFIER20P32 2018-12-31 Key 9      1903-12-31 00:00:00  \n",
       "\n",
       "[1 rows x 33 columns]"
      ]
     },
     "execution_count": 14,
     "metadata": {},
     "output_type": "execute_result"
    }
   ],
   "source": [
    "df_s08"
   ]
  },
  {
   "cell_type": "markdown",
   "metadata": {},
   "source": [
    "### Evaluate rules"
   ]
  },
  {
   "cell_type": "markdown",
   "metadata": {},
   "source": [
    "Now we are ready to evaluate the different sets of rules. First, we construct a PatternMiner-object with the data-patterns package using the rules dataframe. Second, we use the analyze-function to get the results of the rules. We do this for each set of rules separately."
   ]
  },
  {
   "cell_type": "markdown",
   "metadata": {},
   "source": [
    "#### S06\n"
   ]
  },
  {
   "cell_type": "code",
   "execution_count": 9,
   "metadata": {},
   "outputs": [
    {
     "name": "stderr",
     "output_type": "stream",
     "text": [
      "100%|█████████████████████████████████████| 1500/1500 [00:07<00:00, 200.50it/s]\n"
     ]
    },
    {
     "data": {
      "text/html": [
       "<div>\n",
       "<style scoped>\n",
       "    .dataframe tbody tr th:only-of-type {\n",
       "        vertical-align: middle;\n",
       "    }\n",
       "\n",
       "    .dataframe tbody tr th {\n",
       "        vertical-align: top;\n",
       "    }\n",
       "\n",
       "    .dataframe thead th {\n",
       "        text-align: right;\n",
       "    }\n",
       "</style>\n",
       "<table border=\"1\" class=\"dataframe\">\n",
       "  <thead>\n",
       "    <tr style=\"text-align: right;\">\n",
       "      <th></th>\n",
       "      <th></th>\n",
       "      <th></th>\n",
       "      <th>result_type</th>\n",
       "      <th>pattern_id</th>\n",
       "      <th>cluster</th>\n",
       "      <th>support</th>\n",
       "      <th>exceptions</th>\n",
       "      <th>confidence</th>\n",
       "      <th>pattern_def</th>\n",
       "      <th>P values</th>\n",
       "      <th>Q values</th>\n",
       "    </tr>\n",
       "  </thead>\n",
       "  <tbody>\n",
       "    <tr>\n",
       "      <th rowspan=\"2\" valign=\"top\">LEGALIDENTIFIER20P32</th>\n",
       "      <th rowspan=\"2\" valign=\"top\">2018-12-31</th>\n",
       "      <th>Key 2</th>\n",
       "      <td>False</td>\n",
       "      <td>Total solvency 1</td>\n",
       "      <td>0</td>\n",
       "      <td>0</td>\n",
       "      <td>1</td>\n",
       "      <td>0.0</td>\n",
       "      <td>IF ({\"FTK.K208A,C070\"} != 0) THEN (ABS({\"FTK.K...</td>\n",
       "      <td>1038000.00</td>\n",
       "      <td>[1041000.0, 1038000.0, 0.0315, 1040000.0, 1041...</td>\n",
       "    </tr>\n",
       "    <tr>\n",
       "      <th>Key 2</th>\n",
       "      <td>False</td>\n",
       "      <td>Total solvency 2</td>\n",
       "      <td>0</td>\n",
       "      <td>0</td>\n",
       "      <td>1</td>\n",
       "      <td>0.0</td>\n",
       "      <td>IF ({\"FTK.K208A,C060\"} != 0) THEN (ABS({\"FTK.K...</td>\n",
       "      <td>0.24</td>\n",
       "      <td>[1041000.0, 0.24, 1042000.0, 1040000.0, 104100...</td>\n",
       "    </tr>\n",
       "  </tbody>\n",
       "</table>\n",
       "</div>"
      ],
      "text/plain": [
       "                                       result_type        pattern_id  cluster  \\\n",
       "LEGALIDENTIFIER20P32 2018-12-31 Key 2        False  Total solvency 1        0   \n",
       "                                Key 2        False  Total solvency 2        0   \n",
       "\n",
       "                                       support  exceptions  confidence  \\\n",
       "LEGALIDENTIFIER20P32 2018-12-31 Key 2        0           1         0.0   \n",
       "                                Key 2        0           1         0.0   \n",
       "\n",
       "                                                                             pattern_def  \\\n",
       "LEGALIDENTIFIER20P32 2018-12-31 Key 2  IF ({\"FTK.K208A,C070\"} != 0) THEN (ABS({\"FTK.K...   \n",
       "                                Key 2  IF ({\"FTK.K208A,C060\"} != 0) THEN (ABS({\"FTK.K...   \n",
       "\n",
       "                                         P values  \\\n",
       "LEGALIDENTIFIER20P32 2018-12-31 Key 2  1038000.00   \n",
       "                                Key 2        0.24   \n",
       "\n",
       "                                                                                Q values  \n",
       "LEGALIDENTIFIER20P32 2018-12-31 Key 2  [1041000.0, 1038000.0, 0.0315, 1040000.0, 1041...  \n",
       "                                Key 2  [1041000.0, 0.24, 1042000.0, 1040000.0, 104100...  "
      ]
     },
     "execution_count": 9,
     "metadata": {},
     "output_type": "execute_result"
    }
   ],
   "source": [
    "miner = data_patterns.PatternMiner(df_patterns=dfr_s06)\n",
    "results_06 = miner.analyze(df_s06)\n",
    "results_06"
   ]
  },
  {
   "cell_type": "code",
   "execution_count": 10,
   "metadata": {},
   "outputs": [
    {
     "name": "stderr",
     "output_type": "stream",
     "text": [
      "100%|███████████████████████████████████| 11991/11991 [01:10<00:00, 171.02it/s]\n"
     ]
    },
    {
     "data": {
      "text/html": [
       "<div>\n",
       "<style scoped>\n",
       "    .dataframe tbody tr th:only-of-type {\n",
       "        vertical-align: middle;\n",
       "    }\n",
       "\n",
       "    .dataframe tbody tr th {\n",
       "        vertical-align: top;\n",
       "    }\n",
       "\n",
       "    .dataframe thead th {\n",
       "        text-align: right;\n",
       "    }\n",
       "</style>\n",
       "<table border=\"1\" class=\"dataframe\">\n",
       "  <thead>\n",
       "    <tr style=\"text-align: right;\">\n",
       "      <th></th>\n",
       "      <th></th>\n",
       "      <th></th>\n",
       "      <th>result_type</th>\n",
       "      <th>pattern_id</th>\n",
       "      <th>cluster</th>\n",
       "      <th>support</th>\n",
       "      <th>exceptions</th>\n",
       "      <th>confidence</th>\n",
       "      <th>pattern_def</th>\n",
       "      <th>P values</th>\n",
       "      <th>Q values</th>\n",
       "    </tr>\n",
       "  </thead>\n",
       "  <tbody>\n",
       "    <tr>\n",
       "      <th rowspan=\"2\" valign=\"top\">LEGALIDENTIFIER20P32</th>\n",
       "      <th rowspan=\"2\" valign=\"top\">2018-12-31</th>\n",
       "      <th>Key 2</th>\n",
       "      <td>False</td>\n",
       "      <td>Unit Solvency 1</td>\n",
       "      <td>0</td>\n",
       "      <td>0</td>\n",
       "      <td>1</td>\n",
       "      <td>0.0</td>\n",
       "      <td>IF ({\"FTK.K208B,C280\"} != 0) THEN ({\"FTK.K208B...</td>\n",
       "      <td>1.042000e+06</td>\n",
       "      <td>3.150000e-02</td>\n",
       "    </tr>\n",
       "    <tr>\n",
       "      <th>Key 2</th>\n",
       "      <td>False</td>\n",
       "      <td>Unit Solvency 2</td>\n",
       "      <td>0</td>\n",
       "      <td>0</td>\n",
       "      <td>1</td>\n",
       "      <td>0.0</td>\n",
       "      <td>IF ({\"FTK.K208B,C290\"} != 0) THEN ({\"FTK.K208B...</td>\n",
       "      <td>3.150000e-02</td>\n",
       "      <td>1.042000e+06</td>\n",
       "    </tr>\n",
       "  </tbody>\n",
       "</table>\n",
       "</div>"
      ],
      "text/plain": [
       "                                       result_type       pattern_id  cluster  \\\n",
       "LEGALIDENTIFIER20P32 2018-12-31 Key 2        False  Unit Solvency 1        0   \n",
       "                                Key 2        False  Unit Solvency 2        0   \n",
       "\n",
       "                                       support  exceptions  confidence  \\\n",
       "LEGALIDENTIFIER20P32 2018-12-31 Key 2        0           1         0.0   \n",
       "                                Key 2        0           1         0.0   \n",
       "\n",
       "                                                                             pattern_def  \\\n",
       "LEGALIDENTIFIER20P32 2018-12-31 Key 2  IF ({\"FTK.K208B,C280\"} != 0) THEN ({\"FTK.K208B...   \n",
       "                                Key 2  IF ({\"FTK.K208B,C290\"} != 0) THEN ({\"FTK.K208B...   \n",
       "\n",
       "                                           P values      Q values  \n",
       "LEGALIDENTIFIER20P32 2018-12-31 Key 2  1.042000e+06  3.150000e-02  \n",
       "                                Key 2  3.150000e-02  1.042000e+06  "
      ]
     },
     "execution_count": 10,
     "metadata": {},
     "output_type": "execute_result"
    }
   ],
   "source": [
    "miner = data_patterns.PatternMiner(df_patterns=dfr_s06_2)\n",
    "results_06_2 = miner.analyze(df_s06_2)\n",
    "results_06_2"
   ]
  },
  {
   "cell_type": "code",
   "execution_count": 11,
   "metadata": {},
   "outputs": [
    {
     "name": "stderr",
     "output_type": "stream",
     "text": [
      "100%|████████████████████████████████████████████| 2/2 [00:00<00:00, 90.97it/s]\n"
     ]
    },
    {
     "data": {
      "text/html": [
       "<div>\n",
       "<style scoped>\n",
       "    .dataframe tbody tr th:only-of-type {\n",
       "        vertical-align: middle;\n",
       "    }\n",
       "\n",
       "    .dataframe tbody tr th {\n",
       "        vertical-align: top;\n",
       "    }\n",
       "\n",
       "    .dataframe thead th {\n",
       "        text-align: right;\n",
       "    }\n",
       "</style>\n",
       "<table border=\"1\" class=\"dataframe\">\n",
       "  <thead>\n",
       "    <tr style=\"text-align: right;\">\n",
       "      <th></th>\n",
       "      <th></th>\n",
       "      <th></th>\n",
       "      <th>result_type</th>\n",
       "      <th>pattern_id</th>\n",
       "      <th>cluster</th>\n",
       "      <th>support</th>\n",
       "      <th>exceptions</th>\n",
       "      <th>confidence</th>\n",
       "      <th>pattern_def</th>\n",
       "      <th>P values</th>\n",
       "      <th>Q values</th>\n",
       "    </tr>\n",
       "  </thead>\n",
       "  <tbody>\n",
       "    <tr>\n",
       "      <th rowspan=\"2\" valign=\"top\">LEGALIDENTIFIER20P32</th>\n",
       "      <th rowspan=\"2\" valign=\"top\">2018-12-31</th>\n",
       "      <th>Key 2</th>\n",
       "      <td>False</td>\n",
       "      <td>Par</td>\n",
       "      <td>0</td>\n",
       "      <td>0</td>\n",
       "      <td>1</td>\n",
       "      <td>0.0</td>\n",
       "      <td>IF ({\"FTK.K208A,C060\"} != 0) THEN ({\"FTK.K208A...</td>\n",
       "      <td>0.24</td>\n",
       "      <td>1038000.00</td>\n",
       "    </tr>\n",
       "    <tr>\n",
       "      <th>Key 2</th>\n",
       "      <td>False</td>\n",
       "      <td>Quantity</td>\n",
       "      <td>0</td>\n",
       "      <td>0</td>\n",
       "      <td>1</td>\n",
       "      <td>0.0</td>\n",
       "      <td>IF ({\"FTK.K208A,C070\"} != 0) THEN ({\"FTK.K208A...</td>\n",
       "      <td>1038000.00</td>\n",
       "      <td>0.24</td>\n",
       "    </tr>\n",
       "  </tbody>\n",
       "</table>\n",
       "</div>"
      ],
      "text/plain": [
       "                                       result_type pattern_id  cluster  \\\n",
       "LEGALIDENTIFIER20P32 2018-12-31 Key 2        False        Par        0   \n",
       "                                Key 2        False   Quantity        0   \n",
       "\n",
       "                                       support  exceptions  confidence  \\\n",
       "LEGALIDENTIFIER20P32 2018-12-31 Key 2        0           1         0.0   \n",
       "                                Key 2        0           1         0.0   \n",
       "\n",
       "                                                                             pattern_def  \\\n",
       "LEGALIDENTIFIER20P32 2018-12-31 Key 2  IF ({\"FTK.K208A,C060\"} != 0) THEN ({\"FTK.K208A...   \n",
       "                                Key 2  IF ({\"FTK.K208A,C070\"} != 0) THEN ({\"FTK.K208A...   \n",
       "\n",
       "                                         P values    Q values  \n",
       "LEGALIDENTIFIER20P32 2018-12-31 Key 2        0.24  1038000.00  \n",
       "                                Key 2  1038000.00        0.24  "
      ]
     },
     "execution_count": 11,
     "metadata": {},
     "output_type": "execute_result"
    }
   ],
   "source": [
    "miner = data_patterns.PatternMiner(df_patterns=dfr_s06_1)\n",
    "results_06_1 = miner.analyze(df_s06_1)\n",
    "results_06_1"
   ]
  },
  {
   "cell_type": "markdown",
   "metadata": {},
   "source": [
    "#### S08"
   ]
  },
  {
   "cell_type": "code",
   "execution_count": 16,
   "metadata": {},
   "outputs": [
    {
     "name": "stderr",
     "output_type": "stream",
     "text": [
      "100%|███████████████████████████████████████| 126/126 [00:00<00:00, 234.77it/s]\n"
     ]
    },
    {
     "data": {
      "text/html": [
       "<div>\n",
       "<style scoped>\n",
       "    .dataframe tbody tr th:only-of-type {\n",
       "        vertical-align: middle;\n",
       "    }\n",
       "\n",
       "    .dataframe tbody tr th {\n",
       "        vertical-align: top;\n",
       "    }\n",
       "\n",
       "    .dataframe thead th {\n",
       "        text-align: right;\n",
       "    }\n",
       "</style>\n",
       "<table border=\"1\" class=\"dataframe\">\n",
       "  <thead>\n",
       "    <tr style=\"text-align: right;\">\n",
       "      <th></th>\n",
       "      <th>result_type</th>\n",
       "      <th>pattern_id</th>\n",
       "      <th>cluster</th>\n",
       "      <th>support</th>\n",
       "      <th>exceptions</th>\n",
       "      <th>confidence</th>\n",
       "      <th>pattern_def</th>\n",
       "      <th>P values</th>\n",
       "      <th>Q values</th>\n",
       "    </tr>\n",
       "    <tr>\n",
       "      <th>index</th>\n",
       "      <th></th>\n",
       "      <th></th>\n",
       "      <th></th>\n",
       "      <th></th>\n",
       "      <th></th>\n",
       "      <th></th>\n",
       "      <th></th>\n",
       "      <th></th>\n",
       "      <th></th>\n",
       "    </tr>\n",
       "  </thead>\n",
       "  <tbody>\n",
       "  </tbody>\n",
       "</table>\n",
       "</div>"
      ],
      "text/plain": [
       "Empty ResultDataFrame\n",
       "Columns: [result_type, pattern_id, cluster, support, exceptions, confidence, pattern_def, P values, Q values]\n",
       "Index: []"
      ]
     },
     "execution_count": 16,
     "metadata": {},
     "output_type": "execute_result"
    }
   ],
   "source": [
    "miner = data_patterns.PatternMiner(df_patterns=dfr_s08)\n",
    "results_08 = miner.analyze(df_s08)\n",
    "results_08"
   ]
  },
  {
   "cell_type": "code",
   "execution_count": 13,
   "metadata": {},
   "outputs": [
    {
     "name": "stderr",
     "output_type": "stream",
     "text": [
      "100%|███████████████████████████████████████| 568/568 [00:03<00:00, 188.35it/s]\n"
     ]
    },
    {
     "data": {
      "text/html": [
       "<div>\n",
       "<style scoped>\n",
       "    .dataframe tbody tr th:only-of-type {\n",
       "        vertical-align: middle;\n",
       "    }\n",
       "\n",
       "    .dataframe tbody tr th {\n",
       "        vertical-align: top;\n",
       "    }\n",
       "\n",
       "    .dataframe thead th {\n",
       "        text-align: right;\n",
       "    }\n",
       "</style>\n",
       "<table border=\"1\" class=\"dataframe\">\n",
       "  <thead>\n",
       "    <tr style=\"text-align: right;\">\n",
       "      <th></th>\n",
       "      <th>result_type</th>\n",
       "      <th>pattern_id</th>\n",
       "      <th>cluster</th>\n",
       "      <th>support</th>\n",
       "      <th>exceptions</th>\n",
       "      <th>confidence</th>\n",
       "      <th>pattern_def</th>\n",
       "      <th>P values</th>\n",
       "      <th>Q values</th>\n",
       "    </tr>\n",
       "    <tr>\n",
       "      <th>index</th>\n",
       "      <th></th>\n",
       "      <th></th>\n",
       "      <th></th>\n",
       "      <th></th>\n",
       "      <th></th>\n",
       "      <th></th>\n",
       "      <th></th>\n",
       "      <th></th>\n",
       "      <th></th>\n",
       "    </tr>\n",
       "  </thead>\n",
       "  <tbody>\n",
       "  </tbody>\n",
       "</table>\n",
       "</div>"
      ],
      "text/plain": [
       "Empty ResultDataFrame\n",
       "Columns: [result_type, pattern_id, cluster, support, exceptions, confidence, pattern_def, P values, Q values]\n",
       "Index: []"
      ]
     },
     "execution_count": 13,
     "metadata": {},
     "output_type": "execute_result"
    }
   ],
   "source": [
    "miner2 = data_patterns.PatternMiner(df_patterns=dfr_s08_2)\n",
    "results2_08_2 = miner2.analyze(df_s08_2)\n",
    "results2_08_2"
   ]
  }
 ],
 "metadata": {
  "kernelspec": {
   "display_name": "Python 3",
   "language": "python",
   "name": "python3"
  },
  "language_info": {
   "codemirror_mode": {
    "name": "ipython",
    "version": 3
   },
   "file_extension": ".py",
   "mimetype": "text/x-python",
   "name": "python",
   "nbconvert_exporter": "python",
   "pygments_lexer": "ipython3",
   "version": "3.6.12"
  }
 },
 "nbformat": 4,
 "nbformat_minor": 4
}

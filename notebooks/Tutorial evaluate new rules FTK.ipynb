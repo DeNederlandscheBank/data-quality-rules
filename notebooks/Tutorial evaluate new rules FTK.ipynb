{
 "cells": [
  {
   "cell_type": "markdown",
   "metadata": {},
   "source": [
    "This tutorial describes how to evaluate new rules applicable to the assets and derivatives data."
   ]
  },
  {
   "cell_type": "code",
   "execution_count": 1,
   "metadata": {},
   "outputs": [],
   "source": [
    "from arelle import ModelManager, Cntlr, ModelFormulaObject, ModelXbrl, ViewFileFormulae, XbrlConst, ViewFileRenderedGrid\n",
    "from arelle import RenderingEvaluator "
   ]
  },
  {
   "cell_type": "code",
   "execution_count": 2,
   "metadata": {},
   "outputs": [],
   "source": [
    "import pandas as pd\n",
    "import numpy as np\n",
    "from os import listdir\n",
    "from os.path import join, isfile\n",
    "import re\n",
    "from src import Evaluator\n",
    "import logging\n",
    "import data_patterns\n",
    "import pickle"
   ]
  },
  {
   "cell_type": "code",
   "execution_count": 3,
   "metadata": {},
   "outputs": [],
   "source": [
    "DECIMALS = 0\n",
    "RULES_PATH = join('..', 'ftk-rules')\n",
    "INSTANCES_DATA_PATH = join('..','data','instances','...') #path of folder with converted xbrl-instance data\n",
    "TEST_DATA_PATH = join('..', 'tests', 'data', 'demo')\n",
    "RESULTS_PATH = join('..', 'results')\n",
    "DATA_PATH = join('..', 'data')\n",
    "logging.basicConfig(filename = join(RESULTS_PATH, 'rules.log'),level = logging.INFO, \n",
    "                    format='%(asctime)s - %(name)s - %(levelname)s - %(message)s')"
   ]
  },
  {
   "cell_type": "markdown",
   "metadata": {},
   "source": [
    "### Import rules"
   ]
  },
  {
   "cell_type": "markdown",
   "metadata": {},
   "source": [
    "We start with importing the new rules applicable to the assets and derivatives data. There are several sets of rules applicable to different templates:\n",
    "* K208A (Information on positions held)\n",
    "* K208B (Information on assets)\n",
    "* K208A (Information on positions held) and K208B (Information on assets)\n",
    "* K210A (Information on positions held) and K210B (Information on derivatives)\n",
    "* K210B (Information on derivatives)"
   ]
  },
  {
   "cell_type": "markdown",
   "metadata": {},
   "source": [
    "#### K208"
   ]
  },
  {
   "cell_type": "code",
   "execution_count": 4,
   "metadata": {},
   "outputs": [],
   "source": [
    "dfr_208 = pd.read_excel(join(RULES_PATH,'FTK_K208.xlsx'))\n",
    "dfr_208B = pd.read_excel(join(RULES_PATH,'FTK_K208B.xlsx'))\n",
    "dfr_208A = pd.read_excel(join(RULES_PATH,'FTK_K208A.xlsx'))"
   ]
  },
  {
   "cell_type": "markdown",
   "metadata": {},
   "source": [
    "#### K210"
   ]
  },
  {
   "cell_type": "code",
   "execution_count": 5,
   "metadata": {},
   "outputs": [],
   "source": [
    "dfr_210 = pd.read_excel(join(RULES_PATH,'FTK_K210.xlsx'))\n",
    "dfr_210B = pd.read_excel(join(RULES_PATH,'FTK_K210B.xlsx'))"
   ]
  },
  {
   "cell_type": "markdown",
   "metadata": {},
   "source": [
    "### Import templates"
   ]
  },
  {
   "cell_type": "markdown",
   "metadata": {},
   "source": [
    "Next we import the reporting data. In the tutorial 'Convert XBRL-instances to CSV, HTML and pickles' the XBRL-instances are converted to pickle files per template. The pickle files are written to the data/instances folder. We import these pickle files. We merge dataframes for the sets of rules that are applicable to two templates."
   ]
  },
  {
   "cell_type": "markdown",
   "metadata": {},
   "source": [
    "#### S06"
   ]
  },
  {
   "cell_type": "markdown",
   "metadata": {},
   "source": [
    "Import data and make index unique if necessary"
   ]
  },
  {
   "cell_type": "code",
   "execution_count": 6,
   "metadata": {},
   "outputs": [],
   "source": [
    "# df_208A = pd.read_pickle(join(INSTANCES_DATA_PATH,'FTK.K208A.pickle')).reset_index()\n",
    "# df_208A['K208A,020A'] = df_208A['K208A,020']\n",
    "# listt=list(df_208A['K208A,020A'])\n",
    "# for i in listt:\n",
    "#     lenn = len(df_208A[df_208A['K208A,020A']==i])\n",
    "#     if lenn > 1:\n",
    "#         list_ind = list(df_208A.loc[df_208A['K208A,020A']==i].index)\n",
    "#         temp = 0\n",
    "#         for j in list_ind[1:]:\n",
    "#             temp=temp+1\n",
    "#             df_208A['K208A,020A'].iloc[j] = df_208A['K208A,020A'].iloc[j] + '_' + str(temp)\n",
    "# df_208A = df_208A.set_index(['entity', 'period', 'K208A,020A'])"
   ]
  },
  {
   "cell_type": "code",
   "execution_count": 7,
   "metadata": {},
   "outputs": [],
   "source": [
    "# df_208B = pd.read_pickle(join(INSTANCES_DATA_PATH, 'FTK.K208B.pickle')).reset_index()\n",
    "# df_208B = df_208B.set_index(['entity', 'period', 'K208B,130'])\n",
    "# df_208B['K208B,130'] = df_208B.index.get_level_values(2)"
   ]
  },
  {
   "cell_type": "code",
   "execution_count": 8,
   "metadata": {},
   "outputs": [],
   "source": [
    "# df_208 = pd.merge(pd.read_pickle(join(INSTANCES_DATA_PATH,'FTK.K208A.pickle')).reset_index(),pd.read_pickle(join(INSTANCES_DATA_PATH,'FTK.K208B.pickle')).reset_index(),how='inner', left_on=['entity','period','K208A,020'], right_on=['entity','period','K208B,130']).set_index(['entity', 'period', 'K208A,020'])\n",
    "# df_208 = df_208.reset_index()\n",
    "# df_208['K208A,020A'] = df_208['K208A,020']\n",
    "# listt=list(df_208['K208A,020A'])\n",
    "# for i in listt:\n",
    "#     lenn = len(df_208[df_208['K208A,020A']==i])\n",
    "#     if lenn > 1:\n",
    "#         list_ind = list(df_208.loc[df_208['K208A,020A']==i].index)\n",
    "#         temp = 0\n",
    "#         for j in list_ind[1:]:\n",
    "#             temp=temp+1\n",
    "#             df_208['K208A,020A'].iloc[j] = df_208['K208A,020A'].iloc[j] + '_' + str(temp)\n",
    "# df_208 = df_208.set_index(['entity', 'period', 'K208A,020A'])"
   ]
  },
  {
   "cell_type": "markdown",
   "metadata": {},
   "source": [
    "In this tutorial we work with dummy data in order to show results"
   ]
  },
  {
   "cell_type": "code",
   "execution_count": 9,
   "metadata": {},
   "outputs": [],
   "source": [
    "df_208A = pd.read_pickle(join(TEST_DATA_PATH,'FTK.K208A.pickle')).reset_index() #Import demo pickles\n",
    "df_208B = pd.read_pickle(join(TEST_DATA_PATH,'FTK.K208B.pickle')).reset_index() #Import demo pickles\n",
    "df_208 = pd.merge(df_208A,df_208B,how='inner', left_on=['entity', 'period', 'K208A,020'], right_on=['entity','period', 'K208B,130']).set_index(['entity', 'period', 'K208A,020'])\n",
    "df_208B = df_208B.set_index(['entity','period', 'K208B,130'])\n",
    "df_208A = df_208A.set_index(['entity', 'period', 'K208A,020'])\n",
    "df_208B['K208B,130'] = df_208B.index.get_level_values(2)\n",
    "df_208['K208A,020'] = df_208.index.get_level_values(2)"
   ]
  },
  {
   "cell_type": "markdown",
   "metadata": {},
   "source": [
    "#### S08"
   ]
  },
  {
   "cell_type": "code",
   "execution_count": 10,
   "metadata": {},
   "outputs": [],
   "source": [
    "# df_210B = pd.read_pickle(join(INSTANCES_DATA_PATH, 'FTK.K210B.pickle')).reset_index()\n",
    "# df_210B = df_210B.set_index(['entity', 'period', 'K210B,200'])\n",
    "# df_210B['K210B,200'] = df_210B.index.get_level_values(2)"
   ]
  },
  {
   "cell_type": "code",
   "execution_count": 11,
   "metadata": {},
   "outputs": [],
   "source": [
    "# df_210 = pd.merge(pd.read_pickle(join(INSTANCES_DATA_PATH,'FTK.K210A.pickle')).reset_index(),pd.read_pickle(join(INSTANCES_DATA_PATH,'FTK.K210B.pickle')).reset_index(),how='inner', left_on=['entity','period','K210A,020'], right_on=['entity','period','K210B,200']).set_index(['entity', 'period', 'K210A,020'])\n",
    "# df_210 = df_210.reset_index()\n",
    "# df_210['K210A,020A'] = df_210['K210A,020']\n",
    "# listt=list(df_210['K210A,020A'])\n",
    "# for i in listt:\n",
    "#     lenn = len(df_210[df_210['K210A,020A']==i])\n",
    "#     if lenn > 1:\n",
    "#         list_ind = list(df_210.loc[df_210['K210A,020A']==i].index)\n",
    "#         temp = 0\n",
    "#         for j in list_ind[1:]:\n",
    "#             temp=temp+1\n",
    "#             df_210['K210A,020A'].iloc[j] = df_210['K210A,020A'].iloc[j] + '_' + str(temp)\n",
    "# df_210 = df_210.set_index(['entity', 'period', 'K210A,020A'])"
   ]
  },
  {
   "cell_type": "markdown",
   "metadata": {},
   "source": [
    "In this tutorial we work with dummy data in order to show results"
   ]
  },
  {
   "cell_type": "code",
   "execution_count": 12,
   "metadata": {},
   "outputs": [],
   "source": [
    "df_210A = pd.read_pickle(join(TEST_DATA_PATH,'FTK.K210A.pickle')).reset_index() #Import demo pickles\n",
    "df_210B = pd.read_pickle(join(TEST_DATA_PATH, 'FTK.K210B.pickle')).reset_index() #Import demo pickles\n",
    "df_210 = pd.merge(df_210A,df_210B,how='inner', left_on=['entity', 'period', 'K210A,020'], right_on=['entity', 'period', 'K210B,200']).set_index(['entity', 'period', 'K210A,020'])\n",
    "df_210A = df_210A.set_index(['entity', 'period', 'K210A,020'])\n",
    "df_210B = df_210B.set_index(['entity', 'period', 'K210B,200'])\n",
    "df_210B['K210B,200'] = df_210B.index.get_level_values(2)\n",
    "df_210['K210A,020'] = df_210.index.get_level_values(2)"
   ]
  },
  {
   "cell_type": "markdown",
   "metadata": {},
   "source": [
    "### Evaluate rules"
   ]
  },
  {
   "cell_type": "markdown",
   "metadata": {},
   "source": [
    "Now we are ready to evaluate the different sets of rules. First, we construct a PatternMiner-object with the data-patterns package using the rules dataframe. Second, we use the analyze-function to get the results of the rules. We do this for each set of rules separately."
   ]
  },
  {
   "cell_type": "markdown",
   "metadata": {},
   "source": [
    "#### S06\n"
   ]
  },
  {
   "cell_type": "code",
   "execution_count": 13,
   "metadata": {},
   "outputs": [
    {
     "name": "stderr",
     "output_type": "stream",
     "text": [
      "100%|█████████████████████████████████████████████████████████████████████████████| 1500/1500 [00:09<00:00, 150.24it/s]\n"
     ]
    },
    {
     "data": {
      "text/html": [
       "<div>\n",
       "<style scoped>\n",
       "    .dataframe tbody tr th:only-of-type {\n",
       "        vertical-align: middle;\n",
       "    }\n",
       "\n",
       "    .dataframe tbody tr th {\n",
       "        vertical-align: top;\n",
       "    }\n",
       "\n",
       "    .dataframe thead th {\n",
       "        text-align: right;\n",
       "    }\n",
       "</style>\n",
       "<table border=\"1\" class=\"dataframe\">\n",
       "  <thead>\n",
       "    <tr style=\"text-align: right;\">\n",
       "      <th></th>\n",
       "      <th></th>\n",
       "      <th></th>\n",
       "      <th>result_type</th>\n",
       "      <th>pattern_id</th>\n",
       "      <th>cluster</th>\n",
       "      <th>support</th>\n",
       "      <th>exceptions</th>\n",
       "      <th>confidence</th>\n",
       "      <th>pattern_def</th>\n",
       "      <th>P values</th>\n",
       "      <th>Q values</th>\n",
       "    </tr>\n",
       "  </thead>\n",
       "  <tbody>\n",
       "    <tr>\n",
       "      <th rowspan=\"2\" valign=\"top\">LEGALIDENTIFIER20P32</th>\n",
       "      <th rowspan=\"2\" valign=\"top\">2018-12-31</th>\n",
       "      <th>Key 2</th>\n",
       "      <td>False</td>\n",
       "      <td>Total solvency 1</td>\n",
       "      <td>0</td>\n",
       "      <td>0</td>\n",
       "      <td>1</td>\n",
       "      <td>0.0</td>\n",
       "      <td>IF ({\"FTK.K208A,C070\"} != 0) THEN (ABS({\"FTK.K...</td>\n",
       "      <td>1038000.00</td>\n",
       "      <td>[1041000.0, 1038000.0, 0.0315, 1040000.0, 1041...</td>\n",
       "    </tr>\n",
       "    <tr>\n",
       "      <th>Key 2</th>\n",
       "      <td>False</td>\n",
       "      <td>Total solvency 2</td>\n",
       "      <td>0</td>\n",
       "      <td>0</td>\n",
       "      <td>1</td>\n",
       "      <td>0.0</td>\n",
       "      <td>IF ({\"FTK.K208A,C060\"} != 0) THEN (ABS({\"FTK.K...</td>\n",
       "      <td>0.24</td>\n",
       "      <td>[1041000.0, 0.24, 1042000.0, 1040000.0, 104100...</td>\n",
       "    </tr>\n",
       "  </tbody>\n",
       "</table>\n",
       "</div>"
      ],
      "text/plain": [
       "                                       result_type        pattern_id  cluster  \\\n",
       "LEGALIDENTIFIER20P32 2018-12-31 Key 2        False  Total solvency 1        0   \n",
       "                                Key 2        False  Total solvency 2        0   \n",
       "\n",
       "                                       support  exceptions  confidence  \\\n",
       "LEGALIDENTIFIER20P32 2018-12-31 Key 2        0           1         0.0   \n",
       "                                Key 2        0           1         0.0   \n",
       "\n",
       "                                                                             pattern_def  \\\n",
       "LEGALIDENTIFIER20P32 2018-12-31 Key 2  IF ({\"FTK.K208A,C070\"} != 0) THEN (ABS({\"FTK.K...   \n",
       "                                Key 2  IF ({\"FTK.K208A,C060\"} != 0) THEN (ABS({\"FTK.K...   \n",
       "\n",
       "                                         P values  \\\n",
       "LEGALIDENTIFIER20P32 2018-12-31 Key 2  1038000.00   \n",
       "                                Key 2        0.24   \n",
       "\n",
       "                                                                                Q values  \n",
       "LEGALIDENTIFIER20P32 2018-12-31 Key 2  [1041000.0, 1038000.0, 0.0315, 1040000.0, 1041...  \n",
       "                                Key 2  [1041000.0, 0.24, 1042000.0, 1040000.0, 104100...  "
      ]
     },
     "execution_count": 13,
     "metadata": {},
     "output_type": "execute_result"
    }
   ],
   "source": [
    "miner = data_patterns.PatternMiner(df_patterns=dfr_208)\n",
    "results_208 = miner.analyze(df_208)\n",
    "results_208"
   ]
  },
  {
   "cell_type": "code",
   "execution_count": 14,
   "metadata": {},
   "outputs": [
    {
     "name": "stderr",
     "output_type": "stream",
     "text": [
      "100%|███████████████████████████████████████████████████████████████████████████| 11991/11991 [01:33<00:00, 127.93it/s]\n"
     ]
    },
    {
     "data": {
      "text/html": [
       "<div>\n",
       "<style scoped>\n",
       "    .dataframe tbody tr th:only-of-type {\n",
       "        vertical-align: middle;\n",
       "    }\n",
       "\n",
       "    .dataframe tbody tr th {\n",
       "        vertical-align: top;\n",
       "    }\n",
       "\n",
       "    .dataframe thead th {\n",
       "        text-align: right;\n",
       "    }\n",
       "</style>\n",
       "<table border=\"1\" class=\"dataframe\">\n",
       "  <thead>\n",
       "    <tr style=\"text-align: right;\">\n",
       "      <th></th>\n",
       "      <th></th>\n",
       "      <th></th>\n",
       "      <th>result_type</th>\n",
       "      <th>pattern_id</th>\n",
       "      <th>cluster</th>\n",
       "      <th>support</th>\n",
       "      <th>exceptions</th>\n",
       "      <th>confidence</th>\n",
       "      <th>pattern_def</th>\n",
       "      <th>P values</th>\n",
       "      <th>Q values</th>\n",
       "    </tr>\n",
       "  </thead>\n",
       "  <tbody>\n",
       "    <tr>\n",
       "      <th rowspan=\"2\" valign=\"top\">LEGALIDENTIFIER20P32</th>\n",
       "      <th rowspan=\"2\" valign=\"top\">2018-12-31</th>\n",
       "      <th>Key 2</th>\n",
       "      <td>False</td>\n",
       "      <td>Unit Solvency 1</td>\n",
       "      <td>0</td>\n",
       "      <td>0</td>\n",
       "      <td>1</td>\n",
       "      <td>0.0</td>\n",
       "      <td>IF ({\"FTK.K208B,C280\"} != 0) THEN ({\"FTK.K208B...</td>\n",
       "      <td>1.042000e+06</td>\n",
       "      <td>3.150000e-02</td>\n",
       "    </tr>\n",
       "    <tr>\n",
       "      <th>Key 2</th>\n",
       "      <td>False</td>\n",
       "      <td>Unit Solvency 2</td>\n",
       "      <td>0</td>\n",
       "      <td>0</td>\n",
       "      <td>1</td>\n",
       "      <td>0.0</td>\n",
       "      <td>IF ({\"FTK.K208B,C290\"} != 0) THEN ({\"FTK.K208B...</td>\n",
       "      <td>3.150000e-02</td>\n",
       "      <td>1.042000e+06</td>\n",
       "    </tr>\n",
       "  </tbody>\n",
       "</table>\n",
       "</div>"
      ],
      "text/plain": [
       "                                       result_type       pattern_id  cluster  \\\n",
       "LEGALIDENTIFIER20P32 2018-12-31 Key 2        False  Unit Solvency 1        0   \n",
       "                                Key 2        False  Unit Solvency 2        0   \n",
       "\n",
       "                                       support  exceptions  confidence  \\\n",
       "LEGALIDENTIFIER20P32 2018-12-31 Key 2        0           1         0.0   \n",
       "                                Key 2        0           1         0.0   \n",
       "\n",
       "                                                                             pattern_def  \\\n",
       "LEGALIDENTIFIER20P32 2018-12-31 Key 2  IF ({\"FTK.K208B,C280\"} != 0) THEN ({\"FTK.K208B...   \n",
       "                                Key 2  IF ({\"FTK.K208B,C290\"} != 0) THEN ({\"FTK.K208B...   \n",
       "\n",
       "                                           P values      Q values  \n",
       "LEGALIDENTIFIER20P32 2018-12-31 Key 2  1.042000e+06  3.150000e-02  \n",
       "                                Key 2  3.150000e-02  1.042000e+06  "
      ]
     },
     "execution_count": 14,
     "metadata": {},
     "output_type": "execute_result"
    }
   ],
   "source": [
    "miner = data_patterns.PatternMiner(df_patterns=dfr_208B)\n",
    "results_208B = miner.analyze(df_208B)\n",
    "results_208B"
   ]
  },
  {
   "cell_type": "code",
   "execution_count": 15,
   "metadata": {},
   "outputs": [
    {
     "name": "stderr",
     "output_type": "stream",
     "text": [
      "100%|███████████████████████████████████████████████████████████████████████████████████| 2/2 [00:00<00:00, 111.19it/s]\n"
     ]
    },
    {
     "data": {
      "text/html": [
       "<div>\n",
       "<style scoped>\n",
       "    .dataframe tbody tr th:only-of-type {\n",
       "        vertical-align: middle;\n",
       "    }\n",
       "\n",
       "    .dataframe tbody tr th {\n",
       "        vertical-align: top;\n",
       "    }\n",
       "\n",
       "    .dataframe thead th {\n",
       "        text-align: right;\n",
       "    }\n",
       "</style>\n",
       "<table border=\"1\" class=\"dataframe\">\n",
       "  <thead>\n",
       "    <tr style=\"text-align: right;\">\n",
       "      <th></th>\n",
       "      <th></th>\n",
       "      <th></th>\n",
       "      <th>result_type</th>\n",
       "      <th>pattern_id</th>\n",
       "      <th>cluster</th>\n",
       "      <th>support</th>\n",
       "      <th>exceptions</th>\n",
       "      <th>confidence</th>\n",
       "      <th>pattern_def</th>\n",
       "      <th>P values</th>\n",
       "      <th>Q values</th>\n",
       "    </tr>\n",
       "  </thead>\n",
       "  <tbody>\n",
       "    <tr>\n",
       "      <th rowspan=\"2\" valign=\"top\">LEGALIDENTIFIER20P32</th>\n",
       "      <th rowspan=\"2\" valign=\"top\">2018-12-31</th>\n",
       "      <th>Key 2</th>\n",
       "      <td>False</td>\n",
       "      <td>Par</td>\n",
       "      <td>0</td>\n",
       "      <td>0</td>\n",
       "      <td>1</td>\n",
       "      <td>0.0</td>\n",
       "      <td>IF ({\"FTK.K208A,C060\"} != 0) THEN ({\"FTK.K208A...</td>\n",
       "      <td>0.24</td>\n",
       "      <td>1038000.00</td>\n",
       "    </tr>\n",
       "    <tr>\n",
       "      <th>Key 2</th>\n",
       "      <td>False</td>\n",
       "      <td>Quantity</td>\n",
       "      <td>0</td>\n",
       "      <td>0</td>\n",
       "      <td>1</td>\n",
       "      <td>0.0</td>\n",
       "      <td>IF ({\"FTK.K208A,C070\"} != 0) THEN ({\"FTK.K208A...</td>\n",
       "      <td>1038000.00</td>\n",
       "      <td>0.24</td>\n",
       "    </tr>\n",
       "  </tbody>\n",
       "</table>\n",
       "</div>"
      ],
      "text/plain": [
       "                                       result_type pattern_id  cluster  \\\n",
       "LEGALIDENTIFIER20P32 2018-12-31 Key 2        False        Par        0   \n",
       "                                Key 2        False   Quantity        0   \n",
       "\n",
       "                                       support  exceptions  confidence  \\\n",
       "LEGALIDENTIFIER20P32 2018-12-31 Key 2        0           1         0.0   \n",
       "                                Key 2        0           1         0.0   \n",
       "\n",
       "                                                                             pattern_def  \\\n",
       "LEGALIDENTIFIER20P32 2018-12-31 Key 2  IF ({\"FTK.K208A,C060\"} != 0) THEN ({\"FTK.K208A...   \n",
       "                                Key 2  IF ({\"FTK.K208A,C070\"} != 0) THEN ({\"FTK.K208A...   \n",
       "\n",
       "                                         P values    Q values  \n",
       "LEGALIDENTIFIER20P32 2018-12-31 Key 2        0.24  1038000.00  \n",
       "                                Key 2  1038000.00        0.24  "
      ]
     },
     "execution_count": 15,
     "metadata": {},
     "output_type": "execute_result"
    }
   ],
   "source": [
    "miner = data_patterns.PatternMiner(df_patterns=dfr_208A)\n",
    "results_208A = miner.analyze(df_208A)\n",
    "results_208A"
   ]
  },
  {
   "cell_type": "markdown",
   "metadata": {},
   "source": [
    "#### S08"
   ]
  },
  {
   "cell_type": "code",
   "execution_count": 16,
   "metadata": {},
   "outputs": [
    {
     "name": "stderr",
     "output_type": "stream",
     "text": [
      "100%|███████████████████████████████████████████████████████████████████████████████| 126/126 [00:00<00:00, 151.08it/s]\n"
     ]
    },
    {
     "data": {
      "text/html": [
       "<div>\n",
       "<style scoped>\n",
       "    .dataframe tbody tr th:only-of-type {\n",
       "        vertical-align: middle;\n",
       "    }\n",
       "\n",
       "    .dataframe tbody tr th {\n",
       "        vertical-align: top;\n",
       "    }\n",
       "\n",
       "    .dataframe thead th {\n",
       "        text-align: right;\n",
       "    }\n",
       "</style>\n",
       "<table border=\"1\" class=\"dataframe\">\n",
       "  <thead>\n",
       "    <tr style=\"text-align: right;\">\n",
       "      <th></th>\n",
       "      <th></th>\n",
       "      <th></th>\n",
       "      <th>result_type</th>\n",
       "      <th>pattern_id</th>\n",
       "      <th>cluster</th>\n",
       "      <th>support</th>\n",
       "      <th>exceptions</th>\n",
       "      <th>confidence</th>\n",
       "      <th>pattern_def</th>\n",
       "      <th>P values</th>\n",
       "      <th>Q values</th>\n",
       "    </tr>\n",
       "  </thead>\n",
       "  <tbody>\n",
       "    <tr>\n",
       "      <th rowspan=\"2\" valign=\"top\">LEGALIDENTIFIER20P32</th>\n",
       "      <th rowspan=\"2\" valign=\"top\">2018-12-31</th>\n",
       "      <th>Key 9</th>\n",
       "      <td>True</td>\n",
       "      <td>Contract size 2</td>\n",
       "      <td>0</td>\n",
       "      <td>1</td>\n",
       "      <td>0</td>\n",
       "      <td>1.0</td>\n",
       "      <td>IF {\"FTK.K210B,C290\"} = \"USA2\" THEN {\"FTK.K210...</td>\n",
       "      <td>USA2</td>\n",
       "      <td>1.051e+06</td>\n",
       "    </tr>\n",
       "    <tr>\n",
       "      <th>Key 9</th>\n",
       "      <td>True</td>\n",
       "      <td>Buyer/seller 2</td>\n",
       "      <td>0</td>\n",
       "      <td>1</td>\n",
       "      <td>0</td>\n",
       "      <td>1.0</td>\n",
       "      <td>IF {\"FTK.K210B,C290\"} = \"USA2\" THEN {\"FTK.K210...</td>\n",
       "      <td>USA2</td>\n",
       "      <td>Open</td>\n",
       "    </tr>\n",
       "  </tbody>\n",
       "</table>\n",
       "</div>"
      ],
      "text/plain": [
       "                                       result_type       pattern_id  cluster  \\\n",
       "LEGALIDENTIFIER20P32 2018-12-31 Key 9         True  Contract size 2        0   \n",
       "                                Key 9         True   Buyer/seller 2        0   \n",
       "\n",
       "                                       support  exceptions  confidence  \\\n",
       "LEGALIDENTIFIER20P32 2018-12-31 Key 9        1           0         1.0   \n",
       "                                Key 9        1           0         1.0   \n",
       "\n",
       "                                                                             pattern_def  \\\n",
       "LEGALIDENTIFIER20P32 2018-12-31 Key 9  IF {\"FTK.K210B,C290\"} = \"USA2\" THEN {\"FTK.K210...   \n",
       "                                Key 9  IF {\"FTK.K210B,C290\"} = \"USA2\" THEN {\"FTK.K210...   \n",
       "\n",
       "                                      P values   Q values  \n",
       "LEGALIDENTIFIER20P32 2018-12-31 Key 9     USA2  1.051e+06  \n",
       "                                Key 9     USA2       Open  "
      ]
     },
     "execution_count": 16,
     "metadata": {},
     "output_type": "execute_result"
    }
   ],
   "source": [
    "miner = data_patterns.PatternMiner(df_patterns=dfr_210)\n",
    "results_210 = miner.analyze(df_210)\n",
    "results_210"
   ]
  },
  {
   "cell_type": "code",
   "execution_count": 17,
   "metadata": {},
   "outputs": [
    {
     "name": "stderr",
     "output_type": "stream",
     "text": [
      "100%|███████████████████████████████████████████████████████████████████████████████| 568/568 [00:04<00:00, 114.00it/s]\n"
     ]
    },
    {
     "data": {
      "text/html": [
       "<div>\n",
       "<style scoped>\n",
       "    .dataframe tbody tr th:only-of-type {\n",
       "        vertical-align: middle;\n",
       "    }\n",
       "\n",
       "    .dataframe tbody tr th {\n",
       "        vertical-align: top;\n",
       "    }\n",
       "\n",
       "    .dataframe thead th {\n",
       "        text-align: right;\n",
       "    }\n",
       "</style>\n",
       "<table border=\"1\" class=\"dataframe\">\n",
       "  <thead>\n",
       "    <tr style=\"text-align: right;\">\n",
       "      <th></th>\n",
       "      <th></th>\n",
       "      <th></th>\n",
       "      <th>result_type</th>\n",
       "      <th>pattern_id</th>\n",
       "      <th>cluster</th>\n",
       "      <th>support</th>\n",
       "      <th>exceptions</th>\n",
       "      <th>confidence</th>\n",
       "      <th>pattern_def</th>\n",
       "      <th>P values</th>\n",
       "      <th>Q values</th>\n",
       "    </tr>\n",
       "  </thead>\n",
       "  <tbody>\n",
       "    <tr>\n",
       "      <th rowspan=\"2\" valign=\"top\">LEGALIDENTIFIER20P32</th>\n",
       "      <th rowspan=\"2\" valign=\"top\">2018-12-31</th>\n",
       "      <th>Key 9</th>\n",
       "      <td>True</td>\n",
       "      <td>Currency 1</td>\n",
       "      <td>0</td>\n",
       "      <td>1</td>\n",
       "      <td>0</td>\n",
       "      <td>1.0</td>\n",
       "      <td>IF ({\"FTK.K210B,C290\"} = \"USA2\") THEN (({\"FTK....</td>\n",
       "      <td>USA2</td>\n",
       "      <td>[0, 0, EUR]</td>\n",
       "    </tr>\n",
       "    <tr>\n",
       "      <th>Key 9</th>\n",
       "      <td>True</td>\n",
       "      <td>Credit quality step 2</td>\n",
       "      <td>0</td>\n",
       "      <td>1</td>\n",
       "      <td>0</td>\n",
       "      <td>1.0</td>\n",
       "      <td>IF (({\"FTK.K210B,C230\"}= \"BBB+\") &amp; ({\"FTK.K210...</td>\n",
       "      <td>[BBB+, Fitch]</td>\n",
       "      <td>Credit quality step 3</td>\n",
       "    </tr>\n",
       "  </tbody>\n",
       "</table>\n",
       "</div>"
      ],
      "text/plain": [
       "                                       result_type             pattern_id  \\\n",
       "LEGALIDENTIFIER20P32 2018-12-31 Key 9         True             Currency 1   \n",
       "                                Key 9         True  Credit quality step 2   \n",
       "\n",
       "                                       cluster  support  exceptions  \\\n",
       "LEGALIDENTIFIER20P32 2018-12-31 Key 9        0        1           0   \n",
       "                                Key 9        0        1           0   \n",
       "\n",
       "                                       confidence  \\\n",
       "LEGALIDENTIFIER20P32 2018-12-31 Key 9         1.0   \n",
       "                                Key 9         1.0   \n",
       "\n",
       "                                                                             pattern_def  \\\n",
       "LEGALIDENTIFIER20P32 2018-12-31 Key 9  IF ({\"FTK.K210B,C290\"} = \"USA2\") THEN (({\"FTK....   \n",
       "                                Key 9  IF (({\"FTK.K210B,C230\"}= \"BBB+\") & ({\"FTK.K210...   \n",
       "\n",
       "                                            P values               Q values  \n",
       "LEGALIDENTIFIER20P32 2018-12-31 Key 9           USA2            [0, 0, EUR]  \n",
       "                                Key 9  [BBB+, Fitch]  Credit quality step 3  "
      ]
     },
     "execution_count": 17,
     "metadata": {},
     "output_type": "execute_result"
    }
   ],
   "source": [
    "miner2 = data_patterns.PatternMiner(df_patterns=dfr_210B)\n",
    "results2_210B = miner2.analyze(df_210B)\n",
    "results2_210B"
   ]
  }
 ],
 "metadata": {
  "kernelspec": {
   "display_name": "Python 3",
   "language": "python",
   "name": "python3"
  },
  "language_info": {
   "codemirror_mode": {
    "name": "ipython",
    "version": 3
   },
   "file_extension": ".py",
   "mimetype": "text/x-python",
   "name": "python",
   "nbconvert_exporter": "python",
   "pygments_lexer": "ipython3",
   "version": "3.6.10"
  }
 },
 "nbformat": 4,
 "nbformat_minor": 4
}

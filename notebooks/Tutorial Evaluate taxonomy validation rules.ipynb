{
 "cells": [
  {
   "cell_type": "markdown",
   "metadata": {},
   "source": [
    "# Tutorial evaluate taxonomy validation rules"
   ]
  },
  {
   "cell_type": "markdown",
   "metadata": {},
   "source": [
    "This tutorial describes how to convert XBRL-instances to csv-, html- and pickle files per template.\n",
    "\n",
    "We use Arelle, a open source package for processing XBRL. In addition this repository contains code to process the Solvency 2 and FTK instances efficiently."
   ]
  },
  {
   "cell_type": "code",
   "execution_count": 1,
   "metadata": {},
   "outputs": [],
   "source": [
    "from arelle import ModelManager, Cntlr, ModelXbrl, XbrlConst, RenderingEvaluator, \\\n",
    "                   ViewFileRenderedGrid, ModelFormulaObject\n",
    "from arelle import PackageManager, FileSource\n",
    "\n",
    "import src\n",
    "import pandas as pd\n",
    "import os\n",
    "from os import listdir, walk, makedirs, environ\n",
    "from os.path import isfile, join, exists, basename\n",
    "from datetime import datetime"
   ]
  },
  {
   "cell_type": "markdown",
   "metadata": {},
   "source": [
    "## Initialize the Arelle model manager"
   ]
  },
  {
   "cell_type": "markdown",
   "metadata": {},
   "source": [
    "First we specify the directories with the taxonomy and instances. You can put your own instances in the data/instances directory, or you can specify here the directories that you want to use."
   ]
  },
  {
   "cell_type": "code",
   "execution_count": 2,
   "metadata": {},
   "outputs": [],
   "source": [
    "# the taxonomy should be data/taxonomy/arelle\n",
    "# the instances you want to use should be in data/instances\n",
    "\n",
    "XBRL_TAXONOMY_PATH = join('..', 'data', 'taxonomies')\n",
    "XBRL_INSTANCES_PATH = join('..', 'data', 'instances')\n",
    "\n",
    "LANGUAGE = \"en-GB\"\n",
    "environ['XDG_CONFIG_HOME'] = XBRL_TAXONOMY_PATH\n",
    "\n",
    "# The role defined in the model.xsd schema for resources representing codes of rows or columns is\n",
    "euRCcode = 'http://www.eurofiling.info/xbrl/role/rc-code'"
   ]
  },
  {
   "cell_type": "markdown",
   "metadata": {},
   "source": [
    "To process XBRL, we need a controller and a modelmanager object. \n",
    "\n",
    "In the controller you can specify logging. Here we have set logging to print in this notebook."
   ]
  },
  {
   "cell_type": "code",
   "execution_count": 3,
   "metadata": {
    "scrolled": true
   },
   "outputs": [],
   "source": [
    "# Now we make a modelmanager\n",
    "# logFileName = \"logToPrint\" -> logging is print to notebook\n",
    "# logFileName = \"arelle.log\" -> logging is to filename (use .json or .xml for specific format)\n",
    "\n",
    "controller = Cntlr.Cntlr(logFileName = \"logToPrint\")\n",
    "controller.webCache.workOffline = True\n",
    "controller.logger.messageCodeFilter = None\n",
    "\n",
    "modelmanager = ModelManager.initialize(controller)\n",
    "modelmanager.defaultLang = LANGUAGE\n",
    "modelmanager.formulaOptions = ModelFormulaObject.FormulaOptions()\n",
    "modelmanager.loadCustomTransforms()"
   ]
  },
  {
   "cell_type": "markdown",
   "metadata": {},
   "source": [
    "## Initialize taxonomies"
   ]
  },
  {
   "cell_type": "code",
   "execution_count": 4,
   "metadata": {},
   "outputs": [
    {
     "name": "stdout",
     "output_type": "stream",
     "text": [
      "2021-03-05 16:11:53,428 [arelle.packageRewriteOverlap] Packages overlap the same rewrite start string http://www.eurofiling.info/ - EIOPA_SolvencyII_XBRL_Taxonomy_2.4.0_with_external_hotfix.zip , FTK Taxonomy 2.1.0_tcm46-386386.zip \n",
      "\n",
      "2021-03-05 16:11:53,430 [arelle.packageRewriteOverlap] Packages overlap the same rewrite start string http://www.xbrl.org/ - EIOPA_SolvencyII_XBRL_Taxonomy_2.4.0_with_external_hotfix.zip , FTK Taxonomy 2.1.0_tcm46-386386.zip \n",
      "\n"
     ]
    }
   ],
   "source": [
    "taxonomies = ['FTK Taxonomy 2.1.0_tcm46-386386.zip', \n",
    "              'EIOPA_SolvencyII_XBRL_Taxonomy_2.4.0_with_external_hotfix.zip']\n",
    "PackageManager.init(controller)\n",
    "for taxonomy in taxonomies:\n",
    "    fs = FileSource.openFileSource(filename = join(XBRL_TAXONOMY_PATH, taxonomy))\n",
    "    fs.open()\n",
    "    PackageManager.addPackage(controller, fs.baseurl)\n",
    "    fs.close()\n",
    "PackageManager.rebuildRemappings(controller)\n",
    "PackageManager.save(controller)"
   ]
  },
  {
   "cell_type": "markdown",
   "metadata": {},
   "source": [
    "## Read XBRL-instance in the modelmanager"
   ]
  },
  {
   "cell_type": "markdown",
   "metadata": {},
   "source": [
    "Now we are able to read and process an XBRL-instance.\n",
    "\n",
    "We read the example instances provided with the taxonomy."
   ]
  },
  {
   "cell_type": "code",
   "execution_count": 5,
   "metadata": {},
   "outputs": [],
   "source": [
    "# Solvency 2:\n",
    "prefix = \"\"\n",
    "# the example instance of the quarterly templates for solo\n",
    "instance_name = 'qrs_240_instance.xbrl'  \n",
    "# the example instance of the annual templates\n",
    "# instance_name = 'aeb_240_instance.xbrl'\n",
    "\n",
    "# FTK:\n",
    "# prefix = \"FTK.\"\n",
    "# the example instance of the FTK assets templates\n",
    "# instance_name = 'DNB-NR_FTK-2019-06_2019-12-31_MOD_FTK-BEL.XBRL'"
   ]
  },
  {
   "cell_type": "markdown",
   "metadata": {},
   "source": [
    "## Validate instance from Arelle"
   ]
  },
  {
   "cell_type": "markdown",
   "metadata": {},
   "source": [
    "It should be possible to validate the instance (performing the validation rules within the taxonomy) with Arelle with the following code. But we did not test this!"
   ]
  },
  {
   "cell_type": "code",
   "execution_count": 6,
   "metadata": {},
   "outputs": [],
   "source": [
    "modelXbrl = modelmanager.load(join(XBRL_INSTANCES_PATH, instance_name))"
   ]
  },
  {
   "cell_type": "code",
   "execution_count": 7,
   "metadata": {},
   "outputs": [],
   "source": [
    "controller = Cntlr.Cntlr(logFileName = \"log.txt\")\n",
    "controller.webCache.workOffline = True\n",
    "controller.setLogCodeFilter(None)\n",
    "controller.logger.setLevel(\"ASSERTION-NOT-SATISFIED\")\n",
    "modelmanager.formulaOptions.traceVariableSetExpressionResult = True\n",
    "# controller.startLogging()"
   ]
  },
  {
   "cell_type": "code",
   "execution_count": 8,
   "metadata": {},
   "outputs": [],
   "source": [
    "modelmanager.validateInferDecimals = True\n",
    "modelmanager.validateCalcLB = True"
   ]
  },
  {
   "cell_type": "code",
   "execution_count": 9,
   "metadata": {
    "scrolled": true
   },
   "outputs": [
    {
     "name": "stdout",
     "output_type": "stream",
     "text": [
      "2021-03-05 16:12:53,630 [message:s2md_TV61-1] TV61-1: empty({T.99.01.01.01, c0080}) - qrs_240_instance.xbrl 11\n",
      "\n",
      "2021-03-05 16:12:53,632 [message:s2md_TV37-2] TV37-2: if (not(empty({S.08.02.01.01, c0230}))) then not(empty({S.08.02.01.02, c0320})) - qrs_240_instance.xbrl 11\n",
      "\n",
      "2021-03-05 16:13:31,059 [message:s2md_TV70-3] TV70-3: empty({S.01.02.01.01, r0992}) - qrs_240_instance.xbrl 11\n",
      "\n",
      "2021-03-05 16:13:41,501 [message:s2md_TV15] TV15: si1559 doesn't follow \"^LEI/[A-Z0-9]{20}$\" or \"^None\" pattern -->Template 1: (All); Expression: si1559 like \"^LEI/[A-Z0-9]{20}$\" or \"^None\" - qrs_240_instance.xbrl 10\n",
      "\n",
      "2021-03-05 16:13:41,509 [message:s2md_TV15] TV15: si1559 doesn't follow \"^LEI/[A-Z0-9]{20}$\" or \"^None\" pattern -->Template 1: (All); Expression: si1559 like \"^LEI/[A-Z0-9]{20}$\" or \"^None\" - qrs_240_instance.xbrl 10\n",
      "\n",
      "2021-03-05 16:13:44,044 [message:s2md_TV34-2] TV34-2: if (not(empty({S.06.02.01.01, c0170}))) then not(empty({S.06.02.01.02, c0290})) - qrs_240_instance.xbrl 11\n",
      "\n",
      "2021-03-05 16:14:19,951 [message:s2md_TV0-247] TV0-247: There is a mismatch between the entry in the content table S.01.01 (R0410) and declared filing indicator for template S.23.01. - qrs_240_instance.xbrl 14\n",
      "\n",
      "2021-03-05 16:14:19,951 [message:s2md_TV0-247] TV0-247: There is a mismatch between the entry in the content table S.01.01 (R0410) and declared filing indicator for template S.23.01. - qrs_240_instance.xbrl 14\n",
      "\n",
      "2021-03-05 16:14:28,389 [message:s2md_TV14] TV14: si1558 doesn't follow \"^LEI/[A-Z0-9]{20}$\" or \"^None\" pattern -->Template 1: (All); Expression: si1558 like \"^LEI/[A-Z0-9]{20}$\" or \"^None\" - qrs_240_instance.xbrl 10\n",
      "\n",
      "2021-03-05 16:14:28,397 [message:s2md_TV14] TV14: si1558 doesn't follow \"^LEI/[A-Z0-9]{20}$\" or \"^None\" pattern -->Template 1: (All); Expression: si1558 like \"^LEI/[A-Z0-9]{20}$\" or \"^None\" - qrs_240_instance.xbrl 10\n",
      "\n",
      "2021-03-05 16:14:32,669 [message:s2md_TV57-3] TV57-3: [(c0010)] not(empty({S.01.02.01.01,r0090})) - qrs_240_instance.xbrl 11\n",
      "\n",
      "2021-03-05 16:14:44,031 [message:s2md_TV64-1] TV64-1: empty({T.99.01.01.01, c0110}) - qrs_240_instance.xbrl 11\n",
      "\n",
      "2021-03-05 16:15:02,327 [message:s2md_TV0-279] TV0-279: There is a mismatch between the entry in the content table S.01.01 (R0220) and declared filing indicator for template S.12.01. - qrs_240_instance.xbrl 14\n",
      "\n",
      "2021-03-05 16:15:02,335 [message:s2md_TV0-279] TV0-279: There is a mismatch between the entry in the content table S.01.01 (R0220) and declared filing indicator for template S.12.01. - qrs_240_instance.xbrl 14\n",
      "\n",
      "2021-03-05 16:15:34,201 [message:s2md_TV68-3] TV68-3: empty({S.01.02.01.01, r0990}) - qrs_240_instance.xbrl 11\n",
      "\n",
      "2021-03-05 16:15:44,387 [message:s2md_TV16] TV16: si1899 doesn't follow \"^LEI/[A-Z0-9]{20}$\" or \"^SC/.*\" pattern -->Template 1: (All); Expression: si1899 like \"^LEI/[A-Z0-9]{20}$\" or \"^SC/.*\" - qrs_240_instance.xbrl 10\n",
      "\n",
      "2021-03-05 16:15:44,389 [message:s2md_TV0-114] TV0-114: There is a mismatch between the entry in the content table S.01.01 (R0010) and declared filing indicator for template S.01.02. - qrs_240_instance.xbrl 14\n",
      "\n",
      "2021-03-05 16:15:44,389 [message:s2md_TV0-114] TV0-114: There is a mismatch between the entry in the content table S.01.01 (R0010) and declared filing indicator for template S.01.02. - qrs_240_instance.xbrl 14\n",
      "\n"
     ]
    },
    {
     "ename": "KeyboardInterrupt",
     "evalue": "",
     "output_type": "error",
     "traceback": [
      "\u001b[1;31m---------------------------------------------------------------------------\u001b[0m",
      "\u001b[1;31mKeyboardInterrupt\u001b[0m                         Traceback (most recent call last)",
      "\u001b[1;32m<ipython-input-9-c4530730eca4>\u001b[0m in \u001b[0;36m<module>\u001b[1;34m\u001b[0m\n\u001b[1;32m----> 1\u001b[1;33m \u001b[0mmodelmanager\u001b[0m\u001b[1;33m.\u001b[0m\u001b[0mvalidate\u001b[0m\u001b[1;33m(\u001b[0m\u001b[1;33m)\u001b[0m\u001b[1;33m\u001b[0m\u001b[1;33m\u001b[0m\u001b[0m\n\u001b[0m",
      "\u001b[1;32mc:\\users\\wjwil\\anaconda3\\envs\\test_rules\\lib\\site-packages\\arelle\\ModelManager.py\u001b[0m in \u001b[0;36mvalidate\u001b[1;34m(self)\u001b[0m\n\u001b[0;32m    180\u001b[0m         \u001b[1;32mtry\u001b[0m\u001b[1;33m:\u001b[0m\u001b[1;33m\u001b[0m\u001b[1;33m\u001b[0m\u001b[0m\n\u001b[0;32m    181\u001b[0m             \u001b[1;32mif\u001b[0m \u001b[0mself\u001b[0m\u001b[1;33m.\u001b[0m\u001b[0mmodelXbrl\u001b[0m\u001b[1;33m:\u001b[0m\u001b[1;33m\u001b[0m\u001b[1;33m\u001b[0m\u001b[0m\n\u001b[1;32m--> 182\u001b[1;33m                 \u001b[0mValidate\u001b[0m\u001b[1;33m.\u001b[0m\u001b[0mvalidate\u001b[0m\u001b[1;33m(\u001b[0m\u001b[0mself\u001b[0m\u001b[1;33m.\u001b[0m\u001b[0mmodelXbrl\u001b[0m\u001b[1;33m)\u001b[0m\u001b[1;33m\u001b[0m\u001b[1;33m\u001b[0m\u001b[0m\n\u001b[0m\u001b[0;32m    183\u001b[0m         \u001b[1;32mexcept\u001b[0m \u001b[0mException\u001b[0m \u001b[1;32mas\u001b[0m \u001b[0merr\u001b[0m\u001b[1;33m:\u001b[0m\u001b[1;33m\u001b[0m\u001b[1;33m\u001b[0m\u001b[0m\n\u001b[0;32m    184\u001b[0m             self.addToLog(_(\"[exception] Validation exception: {0} at {1}\").format(\n",
      "\u001b[1;32mc:\\users\\wjwil\\anaconda3\\envs\\test_rules\\lib\\site-packages\\arelle\\Validate.py\u001b[0m in \u001b[0;36mvalidate\u001b[1;34m(modelXbrl)\u001b[0m\n\u001b[0;32m     22\u001b[0m \u001b[1;32mdef\u001b[0m \u001b[0mvalidate\u001b[0m\u001b[1;33m(\u001b[0m\u001b[0mmodelXbrl\u001b[0m\u001b[1;33m)\u001b[0m\u001b[1;33m:\u001b[0m\u001b[1;33m\u001b[0m\u001b[1;33m\u001b[0m\u001b[0m\n\u001b[0;32m     23\u001b[0m     \u001b[0mvalidate\u001b[0m \u001b[1;33m=\u001b[0m \u001b[0mValidate\u001b[0m\u001b[1;33m(\u001b[0m\u001b[0mmodelXbrl\u001b[0m\u001b[1;33m)\u001b[0m\u001b[1;33m\u001b[0m\u001b[1;33m\u001b[0m\u001b[0m\n\u001b[1;32m---> 24\u001b[1;33m     \u001b[0mvalidate\u001b[0m\u001b[1;33m.\u001b[0m\u001b[0mvalidate\u001b[0m\u001b[1;33m(\u001b[0m\u001b[1;33m)\u001b[0m\u001b[1;33m\u001b[0m\u001b[1;33m\u001b[0m\u001b[0m\n\u001b[0m\u001b[0;32m     25\u001b[0m \u001b[1;33m\u001b[0m\u001b[0m\n\u001b[0;32m     26\u001b[0m \u001b[1;32mclass\u001b[0m \u001b[0mValidationException\u001b[0m\u001b[1;33m(\u001b[0m\u001b[0mException\u001b[0m\u001b[1;33m)\u001b[0m\u001b[1;33m:\u001b[0m\u001b[1;33m\u001b[0m\u001b[1;33m\u001b[0m\u001b[0m\n",
      "\u001b[1;32mc:\\users\\wjwil\\anaconda3\\envs\\test_rules\\lib\\site-packages\\arelle\\Validate.py\u001b[0m in \u001b[0;36mvalidate\u001b[1;34m(self)\u001b[0m\n\u001b[0;32m    113\u001b[0m         \u001b[1;32melse\u001b[0m\u001b[1;33m:\u001b[0m\u001b[1;33m\u001b[0m\u001b[1;33m\u001b[0m\u001b[0m\n\u001b[0;32m    114\u001b[0m             \u001b[1;32mtry\u001b[0m\u001b[1;33m:\u001b[0m\u001b[1;33m\u001b[0m\u001b[1;33m\u001b[0m\u001b[0m\n\u001b[1;32m--> 115\u001b[1;33m                 \u001b[0mself\u001b[0m\u001b[1;33m.\u001b[0m\u001b[0minstValidator\u001b[0m\u001b[1;33m.\u001b[0m\u001b[0mvalidate\u001b[0m\u001b[1;33m(\u001b[0m\u001b[0mself\u001b[0m\u001b[1;33m.\u001b[0m\u001b[0mmodelXbrl\u001b[0m\u001b[1;33m,\u001b[0m \u001b[0mself\u001b[0m\u001b[1;33m.\u001b[0m\u001b[0mmodelXbrl\u001b[0m\u001b[1;33m.\u001b[0m\u001b[0mmodelManager\u001b[0m\u001b[1;33m.\u001b[0m\u001b[0mformulaOptions\u001b[0m\u001b[1;33m.\u001b[0m\u001b[0mtypedParameters\u001b[0m\u001b[1;33m(\u001b[0m\u001b[0mself\u001b[0m\u001b[1;33m.\u001b[0m\u001b[0mmodelXbrl\u001b[0m\u001b[1;33m.\u001b[0m\u001b[0mprefixedNamespaces\u001b[0m\u001b[1;33m)\u001b[0m\u001b[1;33m)\u001b[0m\u001b[1;33m\u001b[0m\u001b[1;33m\u001b[0m\u001b[0m\n\u001b[0m\u001b[0;32m    116\u001b[0m                 \u001b[0mself\u001b[0m\u001b[1;33m.\u001b[0m\u001b[0minstValidator\u001b[0m\u001b[1;33m.\u001b[0m\u001b[0mclose\u001b[0m\u001b[1;33m(\u001b[0m\u001b[1;33m)\u001b[0m\u001b[1;33m\u001b[0m\u001b[1;33m\u001b[0m\u001b[0m\n\u001b[0;32m    117\u001b[0m             \u001b[1;32mexcept\u001b[0m \u001b[0mException\u001b[0m \u001b[1;32mas\u001b[0m \u001b[0merr\u001b[0m\u001b[1;33m:\u001b[0m\u001b[1;33m\u001b[0m\u001b[1;33m\u001b[0m\u001b[0m\n",
      "\u001b[1;32mc:\\users\\wjwil\\anaconda3\\envs\\test_rules\\lib\\site-packages\\arelle\\ValidateXbrl.py\u001b[0m in \u001b[0;36mvalidate\u001b[1;34m(self, modelXbrl, parameters)\u001b[0m\n\u001b[0;32m    516\u001b[0m                                            else _(\"compiling rendering tables\")),\n\u001b[0;32m    517\u001b[0m                                      \u001b[1;31m# block executing formulas when validating if hasFormula is False (e.g., --formula=none)\u001b[0m\u001b[1;33m\u001b[0m\u001b[1;33m\u001b[0m\u001b[1;33m\u001b[0m\u001b[0m\n\u001b[1;32m--> 518\u001b[1;33m                                      compileOnly=modelXbrl.modelRenderingTables and not modelXbrl.hasFormulae)\n\u001b[0m\u001b[0;32m    519\u001b[0m \u001b[1;33m\u001b[0m\u001b[0m\n\u001b[0;32m    520\u001b[0m         \u001b[1;32mfor\u001b[0m \u001b[0mpluginXbrlMethod\u001b[0m \u001b[1;32min\u001b[0m \u001b[0mpluginClassMethods\u001b[0m\u001b[1;33m(\u001b[0m\u001b[1;34m\"Validate.Finally\"\u001b[0m\u001b[1;33m)\u001b[0m\u001b[1;33m:\u001b[0m\u001b[1;33m\u001b[0m\u001b[1;33m\u001b[0m\u001b[0m\n",
      "\u001b[1;32mc:\\users\\wjwil\\anaconda3\\envs\\test_rules\\lib\\site-packages\\arelle\\ValidateFormula.py\u001b[0m in \u001b[0;36mvalidate\u001b[1;34m(val, xpathContext, parametersOnly, statusMsg, compileOnly)\u001b[0m\n\u001b[0;32m    908\u001b[0m                             \u001b[0mval\u001b[0m\u001b[1;33m.\u001b[0m\u001b[0mmodelXbrl\u001b[0m\u001b[1;33m.\u001b[0m\u001b[0mmodelManager\u001b[0m\u001b[1;33m.\u001b[0m\u001b[0mshowStatus\u001b[0m\u001b[1;33m(\u001b[0m\u001b[0m_\u001b[0m\u001b[1;33m(\u001b[0m\u001b[1;34m\"evaluating {0}\"\u001b[0m\u001b[1;33m)\u001b[0m\u001b[1;33m.\u001b[0m\u001b[0mformat\u001b[0m\u001b[1;33m(\u001b[0m\u001b[0mvarSetId\u001b[0m\u001b[1;33m)\u001b[0m\u001b[1;33m)\u001b[0m\u001b[1;33m\u001b[0m\u001b[1;33m\u001b[0m\u001b[0m\n\u001b[0;32m    909\u001b[0m                             \u001b[0mval\u001b[0m\u001b[1;33m.\u001b[0m\u001b[0mmodelXbrl\u001b[0m\u001b[1;33m.\u001b[0m\u001b[0mprofileActivity\u001b[0m\u001b[1;33m(\u001b[0m\u001b[1;34m\"... evaluating \"\u001b[0m \u001b[1;33m+\u001b[0m \u001b[0mvarSetId\u001b[0m\u001b[1;33m,\u001b[0m \u001b[0mminTimeToShow\u001b[0m\u001b[1;33m=\u001b[0m\u001b[1;36m1.0\u001b[0m\u001b[1;33m)\u001b[0m\u001b[1;33m\u001b[0m\u001b[1;33m\u001b[0m\u001b[0m\n\u001b[1;32m--> 910\u001b[1;33m                             \u001b[0mevaluate\u001b[0m\u001b[1;33m(\u001b[0m\u001b[0mxpathContext\u001b[0m\u001b[1;33m,\u001b[0m \u001b[0mmodelVariableSet\u001b[0m\u001b[1;33m)\u001b[0m\u001b[1;33m\u001b[0m\u001b[1;33m\u001b[0m\u001b[0m\n\u001b[0m\u001b[0;32m    911\u001b[0m                             \u001b[0mval\u001b[0m\u001b[1;33m.\u001b[0m\u001b[0mmodelXbrl\u001b[0m\u001b[1;33m.\u001b[0m\u001b[0mprofileStat\u001b[0m\u001b[1;33m(\u001b[0m\u001b[0mmodelVariableSet\u001b[0m\u001b[1;33m.\u001b[0m\u001b[0mlocalName\u001b[0m \u001b[1;33m+\u001b[0m \u001b[1;34m\"_\"\u001b[0m \u001b[1;33m+\u001b[0m \u001b[0mvarSetId\u001b[0m\u001b[1;33m)\u001b[0m\u001b[1;33m\u001b[0m\u001b[1;33m\u001b[0m\u001b[0m\n\u001b[0;32m    912\u001b[0m                         \u001b[1;32mexcept\u001b[0m \u001b[0mXPathContext\u001b[0m\u001b[1;33m.\u001b[0m\u001b[0mXPathException\u001b[0m \u001b[1;32mas\u001b[0m \u001b[0merr\u001b[0m\u001b[1;33m:\u001b[0m\u001b[1;33m\u001b[0m\u001b[1;33m\u001b[0m\u001b[0m\n",
      "\u001b[1;32mc:\\users\\wjwil\\anaconda3\\envs\\test_rules\\lib\\site-packages\\arelle\\FormulaEvaluator.py\u001b[0m in \u001b[0;36mevaluate\u001b[1;34m(xpCtx, varSet, variablesInScope, uncoveredAspectFacts)\u001b[0m\n\u001b[0;32m     49\u001b[0m         \u001b[0mvarSet\u001b[0m\u001b[1;33m.\u001b[0m\u001b[0mevaluationNumber\u001b[0m \u001b[1;33m=\u001b[0m \u001b[1;36m0\u001b[0m\u001b[1;33m\u001b[0m\u001b[1;33m\u001b[0m\u001b[0m\n\u001b[0;32m     50\u001b[0m         \u001b[0minitialTraceCount\u001b[0m \u001b[1;33m=\u001b[0m \u001b[0mxpCtx\u001b[0m\u001b[1;33m.\u001b[0m\u001b[0mmodelXbrl\u001b[0m\u001b[1;33m.\u001b[0m\u001b[0mlogCount\u001b[0m\u001b[1;33m.\u001b[0m\u001b[0mget\u001b[0m\u001b[1;33m(\u001b[0m\u001b[0mlogging\u001b[0m\u001b[1;33m.\u001b[0m\u001b[0mgetLevelName\u001b[0m\u001b[1;33m(\u001b[0m\u001b[1;34m'INFO'\u001b[0m\u001b[1;33m)\u001b[0m\u001b[1;33m,\u001b[0m \u001b[1;36m0\u001b[0m\u001b[1;33m)\u001b[0m\u001b[1;33m\u001b[0m\u001b[1;33m\u001b[0m\u001b[0m\n\u001b[1;32m---> 51\u001b[1;33m         \u001b[0mevaluateVar\u001b[0m\u001b[1;33m(\u001b[0m\u001b[0mxpCtx\u001b[0m\u001b[1;33m,\u001b[0m \u001b[0mvarSet\u001b[0m\u001b[1;33m,\u001b[0m \u001b[1;36m0\u001b[0m\u001b[1;33m,\u001b[0m \u001b[1;33m{\u001b[0m\u001b[1;33m}\u001b[0m\u001b[1;33m,\u001b[0m \u001b[0muncoveredAspectFacts\u001b[0m\u001b[1;33m)\u001b[0m\u001b[1;33m\u001b[0m\u001b[1;33m\u001b[0m\u001b[0m\n\u001b[0m\u001b[0;32m     52\u001b[0m         \u001b[1;32mif\u001b[0m \u001b[0misinstance\u001b[0m\u001b[1;33m(\u001b[0m\u001b[0mvarSet\u001b[0m\u001b[1;33m,\u001b[0m \u001b[0mModelExistenceAssertion\u001b[0m\u001b[1;33m)\u001b[0m\u001b[1;33m:\u001b[0m\u001b[1;33m\u001b[0m\u001b[1;33m\u001b[0m\u001b[0m\n\u001b[0;32m     53\u001b[0m             \u001b[0mprog\u001b[0m \u001b[1;33m=\u001b[0m \u001b[0mvarSet\u001b[0m\u001b[1;33m.\u001b[0m\u001b[0mtestProg\u001b[0m\u001b[1;33m\u001b[0m\u001b[1;33m\u001b[0m\u001b[0m\n",
      "\u001b[1;32mc:\\users\\wjwil\\anaconda3\\envs\\test_rules\\lib\\site-packages\\arelle\\FormulaEvaluator.py\u001b[0m in \u001b[0;36mevaluateVar\u001b[1;34m(xpCtx, varSet, varIndex, cachedFilteredFacts, uncoveredAspectFacts)\u001b[0m\n\u001b[0;32m    420\u001b[0m                      modelObject=var, variableType=vb.resourceElementName, variable=varQname, result=str(evaluationResult))\n\u001b[0;32m    421\u001b[0m             \u001b[1;32mif\u001b[0m \u001b[0mxpCtx\u001b[0m\u001b[1;33m.\u001b[0m\u001b[0misRunTimeExceeded\u001b[0m\u001b[1;33m:\u001b[0m \u001b[1;32mraise\u001b[0m \u001b[0mXPathContext\u001b[0m\u001b[1;33m.\u001b[0m\u001b[0mRunTimeExceededException\u001b[0m\u001b[1;33m(\u001b[0m\u001b[1;33m)\u001b[0m\u001b[1;33m\u001b[0m\u001b[1;33m\u001b[0m\u001b[0m\n\u001b[1;32m--> 422\u001b[1;33m             \u001b[0mevaluateVar\u001b[0m\u001b[1;33m(\u001b[0m\u001b[0mxpCtx\u001b[0m\u001b[1;33m,\u001b[0m \u001b[0mvarSet\u001b[0m\u001b[1;33m,\u001b[0m \u001b[0mvarIndex\u001b[0m \u001b[1;33m+\u001b[0m \u001b[1;36m1\u001b[0m\u001b[1;33m,\u001b[0m \u001b[0mcachedFilteredFacts\u001b[0m\u001b[1;33m,\u001b[0m \u001b[0muncoveredAspectFacts\u001b[0m\u001b[1;33m)\u001b[0m\u001b[1;33m\u001b[0m\u001b[1;33m\u001b[0m\u001b[0m\n\u001b[0m\u001b[0;32m    423\u001b[0m             \u001b[0mxpCtx\u001b[0m\u001b[1;33m.\u001b[0m\u001b[0minScopeVars\u001b[0m\u001b[1;33m.\u001b[0m\u001b[0mpop\u001b[0m\u001b[1;33m(\u001b[0m\u001b[0mvarQname\u001b[0m\u001b[1;33m)\u001b[0m\u001b[1;33m\u001b[0m\u001b[1;33m\u001b[0m\u001b[0m\n\u001b[0;32m    424\u001b[0m             \u001b[1;32mif\u001b[0m \u001b[0moverriddenInScopeVar\u001b[0m \u001b[1;32mis\u001b[0m \u001b[1;32mnot\u001b[0m \u001b[1;32mNone\u001b[0m\u001b[1;33m:\u001b[0m  \u001b[1;31m# restore overridden value if there was one\u001b[0m\u001b[1;33m\u001b[0m\u001b[1;33m\u001b[0m\u001b[0m\n",
      "\u001b[1;32mc:\\users\\wjwil\\anaconda3\\envs\\test_rules\\lib\\site-packages\\arelle\\FormulaEvaluator.py\u001b[0m in \u001b[0;36mevaluateVar\u001b[1;34m(xpCtx, varSet, varIndex, cachedFilteredFacts, uncoveredAspectFacts)\u001b[0m\n\u001b[0;32m    420\u001b[0m                      modelObject=var, variableType=vb.resourceElementName, variable=varQname, result=str(evaluationResult))\n\u001b[0;32m    421\u001b[0m             \u001b[1;32mif\u001b[0m \u001b[0mxpCtx\u001b[0m\u001b[1;33m.\u001b[0m\u001b[0misRunTimeExceeded\u001b[0m\u001b[1;33m:\u001b[0m \u001b[1;32mraise\u001b[0m \u001b[0mXPathContext\u001b[0m\u001b[1;33m.\u001b[0m\u001b[0mRunTimeExceededException\u001b[0m\u001b[1;33m(\u001b[0m\u001b[1;33m)\u001b[0m\u001b[1;33m\u001b[0m\u001b[1;33m\u001b[0m\u001b[0m\n\u001b[1;32m--> 422\u001b[1;33m             \u001b[0mevaluateVar\u001b[0m\u001b[1;33m(\u001b[0m\u001b[0mxpCtx\u001b[0m\u001b[1;33m,\u001b[0m \u001b[0mvarSet\u001b[0m\u001b[1;33m,\u001b[0m \u001b[0mvarIndex\u001b[0m \u001b[1;33m+\u001b[0m \u001b[1;36m1\u001b[0m\u001b[1;33m,\u001b[0m \u001b[0mcachedFilteredFacts\u001b[0m\u001b[1;33m,\u001b[0m \u001b[0muncoveredAspectFacts\u001b[0m\u001b[1;33m)\u001b[0m\u001b[1;33m\u001b[0m\u001b[1;33m\u001b[0m\u001b[0m\n\u001b[0m\u001b[0;32m    423\u001b[0m             \u001b[0mxpCtx\u001b[0m\u001b[1;33m.\u001b[0m\u001b[0minScopeVars\u001b[0m\u001b[1;33m.\u001b[0m\u001b[0mpop\u001b[0m\u001b[1;33m(\u001b[0m\u001b[0mvarQname\u001b[0m\u001b[1;33m)\u001b[0m\u001b[1;33m\u001b[0m\u001b[1;33m\u001b[0m\u001b[0m\n\u001b[0;32m    424\u001b[0m             \u001b[1;32mif\u001b[0m \u001b[0moverriddenInScopeVar\u001b[0m \u001b[1;32mis\u001b[0m \u001b[1;32mnot\u001b[0m \u001b[1;32mNone\u001b[0m\u001b[1;33m:\u001b[0m  \u001b[1;31m# restore overridden value if there was one\u001b[0m\u001b[1;33m\u001b[0m\u001b[1;33m\u001b[0m\u001b[0m\n",
      "\u001b[1;32mc:\\users\\wjwil\\anaconda3\\envs\\test_rules\\lib\\site-packages\\arelle\\FormulaEvaluator.py\u001b[0m in \u001b[0;36mevaluateVar\u001b[1;34m(xpCtx, varSet, varIndex, cachedFilteredFacts, uncoveredAspectFacts)\u001b[0m\n\u001b[0;32m    420\u001b[0m                      modelObject=var, variableType=vb.resourceElementName, variable=varQname, result=str(evaluationResult))\n\u001b[0;32m    421\u001b[0m             \u001b[1;32mif\u001b[0m \u001b[0mxpCtx\u001b[0m\u001b[1;33m.\u001b[0m\u001b[0misRunTimeExceeded\u001b[0m\u001b[1;33m:\u001b[0m \u001b[1;32mraise\u001b[0m \u001b[0mXPathContext\u001b[0m\u001b[1;33m.\u001b[0m\u001b[0mRunTimeExceededException\u001b[0m\u001b[1;33m(\u001b[0m\u001b[1;33m)\u001b[0m\u001b[1;33m\u001b[0m\u001b[1;33m\u001b[0m\u001b[0m\n\u001b[1;32m--> 422\u001b[1;33m             \u001b[0mevaluateVar\u001b[0m\u001b[1;33m(\u001b[0m\u001b[0mxpCtx\u001b[0m\u001b[1;33m,\u001b[0m \u001b[0mvarSet\u001b[0m\u001b[1;33m,\u001b[0m \u001b[0mvarIndex\u001b[0m \u001b[1;33m+\u001b[0m \u001b[1;36m1\u001b[0m\u001b[1;33m,\u001b[0m \u001b[0mcachedFilteredFacts\u001b[0m\u001b[1;33m,\u001b[0m \u001b[0muncoveredAspectFacts\u001b[0m\u001b[1;33m)\u001b[0m\u001b[1;33m\u001b[0m\u001b[1;33m\u001b[0m\u001b[0m\n\u001b[0m\u001b[0;32m    423\u001b[0m             \u001b[0mxpCtx\u001b[0m\u001b[1;33m.\u001b[0m\u001b[0minScopeVars\u001b[0m\u001b[1;33m.\u001b[0m\u001b[0mpop\u001b[0m\u001b[1;33m(\u001b[0m\u001b[0mvarQname\u001b[0m\u001b[1;33m)\u001b[0m\u001b[1;33m\u001b[0m\u001b[1;33m\u001b[0m\u001b[0m\n\u001b[0;32m    424\u001b[0m             \u001b[1;32mif\u001b[0m \u001b[0moverriddenInScopeVar\u001b[0m \u001b[1;32mis\u001b[0m \u001b[1;32mnot\u001b[0m \u001b[1;32mNone\u001b[0m\u001b[1;33m:\u001b[0m  \u001b[1;31m# restore overridden value if there was one\u001b[0m\u001b[1;33m\u001b[0m\u001b[1;33m\u001b[0m\u001b[0m\n",
      "\u001b[1;32mc:\\users\\wjwil\\anaconda3\\envs\\test_rules\\lib\\site-packages\\arelle\\FormulaEvaluator.py\u001b[0m in \u001b[0;36mevaluateVar\u001b[1;34m(xpCtx, varSet, varIndex, cachedFilteredFacts, uncoveredAspectFacts)\u001b[0m\n\u001b[0;32m    420\u001b[0m                      modelObject=var, variableType=vb.resourceElementName, variable=varQname, result=str(evaluationResult))\n\u001b[0;32m    421\u001b[0m             \u001b[1;32mif\u001b[0m \u001b[0mxpCtx\u001b[0m\u001b[1;33m.\u001b[0m\u001b[0misRunTimeExceeded\u001b[0m\u001b[1;33m:\u001b[0m \u001b[1;32mraise\u001b[0m \u001b[0mXPathContext\u001b[0m\u001b[1;33m.\u001b[0m\u001b[0mRunTimeExceededException\u001b[0m\u001b[1;33m(\u001b[0m\u001b[1;33m)\u001b[0m\u001b[1;33m\u001b[0m\u001b[1;33m\u001b[0m\u001b[0m\n\u001b[1;32m--> 422\u001b[1;33m             \u001b[0mevaluateVar\u001b[0m\u001b[1;33m(\u001b[0m\u001b[0mxpCtx\u001b[0m\u001b[1;33m,\u001b[0m \u001b[0mvarSet\u001b[0m\u001b[1;33m,\u001b[0m \u001b[0mvarIndex\u001b[0m \u001b[1;33m+\u001b[0m \u001b[1;36m1\u001b[0m\u001b[1;33m,\u001b[0m \u001b[0mcachedFilteredFacts\u001b[0m\u001b[1;33m,\u001b[0m \u001b[0muncoveredAspectFacts\u001b[0m\u001b[1;33m)\u001b[0m\u001b[1;33m\u001b[0m\u001b[1;33m\u001b[0m\u001b[0m\n\u001b[0m\u001b[0;32m    423\u001b[0m             \u001b[0mxpCtx\u001b[0m\u001b[1;33m.\u001b[0m\u001b[0minScopeVars\u001b[0m\u001b[1;33m.\u001b[0m\u001b[0mpop\u001b[0m\u001b[1;33m(\u001b[0m\u001b[0mvarQname\u001b[0m\u001b[1;33m)\u001b[0m\u001b[1;33m\u001b[0m\u001b[1;33m\u001b[0m\u001b[0m\n\u001b[0;32m    424\u001b[0m             \u001b[1;32mif\u001b[0m \u001b[0moverriddenInScopeVar\u001b[0m \u001b[1;32mis\u001b[0m \u001b[1;32mnot\u001b[0m \u001b[1;32mNone\u001b[0m\u001b[1;33m:\u001b[0m  \u001b[1;31m# restore overridden value if there was one\u001b[0m\u001b[1;33m\u001b[0m\u001b[1;33m\u001b[0m\u001b[0m\n",
      "\u001b[1;32mc:\\users\\wjwil\\anaconda3\\envs\\test_rules\\lib\\site-packages\\arelle\\FormulaEvaluator.py\u001b[0m in \u001b[0;36mevaluateVar\u001b[1;34m(xpCtx, varSet, varIndex, cachedFilteredFacts, uncoveredAspectFacts)\u001b[0m\n\u001b[0;32m    420\u001b[0m                      modelObject=var, variableType=vb.resourceElementName, variable=varQname, result=str(evaluationResult))\n\u001b[0;32m    421\u001b[0m             \u001b[1;32mif\u001b[0m \u001b[0mxpCtx\u001b[0m\u001b[1;33m.\u001b[0m\u001b[0misRunTimeExceeded\u001b[0m\u001b[1;33m:\u001b[0m \u001b[1;32mraise\u001b[0m \u001b[0mXPathContext\u001b[0m\u001b[1;33m.\u001b[0m\u001b[0mRunTimeExceededException\u001b[0m\u001b[1;33m(\u001b[0m\u001b[1;33m)\u001b[0m\u001b[1;33m\u001b[0m\u001b[1;33m\u001b[0m\u001b[0m\n\u001b[1;32m--> 422\u001b[1;33m             \u001b[0mevaluateVar\u001b[0m\u001b[1;33m(\u001b[0m\u001b[0mxpCtx\u001b[0m\u001b[1;33m,\u001b[0m \u001b[0mvarSet\u001b[0m\u001b[1;33m,\u001b[0m \u001b[0mvarIndex\u001b[0m \u001b[1;33m+\u001b[0m \u001b[1;36m1\u001b[0m\u001b[1;33m,\u001b[0m \u001b[0mcachedFilteredFacts\u001b[0m\u001b[1;33m,\u001b[0m \u001b[0muncoveredAspectFacts\u001b[0m\u001b[1;33m)\u001b[0m\u001b[1;33m\u001b[0m\u001b[1;33m\u001b[0m\u001b[0m\n\u001b[0m\u001b[0;32m    423\u001b[0m             \u001b[0mxpCtx\u001b[0m\u001b[1;33m.\u001b[0m\u001b[0minScopeVars\u001b[0m\u001b[1;33m.\u001b[0m\u001b[0mpop\u001b[0m\u001b[1;33m(\u001b[0m\u001b[0mvarQname\u001b[0m\u001b[1;33m)\u001b[0m\u001b[1;33m\u001b[0m\u001b[1;33m\u001b[0m\u001b[0m\n\u001b[0;32m    424\u001b[0m             \u001b[1;32mif\u001b[0m \u001b[0moverriddenInScopeVar\u001b[0m \u001b[1;32mis\u001b[0m \u001b[1;32mnot\u001b[0m \u001b[1;32mNone\u001b[0m\u001b[1;33m:\u001b[0m  \u001b[1;31m# restore overridden value if there was one\u001b[0m\u001b[1;33m\u001b[0m\u001b[1;33m\u001b[0m\u001b[0m\n",
      "\u001b[1;32mc:\\users\\wjwil\\anaconda3\\envs\\test_rules\\lib\\site-packages\\arelle\\FormulaEvaluator.py\u001b[0m in \u001b[0;36mevaluateVar\u001b[1;34m(xpCtx, varSet, varIndex, cachedFilteredFacts, uncoveredAspectFacts)\u001b[0m\n\u001b[0;32m    420\u001b[0m                      modelObject=var, variableType=vb.resourceElementName, variable=varQname, result=str(evaluationResult))\n\u001b[0;32m    421\u001b[0m             \u001b[1;32mif\u001b[0m \u001b[0mxpCtx\u001b[0m\u001b[1;33m.\u001b[0m\u001b[0misRunTimeExceeded\u001b[0m\u001b[1;33m:\u001b[0m \u001b[1;32mraise\u001b[0m \u001b[0mXPathContext\u001b[0m\u001b[1;33m.\u001b[0m\u001b[0mRunTimeExceededException\u001b[0m\u001b[1;33m(\u001b[0m\u001b[1;33m)\u001b[0m\u001b[1;33m\u001b[0m\u001b[1;33m\u001b[0m\u001b[0m\n\u001b[1;32m--> 422\u001b[1;33m             \u001b[0mevaluateVar\u001b[0m\u001b[1;33m(\u001b[0m\u001b[0mxpCtx\u001b[0m\u001b[1;33m,\u001b[0m \u001b[0mvarSet\u001b[0m\u001b[1;33m,\u001b[0m \u001b[0mvarIndex\u001b[0m \u001b[1;33m+\u001b[0m \u001b[1;36m1\u001b[0m\u001b[1;33m,\u001b[0m \u001b[0mcachedFilteredFacts\u001b[0m\u001b[1;33m,\u001b[0m \u001b[0muncoveredAspectFacts\u001b[0m\u001b[1;33m)\u001b[0m\u001b[1;33m\u001b[0m\u001b[1;33m\u001b[0m\u001b[0m\n\u001b[0m\u001b[0;32m    423\u001b[0m             \u001b[0mxpCtx\u001b[0m\u001b[1;33m.\u001b[0m\u001b[0minScopeVars\u001b[0m\u001b[1;33m.\u001b[0m\u001b[0mpop\u001b[0m\u001b[1;33m(\u001b[0m\u001b[0mvarQname\u001b[0m\u001b[1;33m)\u001b[0m\u001b[1;33m\u001b[0m\u001b[1;33m\u001b[0m\u001b[0m\n\u001b[0;32m    424\u001b[0m             \u001b[1;32mif\u001b[0m \u001b[0moverriddenInScopeVar\u001b[0m \u001b[1;32mis\u001b[0m \u001b[1;32mnot\u001b[0m \u001b[1;32mNone\u001b[0m\u001b[1;33m:\u001b[0m  \u001b[1;31m# restore overridden value if there was one\u001b[0m\u001b[1;33m\u001b[0m\u001b[1;33m\u001b[0m\u001b[0m\n",
      "\u001b[1;32mc:\\users\\wjwil\\anaconda3\\envs\\test_rules\\lib\\site-packages\\arelle\\FormulaEvaluator.py\u001b[0m in \u001b[0;36mevaluateVar\u001b[1;34m(xpCtx, varSet, varIndex, cachedFilteredFacts, uncoveredAspectFacts)\u001b[0m\n\u001b[0;32m    420\u001b[0m                      modelObject=var, variableType=vb.resourceElementName, variable=varQname, result=str(evaluationResult))\n\u001b[0;32m    421\u001b[0m             \u001b[1;32mif\u001b[0m \u001b[0mxpCtx\u001b[0m\u001b[1;33m.\u001b[0m\u001b[0misRunTimeExceeded\u001b[0m\u001b[1;33m:\u001b[0m \u001b[1;32mraise\u001b[0m \u001b[0mXPathContext\u001b[0m\u001b[1;33m.\u001b[0m\u001b[0mRunTimeExceededException\u001b[0m\u001b[1;33m(\u001b[0m\u001b[1;33m)\u001b[0m\u001b[1;33m\u001b[0m\u001b[1;33m\u001b[0m\u001b[0m\n\u001b[1;32m--> 422\u001b[1;33m             \u001b[0mevaluateVar\u001b[0m\u001b[1;33m(\u001b[0m\u001b[0mxpCtx\u001b[0m\u001b[1;33m,\u001b[0m \u001b[0mvarSet\u001b[0m\u001b[1;33m,\u001b[0m \u001b[0mvarIndex\u001b[0m \u001b[1;33m+\u001b[0m \u001b[1;36m1\u001b[0m\u001b[1;33m,\u001b[0m \u001b[0mcachedFilteredFacts\u001b[0m\u001b[1;33m,\u001b[0m \u001b[0muncoveredAspectFacts\u001b[0m\u001b[1;33m)\u001b[0m\u001b[1;33m\u001b[0m\u001b[1;33m\u001b[0m\u001b[0m\n\u001b[0m\u001b[0;32m    423\u001b[0m             \u001b[0mxpCtx\u001b[0m\u001b[1;33m.\u001b[0m\u001b[0minScopeVars\u001b[0m\u001b[1;33m.\u001b[0m\u001b[0mpop\u001b[0m\u001b[1;33m(\u001b[0m\u001b[0mvarQname\u001b[0m\u001b[1;33m)\u001b[0m\u001b[1;33m\u001b[0m\u001b[1;33m\u001b[0m\u001b[0m\n\u001b[0;32m    424\u001b[0m             \u001b[1;32mif\u001b[0m \u001b[0moverriddenInScopeVar\u001b[0m \u001b[1;32mis\u001b[0m \u001b[1;32mnot\u001b[0m \u001b[1;32mNone\u001b[0m\u001b[1;33m:\u001b[0m  \u001b[1;31m# restore overridden value if there was one\u001b[0m\u001b[1;33m\u001b[0m\u001b[1;33m\u001b[0m\u001b[0m\n",
      "\u001b[1;32mc:\\users\\wjwil\\anaconda3\\envs\\test_rules\\lib\\site-packages\\arelle\\FormulaEvaluator.py\u001b[0m in \u001b[0;36mevaluateVar\u001b[1;34m(xpCtx, varSet, varIndex, cachedFilteredFacts, uncoveredAspectFacts)\u001b[0m\n\u001b[0;32m    420\u001b[0m                      modelObject=var, variableType=vb.resourceElementName, variable=varQname, result=str(evaluationResult))\n\u001b[0;32m    421\u001b[0m             \u001b[1;32mif\u001b[0m \u001b[0mxpCtx\u001b[0m\u001b[1;33m.\u001b[0m\u001b[0misRunTimeExceeded\u001b[0m\u001b[1;33m:\u001b[0m \u001b[1;32mraise\u001b[0m \u001b[0mXPathContext\u001b[0m\u001b[1;33m.\u001b[0m\u001b[0mRunTimeExceededException\u001b[0m\u001b[1;33m(\u001b[0m\u001b[1;33m)\u001b[0m\u001b[1;33m\u001b[0m\u001b[1;33m\u001b[0m\u001b[0m\n\u001b[1;32m--> 422\u001b[1;33m             \u001b[0mevaluateVar\u001b[0m\u001b[1;33m(\u001b[0m\u001b[0mxpCtx\u001b[0m\u001b[1;33m,\u001b[0m \u001b[0mvarSet\u001b[0m\u001b[1;33m,\u001b[0m \u001b[0mvarIndex\u001b[0m \u001b[1;33m+\u001b[0m \u001b[1;36m1\u001b[0m\u001b[1;33m,\u001b[0m \u001b[0mcachedFilteredFacts\u001b[0m\u001b[1;33m,\u001b[0m \u001b[0muncoveredAspectFacts\u001b[0m\u001b[1;33m)\u001b[0m\u001b[1;33m\u001b[0m\u001b[1;33m\u001b[0m\u001b[0m\n\u001b[0m\u001b[0;32m    423\u001b[0m             \u001b[0mxpCtx\u001b[0m\u001b[1;33m.\u001b[0m\u001b[0minScopeVars\u001b[0m\u001b[1;33m.\u001b[0m\u001b[0mpop\u001b[0m\u001b[1;33m(\u001b[0m\u001b[0mvarQname\u001b[0m\u001b[1;33m)\u001b[0m\u001b[1;33m\u001b[0m\u001b[1;33m\u001b[0m\u001b[0m\n\u001b[0;32m    424\u001b[0m             \u001b[1;32mif\u001b[0m \u001b[0moverriddenInScopeVar\u001b[0m \u001b[1;32mis\u001b[0m \u001b[1;32mnot\u001b[0m \u001b[1;32mNone\u001b[0m\u001b[1;33m:\u001b[0m  \u001b[1;31m# restore overridden value if there was one\u001b[0m\u001b[1;33m\u001b[0m\u001b[1;33m\u001b[0m\u001b[0m\n",
      "\u001b[1;32mc:\\users\\wjwil\\anaconda3\\envs\\test_rules\\lib\\site-packages\\arelle\\FormulaEvaluator.py\u001b[0m in \u001b[0;36mevaluateVar\u001b[1;34m(xpCtx, varSet, varIndex, cachedFilteredFacts, uncoveredAspectFacts)\u001b[0m\n\u001b[0;32m    153\u001b[0m                 \u001b[0mvarSet\u001b[0m\u001b[1;33m.\u001b[0m\u001b[0mtimeEvaluationStarted\u001b[0m \u001b[1;33m=\u001b[0m \u001b[0mnow\u001b[0m\u001b[1;33m\u001b[0m\u001b[1;33m\u001b[0m\u001b[0m\n\u001b[0;32m    154\u001b[0m             \u001b[1;32mif\u001b[0m \u001b[0mxpCtx\u001b[0m\u001b[1;33m.\u001b[0m\u001b[0misRunTimeExceeded\u001b[0m\u001b[1;33m:\u001b[0m \u001b[1;32mraise\u001b[0m \u001b[0mXPathContext\u001b[0m\u001b[1;33m.\u001b[0m\u001b[0mRunTimeExceededException\u001b[0m\u001b[1;33m(\u001b[0m\u001b[1;33m)\u001b[0m\u001b[1;33m\u001b[0m\u001b[1;33m\u001b[0m\u001b[0m\n\u001b[1;32m--> 155\u001b[1;33m             \u001b[0mxpCtx\u001b[0m\u001b[1;33m.\u001b[0m\u001b[0mmodelXbrl\u001b[0m\u001b[1;33m.\u001b[0m\u001b[0mprofileActivity\u001b[0m\u001b[1;33m(\u001b[0m\u001b[1;34m\"...   evaluation {0} (skipped)\"\u001b[0m\u001b[1;33m.\u001b[0m\u001b[0mformat\u001b[0m\u001b[1;33m(\u001b[0m\u001b[0mvarSet\u001b[0m\u001b[1;33m.\u001b[0m\u001b[0mevaluationNumber\u001b[0m\u001b[1;33m)\u001b[0m\u001b[1;33m)\u001b[0m\u001b[1;33m\u001b[0m\u001b[1;33m\u001b[0m\u001b[0m\n\u001b[0m\u001b[0;32m    156\u001b[0m             \u001b[1;32mreturn\u001b[0m\u001b[1;33m\u001b[0m\u001b[1;33m\u001b[0m\u001b[0m\n\u001b[0;32m    157\u001b[0m         \u001b[0mxpCtx\u001b[0m\u001b[1;33m.\u001b[0m\u001b[0mmodelXbrl\u001b[0m\u001b[1;33m.\u001b[0m\u001b[0mprofileActivity\u001b[0m\u001b[1;33m(\u001b[0m\u001b[1;34m\"...   evaluation {0}\"\u001b[0m\u001b[1;33m.\u001b[0m\u001b[0mformat\u001b[0m\u001b[1;33m(\u001b[0m\u001b[0mvarSet\u001b[0m\u001b[1;33m.\u001b[0m\u001b[0mevaluationNumber\u001b[0m\u001b[1;33m)\u001b[0m\u001b[1;33m)\u001b[0m\u001b[1;33m\u001b[0m\u001b[1;33m\u001b[0m\u001b[0m\n",
      "\u001b[1;32mc:\\users\\wjwil\\anaconda3\\envs\\test_rules\\lib\\site-packages\\arelle\\ModelXbrl.py\u001b[0m in \u001b[0;36mprofileActivity\u001b[1;34m(self, activityCompleted, minTimeToShow)\u001b[0m\n\u001b[0;32m   1258\u001b[0m                             \u001b[0m_\u001b[0m\u001b[1;33m(\u001b[0m\u001b[1;34m\"%(activity)s %(time)s secs\\n\"\u001b[0m\u001b[1;33m)\u001b[0m\u001b[1;33m,\u001b[0m\u001b[1;33m\u001b[0m\u001b[1;33m\u001b[0m\u001b[0m\n\u001b[0;32m   1259\u001b[0m                             \u001b[0mmodelObject\u001b[0m\u001b[1;33m=\u001b[0m\u001b[0mself\u001b[0m\u001b[1;33m.\u001b[0m\u001b[0mmodelXbrl\u001b[0m\u001b[1;33m.\u001b[0m\u001b[0mmodelDocument\u001b[0m\u001b[1;33m,\u001b[0m \u001b[0mactivity\u001b[0m\u001b[1;33m=\u001b[0m\u001b[0mactivityCompleted\u001b[0m\u001b[1;33m,\u001b[0m\u001b[1;33m\u001b[0m\u001b[1;33m\u001b[0m\u001b[0m\n\u001b[1;32m-> 1260\u001b[1;33m                             time=format_string(self.modelManager.locale, \"%.3f\", timeTaken, grouping=True))\n\u001b[0m\u001b[0;32m   1261\u001b[0m         \u001b[1;32mexcept\u001b[0m \u001b[0mAttributeError\u001b[0m\u001b[1;33m:\u001b[0m\u001b[1;33m\u001b[0m\u001b[1;33m\u001b[0m\u001b[0m\n\u001b[0;32m   1262\u001b[0m             \u001b[1;32mpass\u001b[0m\u001b[1;33m\u001b[0m\u001b[1;33m\u001b[0m\u001b[0m\n",
      "\u001b[1;32mc:\\users\\wjwil\\anaconda3\\envs\\test_rules\\lib\\site-packages\\arelle\\Locale.py\u001b[0m in \u001b[0;36mformat_string\u001b[1;34m(conv, f, val, grouping)\u001b[0m\n\u001b[0;32m    400\u001b[0m     \u001b[0mbut\u001b[0m \u001b[0mtakes\u001b[0m \u001b[0mthe\u001b[0m \u001b[0mcurrent\u001b[0m \u001b[0mlocale\u001b[0m \u001b[0minto\u001b[0m \u001b[0maccount\u001b[0m\u001b[1;33m.\u001b[0m\u001b[1;33m\u001b[0m\u001b[1;33m\u001b[0m\u001b[0m\n\u001b[0;32m    401\u001b[0m     Grouping is applied if the third parameter is true.\"\"\"\n\u001b[1;32m--> 402\u001b[1;33m     \u001b[0mpercents\u001b[0m \u001b[1;33m=\u001b[0m \u001b[0mlist\u001b[0m\u001b[1;33m(\u001b[0m\u001b[0m_percent_re\u001b[0m\u001b[1;33m.\u001b[0m\u001b[0mfinditer\u001b[0m\u001b[1;33m(\u001b[0m\u001b[0mf\u001b[0m\u001b[1;33m)\u001b[0m\u001b[1;33m)\u001b[0m\u001b[1;33m\u001b[0m\u001b[1;33m\u001b[0m\u001b[0m\n\u001b[0m\u001b[0;32m    403\u001b[0m     \u001b[0mnew_f\u001b[0m \u001b[1;33m=\u001b[0m \u001b[0m_percent_re\u001b[0m\u001b[1;33m.\u001b[0m\u001b[0msub\u001b[0m\u001b[1;33m(\u001b[0m\u001b[1;34m'%s'\u001b[0m\u001b[1;33m,\u001b[0m \u001b[0mf\u001b[0m\u001b[1;33m)\u001b[0m\u001b[1;33m\u001b[0m\u001b[1;33m\u001b[0m\u001b[0m\n\u001b[0;32m    404\u001b[0m \u001b[1;33m\u001b[0m\u001b[0m\n",
      "\u001b[1;31mKeyboardInterrupt\u001b[0m: "
     ]
    }
   ],
   "source": [
    "modelmanager.validate()"
   ]
  },
  {
   "cell_type": "code",
   "execution_count": null,
   "metadata": {},
   "outputs": [],
   "source": []
  },
  {
   "cell_type": "code",
   "execution_count": null,
   "metadata": {},
   "outputs": [],
   "source": []
  }
 ],
 "metadata": {
  "kernelspec": {
   "display_name": "Python 3",
   "language": "python",
   "name": "python3"
  },
  "language_info": {
   "codemirror_mode": {
    "name": "ipython",
    "version": 3
   },
   "file_extension": ".py",
   "mimetype": "text/x-python",
   "name": "python",
   "nbconvert_exporter": "python",
   "pygments_lexer": "ipython3",
   "version": "3.6.10"
  }
 },
 "nbformat": 4,
 "nbformat_minor": 2
}

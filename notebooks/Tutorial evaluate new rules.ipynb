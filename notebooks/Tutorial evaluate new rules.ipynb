{
 "cells": [
  {
   "cell_type": "markdown",
   "metadata": {},
   "source": [
    "This tutorial describes how to evaluate new rules applicable to the assets and derivatives data."
   ]
  },
  {
   "cell_type": "code",
   "execution_count": 1,
   "metadata": {},
   "outputs": [],
   "source": [
    "from arelle import ModelManager, Cntlr, ModelFormulaObject, ModelXbrl, ViewFileFormulae, XbrlConst, ViewFileRenderedGrid\n",
    "from arelle import RenderingEvaluator "
   ]
  },
  {
   "cell_type": "code",
   "execution_count": 2,
   "metadata": {},
   "outputs": [],
   "source": [
    "import pandas as pd\n",
    "import numpy as np\n",
    "import math\n",
    "from os import listdir\n",
    "from os.path import join, isfile\n",
    "import re\n",
    "from src import Evaluator\n",
    "import logging\n",
    "import data_patterns"
   ]
  },
  {
   "cell_type": "code",
   "execution_count": 3,
   "metadata": {},
   "outputs": [],
   "source": [
    "DECIMALS = 0\n",
    "RULES_PATH = join('..', 'solvency2-rules')\n",
    "INSTANCES_DATA_PATH = join('..','data','instances','L0058_2020Q2') #path of folder with converted xbrl-instance data\n",
    "TEST_DATA_PATH = join('..', 'tests', 'data', 'demo') #path of folder with demo data\n",
    "RESULTS_PATH = join('..', 'results')\n",
    "DATA_PATH = join('..', 'data')\n",
    "logging.basicConfig(filename = join(RESULTS_PATH, 'rules.log'),level = logging.INFO, \n",
    "                    format='%(asctime)s - %(name)s - %(levelname)s - %(message)s')"
   ]
  },
  {
   "cell_type": "markdown",
   "metadata": {},
   "source": [
    "### Import rules"
   ]
  },
  {
   "cell_type": "markdown",
   "metadata": {},
   "source": [
    "We start with importing the new rules applicable to the assets and derivatives data. There are several sets of rules applicable to different templates:\n",
    "* S.06.02.01 (Information on positions held)\n",
    "* S.06.02.02 (Information on assets)\n",
    "* S.06.02.01 (Information on positions held) and S.06.02.02 (Information on assets)\n",
    "* S.08.01.01.01 (Information on positions held) and S2.08.01.01.02 (Information on derivatives)\n",
    "* S.08.01.01.02 (Information on derivatives)"
   ]
  },
  {
   "cell_type": "markdown",
   "metadata": {},
   "source": [
    "#### S06"
   ]
  },
  {
   "cell_type": "code",
   "execution_count": 4,
   "metadata": {},
   "outputs": [],
   "source": [
    "dfr_s06 = pd.read_excel(join(RULES_PATH,'S2_06_02.xlsx'))\n",
    "dfr_s06_2 = pd.read_excel(join(RULES_PATH,'S2_06_02_01_02.xlsx'))\n",
    "dfr_s06_1 = pd.read_excel(join(RULES_PATH,'S2_06_02_01_01.xlsx'))\n",
    "\n",
    "#Capitalize row-column references:\n",
    "column_replace = set([column for sublist in [row for row in dfr_s06['pandas ex'].str.findall(r'c\\d\\d\\d\\d')] for column in sublist])\n",
    "for ref in column_replace:\n",
    "    dfr_s06.replace(to_replace=ref, value=ref.capitalize(), inplace=True, regex=True)\n",
    "column_replace = set([column for sublist in [row for row in dfr_s06_2['pandas ex'].str.findall(r'c\\d\\d\\d\\d')] for column in sublist])\n",
    "for ref in column_replace:\n",
    "    dfr_s06_2.replace(to_replace=ref, value=ref.capitalize(), inplace=True, regex=True)\n",
    "column_replace = set([column for sublist in [row for row in dfr_s06_1['pandas ex'].str.findall(r'c\\d\\d\\d\\d')] for column in sublist])\n",
    "for ref in column_replace:\n",
    "    dfr_s06_1.replace(to_replace=ref, value=ref.capitalize(), inplace=True, regex=True)"
   ]
  },
  {
   "cell_type": "markdown",
   "metadata": {},
   "source": [
    "#### S08"
   ]
  },
  {
   "cell_type": "code",
   "execution_count": 5,
   "metadata": {},
   "outputs": [],
   "source": [
    "dfr_s08 = pd.read_excel(join(RULES_PATH,'S2_08_01_01.xlsx'))\n",
    "dfr_s08_2 = pd.read_excel(join(RULES_PATH,'S2_08_01_01_02.xlsx'))\n",
    "\n",
    "#Capitalize row-column references:\n",
    "column_replace = set([column for sublist in [row for row in dfr_s08['pandas ex'].str.findall(r'c\\d\\d\\d\\d')] for column in sublist])\n",
    "for ref in column_replace:\n",
    "    dfr_s08.replace(to_replace=ref, value=ref.capitalize(), inplace=True, regex=True)\n",
    "column_replace = set([column for sublist in [row for row in dfr_s08_2['pandas ex'].str.findall(r'c\\d\\d\\d\\d')] for column in sublist])\n",
    "for ref in column_replace:\n",
    "    dfr_s08_2.replace(to_replace=ref, value=ref.capitalize(), inplace=True, regex=True)"
   ]
  },
  {
   "cell_type": "markdown",
   "metadata": {},
   "source": [
    "### Import templates"
   ]
  },
  {
   "cell_type": "markdown",
   "metadata": {},
   "source": [
    "Next we import the reporting data. In the tutorial 'Convert XBRL-instances to CSV, HTML and pickles' the XBRL-instances are converted to pickle files per template. The pickle files are written to the data/instances folder. We import these pickle files. We merge dataframes for the sets of rules that are applicable to two templates. For the sake of simplicity we only import the Quarterly Solvency II reporting Solo (QRS) templates."
   ]
  },
  {
   "cell_type": "markdown",
   "metadata": {},
   "source": [
    "#### S06"
   ]
  },
  {
   "cell_type": "markdown",
   "metadata": {},
   "source": [
    "Import data and make index unique if necessary"
   ]
  },
  {
   "cell_type": "code",
   "execution_count": 6,
   "metadata": {},
   "outputs": [],
   "source": [
    "# df_s06_1 = pd.read_pickle(join(INSTANCES_DATA_PATH,'S.06.02.01.01.pickle')).reset_index()\n",
    "# df_s06_1['S.06.02.01.01,C0040A'] = df_s06_1['S.06.02.01.01,C0040']\n",
    "# listt=list(df_s06_1['S.06.02.01.01,C0040A'])\n",
    "# for i in listt:\n",
    "#     lenn = len(df_s06_1[df_s06_1['S.06.02.01.01,C0040A']==i])\n",
    "#     if lenn > 1:\n",
    "#         list_ind = list(df_s06_1.loc[df_s06_1['S.06.02.01.01,C0040A']==i].index)\n",
    "#         temp = 0\n",
    "#         for j in list_ind[1:]:\n",
    "#             temp=temp+1\n",
    "#             df_s06_1['S.06.02.01.01,C0040A'].iloc[j] = df_s06_1['S.06.02.01.01,C0040A'].iloc[j] + '_' + str(temp)\n",
    "# df_s06_1 = df_s06_1.set_index(['entity', 'period', 'S.06.02.01.01,C0040A'])"
   ]
  },
  {
   "cell_type": "code",
   "execution_count": 7,
   "metadata": {},
   "outputs": [],
   "source": [
    "# df_s06_2 = pd.read_pickle(join(INSTANCES_DATA_PATH, 'S.06.02.01.02.pickle')).reset_index()\n",
    "# df_s06_2 = df_s06_2.set_index(['entity', 'period', 'S.06.02.01.02,C0040'])\n",
    "# df_s06_2['S.06.02.01.02,C0040'] = df_s06_2.index.get_level_values(2)"
   ]
  },
  {
   "cell_type": "code",
   "execution_count": 8,
   "metadata": {},
   "outputs": [],
   "source": [
    "# df_s06 = pd.merge(pd.read_pickle(join(INSTANCES_DATA_PATH,'S.06.02.01.01.pickle')).reset_index(),pd.read_pickle(join(INSTANCES_DATA_PATH, 'S.06.02.01.02.pickle')).reset_index(),how='inner', left_on=['entity','period','S.06.02.01.01,C0040'], right_on=['entity','period','S.06.02.01.02,C0040']).set_index(['entity', 'period', 'S.06.02.01.01,C0040'])\n",
    "# df_s06 = df_s06.reset_index()\n",
    "# df_s06['S.06.02.01.02,C0040A'] = df_s06['S.06.02.01.02,C0040']\n",
    "# listt=list(df_s06['S.06.02.01.02,C0040A'])\n",
    "# for i in listt:\n",
    "#     lenn = len(df_s06[df_s06['S.06.02.01.02,C0040A']==i])\n",
    "#     if lenn > 1:\n",
    "#         list_ind = list(df_s06.loc[df_s06['S.06.02.01.02,C0040A']==i].index)\n",
    "#         temp = 0\n",
    "#         for j in list_ind[1:]:\n",
    "#             temp=temp+1\n",
    "#             df_s06['S.06.02.01.02,C0040A'].iloc[j] = df_s06['S.06.02.01.02,C0040A'].iloc[j] + '_' + str(temp)\n",
    "# df_s06 = df_s06.set_index(['entity', 'period', 'S.06.02.01.02,C0040A'])"
   ]
  },
  {
   "cell_type": "markdown",
   "metadata": {},
   "source": [
    "In this tutorial we work with dummy data in order to show results"
   ]
  },
  {
   "cell_type": "code",
   "execution_count": 9,
   "metadata": {},
   "outputs": [],
   "source": [
    "df_s06_1 = pd.read_pickle(join(TEST_DATA_PATH,'S.06.02.01.01.pickle')).reset_index() #Import demo pickles\n",
    "df_s06_2 = pd.read_pickle(join(TEST_DATA_PATH,'S.06.02.01.02.pickle')).reset_index() #Import demo pickles\n",
    "df_s06 = pd.merge(df_s06_1,df_s06_2,how='inner', left_on=['entity','period','S.06.02.01.01,C0040'], right_on=['entity','period','S.06.02.01.02,C0040']).set_index(['entity', 'period', 'S.06.02.01.01,C0040'])\n",
    "df_s06_2 = df_s06_2.set_index(['entity', 'period', 'S.06.02.01.02,C0040'])\n",
    "df_s06_1 = df_s06_1.set_index(['entity', 'period', 'S.06.02.01.01,C0040'])\n",
    "df_s06_2['S.06.02.01.02,C0040'] = df_s06_2.index.get_level_values(2)\n",
    "df_s06['S.06.02.01.01,C0040'] = df_s06.index.get_level_values(2)"
   ]
  },
  {
   "cell_type": "markdown",
   "metadata": {},
   "source": [
    "#### S08"
   ]
  },
  {
   "cell_type": "markdown",
   "metadata": {},
   "source": [
    "Import data and make index unique if necessary"
   ]
  },
  {
   "cell_type": "code",
   "execution_count": 10,
   "metadata": {},
   "outputs": [],
   "source": [
    "# df_s08_2 = pd.read_pickle(join(INSTANCES_DATA_PATH, 'S.08.01.01.02.pickle')).reset_index()\n",
    "# df_s08_2 = df_s08_2.set_index(['entity', 'period', 'S.08.01.01.02,C0040'])\n",
    "# df_s08_2['S.08.01.01.02,C0040'] = df_s08_2.index.get_level_values(2)"
   ]
  },
  {
   "cell_type": "code",
   "execution_count": 11,
   "metadata": {},
   "outputs": [],
   "source": [
    "# df_s08 = pd.merge(pd.read_pickle(join(INSTANCES_DATA_PATH,'S.08.01.01.01.pickle')).reset_index(),pd.read_pickle(join(INSTANCES_DATA_PATH, 'S.08.01.01.02.pickle')).reset_index(),how='inner', left_on=['entity','period','S.08.01.01.01,C0040'], right_on=['entity','period','S.08.01.01.02,C0040']).set_index(['entity', 'period', 'S.08.01.01.01,C0040'])\n",
    "# df_s08 = df_s08.reset_index()\n",
    "# df_s08['S.08.01.01.02,C0040A'] = df_s08['S.08.01.01.02,C0040']\n",
    "# listt=list(df_s08['S.08.01.01.02,C0040A'])\n",
    "# for i in listt:\n",
    "#     lenn = len(df_s08[df_s08['S.08.01.01.02,C0040A']==i])\n",
    "#     if lenn > 1:\n",
    "#         list_ind = list(df_s08.loc[df_s08['S.08.01.01.02,C0040A']==i].index)\n",
    "#         temp = 0\n",
    "#         for j in list_ind[1:]:\n",
    "#             temp=temp+1\n",
    "#             df_s08['S.08.01.01.02,C0040A'].iloc[j] = df_s08['S.08.01.01.02,C0040A'].iloc[j] + '_' + str(temp)\n",
    "# df_s08 = df_s08.set_index(['entity', 'period', 'S.08.01.01.02,C0040A'])"
   ]
  },
  {
   "cell_type": "markdown",
   "metadata": {},
   "source": [
    "In this tutorial we work with dummy data in order to show results"
   ]
  },
  {
   "cell_type": "code",
   "execution_count": 12,
   "metadata": {},
   "outputs": [],
   "source": [
    "df_s08_1 = pd.read_pickle(join(TEST_DATA_PATH,'S.08.01.01.01.pickle')).reset_index() #Import demo pickles\n",
    "df_s08_2 = pd.read_pickle(join(TEST_DATA_PATH, 'S.08.01.01.02.pickle')).reset_index() #Import demo pickles\n",
    "df_s08 = pd.merge(df_s08_1,df_s08_2,how='inner', left_on=['entity','period','S.08.01.01.01,C0040'], right_on=['entity','period','S.08.01.01.02,C0040']).set_index(['entity', 'period', 'S.08.01.01.01,C0040'])\n",
    "df_s08_2 = df_s08_2.set_index(['entity', 'period', 'S.08.01.01.02,C0040'])"
   ]
  },
  {
   "cell_type": "markdown",
   "metadata": {},
   "source": [
    "### Evaluate rules"
   ]
  },
  {
   "cell_type": "markdown",
   "metadata": {},
   "source": [
    "Now we are ready to evaluate the different sets of rules. First, we construct a PatternMiner-object with the data-patterns package using the rules dataframe. Second, we use the analyze-function to get the results of the rules. We do this for each set of rules separately."
   ]
  },
  {
   "cell_type": "markdown",
   "metadata": {},
   "source": [
    "#### S06\n"
   ]
  },
  {
   "cell_type": "code",
   "execution_count": 13,
   "metadata": {},
   "outputs": [
    {
     "name": "stderr",
     "output_type": "stream",
     "text": [
      "100%|█████████████████████████████████████████████████████████████████████████████| 1500/1500 [00:09<00:00, 160.55it/s]\n"
     ]
    },
    {
     "data": {
      "text/html": [
       "<div>\n",
       "<style scoped>\n",
       "    .dataframe tbody tr th:only-of-type {\n",
       "        vertical-align: middle;\n",
       "    }\n",
       "\n",
       "    .dataframe tbody tr th {\n",
       "        vertical-align: top;\n",
       "    }\n",
       "\n",
       "    .dataframe thead th {\n",
       "        text-align: right;\n",
       "    }\n",
       "</style>\n",
       "<table border=\"1\" class=\"dataframe\">\n",
       "  <thead>\n",
       "    <tr style=\"text-align: right;\">\n",
       "      <th></th>\n",
       "      <th></th>\n",
       "      <th></th>\n",
       "      <th>result_type</th>\n",
       "      <th>pattern_id</th>\n",
       "      <th>cluster</th>\n",
       "      <th>support</th>\n",
       "      <th>exceptions</th>\n",
       "      <th>confidence</th>\n",
       "      <th>pattern_def</th>\n",
       "      <th>P values</th>\n",
       "      <th>Q values</th>\n",
       "    </tr>\n",
       "  </thead>\n",
       "  <tbody>\n",
       "    <tr>\n",
       "      <th rowspan=\"2\" valign=\"top\">0LFF1WMNTWG5PTIYYI38</th>\n",
       "      <th rowspan=\"2\" valign=\"top\">2019-12-31</th>\n",
       "      <th>ISIN/IS8356795570</th>\n",
       "      <td>False</td>\n",
       "      <td>Total value 1</td>\n",
       "      <td>0</td>\n",
       "      <td>0</td>\n",
       "      <td>1</td>\n",
       "      <td>0.0</td>\n",
       "      <td>IF ({\"S.06.02.01.01,C0140\"} != 0) THEN (ABS({\"...</td>\n",
       "      <td>20005463.35</td>\n",
       "      <td>[187704761.84, 20005463.35, 0.6037, 324668296....</td>\n",
       "    </tr>\n",
       "    <tr>\n",
       "      <th>ISIN/IS8356795570</th>\n",
       "      <td>False</td>\n",
       "      <td>Total value 2</td>\n",
       "      <td>0</td>\n",
       "      <td>0</td>\n",
       "      <td>1</td>\n",
       "      <td>0.0</td>\n",
       "      <td>IF ({\"S.06.02.01.01,C0130\"} != 0) THEN (ABS({\"...</td>\n",
       "      <td>191323.00</td>\n",
       "      <td>[187704761.84, 191323.0, 537740889.72, 3246682...</td>\n",
       "    </tr>\n",
       "  </tbody>\n",
       "</table>\n",
       "</div>"
      ],
      "text/plain": [
       "                                                   result_type     pattern_id  \\\n",
       "0LFF1WMNTWG5PTIYYI38 2019-12-31 ISIN/IS8356795570        False  Total value 1   \n",
       "                                ISIN/IS8356795570        False  Total value 2   \n",
       "\n",
       "                                                   cluster  support  \\\n",
       "0LFF1WMNTWG5PTIYYI38 2019-12-31 ISIN/IS8356795570        0        0   \n",
       "                                ISIN/IS8356795570        0        0   \n",
       "\n",
       "                                                   exceptions  confidence  \\\n",
       "0LFF1WMNTWG5PTIYYI38 2019-12-31 ISIN/IS8356795570           1         0.0   \n",
       "                                ISIN/IS8356795570           1         0.0   \n",
       "\n",
       "                                                                                         pattern_def  \\\n",
       "0LFF1WMNTWG5PTIYYI38 2019-12-31 ISIN/IS8356795570  IF ({\"S.06.02.01.01,C0140\"} != 0) THEN (ABS({\"...   \n",
       "                                ISIN/IS8356795570  IF ({\"S.06.02.01.01,C0130\"} != 0) THEN (ABS({\"...   \n",
       "\n",
       "                                                      P values  \\\n",
       "0LFF1WMNTWG5PTIYYI38 2019-12-31 ISIN/IS8356795570  20005463.35   \n",
       "                                ISIN/IS8356795570    191323.00   \n",
       "\n",
       "                                                                                            Q values  \n",
       "0LFF1WMNTWG5PTIYYI38 2019-12-31 ISIN/IS8356795570  [187704761.84, 20005463.35, 0.6037, 324668296....  \n",
       "                                ISIN/IS8356795570  [187704761.84, 191323.0, 537740889.72, 3246682...  "
      ]
     },
     "execution_count": 13,
     "metadata": {},
     "output_type": "execute_result"
    }
   ],
   "source": [
    "miner = data_patterns.PatternMiner(df_patterns=dfr_s06)\n",
    "results_06 = miner.analyze(df_s06)\n",
    "results_06"
   ]
  },
  {
   "cell_type": "code",
   "execution_count": 14,
   "metadata": {},
   "outputs": [
    {
     "name": "stderr",
     "output_type": "stream",
     "text": [
      "100%|███████████████████████████████████████████████████████████████████████████| 13547/13547 [01:34<00:00, 142.70it/s]\n"
     ]
    },
    {
     "data": {
      "text/html": [
       "<div>\n",
       "<style scoped>\n",
       "    .dataframe tbody tr th:only-of-type {\n",
       "        vertical-align: middle;\n",
       "    }\n",
       "\n",
       "    .dataframe tbody tr th {\n",
       "        vertical-align: top;\n",
       "    }\n",
       "\n",
       "    .dataframe thead th {\n",
       "        text-align: right;\n",
       "    }\n",
       "</style>\n",
       "<table border=\"1\" class=\"dataframe\">\n",
       "  <thead>\n",
       "    <tr style=\"text-align: right;\">\n",
       "      <th></th>\n",
       "      <th></th>\n",
       "      <th></th>\n",
       "      <th>result_type</th>\n",
       "      <th>pattern_id</th>\n",
       "      <th>cluster</th>\n",
       "      <th>support</th>\n",
       "      <th>exceptions</th>\n",
       "      <th>confidence</th>\n",
       "      <th>pattern_def</th>\n",
       "      <th>P values</th>\n",
       "      <th>Q values</th>\n",
       "    </tr>\n",
       "  </thead>\n",
       "  <tbody>\n",
       "    <tr>\n",
       "      <th rowspan=\"2\" valign=\"top\">0LFF1WMNTWG5PTIYYI38</th>\n",
       "      <th rowspan=\"2\" valign=\"top\">2019-12-31</th>\n",
       "      <th>ISIN/IS8356795570</th>\n",
       "      <td>False</td>\n",
       "      <td>Unit price 1</td>\n",
       "      <td>0</td>\n",
       "      <td>0</td>\n",
       "      <td>1</td>\n",
       "      <td>0.0</td>\n",
       "      <td>IF ({\"S.06.02.01.02,C0370\"} != 0) THEN ({\"S.06...</td>\n",
       "      <td>5.377409e+08</td>\n",
       "      <td>6.037000e-01</td>\n",
       "    </tr>\n",
       "    <tr>\n",
       "      <th>ISIN/IS8356795570</th>\n",
       "      <td>False</td>\n",
       "      <td>Unit price 2</td>\n",
       "      <td>0</td>\n",
       "      <td>0</td>\n",
       "      <td>1</td>\n",
       "      <td>0.0</td>\n",
       "      <td>IF ({\"S.06.02.01.02,C0380\"} != 0) THEN ({\"S.06...</td>\n",
       "      <td>6.037000e-01</td>\n",
       "      <td>5.377409e+08</td>\n",
       "    </tr>\n",
       "  </tbody>\n",
       "</table>\n",
       "</div>"
      ],
      "text/plain": [
       "                                                   result_type    pattern_id  \\\n",
       "0LFF1WMNTWG5PTIYYI38 2019-12-31 ISIN/IS8356795570        False  Unit price 1   \n",
       "                                ISIN/IS8356795570        False  Unit price 2   \n",
       "\n",
       "                                                   cluster  support  \\\n",
       "0LFF1WMNTWG5PTIYYI38 2019-12-31 ISIN/IS8356795570        0        0   \n",
       "                                ISIN/IS8356795570        0        0   \n",
       "\n",
       "                                                   exceptions  confidence  \\\n",
       "0LFF1WMNTWG5PTIYYI38 2019-12-31 ISIN/IS8356795570           1         0.0   \n",
       "                                ISIN/IS8356795570           1         0.0   \n",
       "\n",
       "                                                                                         pattern_def  \\\n",
       "0LFF1WMNTWG5PTIYYI38 2019-12-31 ISIN/IS8356795570  IF ({\"S.06.02.01.02,C0370\"} != 0) THEN ({\"S.06...   \n",
       "                                ISIN/IS8356795570  IF ({\"S.06.02.01.02,C0380\"} != 0) THEN ({\"S.06...   \n",
       "\n",
       "                                                       P values      Q values  \n",
       "0LFF1WMNTWG5PTIYYI38 2019-12-31 ISIN/IS8356795570  5.377409e+08  6.037000e-01  \n",
       "                                ISIN/IS8356795570  6.037000e-01  5.377409e+08  "
      ]
     },
     "execution_count": 14,
     "metadata": {},
     "output_type": "execute_result"
    }
   ],
   "source": [
    "miner = data_patterns.PatternMiner(df_patterns=dfr_s06_2)\n",
    "results_06_2 = miner.analyze(df_s06_2)\n",
    "results_06_2"
   ]
  },
  {
   "cell_type": "code",
   "execution_count": 15,
   "metadata": {},
   "outputs": [
    {
     "name": "stderr",
     "output_type": "stream",
     "text": [
      "100%|████████████████████████████████████████████████████████████████████████████████████| 2/2 [00:00<00:00, 65.64it/s]\n"
     ]
    },
    {
     "data": {
      "text/html": [
       "<div>\n",
       "<style scoped>\n",
       "    .dataframe tbody tr th:only-of-type {\n",
       "        vertical-align: middle;\n",
       "    }\n",
       "\n",
       "    .dataframe tbody tr th {\n",
       "        vertical-align: top;\n",
       "    }\n",
       "\n",
       "    .dataframe thead th {\n",
       "        text-align: right;\n",
       "    }\n",
       "</style>\n",
       "<table border=\"1\" class=\"dataframe\">\n",
       "  <thead>\n",
       "    <tr style=\"text-align: right;\">\n",
       "      <th></th>\n",
       "      <th></th>\n",
       "      <th></th>\n",
       "      <th>result_type</th>\n",
       "      <th>pattern_id</th>\n",
       "      <th>cluster</th>\n",
       "      <th>support</th>\n",
       "      <th>exceptions</th>\n",
       "      <th>confidence</th>\n",
       "      <th>pattern_def</th>\n",
       "      <th>P values</th>\n",
       "      <th>Q values</th>\n",
       "    </tr>\n",
       "  </thead>\n",
       "  <tbody>\n",
       "    <tr>\n",
       "      <th rowspan=\"2\" valign=\"top\">0LFF1WMNTWG5PTIYYI38</th>\n",
       "      <th rowspan=\"2\" valign=\"top\">2019-12-31</th>\n",
       "      <th>ISIN/IS8356795570</th>\n",
       "      <td>False</td>\n",
       "      <td>Par</td>\n",
       "      <td>0</td>\n",
       "      <td>0</td>\n",
       "      <td>1</td>\n",
       "      <td>0.0</td>\n",
       "      <td>IF ({\"S.06.02.01.01,C0130\"} != 0) THEN ({\"S.06...</td>\n",
       "      <td>191323.00</td>\n",
       "      <td>20005463.35</td>\n",
       "    </tr>\n",
       "    <tr>\n",
       "      <th>ISIN/IS8356795570</th>\n",
       "      <td>False</td>\n",
       "      <td>Quantity</td>\n",
       "      <td>0</td>\n",
       "      <td>0</td>\n",
       "      <td>1</td>\n",
       "      <td>0.0</td>\n",
       "      <td>IF ({\"S.06.02.01.01,C0140\"} != 0) THEN ({\"S.06...</td>\n",
       "      <td>20005463.35</td>\n",
       "      <td>191323.00</td>\n",
       "    </tr>\n",
       "  </tbody>\n",
       "</table>\n",
       "</div>"
      ],
      "text/plain": [
       "                                                   result_type pattern_id  \\\n",
       "0LFF1WMNTWG5PTIYYI38 2019-12-31 ISIN/IS8356795570        False        Par   \n",
       "                                ISIN/IS8356795570        False   Quantity   \n",
       "\n",
       "                                                   cluster  support  \\\n",
       "0LFF1WMNTWG5PTIYYI38 2019-12-31 ISIN/IS8356795570        0        0   \n",
       "                                ISIN/IS8356795570        0        0   \n",
       "\n",
       "                                                   exceptions  confidence  \\\n",
       "0LFF1WMNTWG5PTIYYI38 2019-12-31 ISIN/IS8356795570           1         0.0   \n",
       "                                ISIN/IS8356795570           1         0.0   \n",
       "\n",
       "                                                                                         pattern_def  \\\n",
       "0LFF1WMNTWG5PTIYYI38 2019-12-31 ISIN/IS8356795570  IF ({\"S.06.02.01.01,C0130\"} != 0) THEN ({\"S.06...   \n",
       "                                ISIN/IS8356795570  IF ({\"S.06.02.01.01,C0140\"} != 0) THEN ({\"S.06...   \n",
       "\n",
       "                                                      P values     Q values  \n",
       "0LFF1WMNTWG5PTIYYI38 2019-12-31 ISIN/IS8356795570    191323.00  20005463.35  \n",
       "                                ISIN/IS8356795570  20005463.35    191323.00  "
      ]
     },
     "execution_count": 15,
     "metadata": {},
     "output_type": "execute_result"
    }
   ],
   "source": [
    "miner = data_patterns.PatternMiner(df_patterns=dfr_s06_1)\n",
    "results_06_1 = miner.analyze(df_s06_1)\n",
    "results_06_1"
   ]
  },
  {
   "cell_type": "markdown",
   "metadata": {},
   "source": [
    "#### S08"
   ]
  },
  {
   "cell_type": "code",
   "execution_count": 16,
   "metadata": {},
   "outputs": [
    {
     "name": "stderr",
     "output_type": "stream",
     "text": [
      "100%|███████████████████████████████████████████████████████████████████████████████| 110/110 [00:00<00:00, 146.88it/s]\n"
     ]
    },
    {
     "data": {
      "text/html": [
       "<div>\n",
       "<style scoped>\n",
       "    .dataframe tbody tr th:only-of-type {\n",
       "        vertical-align: middle;\n",
       "    }\n",
       "\n",
       "    .dataframe tbody tr th {\n",
       "        vertical-align: top;\n",
       "    }\n",
       "\n",
       "    .dataframe thead th {\n",
       "        text-align: right;\n",
       "    }\n",
       "</style>\n",
       "<table border=\"1\" class=\"dataframe\">\n",
       "  <thead>\n",
       "    <tr style=\"text-align: right;\">\n",
       "      <th></th>\n",
       "      <th></th>\n",
       "      <th></th>\n",
       "      <th>result_type</th>\n",
       "      <th>pattern_id</th>\n",
       "      <th>cluster</th>\n",
       "      <th>support</th>\n",
       "      <th>exceptions</th>\n",
       "      <th>confidence</th>\n",
       "      <th>pattern_def</th>\n",
       "      <th>P values</th>\n",
       "      <th>Q values</th>\n",
       "    </tr>\n",
       "  </thead>\n",
       "  <tbody>\n",
       "    <tr>\n",
       "      <th rowspan=\"2\" valign=\"top\">0LFF1WMNTWG5PTIYYI38</th>\n",
       "      <th rowspan=\"2\" valign=\"top\">2019-12-31</th>\n",
       "      <th>ISIN/EZ3104183600</th>\n",
       "      <td>True</td>\n",
       "      <td>Contract size 2</td>\n",
       "      <td>0</td>\n",
       "      <td>1</td>\n",
       "      <td>0</td>\n",
       "      <td>1.0</td>\n",
       "      <td>IF {\"S.08.01.01.02,C0380\"} = \"USA2\" THEN {\"S.0...</td>\n",
       "      <td>USA2</td>\n",
       "      <td>760703</td>\n",
       "    </tr>\n",
       "    <tr>\n",
       "      <th>ISIN/EZ3104183600</th>\n",
       "      <td>True</td>\n",
       "      <td>Buyer/seller 2</td>\n",
       "      <td>0</td>\n",
       "      <td>1</td>\n",
       "      <td>0</td>\n",
       "      <td>1.0</td>\n",
       "      <td>IF {\"S.08.01.01.02,C0380\"} = \"USA2\" THEN {\"S.0...</td>\n",
       "      <td>USA2</td>\n",
       "      <td>FX-FL [open]</td>\n",
       "    </tr>\n",
       "  </tbody>\n",
       "</table>\n",
       "</div>"
      ],
      "text/plain": [
       "                                                   result_type  \\\n",
       "0LFF1WMNTWG5PTIYYI38 2019-12-31 ISIN/EZ3104183600         True   \n",
       "                                ISIN/EZ3104183600         True   \n",
       "\n",
       "                                                        pattern_id  cluster  \\\n",
       "0LFF1WMNTWG5PTIYYI38 2019-12-31 ISIN/EZ3104183600  Contract size 2        0   \n",
       "                                ISIN/EZ3104183600   Buyer/seller 2        0   \n",
       "\n",
       "                                                   support  exceptions  \\\n",
       "0LFF1WMNTWG5PTIYYI38 2019-12-31 ISIN/EZ3104183600        1           0   \n",
       "                                ISIN/EZ3104183600        1           0   \n",
       "\n",
       "                                                   confidence  \\\n",
       "0LFF1WMNTWG5PTIYYI38 2019-12-31 ISIN/EZ3104183600         1.0   \n",
       "                                ISIN/EZ3104183600         1.0   \n",
       "\n",
       "                                                                                         pattern_def  \\\n",
       "0LFF1WMNTWG5PTIYYI38 2019-12-31 ISIN/EZ3104183600  IF {\"S.08.01.01.02,C0380\"} = \"USA2\" THEN {\"S.0...   \n",
       "                                ISIN/EZ3104183600  IF {\"S.08.01.01.02,C0380\"} = \"USA2\" THEN {\"S.0...   \n",
       "\n",
       "                                                  P values      Q values  \n",
       "0LFF1WMNTWG5PTIYYI38 2019-12-31 ISIN/EZ3104183600     USA2        760703  \n",
       "                                ISIN/EZ3104183600     USA2  FX-FL [open]  "
      ]
     },
     "execution_count": 16,
     "metadata": {},
     "output_type": "execute_result"
    }
   ],
   "source": [
    "miner = data_patterns.PatternMiner(df_patterns=dfr_s08)\n",
    "results_08 = miner.analyze(df_s08)\n",
    "results_08"
   ]
  },
  {
   "cell_type": "code",
   "execution_count": 17,
   "metadata": {},
   "outputs": [
    {
     "name": "stderr",
     "output_type": "stream",
     "text": [
      "100%|███████████████████████████████████████████████████████████████████████████████| 303/303 [00:02<00:00, 118.85it/s]\n"
     ]
    },
    {
     "data": {
      "text/html": [
       "<div>\n",
       "<style scoped>\n",
       "    .dataframe tbody tr th:only-of-type {\n",
       "        vertical-align: middle;\n",
       "    }\n",
       "\n",
       "    .dataframe tbody tr th {\n",
       "        vertical-align: top;\n",
       "    }\n",
       "\n",
       "    .dataframe thead th {\n",
       "        text-align: right;\n",
       "    }\n",
       "</style>\n",
       "<table border=\"1\" class=\"dataframe\">\n",
       "  <thead>\n",
       "    <tr style=\"text-align: right;\">\n",
       "      <th></th>\n",
       "      <th></th>\n",
       "      <th></th>\n",
       "      <th>result_type</th>\n",
       "      <th>pattern_id</th>\n",
       "      <th>cluster</th>\n",
       "      <th>support</th>\n",
       "      <th>exceptions</th>\n",
       "      <th>confidence</th>\n",
       "      <th>pattern_def</th>\n",
       "      <th>P values</th>\n",
       "      <th>Q values</th>\n",
       "    </tr>\n",
       "  </thead>\n",
       "  <tbody>\n",
       "    <tr>\n",
       "      <th rowspan=\"5\" valign=\"top\">0LFF1WMNTWG5PTIYYI38</th>\n",
       "      <th rowspan=\"5\" valign=\"top\">2019-12-31</th>\n",
       "      <th>ISIN/EZ3104183600</th>\n",
       "      <td>True</td>\n",
       "      <td>Currency 1</td>\n",
       "      <td>0</td>\n",
       "      <td>1</td>\n",
       "      <td>0</td>\n",
       "      <td>1.0</td>\n",
       "      <td>IF ({\"S.08.01.01.02,C0380\"} = \"USA2\") THEN (({...</td>\n",
       "      <td>USA2</td>\n",
       "      <td>[0, 0, EUR]</td>\n",
       "    </tr>\n",
       "    <tr>\n",
       "      <th>ISIN/EZ3104183600</th>\n",
       "      <td>True</td>\n",
       "      <td>Counterparty group code</td>\n",
       "      <td>0</td>\n",
       "      <td>1</td>\n",
       "      <td>0</td>\n",
       "      <td>1.0</td>\n",
       "      <td>IF {\"S.08.01.01.02,C0330\"} = \"BNP Paribas SA\" ...</td>\n",
       "      <td>BNP Paribas SA</td>\n",
       "      <td>LEI/R0MUWSFPU8MPRO8K5P83</td>\n",
       "    </tr>\n",
       "    <tr>\n",
       "      <th>ISIN/EZ3104183600</th>\n",
       "      <td>True</td>\n",
       "      <td>External rating</td>\n",
       "      <td>0</td>\n",
       "      <td>1</td>\n",
       "      <td>0</td>\n",
       "      <td>1.0</td>\n",
       "      <td>IF (({\"S.08.01.01.02,C0260\"}= \"The Goldman Sac...</td>\n",
       "      <td>[The Goldman Sachs Group, Inc., 0]</td>\n",
       "      <td>BBB+</td>\n",
       "    </tr>\n",
       "    <tr>\n",
       "      <th>ISIN/EZ3104183600</th>\n",
       "      <td>False</td>\n",
       "      <td>Currency 3</td>\n",
       "      <td>0</td>\n",
       "      <td>0</td>\n",
       "      <td>1</td>\n",
       "      <td>0.0</td>\n",
       "      <td>IF {\"S.08.01.01.02,C0380\"} = \"USA2\" THEN {\"S.0...</td>\n",
       "      <td>USA2</td>\n",
       "      <td>EUR</td>\n",
       "    </tr>\n",
       "    <tr>\n",
       "      <th>ISIN/EZ3104183600</th>\n",
       "      <td>False</td>\n",
       "      <td>Credit quality step</td>\n",
       "      <td>0</td>\n",
       "      <td>0</td>\n",
       "      <td>1</td>\n",
       "      <td>0.0</td>\n",
       "      <td>IF (({\"S.08.01.01.02,C0260\"}= \"The Goldman Sac...</td>\n",
       "      <td>[The Goldman Sachs Group, Inc., 0]</td>\n",
       "      <td>Credit quality step 1</td>\n",
       "    </tr>\n",
       "  </tbody>\n",
       "</table>\n",
       "</div>"
      ],
      "text/plain": [
       "                                                   result_type  \\\n",
       "0LFF1WMNTWG5PTIYYI38 2019-12-31 ISIN/EZ3104183600         True   \n",
       "                                ISIN/EZ3104183600         True   \n",
       "                                ISIN/EZ3104183600         True   \n",
       "                                ISIN/EZ3104183600        False   \n",
       "                                ISIN/EZ3104183600        False   \n",
       "\n",
       "                                                                pattern_id  \\\n",
       "0LFF1WMNTWG5PTIYYI38 2019-12-31 ISIN/EZ3104183600               Currency 1   \n",
       "                                ISIN/EZ3104183600  Counterparty group code   \n",
       "                                ISIN/EZ3104183600          External rating   \n",
       "                                ISIN/EZ3104183600               Currency 3   \n",
       "                                ISIN/EZ3104183600      Credit quality step   \n",
       "\n",
       "                                                   cluster  support  \\\n",
       "0LFF1WMNTWG5PTIYYI38 2019-12-31 ISIN/EZ3104183600        0        1   \n",
       "                                ISIN/EZ3104183600        0        1   \n",
       "                                ISIN/EZ3104183600        0        1   \n",
       "                                ISIN/EZ3104183600        0        0   \n",
       "                                ISIN/EZ3104183600        0        0   \n",
       "\n",
       "                                                   exceptions  confidence  \\\n",
       "0LFF1WMNTWG5PTIYYI38 2019-12-31 ISIN/EZ3104183600           0         1.0   \n",
       "                                ISIN/EZ3104183600           0         1.0   \n",
       "                                ISIN/EZ3104183600           0         1.0   \n",
       "                                ISIN/EZ3104183600           1         0.0   \n",
       "                                ISIN/EZ3104183600           1         0.0   \n",
       "\n",
       "                                                                                         pattern_def  \\\n",
       "0LFF1WMNTWG5PTIYYI38 2019-12-31 ISIN/EZ3104183600  IF ({\"S.08.01.01.02,C0380\"} = \"USA2\") THEN (({...   \n",
       "                                ISIN/EZ3104183600  IF {\"S.08.01.01.02,C0330\"} = \"BNP Paribas SA\" ...   \n",
       "                                ISIN/EZ3104183600  IF (({\"S.08.01.01.02,C0260\"}= \"The Goldman Sac...   \n",
       "                                ISIN/EZ3104183600  IF {\"S.08.01.01.02,C0380\"} = \"USA2\" THEN {\"S.0...   \n",
       "                                ISIN/EZ3104183600  IF (({\"S.08.01.01.02,C0260\"}= \"The Goldman Sac...   \n",
       "\n",
       "                                                                             P values  \\\n",
       "0LFF1WMNTWG5PTIYYI38 2019-12-31 ISIN/EZ3104183600                                USA2   \n",
       "                                ISIN/EZ3104183600                      BNP Paribas SA   \n",
       "                                ISIN/EZ3104183600  [The Goldman Sachs Group, Inc., 0]   \n",
       "                                ISIN/EZ3104183600                                USA2   \n",
       "                                ISIN/EZ3104183600  [The Goldman Sachs Group, Inc., 0]   \n",
       "\n",
       "                                                                   Q values  \n",
       "0LFF1WMNTWG5PTIYYI38 2019-12-31 ISIN/EZ3104183600               [0, 0, EUR]  \n",
       "                                ISIN/EZ3104183600  LEI/R0MUWSFPU8MPRO8K5P83  \n",
       "                                ISIN/EZ3104183600                      BBB+  \n",
       "                                ISIN/EZ3104183600                       EUR  \n",
       "                                ISIN/EZ3104183600     Credit quality step 1  "
      ]
     },
     "execution_count": 17,
     "metadata": {},
     "output_type": "execute_result"
    }
   ],
   "source": [
    "miner2 = data_patterns.PatternMiner(df_patterns=dfr_s08_2)\n",
    "results_08_2 = miner2.analyze(df_s08_2)\n",
    "results_08_2"
   ]
  }
 ],
 "metadata": {
  "kernelspec": {
   "display_name": "Python 3",
   "language": "python",
   "name": "python3"
  },
  "language_info": {
   "codemirror_mode": {
    "name": "ipython",
    "version": 3
   },
   "file_extension": ".py",
   "mimetype": "text/x-python",
   "name": "python",
   "nbconvert_exporter": "python",
   "pygments_lexer": "ipython3",
   "version": "3.6.6"
  }
 },
 "nbformat": 4,
 "nbformat_minor": 4
}

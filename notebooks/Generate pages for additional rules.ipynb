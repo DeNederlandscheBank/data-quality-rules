{
 "cells": [
  {
   "cell_type": "markdown",
   "metadata": {},
   "source": [
    "# Generate pages for DNB additional validation rules"
   ]
  },
  {
   "cell_type": "markdown",
   "metadata": {},
   "source": [
    "## Read the XBRL-instances"
   ]
  },
  {
   "cell_type": "code",
   "execution_count": null,
   "metadata": {},
   "outputs": [],
   "source": [
    "from arelle import ViewFileDTS, ViewFileFactTable, ViewFileFactList, ModelManager, FileSource, ViewFileRelationshipSet\n",
    "from arelle import Cntlr, ModelXbrl, ModelDocument, ViewFileFormulae\n",
    "from arelle import ModelFormulaObject, RenderingEvaluator, XbrlConst\n",
    "from arelle.ModelDtsObject import ModelRelationship\n",
    "import arelle"
   ]
  },
  {
   "cell_type": "code",
   "execution_count": null,
   "metadata": {},
   "outputs": [],
   "source": [
    "import src\n",
    "import pandas as pd\n",
    "import re\n",
    "import os\n",
    "from os import listdir, walk, makedirs\n",
    "from os.path import isfile, join, exists, basename\n",
    "from io import StringIO\n",
    "import ast"
   ]
  },
  {
   "cell_type": "code",
   "execution_count": null,
   "metadata": {},
   "outputs": [],
   "source": [
    "# make sure you have a 'arelle' directory in the data_path! \n",
    "# (This is where the taxonomy is stored)\n",
    "XBRL_DATA_PATH    = '..\\\\data\\\\' \n",
    "XBRL_RESULTS_PATH = '..\\\\data\\\\' \n",
    "LANGUAGE     = \"en-GB\"\n",
    "# set the location of taxonomy\n",
    "os.environ['XDG_CONFIG_HOME'] = XBRL_DATA_PATH "
   ]
  },
  {
   "cell_type": "code",
   "execution_count": null,
   "metadata": {},
   "outputs": [],
   "source": [
    "DOCS_PATH =\"..\\\\docs\\\\\"\n",
    "DATA_PATH =\"..\\\\data\\\\\"\n",
    "RULES_PATH = \"..\\\\Solvency2-rules\\\\\""
   ]
  },
  {
   "cell_type": "code",
   "execution_count": null,
   "metadata": {
    "scrolled": true
   },
   "outputs": [],
   "source": [
    "# Now we make a modelmanager\n",
    "controller = Cntlr.Cntlr()\n",
    "controller.webCache.workOffline = True\n",
    "\n",
    "modelmanager = ModelManager.initialize(controller)\n",
    "modelmanager.defaultLang = LANGUAGE\n",
    "modelmanager.formulaOptions = ModelFormulaObject.FormulaOptions()\n",
    "modelmanager.loadCustomTransforms()"
   ]
  },
  {
   "cell_type": "code",
   "execution_count": null,
   "metadata": {},
   "outputs": [],
   "source": [
    "if (not exists(join(DATA_PATH, \"datapoints.txt\"))) and (not exists(join(DATA_PATH, \"templates.txt\"))):\n",
    "    # Constructing dictionary of datapoints in rc-format\n",
    "    # This will take a while\n",
    "    template_dict = {}\n",
    "    datapoint_dict = {}\n",
    "    instances = [file for file in listdir(XBRL_DATA_PATH) if file.endswith(\".xbrl\")]\n",
    "    # And we read the XBRL instances to extract datapoints in rc-format\n",
    "    for file in instances:\n",
    "        print(file)\n",
    "        xbrl_instance = ModelXbrl.load(modelmanager, join(XBRL_DATA_PATH, file))\n",
    "        linkRoleUris = xbrl_instance.relationshipSet(\"Table-rendering\").linkRoleUris\n",
    "        for role_uri in linkRoleUris:\n",
    "            definition = basename(role_uri)\n",
    "            tblAxisRelSet = xbrl_instance.relationshipSet(XbrlConst.euTableAxis, role_uri)\n",
    "            if len(tblAxisRelSet.modelRelationships)==0:\n",
    "                tblAxisRelSet = xbrl_instance.relationshipSet((XbrlConst.tableBreakdown, XbrlConst.tableBreakdownMMDD, XbrlConst.tableBreakdown201305, XbrlConst.tableBreakdown201301, XbrlConst.tableAxis2011), role_uri)\n",
    "            for rootconcept in tblAxisRelSet.rootConcepts:\n",
    "                # rootconcept is a modelTable-object\n",
    "                template_dict[rootconcept.definitionLabelsView[2][1]] = rootconcept.definitionLabelsView[3][1]\n",
    "        tables = list(xbrl_instance.relationshipSet(\"Table-rendering\").linkRoleUris)\n",
    "        RenderingEvaluator.init(xbrl_instance)\n",
    "        datapoint_dict.update(src.rc2label.rc2label_dict(xbrl_instance))\n",
    "        \n",
    "    f = open(join(DATA_PATH, \"datapoints.txt\"),\"w\")\n",
    "    f.write(str(datapoint_dict))\n",
    "    f.close()\n",
    "    f = open(join(DATA_PATH, \"templates.txt\"),\"w\")\n",
    "    f.write(str(template_dict))\n",
    "    f.close()\n",
    "else:\n",
    "    f = open(join(DATA_PATH, \"datapoints.txt\"),\"r\")\n",
    "    datapoint_dict = ast.literal_eval(f.read())\n",
    "    f.close()\n",
    "    f = open(join(DATA_PATH, \"templates.txt\"),\"r\")\n",
    "    template_dict = ast.literal_eval(f.read())\n",
    "    f.close()"
   ]
  },
  {
   "cell_type": "markdown",
   "metadata": {},
   "source": [
    "## Read DNB Validation rules"
   ]
  },
  {
   "cell_type": "code",
   "execution_count": null,
   "metadata": {},
   "outputs": [],
   "source": [
    "FILE_NAME = '2020-01-22 Set aanvullende controleregels Solvency II_tcm46-387021.xlsx'\n",
    "DIR_NAME = \"DNB Additional validation rules.2.4.0\"\n",
    "\n",
    "df_dnb = pd.read_excel(os.path.join(RULES_PATH, FILE_NAME), header = 1)\n",
    "df_dnb = df_dnb.set_index('ControleRegelCode')\n",
    "df_dnb = df_dnb.drop('S.01.03_110', axis = 0)\n",
    "df_dnb.fillna(\"\", inplace = True)"
   ]
  },
  {
   "cell_type": "code",
   "execution_count": null,
   "metadata": {},
   "outputs": [],
   "source": [
    "df = pd.DataFrame()\n",
    "for row in df_dnb.index:\n",
    "    expr = df_dnb.loc[row, 'Formule']\n",
    "    label = \"\"\n",
    "    rule_templates, rule_datapoints, rule_id, rule_ref = src.parse_formula(expr, syntax = \"EVA2\")\n",
    "    rule_id = row\n",
    "    rule_date = \"2010-01-22\"\n",
    "    df = df.append(pd.DataFrame(data = [[rule_id, label, rule_templates, rule_datapoints, rule_ref, expr]]), ignore_index = True)\n",
    "df.columns = ['Rule id', 'Rule label', 'Rule templates', 'Rule datapoints', 'Rule references', 'Rule expression'] "
   ]
  },
  {
   "cell_type": "code",
   "execution_count": null,
   "metadata": {},
   "outputs": [],
   "source": [
    "len(datapoint_dict.keys())"
   ]
  },
  {
   "cell_type": "markdown",
   "metadata": {},
   "source": [
    "## Generate subdirectories for DNB Validation rules"
   ]
  },
  {
   "cell_type": "code",
   "execution_count": null,
   "metadata": {},
   "outputs": [],
   "source": [
    "all_templates = []\n",
    "for row in df.index:\n",
    "    all_templates.extend(df.loc[row, \"Rule templates\"])\n",
    "templates = list(pd.Series(data = all_templates).sort_values().unique())\n",
    "\n",
    "for template in templates:\n",
    "    if not exists(join(DOCS_PATH, DIR_NAME, template)):\n",
    "        makedirs(join(DOCS_PATH, DIR_NAME, template))"
   ]
  },
  {
   "cell_type": "code",
   "execution_count": null,
   "metadata": {},
   "outputs": [],
   "source": [
    "src.write_rst(join(DOCS_PATH, DIR_NAME), df, template_dict, datapoint_dict)"
   ]
  },
  {
   "cell_type": "code",
   "execution_count": null,
   "metadata": {},
   "outputs": [],
   "source": []
  }
 ],
 "metadata": {
  "kernelspec": {
   "display_name": "Python 3",
   "language": "python",
   "name": "python3"
  },
  "language_info": {
   "codemirror_mode": {
    "name": "ipython",
    "version": 3
   },
   "file_extension": ".py",
   "mimetype": "text/x-python",
   "name": "python",
   "nbconvert_exporter": "python",
   "pygments_lexer": "ipython3",
   "version": "3.5.6"
  }
 },
 "nbformat": 4,
 "nbformat_minor": 2
}

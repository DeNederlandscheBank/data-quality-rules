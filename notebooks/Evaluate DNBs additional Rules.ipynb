{
 "cells": [
  {
   "cell_type": "code",
   "execution_count": null,
   "metadata": {},
   "outputs": [],
   "source": [
    "from arelle import ModelManager, Cntlr, ModelFormulaObject, ModelXbrl, ViewFileFormulae, XbrlConst, ViewFileRenderedGrid\n",
    "from arelle import RenderingEvaluator\n",
    "\n",
    "import pandas as pd\n",
    "import numpy as np\n",
    "import os\n",
    "from os.path import join\n",
    "import re\n",
    "import ast\n",
    "import sys\n",
    "#from Evaluator import Evaluator\n",
    "import src\n",
    "import data_patterns"
   ]
  },
  {
   "cell_type": "code",
   "execution_count": null,
   "metadata": {},
   "outputs": [],
   "source": [
    "RULES_PATH = join('..', 'solvency2-rules')\n",
    "FILENAME_RULES = '2020-01-22 Set aanvullende controleregels Solvency II_tcm46-387021.xlsx'"
   ]
  },
  {
   "cell_type": "markdown",
   "metadata": {},
   "source": [
    "## Construct test Solvency 2 instance (put here your own data)"
   ]
  },
  {
   "cell_type": "code",
   "execution_count": null,
   "metadata": {},
   "outputs": [],
   "source": [
    "RESULTS_PATH = join('..', 'results')\n",
    "DATA_PATH = join('..', 'data')"
   ]
  },
  {
   "cell_type": "code",
   "execution_count": null,
   "metadata": {},
   "outputs": [],
   "source": [
    "df = pd.DataFrame()\n",
    "df.index.name = \"index\"\n",
    "files = [f for f in os.listdir(RESULTS_PATH) if os.path.isfile(join(RESULTS_PATH, f)) if f[-6:]=='pickle']\n",
    "for file in files:\n",
    "    new_df = pd.read_pickle(join(RESULTS_PATH, file))\n",
    "    new_df.columns = [col.upper() for col in new_df.columns]\n",
    "    if list(new_df.index) == [0]: # without z-axis for now\n",
    "        for col in new_df.columns:\n",
    "            if col not in df.columns:\n",
    "                df[col] = new_df[col]\n",
    "    else:\n",
    "        for col in new_df.columns:\n",
    "            if col not in df.columns:\n",
    "                # we only pick the first line in the z-axis column\n",
    "                df.loc[0, col] = new_df.iloc[0, new_df.columns.get_loc(col)]\n",
    "        df.loc[0, new_df.index.name] = new_df.index[0]\n",
    "df = df.astype(object)"
   ]
  },
  {
   "cell_type": "code",
   "execution_count": null,
   "metadata": {
    "scrolled": true
   },
   "outputs": [],
   "source": [
    "df.head()"
   ]
  },
  {
   "cell_type": "markdown",
   "metadata": {},
   "source": [
    "## Create simple taxonomy based on instance"
   ]
  },
  {
   "cell_type": "code",
   "execution_count": null,
   "metadata": {},
   "outputs": [],
   "source": [
    "df_taxo = pd.DataFrame(columns = ['datapoint', 'template', 'row', 'column', 'dtype'])\n",
    "for idx, col in enumerate(df.columns):\n",
    "    df_taxo.loc[idx, \"datapoint\"] = col.upper()\n",
    "    df_taxo.loc[idx, \"template\"] = col[0:13].upper()\n",
    "    df_taxo.loc[idx, \"row\"] = col[14:19].upper()\n",
    "    df_taxo.loc[idx, \"column\"] = col[20:25].upper()\n",
    "    df_taxo.loc[idx, \"dtype\"] = df.dtypes[idx]\n",
    "df_taxo.head(5)\n",
    "\n",
    "# for now we only use the list of templates in the instance\n",
    "instance_templates = list(df_taxo.loc[:, 'template'].unique())\n",
    "del df_taxo"
   ]
  },
  {
   "cell_type": "markdown",
   "metadata": {},
   "source": [
    "## Read DNBs Additional Validation Rules"
   ]
  },
  {
   "cell_type": "code",
   "execution_count": null,
   "metadata": {},
   "outputs": [],
   "source": [
    "df_rules = pd.read_excel(join(RULES_PATH, FILENAME_RULES), header = 1)\n",
    "df_rules = df_rules.set_index('ControleRegelCode')\n",
    "df_rules = df_rules.drop('S.28.01_129', axis = 0) # double line, should be removed\n",
    "df_rules = df_rules.drop('S.01.03_110', axis = 0) # double line, should be removed\n",
    "df_rules.fillna(\"\", inplace = True)"
   ]
  },
  {
   "cell_type": "markdown",
   "metadata": {},
   "source": [
    "## Parse formulas"
   ]
  },
  {
   "cell_type": "code",
   "execution_count": null,
   "metadata": {},
   "outputs": [],
   "source": [
    "evaluator = src.evaluator.Evaluator(df, df_rules, instance_templates)"
   ]
  },
  {
   "cell_type": "code",
   "execution_count": null,
   "metadata": {},
   "outputs": [],
   "source": [
    "evaluator.transform_rules()"
   ]
  },
  {
   "cell_type": "code",
   "execution_count": null,
   "metadata": {},
   "outputs": [],
   "source": [
    "evaluator.evaluate_rules()"
   ]
  },
  {
   "cell_type": "code",
   "execution_count": null,
   "metadata": {},
   "outputs": [],
   "source": [
    "miner = data_patterns.PatternMiner(df_patterns = evaluator.df_patterns)\n",
    "results = miner.analyze(df)"
   ]
  },
  {
   "cell_type": "code",
   "execution_count": null,
   "metadata": {},
   "outputs": [],
   "source": [
    "miner.df_patterns[miner.df_patterns['Error message']!='']"
   ]
  },
  {
   "cell_type": "code",
   "execution_count": null,
   "metadata": {},
   "outputs": [],
   "source": [
    "results[results['Q values'] == 'BUG']"
   ]
  }
 ],
 "metadata": {
  "kernelspec": {
   "display_name": "Python 3",
   "language": "python",
   "name": "python3"
  },
  "language_info": {
   "codemirror_mode": {
    "name": "ipython",
    "version": 3
   },
   "file_extension": ".py",
   "mimetype": "text/x-python",
   "name": "python",
   "nbconvert_exporter": "python",
   "pygments_lexer": "ipython3",
   "version": "3.5.6"
  }
 },
 "nbformat": 4,
 "nbformat_minor": 2
}

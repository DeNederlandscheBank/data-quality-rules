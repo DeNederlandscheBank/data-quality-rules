{
 "cells": [
  {
   "cell_type": "code",
   "execution_count": 1,
   "metadata": {},
   "outputs": [],
   "source": [
    "from os.path import isfile, join\n",
    "from os import listdir\n",
    "import re\n",
    "import requests\n",
    "import pandas as pd"
   ]
  },
  {
   "cell_type": "code",
   "execution_count": 2,
   "metadata": {},
   "outputs": [],
   "source": [
    "OUTPUT_PATH = join('..', 'data')"
   ]
  },
  {
   "cell_type": "code",
   "execution_count": 3,
   "metadata": {},
   "outputs": [],
   "source": [
    "url = \"https://eur-lex.europa.eu/legal-content/EN/TXT/HTML/?uri=CELEX:32015R2450&from=EN\"\n",
    "# amendment 2016\n",
    "#url = \"https://eur-lex.europa.eu/legal-content/EN/TXT/HTML/?uri=CELEX:32016R1868&from=EN\"\n",
    "# amendment 2017\n",
    "#url = \"https://eur-lex.europa.eu/legal-content/EN/TXT/HTML/?uri=CELEX:32017R2189&from=EN\"\n",
    "# amendment 2018\n",
    "#url = \"https://eur-lex.europa.eu/legal-content/EN/TXT/HTML/?uri=CELEX:32018R1844&from=EN\"\n",
    "# amendment 2019\n",
    "#url = \"https://eur-lex.europa.eu/legal-content/EN/TXT/HTML/?uri=CELEX:32019R2103&from=EN\"\n",
    "filename = \"log.html\""
   ]
  },
  {
   "cell_type": "code",
   "execution_count": 4,
   "metadata": {},
   "outputs": [],
   "source": [
    "r = requests.get(url)\n",
    "f = open(join(OUTPUT_PATH, filename),'wb+')\n",
    "f.write(r.content)\n",
    "f.close()"
   ]
  },
  {
   "cell_type": "code",
   "execution_count": 5,
   "metadata": {},
   "outputs": [],
   "source": [
    "f = open(join(OUTPUT_PATH, filename),'rb')\n",
    "text = f.read()\n",
    "f.close()"
   ]
  },
  {
   "cell_type": "code",
   "execution_count": 6,
   "metadata": {},
   "outputs": [],
   "source": [
    "from bs4 import BeautifulSoup, NavigableString\n",
    "soup = BeautifulSoup(text, 'html.parser')"
   ]
  },
  {
   "cell_type": "code",
   "execution_count": 29,
   "metadata": {
    "scrolled": true
   },
   "outputs": [],
   "source": [
    "def between(cur, end):\n",
    "    while cur and cur != end:\n",
    "        if isinstance(cur, NavigableString):\n",
    "            text = cur.strip()\n",
    "            if len(text):\n",
    "                yield text\n",
    "        cur = cur.next_element\n",
    "\n",
    "df = pd.DataFrame()\n",
    "tables = soup.find_all(\"table\")\n",
    "for table in tables:\n",
    "    trs = table.find_all(\"tr\", attrs={'class', 'table'})\n",
    "    datapoints = []\n",
    "    for tr in trs:\n",
    "        tds = tr.find_all(\"td\", attrs={'class', 'table'})\n",
    "        items = []\n",
    "        for td in tds:\n",
    "            items.append(td.get_text().replace(\"\\n\", \"\"))\n",
    "        datapoints.append(items)\n",
    "    if datapoints:\n",
    "        if datapoints[0] == ['\\xa0', 'ITEM', 'INSTRUCTIONS']:\n",
    "            sibling = table.find_previous_sibling('p', {'class':'ti-grseq-1'})\n",
    "            template_name = (sibling.get_text().replace(\"\\n\", \"\"))\n",
    "            b = list(between(sibling, table))\n",
    "            template_text = '\\n\\n'.join(text for text in b[1:])\n",
    "            if \"—\" in template_name:\n",
    "                template_name = template_name.split(\"—\")\n",
    "            elif \"–\" in template_name:\n",
    "                template_name = template_name.split(\"–\")\n",
    "            short_name = template_name[0].strip()\n",
    "            if len(template_name) >= 2:\n",
    "                long_name = \",\".join(template_name[1:]).strip()\n",
    "            else:\n",
    "                long_name = \"\"\n",
    "            for datapoint in datapoints[1:]:\n",
    "                df = df.append(pd.DataFrame([[short_name, long_name] + [template_text] + datapoint]), ignore_index = True)\n",
    "df.loc[:, 3] = df.loc[:, 3].str.lower()\n",
    "df.loc[:, 3] = df.loc[:, 3].str.replace(\"/\", \"\")"
   ]
  },
  {
   "cell_type": "code",
   "execution_count": 30,
   "metadata": {},
   "outputs": [
    {
     "data": {
      "text/plain": [
       "array(['S.01.01', 'S.01.02', 'S.01.03', 'S.02.01', 'S.02.02', 'S.03.01',\n",
       "       'S.03.02', 'S.03.03', 'S.04.01', 'S.04.02', 'S.05.01', 'S.05.02',\n",
       "       'S.06.01', 'S.06.02', 'S.06.03', 'S.07.01', 'S.08.01', 'S.08.02',\n",
       "       'S.09.01', 'S.10.01', 'S.11.01', 'S.12.01', 'S.12.02', 'S.13.01',\n",
       "       'S.14.01', 'S.15.01', 'S.15.02', 'S.16.01.', 'S.17.01', 'S.17.02',\n",
       "       'S.18.01', 'S.19.01', 'S.20.01', 'S.21.02', 'S.22.01', 'S.22.02',\n",
       "       'S.22.03', 'S.22.04', 'S.22.05', 'S.22.06', 'S.23.01', 'S.23.02',\n",
       "       'S.23.03', 'S.23.04', 'S.24.01', 'S.25.01', 'S.25.02', 'S.25.03',\n",
       "       'S.26.01', 'S.26.02', 'S.26.03', 'S.26.04', 'S.26.05', 'S.26.06',\n",
       "       'S.26.07', 'S.27.01', 'S.28.01', 'S.28.02', 'S.29.01', 'S.29.02',\n",
       "       'S.29.03', 'S.29.04', 'S.30.01', 'S.30.02', 'S.30.03', 'S.30.04',\n",
       "       'S.31.01', 'S.31.02', 'S.36.01', 'S.36.02', 'S.36.03', 'S.36.04',\n",
       "       'S.32.01', 'S.33.01', 'S.34.01', 'S.35.01', 'S.37.01'],\n",
       "      dtype=object)"
      ]
     },
     "execution_count": 30,
     "metadata": {},
     "output_type": "execute_result"
    }
   ],
   "source": [
    "df[0].unique()"
   ]
  },
  {
   "cell_type": "code",
   "execution_count": 31,
   "metadata": {},
   "outputs": [],
   "source": [
    "import pandas as pd\n",
    "import re\n",
    "import os\n",
    "from os import listdir, walk, makedirs\n",
    "from os.path import isfile, join, exists, basename\n",
    "from io import StringIO"
   ]
  },
  {
   "cell_type": "code",
   "execution_count": 32,
   "metadata": {},
   "outputs": [],
   "source": [
    "DOCS_PATH =\"..\\\\docs\\\\\"\n",
    "DATA_PATH =\"..\\\\data\\\\\"\n",
    "RULES_PATH = \"..\\\\Solvency2-rules\\\\\"\n",
    "\n",
    "DIR_NAME = \"instructions\""
   ]
  },
  {
   "cell_type": "code",
   "execution_count": 33,
   "metadata": {},
   "outputs": [],
   "source": [
    "templates = df[0].unique()\n",
    "\n",
    "if not exists(join(DOCS_PATH, DIR_NAME)):\n",
    "    makedirs(join(DOCS_PATH, DIR_NAME))"
   ]
  },
  {
   "cell_type": "code",
   "execution_count": 34,
   "metadata": {},
   "outputs": [
    {
     "data": {
      "text/html": [
       "<div>\n",
       "<style scoped>\n",
       "    .dataframe tbody tr th:only-of-type {\n",
       "        vertical-align: middle;\n",
       "    }\n",
       "\n",
       "    .dataframe tbody tr th {\n",
       "        vertical-align: top;\n",
       "    }\n",
       "\n",
       "    .dataframe thead th {\n",
       "        text-align: right;\n",
       "    }\n",
       "</style>\n",
       "<table border=\"1\" class=\"dataframe\">\n",
       "  <thead>\n",
       "    <tr style=\"text-align: right;\">\n",
       "      <th></th>\n",
       "      <th>0</th>\n",
       "      <th>1</th>\n",
       "      <th>2</th>\n",
       "      <th>3</th>\n",
       "      <th>4</th>\n",
       "      <th>5</th>\n",
       "    </tr>\n",
       "  </thead>\n",
       "  <tbody>\n",
       "    <tr>\n",
       "      <th>0</th>\n",
       "      <td>S.01.01</td>\n",
       "      <td>Content of the submission</td>\n",
       "      <td>General comments:\\n\\nThis section relates to o...</td>\n",
       "      <td>z0010</td>\n",
       "      <td>Ring–fenced fund/matching portfolio/remaining ...</td>\n",
       "      <td>Identifies whether the reported figures are wi...</td>\n",
       "    </tr>\n",
       "    <tr>\n",
       "      <th>1</th>\n",
       "      <td>S.01.01</td>\n",
       "      <td>Content of the submission</td>\n",
       "      <td>General comments:\\n\\nThis section relates to o...</td>\n",
       "      <td>z0020</td>\n",
       "      <td>Fund/Portfolio number</td>\n",
       "      <td>When item Z0010 = 1, identification number for...</td>\n",
       "    </tr>\n",
       "    <tr>\n",
       "      <th>2</th>\n",
       "      <td>S.01.01</td>\n",
       "      <td>Content of the submission</td>\n",
       "      <td>General comments:\\n\\nThis section relates to o...</td>\n",
       "      <td>c0010r0010</td>\n",
       "      <td>S.01.02 — Basic Information — General</td>\n",
       "      <td>This template shall always be reported. The on...</td>\n",
       "    </tr>\n",
       "    <tr>\n",
       "      <th>3</th>\n",
       "      <td>S.01.01</td>\n",
       "      <td>Content of the submission</td>\n",
       "      <td>General comments:\\n\\nThis section relates to o...</td>\n",
       "      <td>c0010r0020</td>\n",
       "      <td>S.01.03 — Basic Information — RFF and matching...</td>\n",
       "      <td>One of the options in the following closed lis...</td>\n",
       "    </tr>\n",
       "    <tr>\n",
       "      <th>4</th>\n",
       "      <td>S.01.01</td>\n",
       "      <td>Content of the submission</td>\n",
       "      <td>General comments:\\n\\nThis section relates to o...</td>\n",
       "      <td>c0010r0030</td>\n",
       "      <td>S.02.01 — Balance sheet</td>\n",
       "      <td>One of the options in the following closed lis...</td>\n",
       "    </tr>\n",
       "  </tbody>\n",
       "</table>\n",
       "</div>"
      ],
      "text/plain": [
       "         0                          1  \\\n",
       "0  S.01.01  Content of the submission   \n",
       "1  S.01.01  Content of the submission   \n",
       "2  S.01.01  Content of the submission   \n",
       "3  S.01.01  Content of the submission   \n",
       "4  S.01.01  Content of the submission   \n",
       "\n",
       "                                                   2           3  \\\n",
       "0  General comments:\\n\\nThis section relates to o...       z0010   \n",
       "1  General comments:\\n\\nThis section relates to o...       z0020   \n",
       "2  General comments:\\n\\nThis section relates to o...  c0010r0010   \n",
       "3  General comments:\\n\\nThis section relates to o...  c0010r0020   \n",
       "4  General comments:\\n\\nThis section relates to o...  c0010r0030   \n",
       "\n",
       "                                                   4  \\\n",
       "0  Ring–fenced fund/matching portfolio/remaining ...   \n",
       "1                              Fund/Portfolio number   \n",
       "2              S.01.02 — Basic Information — General   \n",
       "3  S.01.03 — Basic Information — RFF and matching...   \n",
       "4                            S.02.01 — Balance sheet   \n",
       "\n",
       "                                                   5  \n",
       "0  Identifies whether the reported figures are wi...  \n",
       "1  When item Z0010 = 1, identification number for...  \n",
       "2  This template shall always be reported. The on...  \n",
       "3  One of the options in the following closed lis...  \n",
       "4  One of the options in the following closed lis...  "
      ]
     },
     "execution_count": 34,
     "metadata": {},
     "output_type": "execute_result"
    }
   ],
   "source": [
    "df.head(5)"
   ]
  },
  {
   "cell_type": "code",
   "execution_count": 35,
   "metadata": {},
   "outputs": [],
   "source": [
    "def write_file(filename, string):\n",
    "    file = open(filename, \"w\", encoding = 'utf8')\n",
    "    file.write(string.getvalue())\n",
    "    file.close()\n",
    "\n",
    "def header(io, text):\n",
    "    io.write(\"=\" * len(text) + \"\\n\")\n",
    "    io.write(text + \"\\n\")\n",
    "    io.write(\"=\" * len(text) + \"\\n\\n\")\n",
    "    return io\n",
    "\n",
    "def section(io, text):\n",
    "    io.write(text + \"\\n\")\n",
    "    io.write(\"-\" * len(text) + \"\\n\\n\")\n",
    "    return io\n"
   ]
  },
  {
   "cell_type": "code",
   "execution_count": 36,
   "metadata": {},
   "outputs": [],
   "source": [
    "templates = df[0].unique()\n",
    "\n",
    "for template in templates:\n",
    "    string = StringIO()\n",
    "    string = header(string, template + \" - \" + df[df[0]==template][1].values[0])\n",
    "    string = section(string, \"Instructions\")\n",
    "    string.write(\"\\n\")\n",
    "    string.write(df[df[0]==template][2].values[0])\n",
    "    string.write(\"\\n\\n\\n\")\n",
    "    for row in df[df[0]==template].index:\n",
    "        string = section(string, df.loc[row, 3] + \" - \" + df.loc[row, 4])\n",
    "        string.write(\"\\n\")\n",
    "        string.write(df.loc[row, 5])\n",
    "        string.write(\"\\n\\n\\n\")\n",
    "    write_file(join(DOCS_PATH, DIR_NAME, template.replace(\".\", \"_\") + \".rst\"), string)\n",
    "    string.close()"
   ]
  },
  {
   "cell_type": "code",
   "execution_count": 4,
   "metadata": {},
   "outputs": [],
   "source": [
    "# amendment 2016\n",
    "url = \"https://eur-lex.europa.eu/legal-content/EN/TXT/HTML/?uri=CELEX:32016R1868&from=EN\"\n",
    "filename = \"amendment_2016.html\""
   ]
  },
  {
   "cell_type": "code",
   "execution_count": 5,
   "metadata": {},
   "outputs": [],
   "source": [
    "r = requests.get(url)\n",
    "f = open(join(OUTPUT_PATH, filename),'wb+')\n",
    "f.write(r.content)\n",
    "f.close()"
   ]
  },
  {
   "cell_type": "code",
   "execution_count": 6,
   "metadata": {},
   "outputs": [],
   "source": [
    "f = open(join(OUTPUT_PATH, filename),'rb')\n",
    "text = f.read()\n",
    "f.close()"
   ]
  },
  {
   "cell_type": "code",
   "execution_count": 7,
   "metadata": {},
   "outputs": [],
   "source": [
    "from bs4 import BeautifulSoup\n",
    "soup = BeautifulSoup(text, 'html.parser')"
   ]
  },
  {
   "cell_type": "code",
   "execution_count": 75,
   "metadata": {},
   "outputs": [],
   "source": [
    "tables = []\n",
    "df = pd.DataFrame()\n",
    "annex_2 = soup.find(\"div\", attrs = {'id': 'L_2016286EN.01004501'})\n",
    "items = annex_2.find_all(\"tr\")\n",
    "for item in items:\n",
    "    tables.append(item)"
   ]
  },
  {
   "cell_type": "code",
   "execution_count": 80,
   "metadata": {},
   "outputs": [
    {
     "name": "stdout",
     "output_type": "stream",
     "text": [
      "<tr class=\"table\">\n",
      " <td class=\"table\" valign=\"top\">\n",
      "  <p class=\"tbl-txt\">\n",
      "   ‘R0290/C0020\n",
      "  </p>\n",
      " </td>\n",
      " <td class=\"table\" valign=\"top\">\n",
      "  <p class=\"tbl-txt\">\n",
      "   Initial absolute values before shock — Assets — Equity risk — qualifying infrastructure equities\n",
      "  </p>\n",
      " </td>\n",
      " <td class=\"table\" valign=\"top\">\n",
      "  <p class=\"tbl-txt\">\n",
      "   This is the initial absolute value of the assets sensitive to the equity risk for qualifying infrastructure equities.\n",
      "  </p>\n",
      "  <p class=\"tbl-txt\">\n",
      "   Recoverables from reinsurance and SPVs shall not be included in this cell.\n",
      "  </p>\n",
      " </td>\n",
      "</tr>\n",
      "\n"
     ]
    }
   ],
   "source": [
    "print(tables[15].prettify())"
   ]
  },
  {
   "cell_type": "code",
   "execution_count": null,
   "metadata": {},
   "outputs": [],
   "source": []
  }
 ],
 "metadata": {
  "kernelspec": {
   "display_name": "Python 3",
   "language": "python",
   "name": "python3"
  },
  "language_info": {
   "codemirror_mode": {
    "name": "ipython",
    "version": 3
   },
   "file_extension": ".py",
   "mimetype": "text/x-python",
   "name": "python",
   "nbconvert_exporter": "python",
   "pygments_lexer": "ipython3",
   "version": "3.5.6"
  }
 },
 "nbformat": 4,
 "nbformat_minor": 4
}

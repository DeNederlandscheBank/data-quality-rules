{
 "cells": [
  {
   "cell_type": "markdown",
   "metadata": {},
   "source": [
    "# Tutorial Convert Solvency 2 XBRL-instances to CSV, HTML and pickles"
   ]
  },
  {
   "cell_type": "markdown",
   "metadata": {},
   "source": [
    "This tutorial describes how to convert XBRL-instances to csv-, html- and pickle files per template."
   ]
  },
  {
   "cell_type": "code",
   "execution_count": null,
   "metadata": {},
   "outputs": [],
   "source": [
    "from arelle import ModelManager, Cntlr, ModelFormulaObject, ModelXbrl, ViewFileFormulae, XbrlConst, ViewFileRenderedGrid\n",
    "from arelle import RenderingEvaluator"
   ]
  },
  {
   "cell_type": "code",
   "execution_count": null,
   "metadata": {},
   "outputs": [],
   "source": [
    "import src\n",
    "import pandas as pd\n",
    "from os import listdir, walk, makedirs, environ\n",
    "from os.path import isfile, join, exists, basename\n",
    "from datetime import datetime"
   ]
  },
  {
   "cell_type": "markdown",
   "metadata": {},
   "source": [
    "## Initialize the model manager"
   ]
  },
  {
   "cell_type": "code",
   "execution_count": null,
   "metadata": {},
   "outputs": [],
   "source": [
    "# the taxonomy should be data/taxonomy/arelle\n",
    "# the instances you want to use should be in data/instances\n",
    "\n",
    "XBRL_TAXONOMY_PATH = join('..', 'data', 'taxonomy')\n",
    "XBRL_INSTANCES_PATH = join('..', 'data', 'instances')\n",
    "\n",
    "LANGUAGE = \"en-GB\"\n",
    "environ['XDG_CONFIG_HOME'] = XBRL_TAXONOMY_PATH"
   ]
  },
  {
   "cell_type": "code",
   "execution_count": null,
   "metadata": {
    "scrolled": true
   },
   "outputs": [],
   "source": [
    "# Now we make a modelmanager\n",
    "# logFileName = \"logToPrint\" -> logging is print to notebook\n",
    "# logFileName = \"arelle.log\" -> logging is to filename (use .json or .xml for specific format)\n",
    "\n",
    "controller = Cntlr.Cntlr(logFileName = \"logToPrint\")\n",
    "controller.webCache.workOffline = True\n",
    "controller.logger.messageCodeFilter = None\n",
    "\n",
    "modelmanager = ModelManager.initialize(controller)\n",
    "modelmanager.defaultLang = LANGUAGE\n",
    "modelmanager.formulaOptions = ModelFormulaObject.FormulaOptions()\n",
    "modelmanager.loadCustomTransforms()\n",
    "\n",
    "# The role defined in the model.xsd schema for resources representing codes of rows or columns is\n",
    "euRCcode = 'http://www.eurofiling.info/xbrl/role/rc-code'"
   ]
  },
  {
   "cell_type": "markdown",
   "metadata": {},
   "source": [
    "## Read XBRL-instance in the modelmanager"
   ]
  },
  {
   "cell_type": "code",
   "execution_count": null,
   "metadata": {},
   "outputs": [],
   "source": [
    "# here we read the XBRL instance\n",
    "instance_name = 'qrs_240_instance.xbrl'\n",
    "# instance_name = 'aeb_240_instance.xbrl'\n",
    "\n",
    "subdir = basename(instance_name).split(\".\")[0]"
   ]
  },
  {
   "cell_type": "code",
   "execution_count": null,
   "metadata": {},
   "outputs": [],
   "source": [
    "xbrl_instance = ModelXbrl.load(modelmanager, join(XBRL_INSTANCES_PATH, instance_name))\n",
    "RenderingEvaluator.init(xbrl_instance)"
   ]
  },
  {
   "cell_type": "markdown",
   "metadata": {},
   "source": [
    "## Convert XBRL-instance to CSV and HTML"
   ]
  },
  {
   "cell_type": "code",
   "execution_count": null,
   "metadata": {
    "scrolled": true
   },
   "outputs": [],
   "source": [
    "# get tables in instance and sort by short name\n",
    "tables = list(xbrl_instance.modelRenderingTables)\n",
    "tables.sort(key = lambda table: table.genLabel(lang = LANGUAGE,strip = True, role = euRCcode))"
   ]
  },
  {
   "cell_type": "code",
   "execution_count": null,
   "metadata": {
    "scrolled": true
   },
   "outputs": [],
   "source": [
    "# create csv and pickle files\n",
    "# time_stamp = datetime.now().strftime(\"%Y_%m_%d-%H_%M_%S\")\n",
    "for table in tables:\n",
    "    obj = src.generateCSV.generateCSVTables(xbrl_instance, join(XBRL_INSTANCES_PATH, subdir), \n",
    "                                            table = table, \n",
    "                                            lang = LANGUAGE,\n",
    "                                            verbose_labels = False)"
   ]
  },
  {
   "cell_type": "code",
   "execution_count": null,
   "metadata": {},
   "outputs": [],
   "source": [
    "# # create html files\n",
    "# for table in tables:\n",
    "#     ViewFileRenderedGrid.viewRenderedGrid(xbrl_instance,\n",
    "#              join(XBRL_INSTANCES_PATH, subdir, table[-13:]+\".html\"),\n",
    "#              viewTblELR = table,\n",
    "#              lang = LANGUAGE, \n",
    "#              sourceView = None,\n",
    "#              diffToFile = False)"
   ]
  },
  {
   "cell_type": "markdown",
   "metadata": {},
   "source": [
    "## Reading a report from the pickle files"
   ]
  },
  {
   "cell_type": "code",
   "execution_count": null,
   "metadata": {},
   "outputs": [],
   "source": [
    "df = pd.read_pickle(join(XBRL_INSTANCES_PATH, subdir, 'S.02.01.02.01' + \".pickle\"))\n",
    "df"
   ]
  },
  {
   "cell_type": "code",
   "execution_count": null,
   "metadata": {},
   "outputs": [],
   "source": []
  },
  {
   "cell_type": "code",
   "execution_count": null,
   "metadata": {},
   "outputs": [],
   "source": [
    "# from arelle import Validate\n",
    "# Validate.validate(xbrl_instance)"
   ]
  },
  {
   "cell_type": "code",
   "execution_count": null,
   "metadata": {},
   "outputs": [],
   "source": []
  }
 ],
 "metadata": {
  "kernelspec": {
   "display_name": "Python 3",
   "language": "python",
   "name": "python3"
  },
  "language_info": {
   "codemirror_mode": {
    "name": "ipython",
    "version": 3
   },
   "file_extension": ".py",
   "mimetype": "text/x-python",
   "name": "python",
   "nbconvert_exporter": "python",
   "pygments_lexer": "ipython3",
   "version": "3.5.6"
  }
 },
 "nbformat": 4,
 "nbformat_minor": 2
}

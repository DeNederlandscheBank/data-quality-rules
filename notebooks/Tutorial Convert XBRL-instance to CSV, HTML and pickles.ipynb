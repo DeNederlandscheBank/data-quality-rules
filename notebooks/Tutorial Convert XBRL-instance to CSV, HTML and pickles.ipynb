{
 "cells": [
  {
   "cell_type": "markdown",
   "metadata": {},
   "source": [
    "# Tutorial Convert Solvency 2 XBRL-instances to CSV, HTML and pickles"
   ]
  },
  {
   "cell_type": "markdown",
   "metadata": {},
   "source": [
    "This tutorial describes how to convert XBRL-instances to csv-, html- and pickle files per template.\n",
    "\n",
    "We use Arelle, a open source package for processing XBRL. In addition this repository contains code to process the Solvency 2 and FTK instances efficiently."
   ]
  },
  {
   "cell_type": "code",
   "execution_count": 1,
   "metadata": {},
   "outputs": [],
   "source": [
    "from arelle import ModelManager, Cntlr, ModelXbrl, XbrlConst, RenderingEvaluator, \\\n",
    "                   ViewFileRenderedGrid, ModelFormulaObject"
   ]
  },
  {
   "cell_type": "code",
   "execution_count": 2,
   "metadata": {},
   "outputs": [],
   "source": [
    "import src\n",
    "import pandas as pd\n",
    "from os import listdir, walk, makedirs, environ\n",
    "from os.path import isfile, join, exists, basename\n",
    "from datetime import datetime"
   ]
  },
  {
   "cell_type": "markdown",
   "metadata": {},
   "source": [
    "## Initialize the Arelle model manager"
   ]
  },
  {
   "cell_type": "markdown",
   "metadata": {},
   "source": [
    "First we specify the directories with the taxonomy and instances. You can put your own instances in the data/instances directory, or you can specify here the directories that you want to use."
   ]
  },
  {
   "cell_type": "code",
   "execution_count": 3,
   "metadata": {},
   "outputs": [],
   "source": [
    "# the taxonomy should be data/taxonomy/arelle\n",
    "# the instances you want to use should be in data/instances\n",
    "\n",
    "XBRL_TAXONOMY_PATH = join('..', 'data', 'taxonomy')\n",
    "XBRL_INSTANCES_PATH = join('..', 'data', 'instances')\n",
    "\n",
    "LANGUAGE = \"en-GB\"\n",
    "environ['XDG_CONFIG_HOME'] = XBRL_TAXONOMY_PATH\n",
    "\n",
    "# The role defined in the model.xsd schema for resources representing codes of rows or columns is\n",
    "euRCcode = 'http://www.eurofiling.info/xbrl/role/rc-code'"
   ]
  },
  {
   "cell_type": "markdown",
   "metadata": {},
   "source": [
    "To process XBRL, we need a controller and a modelmanager object. \n",
    "\n",
    "In the controller you can specify logging. Here we have set logging to print in this notebook."
   ]
  },
  {
   "cell_type": "code",
   "execution_count": 4,
   "metadata": {
    "scrolled": true
   },
   "outputs": [],
   "source": [
    "# Now we make a modelmanager\n",
    "# logFileName = \"logToPrint\" -> logging is print to notebook\n",
    "# logFileName = \"arelle.log\" -> logging is to filename (use .json or .xml for specific format)\n",
    "\n",
    "controller = Cntlr.Cntlr(logFileName = \"logToPrint\")\n",
    "controller.webCache.workOffline = True\n",
    "controller.logger.messageCodeFilter = None\n",
    "\n",
    "modelmanager = ModelManager.initialize(controller)\n",
    "modelmanager.defaultLang = LANGUAGE\n",
    "modelmanager.formulaOptions = ModelFormulaObject.FormulaOptions()\n",
    "modelmanager.loadCustomTransforms()"
   ]
  },
  {
   "cell_type": "markdown",
   "metadata": {},
   "source": [
    "## Read XBRL-instance in the modelmanager"
   ]
  },
  {
   "cell_type": "markdown",
   "metadata": {},
   "source": [
    "Now we are able to read and process an XBRL-instance.\n",
    "\n",
    "We read the example instances provided with the taxonomy."
   ]
  },
  {
   "cell_type": "code",
   "execution_count": 6,
   "metadata": {},
   "outputs": [],
   "source": [
    "# the example instance of the quarterly templates for solo\n",
    "instance_name = 'qrs_240_instance.xbrl'  \n",
    "\n",
    "# the example instance of the annual templates\n",
    "# instance_name = 'aeb_240_instance.xbrl'\n",
    "\n",
    "# the example instance of the FTK assets templates\n",
    "instance_name = 'DNB-NR_FTK-2019-06_2019-12-31_MOD_FTK-BEL.XBRL'"
   ]
  },
  {
   "cell_type": "code",
   "execution_count": 7,
   "metadata": {},
   "outputs": [
    {
     "name": "stdout",
     "output_type": "stream",
     "text": [
      "2020-09-09 15:48:05,867 [] Formula xpath2 grammar initialized in 2.87 secs - \n",
      "\n",
      "2020-09-09 15:48:09,743 [info:profileActivity] ... formula parameter checks 3.864 secs\n",
      " - DNB-NR_FTK-2019-06_2019-12-31_MOD_FTK-BEL.XBRL \n",
      "\n",
      "2020-09-09 15:48:12,028 [info:profileActivity] ... custom function checks and compilation 2.285 secs\n",
      " - DNB-NR_FTK-2019-06_2019-12-31_MOD_FTK-BEL.XBRL \n",
      "\n",
      "2020-09-09 15:48:14,453 [info:profileActivity] ... parameter checks and select evaluation 2.424 secs\n",
      " - DNB-NR_FTK-2019-06_2019-12-31_MOD_FTK-BEL.XBRL \n",
      "\n"
     ]
    }
   ],
   "source": [
    "xbrl_instance = ModelXbrl.load(modelmanager, join(XBRL_INSTANCES_PATH, instance_name))\n",
    "RenderingEvaluator.init(xbrl_instance)"
   ]
  },
  {
   "cell_type": "markdown",
   "metadata": {},
   "source": [
    "## Convert XBRL-instance to CSV and Pandas-pickle"
   ]
  },
  {
   "cell_type": "markdown",
   "metadata": {},
   "source": [
    "For each template or table in the instance we export the results to a csv file and a Pandas pickle-file. \n",
    "\n",
    "A Pandas pickle-file maintains the correct indices, whereas the csv does not, so if you want to access the data read the pickle (we included an example below).\n",
    "\n",
    "The csv-files and the pickle-files are stored in a subdirectory identical to the name of the XBRL-instance (without extension)"
   ]
  },
  {
   "cell_type": "code",
   "execution_count": 8,
   "metadata": {},
   "outputs": [],
   "source": [
    "# The location of the csv-files\n",
    "subdir = basename(instance_name).split(\".\")[0]"
   ]
  },
  {
   "cell_type": "code",
   "execution_count": 9,
   "metadata": {
    "scrolled": true
   },
   "outputs": [
    {
     "name": "stdout",
     "output_type": "stream",
     "text": [
      "K000\n",
      "K050\n",
      "K101-1\n",
      "K101-2\n",
      "K201-1\n",
      "K201-2\n",
      "K202\n",
      "K203\n",
      "K204\n",
      "K205\n"
     ]
    }
   ],
   "source": [
    "# get tables in instance and sort by short name and print the first ten tables\n",
    "tables = list(xbrl_instance.modelRenderingTables)\n",
    "tables.sort(key = lambda table: table.genLabel(lang = LANGUAGE,strip = True, role = euRCcode))\n",
    "for table in tables[0:10]:\n",
    "    print(table.genLabel(lang = LANGUAGE,strip = True, role = euRCcode))"
   ]
  },
  {
   "cell_type": "code",
   "execution_count": 10,
   "metadata": {
    "scrolled": true
   },
   "outputs": [
    {
     "name": "stdout",
     "output_type": "stream",
     "text": [
      "2020-09-09 15:48:17,092 []  ... directory ..\\data\\instances\\DNB-NR_FTK-2019-06_2019-12-31_MOD_FTK-BEL created - \n",
      "\n",
      "2020-09-09 15:48:17,093 []  ... saved output ..\\data\\instances\\DNB-NR_FTK-2019-06_2019-12-31_MOD_FTK-BEL\\FTK.K000.csv and .pickle - \n",
      "\n",
      "2020-09-09 15:48:17,667 []  ... saved output ..\\data\\instances\\DNB-NR_FTK-2019-06_2019-12-31_MOD_FTK-BEL\\FTK.K050.csv and .pickle - \n",
      "\n",
      "2020-09-09 15:48:18,515 []  ... saved output ..\\data\\instances\\DNB-NR_FTK-2019-06_2019-12-31_MOD_FTK-BEL\\FTK.K101-1.csv and .pickle - \n",
      "\n",
      "2020-09-09 15:48:19,638 []  ... saved output ..\\data\\instances\\DNB-NR_FTK-2019-06_2019-12-31_MOD_FTK-BEL\\FTK.K101-2.csv and .pickle - \n",
      "\n",
      "2020-09-09 15:48:22,607 []  ... saved output ..\\data\\instances\\DNB-NR_FTK-2019-06_2019-12-31_MOD_FTK-BEL\\FTK.K201-1.csv and .pickle - \n",
      "\n",
      "2020-09-09 15:48:23,273 []  ... saved output ..\\data\\instances\\DNB-NR_FTK-2019-06_2019-12-31_MOD_FTK-BEL\\FTK.K201-2.csv and .pickle - \n",
      "\n",
      "2020-09-09 15:48:24,173 []  ... saved output ..\\data\\instances\\DNB-NR_FTK-2019-06_2019-12-31_MOD_FTK-BEL\\FTK.K202.csv and .pickle - \n",
      "\n",
      "2020-09-09 15:48:25,867 []  ... saved output ..\\data\\instances\\DNB-NR_FTK-2019-06_2019-12-31_MOD_FTK-BEL\\FTK.K203.csv and .pickle - \n",
      "\n",
      "2020-09-09 15:48:28,158 []  ... saved output ..\\data\\instances\\DNB-NR_FTK-2019-06_2019-12-31_MOD_FTK-BEL\\FTK.K204.csv and .pickle - \n",
      "\n",
      "2020-09-09 15:48:29,223 []  ... saved output ..\\data\\instances\\DNB-NR_FTK-2019-06_2019-12-31_MOD_FTK-BEL\\FTK.K205.csv and .pickle - \n",
      "\n",
      "2020-09-09 15:48:31,405 []  ... saved output ..\\data\\instances\\DNB-NR_FTK-2019-06_2019-12-31_MOD_FTK-BEL\\FTK.K206.csv and .pickle - \n",
      "\n",
      "2020-09-09 15:48:31,851 []  ... saved output ..\\data\\instances\\DNB-NR_FTK-2019-06_2019-12-31_MOD_FTK-BEL\\FTK.K207.csv and .pickle - \n",
      "\n",
      "2020-09-09 15:48:32,355 []  ... saved output ..\\data\\instances\\DNB-NR_FTK-2019-06_2019-12-31_MOD_FTK-BEL\\FTK.K208A.csv and .pickle - \n",
      "\n",
      "2020-09-09 15:48:33,001 []  ... saved output ..\\data\\instances\\DNB-NR_FTK-2019-06_2019-12-31_MOD_FTK-BEL\\FTK.K208B.csv and .pickle - \n",
      "\n",
      "2020-09-09 15:48:33,686 []  ... saved output ..\\data\\instances\\DNB-NR_FTK-2019-06_2019-12-31_MOD_FTK-BEL\\FTK.K209A.csv and .pickle - \n",
      "\n",
      "2020-09-09 15:48:34,399 []  ... saved output ..\\data\\instances\\DNB-NR_FTK-2019-06_2019-12-31_MOD_FTK-BEL\\FTK.K209B.csv and .pickle - \n",
      "\n",
      "2020-09-09 15:48:35,173 []  ... saved output ..\\data\\instances\\DNB-NR_FTK-2019-06_2019-12-31_MOD_FTK-BEL\\FTK.K210A.csv and .pickle - \n",
      "\n",
      "2020-09-09 15:48:35,690 []  ... saved output ..\\data\\instances\\DNB-NR_FTK-2019-06_2019-12-31_MOD_FTK-BEL\\FTK.K210B.csv and .pickle - \n",
      "\n"
     ]
    }
   ],
   "source": [
    "# create csv and pickle files\n",
    "# time_stamp = datetime.now().strftime(\"%Y_%m_%d-%H_%M_%S\")\n",
    "\n",
    "# use verbose_labels = False if you want the row-column code as column names\n",
    "# use verbose_labels = True if you want labels as column names\n",
    "\n",
    "for table in tables:\n",
    "    obj = src.generateCSV.generateCSVTables(xbrl_instance, join(XBRL_INSTANCES_PATH, subdir), \n",
    "                                            table = table, \n",
    "                                            lang = LANGUAGE,\n",
    "                                            verbose_labels = False)"
   ]
  },
  {
   "cell_type": "code",
   "execution_count": 11,
   "metadata": {},
   "outputs": [
    {
     "name": "stdout",
     "output_type": "stream",
     "text": [
      "2020-09-09 15:48:35,812 [info] Saved output HTML to ..\\data\\instances\\DNB-NR_FTK-2019-06_2019-12-31_MOD_FTK-BEL\\K000.html - DNB-NR_FTK-2019-06_2019-12-31_MOD_FTK-BEL.XBRL \n",
      "\n",
      "2020-09-09 15:48:35,852 [info] Saved output HTML to ..\\data\\instances\\DNB-NR_FTK-2019-06_2019-12-31_MOD_FTK-BEL\\K050.html - DNB-NR_FTK-2019-06_2019-12-31_MOD_FTK-BEL.XBRL \n",
      "\n",
      "2020-09-09 15:48:36,026 [info] Saved output HTML to ..\\data\\instances\\DNB-NR_FTK-2019-06_2019-12-31_MOD_FTK-BEL\\K101-1.html - DNB-NR_FTK-2019-06_2019-12-31_MOD_FTK-BEL.XBRL \n",
      "\n",
      "2020-09-09 15:48:36,285 [info] Saved output HTML to ..\\data\\instances\\DNB-NR_FTK-2019-06_2019-12-31_MOD_FTK-BEL\\K101-2.html - DNB-NR_FTK-2019-06_2019-12-31_MOD_FTK-BEL.XBRL \n",
      "\n",
      "2020-09-09 15:48:38,325 [info] Saved output HTML to ..\\data\\instances\\DNB-NR_FTK-2019-06_2019-12-31_MOD_FTK-BEL\\K201-1.html - DNB-NR_FTK-2019-06_2019-12-31_MOD_FTK-BEL.XBRL \n",
      "\n",
      "2020-09-09 15:48:38,425 [info] Saved output HTML to ..\\data\\instances\\DNB-NR_FTK-2019-06_2019-12-31_MOD_FTK-BEL\\K201-2.html - DNB-NR_FTK-2019-06_2019-12-31_MOD_FTK-BEL.XBRL \n",
      "\n",
      "2020-09-09 15:48:38,721 [info] Saved output HTML to ..\\data\\instances\\DNB-NR_FTK-2019-06_2019-12-31_MOD_FTK-BEL\\K202.html - DNB-NR_FTK-2019-06_2019-12-31_MOD_FTK-BEL.XBRL \n",
      "\n",
      "2020-09-09 15:48:39,563 [info] Saved output HTML to ..\\data\\instances\\DNB-NR_FTK-2019-06_2019-12-31_MOD_FTK-BEL\\K203.html - DNB-NR_FTK-2019-06_2019-12-31_MOD_FTK-BEL.XBRL \n",
      "\n",
      "2020-09-09 15:48:40,653 [info] Saved output HTML to ..\\data\\instances\\DNB-NR_FTK-2019-06_2019-12-31_MOD_FTK-BEL\\K204.html - DNB-NR_FTK-2019-06_2019-12-31_MOD_FTK-BEL.XBRL \n",
      "\n",
      "2020-09-09 15:48:40,999 [info] Saved output HTML to ..\\data\\instances\\DNB-NR_FTK-2019-06_2019-12-31_MOD_FTK-BEL\\K205.html - DNB-NR_FTK-2019-06_2019-12-31_MOD_FTK-BEL.XBRL \n",
      "\n",
      "2020-09-09 15:48:42,298 [info] Saved output HTML to ..\\data\\instances\\DNB-NR_FTK-2019-06_2019-12-31_MOD_FTK-BEL\\K206.html - DNB-NR_FTK-2019-06_2019-12-31_MOD_FTK-BEL.XBRL \n",
      "\n",
      "2020-09-09 15:48:42,351 [info] Saved output HTML to ..\\data\\instances\\DNB-NR_FTK-2019-06_2019-12-31_MOD_FTK-BEL\\K207.html - DNB-NR_FTK-2019-06_2019-12-31_MOD_FTK-BEL.XBRL \n",
      "\n",
      "2020-09-09 15:48:42,487 [info] Saved output HTML to ..\\data\\instances\\DNB-NR_FTK-2019-06_2019-12-31_MOD_FTK-BEL\\K208A.html - DNB-NR_FTK-2019-06_2019-12-31_MOD_FTK-BEL.XBRL \n",
      "\n",
      "2020-09-09 15:48:42,682 [info] Saved output HTML to ..\\data\\instances\\DNB-NR_FTK-2019-06_2019-12-31_MOD_FTK-BEL\\K208B.html - DNB-NR_FTK-2019-06_2019-12-31_MOD_FTK-BEL.XBRL \n",
      "\n",
      "2020-09-09 15:48:42,837 [info] Saved output HTML to ..\\data\\instances\\DNB-NR_FTK-2019-06_2019-12-31_MOD_FTK-BEL\\K209A.html - DNB-NR_FTK-2019-06_2019-12-31_MOD_FTK-BEL.XBRL \n",
      "\n",
      "2020-09-09 15:48:42,958 [info] Saved output HTML to ..\\data\\instances\\DNB-NR_FTK-2019-06_2019-12-31_MOD_FTK-BEL\\K209B.html - DNB-NR_FTK-2019-06_2019-12-31_MOD_FTK-BEL.XBRL \n",
      "\n",
      "2020-09-09 15:48:43,046 [info] Saved output HTML to ..\\data\\instances\\DNB-NR_FTK-2019-06_2019-12-31_MOD_FTK-BEL\\K210A.html - DNB-NR_FTK-2019-06_2019-12-31_MOD_FTK-BEL.XBRL \n",
      "\n",
      "2020-09-09 15:48:43,189 [info] Saved output HTML to ..\\data\\instances\\DNB-NR_FTK-2019-06_2019-12-31_MOD_FTK-BEL\\K210B.html - DNB-NR_FTK-2019-06_2019-12-31_MOD_FTK-BEL.XBRL \n",
      "\n"
     ]
    }
   ],
   "source": [
    "# create html files\n",
    "# for large tables this will take a lot of time!\n",
    "\n",
    "for table in tables:\n",
    "    ViewFileRenderedGrid.viewRenderedGrid(xbrl_instance,\n",
    "             join(XBRL_INSTANCES_PATH, subdir, table.genLabel(lang = LANGUAGE,strip = True, role = euRCcode)+\".html\"),\n",
    "             viewTblELR = table,\n",
    "             lang = LANGUAGE, \n",
    "             sourceView = None,\n",
    "             diffToFile = False)"
   ]
  },
  {
   "cell_type": "markdown",
   "metadata": {},
   "source": [
    "## Example to read a template from the pickle files"
   ]
  },
  {
   "cell_type": "markdown",
   "metadata": {},
   "source": [
    "The easiest way to access the data of a separate template is to read the corresponding pickle-file."
   ]
  },
  {
   "cell_type": "code",
   "execution_count": 12,
   "metadata": {},
   "outputs": [
    {
     "ename": "FileNotFoundError",
     "evalue": "[Errno 2] No such file or directory: '..\\\\data\\\\instances\\\\DNB-NR_FTK-2019-06_2019-12-31_MOD_FTK-BEL\\\\K206.pickle'",
     "output_type": "error",
     "traceback": [
      "\u001b[1;31m---------------------------------------------------------------------------\u001b[0m",
      "\u001b[1;31mFileNotFoundError\u001b[0m                         Traceback (most recent call last)",
      "\u001b[1;32m<ipython-input-12-afe21290a5da>\u001b[0m in \u001b[0;36m<module>\u001b[1;34m\u001b[0m\n\u001b[0;32m      1\u001b[0m \u001b[0mt\u001b[0m \u001b[1;33m=\u001b[0m \u001b[0mtables\u001b[0m\u001b[1;33m[\u001b[0m\u001b[1;36m10\u001b[0m\u001b[1;33m]\u001b[0m\u001b[1;33m.\u001b[0m\u001b[0mgenLabel\u001b[0m\u001b[1;33m(\u001b[0m\u001b[0mlang\u001b[0m \u001b[1;33m=\u001b[0m \u001b[0mLANGUAGE\u001b[0m\u001b[1;33m,\u001b[0m\u001b[0mstrip\u001b[0m \u001b[1;33m=\u001b[0m \u001b[1;32mTrue\u001b[0m\u001b[1;33m,\u001b[0m \u001b[0mrole\u001b[0m \u001b[1;33m=\u001b[0m \u001b[0meuRCcode\u001b[0m\u001b[1;33m)\u001b[0m\u001b[1;33m\u001b[0m\u001b[0m\n\u001b[1;32m----> 2\u001b[1;33m \u001b[0mdf\u001b[0m \u001b[1;33m=\u001b[0m \u001b[0mpd\u001b[0m\u001b[1;33m.\u001b[0m\u001b[0mread_pickle\u001b[0m\u001b[1;33m(\u001b[0m\u001b[0mjoin\u001b[0m\u001b[1;33m(\u001b[0m\u001b[0mXBRL_INSTANCES_PATH\u001b[0m\u001b[1;33m,\u001b[0m \u001b[0msubdir\u001b[0m\u001b[1;33m,\u001b[0m \u001b[0mt\u001b[0m \u001b[1;33m+\u001b[0m \u001b[1;34m\".pickle\"\u001b[0m\u001b[1;33m)\u001b[0m\u001b[1;33m)\u001b[0m\u001b[1;33m\u001b[0m\u001b[0m\n\u001b[0m\u001b[0;32m      3\u001b[0m \u001b[0mdf\u001b[0m\u001b[1;33m\u001b[0m\u001b[0m\n",
      "\u001b[1;32mc:\\users\\jan_h_000\\miniconda3\\envs\\your_env_name\\lib\\site-packages\\pandas\\io\\pickle.py\u001b[0m in \u001b[0;36mread_pickle\u001b[1;34m(path, compression)\u001b[0m\n\u001b[0;32m    143\u001b[0m     \"\"\"\n\u001b[0;32m    144\u001b[0m     \u001b[0mpath\u001b[0m \u001b[1;33m=\u001b[0m \u001b[0m_stringify_path\u001b[0m\u001b[1;33m(\u001b[0m\u001b[0mpath\u001b[0m\u001b[1;33m)\u001b[0m\u001b[1;33m\u001b[0m\u001b[0m\n\u001b[1;32m--> 145\u001b[1;33m     \u001b[0mf\u001b[0m\u001b[1;33m,\u001b[0m \u001b[0mfh\u001b[0m \u001b[1;33m=\u001b[0m \u001b[0m_get_handle\u001b[0m\u001b[1;33m(\u001b[0m\u001b[0mpath\u001b[0m\u001b[1;33m,\u001b[0m \u001b[1;34m\"rb\"\u001b[0m\u001b[1;33m,\u001b[0m \u001b[0mcompression\u001b[0m\u001b[1;33m=\u001b[0m\u001b[0mcompression\u001b[0m\u001b[1;33m,\u001b[0m \u001b[0mis_text\u001b[0m\u001b[1;33m=\u001b[0m\u001b[1;32mFalse\u001b[0m\u001b[1;33m)\u001b[0m\u001b[1;33m\u001b[0m\u001b[0m\n\u001b[0m\u001b[0;32m    146\u001b[0m \u001b[1;33m\u001b[0m\u001b[0m\n\u001b[0;32m    147\u001b[0m     \u001b[1;31m# 1) try standard libary Pickle\u001b[0m\u001b[1;33m\u001b[0m\u001b[1;33m\u001b[0m\u001b[0m\n",
      "\u001b[1;32mc:\\users\\jan_h_000\\miniconda3\\envs\\your_env_name\\lib\\site-packages\\pandas\\io\\common.py\u001b[0m in \u001b[0;36m_get_handle\u001b[1;34m(path_or_buf, mode, encoding, compression, memory_map, is_text)\u001b[0m\n\u001b[0;32m    403\u001b[0m         \u001b[1;32melse\u001b[0m\u001b[1;33m:\u001b[0m\u001b[1;33m\u001b[0m\u001b[0m\n\u001b[0;32m    404\u001b[0m             \u001b[1;31m# Binary mode\u001b[0m\u001b[1;33m\u001b[0m\u001b[1;33m\u001b[0m\u001b[0m\n\u001b[1;32m--> 405\u001b[1;33m             \u001b[0mf\u001b[0m \u001b[1;33m=\u001b[0m \u001b[0mopen\u001b[0m\u001b[1;33m(\u001b[0m\u001b[0mpath_or_buf\u001b[0m\u001b[1;33m,\u001b[0m \u001b[0mmode\u001b[0m\u001b[1;33m)\u001b[0m\u001b[1;33m\u001b[0m\u001b[0m\n\u001b[0m\u001b[0;32m    406\u001b[0m         \u001b[0mhandles\u001b[0m\u001b[1;33m.\u001b[0m\u001b[0mappend\u001b[0m\u001b[1;33m(\u001b[0m\u001b[0mf\u001b[0m\u001b[1;33m)\u001b[0m\u001b[1;33m\u001b[0m\u001b[0m\n\u001b[0;32m    407\u001b[0m \u001b[1;33m\u001b[0m\u001b[0m\n",
      "\u001b[1;31mFileNotFoundError\u001b[0m: [Errno 2] No such file or directory: '..\\\\data\\\\instances\\\\DNB-NR_FTK-2019-06_2019-12-31_MOD_FTK-BEL\\\\K206.pickle'"
     ]
    }
   ],
   "source": [
    "t = tables[10].genLabel(lang = LANGUAGE,strip = True, role = euRCcode)\n",
    "df = pd.read_pickle(join(XBRL_INSTANCES_PATH, subdir, t + \".pickle\"))\n",
    "df"
   ]
  },
  {
   "cell_type": "markdown",
   "metadata": {},
   "source": [
    "## Validate instance from Arelle"
   ]
  },
  {
   "cell_type": "markdown",
   "metadata": {},
   "source": [
    "It should be possible to validate the instance (performing the validation rules within the taxonomy) with Arelle with the following code. But we did not test this!"
   ]
  },
  {
   "cell_type": "code",
   "execution_count": 12,
   "metadata": {},
   "outputs": [],
   "source": [
    "# from arelle import Validate\n",
    "# Validate.validate(xbrl_instance)"
   ]
  },
  {
   "cell_type": "code",
   "execution_count": null,
   "metadata": {},
   "outputs": [],
   "source": []
  }
 ],
 "metadata": {
  "kernelspec": {
   "display_name": "Python 3",
   "language": "python",
   "name": "python3"
  },
  "language_info": {
   "codemirror_mode": {
    "name": "ipython",
    "version": 3
   },
   "file_extension": ".py",
   "mimetype": "text/x-python",
   "name": "python",
   "nbconvert_exporter": "python",
   "pygments_lexer": "ipython3",
   "version": "3.5.6"
  }
 },
 "nbformat": 4,
 "nbformat_minor": 2
}

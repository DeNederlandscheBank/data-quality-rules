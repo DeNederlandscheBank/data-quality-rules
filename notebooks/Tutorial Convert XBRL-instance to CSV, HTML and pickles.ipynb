{
 "cells": [
  {
   "cell_type": "markdown",
   "metadata": {},
   "source": [
    "# Tutorial Convert Solvency 2 XBRL-instances to CSV, HTML and pickles"
   ]
  },
  {
   "cell_type": "markdown",
   "metadata": {},
   "source": [
    "This tutorial describes how to convert XBRL-instances to csv-, html- and pickle files per template.\n",
    "\n",
    "We use Arelle, a open source package for processing XBRL. In addition this repository contains code to process the Solvency 2 and FTK instances efficiently."
   ]
  },
  {
   "cell_type": "code",
   "execution_count": 1,
   "metadata": {},
   "outputs": [],
   "source": [
    "from arelle import ModelManager, Cntlr, ModelXbrl, XbrlConst, RenderingEvaluator, \\\n",
    "                   ViewFileRenderedGrid, ModelFormulaObject\n",
    "from arelle import PackageManager, FileSource\n",
    "\n",
    "import src\n",
    "import pandas as pd\n",
    "import os\n",
    "from os import listdir, walk, makedirs, environ\n",
    "from os.path import isfile, join, exists, basename\n",
    "from datetime import datetime"
   ]
  },
  {
   "cell_type": "markdown",
   "metadata": {},
   "source": [
    "## Initialize the Arelle model manager"
   ]
  },
  {
   "cell_type": "markdown",
   "metadata": {},
   "source": [
    "First we specify the directories with the taxonomy and instances. You can put your own instances in the data/instances directory, or you can specify here the directories that you want to use."
   ]
  },
  {
   "cell_type": "code",
   "execution_count": 2,
   "metadata": {},
   "outputs": [],
   "source": [
    "# the taxonomy should be data/taxonomy/arelle\n",
    "# the instances you want to use should be in data/instances\n",
    "\n",
    "XBRL_TAXONOMY_PATH = join('..', 'data', 'taxonomies')\n",
    "XBRL_INSTANCES_PATH = join('..', 'data', 'instances')\n",
    "\n",
    "LANGUAGE = \"en-GB\"\n",
    "environ['XDG_CONFIG_HOME'] = XBRL_TAXONOMY_PATH\n",
    "\n",
    "# The role defined in the model.xsd schema for resources representing codes of rows or columns is\n",
    "euRCcode = 'http://www.eurofiling.info/xbrl/role/rc-code'"
   ]
  },
  {
   "cell_type": "markdown",
   "metadata": {},
   "source": [
    "To process XBRL, we need a controller and a modelmanager object. \n",
    "\n",
    "In the controller you can specify logging. Here we have set logging to print in this notebook."
   ]
  },
  {
   "cell_type": "code",
   "execution_count": 3,
   "metadata": {
    "scrolled": true
   },
   "outputs": [],
   "source": [
    "# Now we make a modelmanager\n",
    "# logFileName = \"logToPrint\" -> logging is print to notebook\n",
    "# logFileName = \"arelle.log\" -> logging is to filename (use .json or .xml for specific format)\n",
    "\n",
    "controller = Cntlr.Cntlr(logFileName = \"logToPrint\")\n",
    "controller.webCache.workOffline = True\n",
    "controller.logger.messageCodeFilter = None\n",
    "\n",
    "modelmanager = ModelManager.initialize(controller)\n",
    "modelmanager.defaultLang = LANGUAGE\n",
    "modelmanager.formulaOptions = ModelFormulaObject.FormulaOptions()\n",
    "modelmanager.loadCustomTransforms()"
   ]
  },
  {
   "cell_type": "markdown",
   "metadata": {},
   "source": [
    "## Initialize taxonomies"
   ]
  },
  {
   "cell_type": "code",
   "execution_count": 4,
   "metadata": {},
   "outputs": [
    {
     "name": "stdout",
     "output_type": "stream",
     "text": [
      "2020-10-14 11:36:36,909 [arelle.packageRewriteOverlap] Packages overlap the same rewrite start string http://www.eurofiling.info/ - EIOPA_SolvencyII_XBRL_Taxonomy_2.4.0_with_external_hotfix.zip , FTK Taxonomy 2.1.0_tcm46-386386.zip \n",
      "\n",
      "2020-10-14 11:36:36,925 [arelle.packageRewriteOverlap] Packages overlap the same rewrite start string http://www.xbrl.org/ - EIOPA_SolvencyII_XBRL_Taxonomy_2.4.0_with_external_hotfix.zip , FTK Taxonomy 2.1.0_tcm46-386386.zip \n",
      "\n"
     ]
    }
   ],
   "source": [
    "taxonomies = ['FTK Taxonomy 2.1.0_tcm46-386386.zip', \n",
    "              'EIOPA_SolvencyII_XBRL_Taxonomy_2.4.0_with_external_hotfix.zip']\n",
    "PackageManager.init(controller)\n",
    "for taxonomy in taxonomies:\n",
    "    fs = FileSource.openFileSource(filename = join(XBRL_TAXONOMY_PATH, taxonomy))\n",
    "    fs.open()\n",
    "    PackageManager.addPackage(controller, fs.baseurl)\n",
    "    fs.close()\n",
    "PackageManager.rebuildRemappings(controller)\n",
    "PackageManager.save(controller)"
   ]
  },
  {
   "cell_type": "markdown",
   "metadata": {},
   "source": [
    "## Read XBRL-instance in the modelmanager"
   ]
  },
  {
   "cell_type": "markdown",
   "metadata": {},
   "source": [
    "Now we are able to read and process an XBRL-instance.\n",
    "\n",
    "We read the example instances provided with the taxonomy."
   ]
  },
  {
   "cell_type": "code",
   "execution_count": 5,
   "metadata": {},
   "outputs": [],
   "source": [
    "# Solvency 2:\n",
    "prefix = \"\"\n",
    "# the example instance of the quarterly templates for solo\n",
    "instance_name = 'qrs_240_instance.xbrl'  \n",
    "# the example instance of the annual templates\n",
    "# instance_name = 'aeb_240_instance.xbrl'\n",
    "\n",
    "# FTK:\n",
    "# prefix = \"FTK.\"\n",
    "# the example instance of the FTK assets templates\n",
    "# instance_name = 'DNB-NR_FTK-2019-06_2019-12-31_MOD_FTK-BEL.XBRL'"
   ]
  },
  {
   "cell_type": "code",
   "execution_count": 6,
   "metadata": {},
   "outputs": [
    {
     "name": "stdout",
     "output_type": "stream",
     "text": [
      "2020-10-14 11:37:12,276 [] Formula xpath2 grammar initialized in 0,92 secs - \n",
      "\n",
      "2020-10-14 11:37:13,560 [info:profileActivity] ... formula parameter checks 1,284 secs\n",
      " - qrs_240_instance.xbrl \n",
      "\n",
      "2020-10-14 11:37:14,954 [info:profileActivity] ... custom function checks and compilation 1,394 secs\n",
      " - qrs_240_instance.xbrl \n",
      "\n"
     ]
    }
   ],
   "source": [
    "xbrl_instance = ModelXbrl.load(modelManager = modelmanager, \n",
    "                               url = join(XBRL_INSTANCES_PATH, instance_name))\n",
    "RenderingEvaluator.init(xbrl_instance)"
   ]
  },
  {
   "cell_type": "markdown",
   "metadata": {},
   "source": [
    "## Convert XBRL-instance to CSV and Pandas-pickle"
   ]
  },
  {
   "cell_type": "markdown",
   "metadata": {},
   "source": [
    "For each template or table in the instance we export the results to a csv file and a Pandas pickle-file. \n",
    "\n",
    "A Pandas pickle-file maintains the correct indices, whereas the csv does not, so if you want to access the data read the pickle (we included an example below).\n",
    "\n",
    "The csv-files and the pickle-files are stored in a subdirectory identical to the name of the XBRL-instance (without extension)"
   ]
  },
  {
   "cell_type": "code",
   "execution_count": 7,
   "metadata": {},
   "outputs": [],
   "source": [
    "# The location of the csv-files\n",
    "subdir = basename(instance_name).split(\".\")[0]"
   ]
  },
  {
   "cell_type": "code",
   "execution_count": 8,
   "metadata": {
    "scrolled": true
   },
   "outputs": [
    {
     "name": "stdout",
     "output_type": "stream",
     "text": [
      "S.01.01.02.01\n",
      "S.01.02.01.01\n",
      "S.02.01.02.01\n",
      "S.05.01.02.01\n",
      "S.05.01.02.02\n",
      "S.06.02.01.01\n",
      "S.06.02.01.02\n",
      "S.06.03.01.01\n",
      "S.08.01.01.01\n",
      "S.08.01.01.02\n",
      "S.08.02.01.01\n",
      "S.08.02.01.02\n",
      "S.12.01.02.01\n",
      "S.17.01.02.01\n",
      "S.23.01.01.01\n",
      "S.23.01.01.02\n",
      "S.28.01.01.01\n",
      "S.28.01.01.02\n",
      "S.28.01.01.03\n",
      "S.28.01.01.04\n",
      "S.28.01.01.05\n",
      "S.28.02.01.01\n",
      "S.28.02.01.02\n",
      "S.28.02.01.03\n",
      "S.28.02.01.04\n",
      "S.28.02.01.05\n",
      "S.28.02.01.06\n",
      "T.99.01.01.01\n"
     ]
    }
   ],
   "source": [
    "# get tables in instance and sort by short name and print the first ten tables\n",
    "tables = list(xbrl_instance.modelRenderingTables)\n",
    "tables.sort(key = lambda table: table.genLabel(lang = LANGUAGE,strip = True, role = euRCcode))\n",
    "for table in tables:\n",
    "    print(table.genLabel(lang = LANGUAGE,strip = True, role = euRCcode))"
   ]
  },
  {
   "cell_type": "code",
   "execution_count": 9,
   "metadata": {
    "scrolled": true
   },
   "outputs": [
    {
     "name": "stdout",
     "output_type": "stream",
     "text": [
      "2020-10-14 11:37:16,327 [xbrlte:closedDefinitionNodeZeroCardinality] Closed definition node s2md_c74 does not contribute at least one structural node - qrs_240_instance.xbrl 12, 16\n",
      "\n",
      "2020-10-14 11:37:16,442 []  ... saved output ..\\data\\instances\\qrs_240_instance\\S.01.01.02.01.csv and .pickle - \n",
      "\n",
      "2020-10-14 11:37:17,229 [xbrlte:closedDefinitionNodeZeroCardinality] Closed definition node s2md_c499 does not contribute at least one structural node - qrs_240_instance.xbrl 12, 16\n",
      "\n",
      "2020-10-14 11:37:17,263 []  ... saved output ..\\data\\instances\\qrs_240_instance\\S.01.02.01.01.csv and .pickle - \n",
      "\n",
      "2020-10-14 11:37:18,080 []  ... saved output ..\\data\\instances\\qrs_240_instance\\S.02.01.02.01.csv and .pickle - \n",
      "\n",
      "2020-10-14 11:37:19,077 []  ... saved output ..\\data\\instances\\qrs_240_instance\\S.05.01.02.01.csv and .pickle - \n",
      "\n",
      "2020-10-14 11:37:19,880 []  ... saved output ..\\data\\instances\\qrs_240_instance\\S.05.01.02.02.csv and .pickle - \n",
      "\n",
      "2020-10-14 11:37:21,016 []  ... saved output ..\\data\\instances\\qrs_240_instance\\S.06.02.01.01.csv and .pickle - \n",
      "\n",
      "2020-10-14 11:37:21,788 []  ... saved output ..\\data\\instances\\qrs_240_instance\\S.06.02.01.02.csv and .pickle - \n",
      "\n",
      "2020-10-14 11:37:22,480 []  ... saved output ..\\data\\instances\\qrs_240_instance\\S.06.03.01.01.csv and .pickle - \n",
      "\n",
      "2020-10-14 11:37:23,293 []  ... saved output ..\\data\\instances\\qrs_240_instance\\S.08.01.01.01.csv and .pickle - \n",
      "\n",
      "2020-10-14 11:37:24,039 []  ... saved output ..\\data\\instances\\qrs_240_instance\\S.08.01.01.02.csv and .pickle - \n",
      "\n",
      "2020-10-14 11:37:24,825 []  ... saved output ..\\data\\instances\\qrs_240_instance\\S.08.02.01.01.csv and .pickle - \n",
      "\n",
      "2020-10-14 11:37:25,516 []  ... saved output ..\\data\\instances\\qrs_240_instance\\S.08.02.01.02.csv and .pickle - \n",
      "\n",
      "2020-10-14 11:37:26,175 [xbrlte:closedDefinitionNodeZeroCardinality] Closed definition node s2md_c2703 does not contribute at least one structural node - qrs_240_instance.xbrl 12, 41\n",
      "\n",
      "2020-10-14 11:37:26,175 [xbrlte:closedDefinitionNodeZeroCardinality] Closed definition node s2md_c2707 does not contribute at least one structural node - qrs_240_instance.xbrl 12, 72\n",
      "\n",
      "2020-10-14 11:37:26,175 [xbrlte:closedDefinitionNodeZeroCardinality] Closed definition node s2md_c2714 does not contribute at least one structural node - qrs_240_instance.xbrl 12, 137\n",
      "\n",
      "2020-10-14 11:37:26,344 []  ... saved output ..\\data\\instances\\qrs_240_instance\\S.12.01.02.01.csv and .pickle - \n",
      "\n",
      "2020-10-14 11:37:27,291 []  ... saved output ..\\data\\instances\\qrs_240_instance\\S.17.01.02.01.csv and .pickle - \n",
      "\n",
      "2020-10-14 11:37:28,022 []  ... saved output ..\\data\\instances\\qrs_240_instance\\S.23.01.01.01.csv and .pickle - \n",
      "\n",
      "2020-10-14 11:37:28,646 [xbrlte:closedDefinitionNodeZeroCardinality] Closed definition node s2md_c4300 does not contribute at least one structural node - qrs_240_instance.xbrl 12, 16\n",
      "\n",
      "2020-10-14 11:37:28,664 []  ... saved output ..\\data\\instances\\qrs_240_instance\\S.23.01.01.02.csv and .pickle - \n",
      "\n",
      "2020-10-14 11:37:29,258 []  ... saved output ..\\data\\instances\\qrs_240_instance\\S.28.01.01.01.csv and .pickle - \n",
      "\n",
      "2020-10-14 11:37:29,918 []  ... saved output ..\\data\\instances\\qrs_240_instance\\S.28.01.01.02.csv and .pickle - \n",
      "\n",
      "2020-10-14 11:37:30,500 [xbrlte:closedDefinitionNodeZeroCardinality] Closed definition node s2md_c8902 does not contribute at least one structural node - qrs_240_instance.xbrl 12, 16\n",
      "\n",
      "2020-10-14 11:37:30,516 []  ... saved output ..\\data\\instances\\qrs_240_instance\\S.28.01.01.03.csv and .pickle - \n",
      "\n",
      "2020-10-14 11:37:31,099 []  ... saved output ..\\data\\instances\\qrs_240_instance\\S.28.01.01.04.csv and .pickle - \n",
      "\n",
      "2020-10-14 11:37:31,671 [xbrlte:closedDefinitionNodeZeroCardinality] Closed definition node s2md_c8912 does not contribute at least one structural node - qrs_240_instance.xbrl 12, 16\n",
      "\n",
      "2020-10-14 11:37:31,681 []  ... saved output ..\\data\\instances\\qrs_240_instance\\S.28.01.01.05.csv and .pickle - \n",
      "\n",
      "2020-10-14 11:37:32,342 []  ... saved output ..\\data\\instances\\qrs_240_instance\\S.28.02.01.01.csv and .pickle - \n",
      "\n",
      "2020-10-14 11:37:33,016 []  ... saved output ..\\data\\instances\\qrs_240_instance\\S.28.02.01.02.csv and .pickle - \n",
      "\n",
      "2020-10-14 11:37:33,627 []  ... saved output ..\\data\\instances\\qrs_240_instance\\S.28.02.01.03.csv and .pickle - \n",
      "\n",
      "2020-10-14 11:37:34,243 []  ... saved output ..\\data\\instances\\qrs_240_instance\\S.28.02.01.04.csv and .pickle - \n",
      "\n",
      "2020-10-14 11:37:34,870 [xbrlte:closedDefinitionNodeZeroCardinality] Closed definition node s2md_c8968 does not contribute at least one structural node - qrs_240_instance.xbrl 12, 16\n",
      "\n",
      "2020-10-14 11:37:34,888 []  ... saved output ..\\data\\instances\\qrs_240_instance\\S.28.02.01.05.csv and .pickle - \n",
      "\n",
      "2020-10-14 11:37:35,509 []  ... saved output ..\\data\\instances\\qrs_240_instance\\S.28.02.01.06.csv and .pickle - \n",
      "\n",
      "2020-10-14 11:37:36,534 []  ... saved output ..\\data\\instances\\qrs_240_instance\\T.99.01.01.01.csv and .pickle - \n",
      "\n"
     ]
    }
   ],
   "source": [
    "# create csv and pickle files\n",
    "# time_stamp = datetime.now().strftime(\"%Y_%m_%d-%H_%M_%S\")\n",
    "\n",
    "# use verbose_labels = False if you want the row-column code as column names\n",
    "# use verbose_labels = True if you want labels as column names\n",
    "\n",
    "for table in tables:\n",
    "    obj = src.generateCSV.generateCSVTables(xbrl_instance, join(XBRL_INSTANCES_PATH, subdir), \n",
    "                                            table = table, \n",
    "                                            lang = LANGUAGE,\n",
    "                                            verbose_labels = False)"
   ]
  },
  {
   "cell_type": "code",
   "execution_count": 10,
   "metadata": {},
   "outputs": [],
   "source": [
    "# construct one dataframe with all data from closed axis tables\n",
    "df_closed_axis = pd.DataFrame()  \n",
    "for table in tables:\n",
    "    table_name = table.genLabel(lang = LANGUAGE,strip = True, role = euRCcode)\n",
    "    if exists(join(XBRL_INSTANCES_PATH, subdir, table_name + '.pickle')):\n",
    "        df = pd.read_pickle(join(XBRL_INSTANCES_PATH, subdir, table_name + '.pickle'))  # read dataframe\n",
    "        if df.index.nlevels == 2:  # if 2 indexes (entity, period) --> closed axis table\n",
    "            if len(df_closed_axis) == 0:  \n",
    "                # no data yet --> copy dataframe\n",
    "                df_closed_axis = df.copy()\n",
    "            else:  \n",
    "                # join to existing dataframe\n",
    "                df_closed_axis = df_closed_axis.join(df)\n",
    "df_closed_axis.to_pickle(join(XBRL_INSTANCES_PATH, subdir, subdir + '.pickle'))"
   ]
  },
  {
   "cell_type": "markdown",
   "metadata": {},
   "source": [
    "## Example to read a template from the pickle files"
   ]
  },
  {
   "cell_type": "markdown",
   "metadata": {},
   "source": [
    "The easiest way to access the data of a separate template is to read the corresponding pickle-file."
   ]
  },
  {
   "cell_type": "code",
   "execution_count": 12,
   "metadata": {},
   "outputs": [
    {
     "data": {
      "text/html": [
       "<div>\n",
       "<style scoped>\n",
       "    .dataframe tbody tr th:only-of-type {\n",
       "        vertical-align: middle;\n",
       "    }\n",
       "\n",
       "    .dataframe tbody tr th {\n",
       "        vertical-align: top;\n",
       "    }\n",
       "\n",
       "    .dataframe thead th {\n",
       "        text-align: right;\n",
       "    }\n",
       "</style>\n",
       "<table border=\"1\" class=\"dataframe\">\n",
       "  <thead>\n",
       "    <tr style=\"text-align: right;\">\n",
       "      <th></th>\n",
       "      <th></th>\n",
       "      <th>S.12.01.02.01,R0010,C0020</th>\n",
       "      <th>S.12.01.02.01,R0010,C0030</th>\n",
       "      <th>S.12.01.02.01,R0010,C0060</th>\n",
       "      <th>S.12.01.02.01,R0010,C0090</th>\n",
       "      <th>S.12.01.02.01,R0010,C0100</th>\n",
       "      <th>S.12.01.02.01,R0010,C0150</th>\n",
       "      <th>S.12.01.02.01,R0010,C0160</th>\n",
       "      <th>S.12.01.02.01,R0010,C0190</th>\n",
       "      <th>S.12.01.02.01,R0010,C0200</th>\n",
       "      <th>S.12.01.02.01,R0010,C0210</th>\n",
       "      <th>...</th>\n",
       "      <th>S.12.01.02.01,R0200,C0020</th>\n",
       "      <th>S.12.01.02.01,R0200,C0030</th>\n",
       "      <th>S.12.01.02.01,R0200,C0060</th>\n",
       "      <th>S.12.01.02.01,R0200,C0090</th>\n",
       "      <th>S.12.01.02.01,R0200,C0100</th>\n",
       "      <th>S.12.01.02.01,R0200,C0150</th>\n",
       "      <th>S.12.01.02.01,R0200,C0160</th>\n",
       "      <th>S.12.01.02.01,R0200,C0190</th>\n",
       "      <th>S.12.01.02.01,R0200,C0200</th>\n",
       "      <th>S.12.01.02.01,R0200,C0210</th>\n",
       "    </tr>\n",
       "    <tr>\n",
       "      <th>entity</th>\n",
       "      <th>period</th>\n",
       "      <th></th>\n",
       "      <th></th>\n",
       "      <th></th>\n",
       "      <th></th>\n",
       "      <th></th>\n",
       "      <th></th>\n",
       "      <th></th>\n",
       "      <th></th>\n",
       "      <th></th>\n",
       "      <th></th>\n",
       "      <th></th>\n",
       "      <th></th>\n",
       "      <th></th>\n",
       "      <th></th>\n",
       "      <th></th>\n",
       "      <th></th>\n",
       "      <th></th>\n",
       "      <th></th>\n",
       "      <th></th>\n",
       "      <th></th>\n",
       "      <th></th>\n",
       "    </tr>\n",
       "  </thead>\n",
       "  <tbody>\n",
       "    <tr>\n",
       "      <th>0LFF1WMNTWG5PTIYYI38</th>\n",
       "      <th>2019-12-31</th>\n",
       "      <td>3.091352e+08</td>\n",
       "      <td>4.254319e+08</td>\n",
       "      <td>6.534239e+08</td>\n",
       "      <td>2.648805e+08</td>\n",
       "      <td>8.725597e+08</td>\n",
       "      <td>3.759592e+08</td>\n",
       "      <td>9.337171e+08</td>\n",
       "      <td>90930554.09</td>\n",
       "      <td>3.776374e+08</td>\n",
       "      <td>392468316.1</td>\n",
       "      <td>...</td>\n",
       "      <td>1.446843e+08</td>\n",
       "      <td>7.099264e+08</td>\n",
       "      <td>2.427328e+08</td>\n",
       "      <td>9.483667e+08</td>\n",
       "      <td>4.198717e+08</td>\n",
       "      <td>819253818.6</td>\n",
       "      <td>9.077553e+08</td>\n",
       "      <td>9.107667e+08</td>\n",
       "      <td>9.275308e+08</td>\n",
       "      <td>6.839209e+08</td>\n",
       "    </tr>\n",
       "  </tbody>\n",
       "</table>\n",
       "<p>1 rows × 112 columns</p>\n",
       "</div>"
      ],
      "text/plain": [
       "                                 S.12.01.02.01,R0010,C0020  \\\n",
       "entity               period                                  \n",
       "0LFF1WMNTWG5PTIYYI38 2019-12-31               3.091352e+08   \n",
       "\n",
       "                                 S.12.01.02.01,R0010,C0030  \\\n",
       "entity               period                                  \n",
       "0LFF1WMNTWG5PTIYYI38 2019-12-31               4.254319e+08   \n",
       "\n",
       "                                 S.12.01.02.01,R0010,C0060  \\\n",
       "entity               period                                  \n",
       "0LFF1WMNTWG5PTIYYI38 2019-12-31               6.534239e+08   \n",
       "\n",
       "                                 S.12.01.02.01,R0010,C0090  \\\n",
       "entity               period                                  \n",
       "0LFF1WMNTWG5PTIYYI38 2019-12-31               2.648805e+08   \n",
       "\n",
       "                                 S.12.01.02.01,R0010,C0100  \\\n",
       "entity               period                                  \n",
       "0LFF1WMNTWG5PTIYYI38 2019-12-31               8.725597e+08   \n",
       "\n",
       "                                 S.12.01.02.01,R0010,C0150  \\\n",
       "entity               period                                  \n",
       "0LFF1WMNTWG5PTIYYI38 2019-12-31               3.759592e+08   \n",
       "\n",
       "                                 S.12.01.02.01,R0010,C0160  \\\n",
       "entity               period                                  \n",
       "0LFF1WMNTWG5PTIYYI38 2019-12-31               9.337171e+08   \n",
       "\n",
       "                                 S.12.01.02.01,R0010,C0190  \\\n",
       "entity               period                                  \n",
       "0LFF1WMNTWG5PTIYYI38 2019-12-31                90930554.09   \n",
       "\n",
       "                                 S.12.01.02.01,R0010,C0200  \\\n",
       "entity               period                                  \n",
       "0LFF1WMNTWG5PTIYYI38 2019-12-31               3.776374e+08   \n",
       "\n",
       "                                 S.12.01.02.01,R0010,C0210  \\\n",
       "entity               period                                  \n",
       "0LFF1WMNTWG5PTIYYI38 2019-12-31                392468316.1   \n",
       "\n",
       "                                           ...              \\\n",
       "entity               period                ...               \n",
       "0LFF1WMNTWG5PTIYYI38 2019-12-31            ...               \n",
       "\n",
       "                                 S.12.01.02.01,R0200,C0020  \\\n",
       "entity               period                                  \n",
       "0LFF1WMNTWG5PTIYYI38 2019-12-31               1.446843e+08   \n",
       "\n",
       "                                 S.12.01.02.01,R0200,C0030  \\\n",
       "entity               period                                  \n",
       "0LFF1WMNTWG5PTIYYI38 2019-12-31               7.099264e+08   \n",
       "\n",
       "                                 S.12.01.02.01,R0200,C0060  \\\n",
       "entity               period                                  \n",
       "0LFF1WMNTWG5PTIYYI38 2019-12-31               2.427328e+08   \n",
       "\n",
       "                                 S.12.01.02.01,R0200,C0090  \\\n",
       "entity               period                                  \n",
       "0LFF1WMNTWG5PTIYYI38 2019-12-31               9.483667e+08   \n",
       "\n",
       "                                 S.12.01.02.01,R0200,C0100  \\\n",
       "entity               period                                  \n",
       "0LFF1WMNTWG5PTIYYI38 2019-12-31               4.198717e+08   \n",
       "\n",
       "                                 S.12.01.02.01,R0200,C0150  \\\n",
       "entity               period                                  \n",
       "0LFF1WMNTWG5PTIYYI38 2019-12-31                819253818.6   \n",
       "\n",
       "                                 S.12.01.02.01,R0200,C0160  \\\n",
       "entity               period                                  \n",
       "0LFF1WMNTWG5PTIYYI38 2019-12-31               9.077553e+08   \n",
       "\n",
       "                                 S.12.01.02.01,R0200,C0190  \\\n",
       "entity               period                                  \n",
       "0LFF1WMNTWG5PTIYYI38 2019-12-31               9.107667e+08   \n",
       "\n",
       "                                 S.12.01.02.01,R0200,C0200  \\\n",
       "entity               period                                  \n",
       "0LFF1WMNTWG5PTIYYI38 2019-12-31               9.275308e+08   \n",
       "\n",
       "                                 S.12.01.02.01,R0200,C0210  \n",
       "entity               period                                 \n",
       "0LFF1WMNTWG5PTIYYI38 2019-12-31               6.839209e+08  \n",
       "\n",
       "[1 rows x 112 columns]"
      ]
     },
     "execution_count": 12,
     "metadata": {},
     "output_type": "execute_result"
    }
   ],
   "source": [
    "t = tables[12].genLabel(lang = LANGUAGE,strip = True, role = euRCcode)\n",
    "df = pd.read_pickle(join(XBRL_INSTANCES_PATH, subdir, prefix + t + \".pickle\"))\n",
    "df"
   ]
  },
  {
   "cell_type": "markdown",
   "metadata": {},
   "source": [
    "If you want to obtain the dataframe with all data of the templates with closed axes, then you can use:"
   ]
  },
  {
   "cell_type": "code",
   "execution_count": 13,
   "metadata": {},
   "outputs": [
    {
     "data": {
      "text/html": [
       "<div>\n",
       "<style scoped>\n",
       "    .dataframe tbody tr th:only-of-type {\n",
       "        vertical-align: middle;\n",
       "    }\n",
       "\n",
       "    .dataframe tbody tr th {\n",
       "        vertical-align: top;\n",
       "    }\n",
       "\n",
       "    .dataframe thead th {\n",
       "        text-align: right;\n",
       "    }\n",
       "</style>\n",
       "<table border=\"1\" class=\"dataframe\">\n",
       "  <thead>\n",
       "    <tr style=\"text-align: right;\">\n",
       "      <th></th>\n",
       "      <th></th>\n",
       "      <th>S.01.01.02.01,R0010,C0010</th>\n",
       "      <th>S.01.01.02.01,R0030,C0010</th>\n",
       "      <th>S.01.01.02.01,R0110,C0010</th>\n",
       "      <th>S.01.01.02.01,R0140,C0010</th>\n",
       "      <th>S.01.01.02.01,R0150,C0010</th>\n",
       "      <th>S.01.01.02.01,R0170,C0010</th>\n",
       "      <th>S.01.01.02.01,R0180,C0010</th>\n",
       "      <th>S.01.01.02.01,R0220,C0010</th>\n",
       "      <th>S.01.01.02.01,R0290,C0010</th>\n",
       "      <th>S.01.01.02.01,R0410,C0010</th>\n",
       "      <th>...</th>\n",
       "      <th>S.28.02.01.06,R0520,C0140</th>\n",
       "      <th>S.28.02.01.06,R0520,C0150</th>\n",
       "      <th>S.28.02.01.06,R0530,C0140</th>\n",
       "      <th>S.28.02.01.06,R0530,C0150</th>\n",
       "      <th>S.28.02.01.06,R0540,C0140</th>\n",
       "      <th>S.28.02.01.06,R0540,C0150</th>\n",
       "      <th>S.28.02.01.06,R0550,C0140</th>\n",
       "      <th>S.28.02.01.06,R0550,C0150</th>\n",
       "      <th>S.28.02.01.06,R0560,C0140</th>\n",
       "      <th>S.28.02.01.06,R0560,C0150</th>\n",
       "    </tr>\n",
       "    <tr>\n",
       "      <th>entity</th>\n",
       "      <th>period</th>\n",
       "      <th></th>\n",
       "      <th></th>\n",
       "      <th></th>\n",
       "      <th></th>\n",
       "      <th></th>\n",
       "      <th></th>\n",
       "      <th></th>\n",
       "      <th></th>\n",
       "      <th></th>\n",
       "      <th></th>\n",
       "      <th></th>\n",
       "      <th></th>\n",
       "      <th></th>\n",
       "      <th></th>\n",
       "      <th></th>\n",
       "      <th></th>\n",
       "      <th></th>\n",
       "      <th></th>\n",
       "      <th></th>\n",
       "      <th></th>\n",
       "      <th></th>\n",
       "    </tr>\n",
       "  </thead>\n",
       "  <tbody>\n",
       "    <tr>\n",
       "      <th>0LFF1WMNTWG5PTIYYI38</th>\n",
       "      <th>2019-12-31</th>\n",
       "      <td>Reported</td>\n",
       "      <td>Exempted under Article 35 (6) to (8)</td>\n",
       "      <td>Exempted under Article 35 (6) to (8)</td>\n",
       "      <td>Not due annually as reported for Quarter 4</td>\n",
       "      <td>Reported</td>\n",
       "      <td>Not reported other reason</td>\n",
       "      <td>Not reported o/a no derivative transactions</td>\n",
       "      <td>Reported</td>\n",
       "      <td>Exempted under Article 35 (6) to (8)</td>\n",
       "      <td>Reported</td>\n",
       "      <td>...</td>\n",
       "      <td>5.854466e+08</td>\n",
       "      <td>4.441183e+08</td>\n",
       "      <td>5.668300e+08</td>\n",
       "      <td>7.504875e+08</td>\n",
       "      <td>9.070768e+08</td>\n",
       "      <td>2.163901e+08</td>\n",
       "      <td>563403902.1</td>\n",
       "      <td>9.515222e+08</td>\n",
       "      <td>5.487391e+08</td>\n",
       "      <td>5.306051e+08</td>\n",
       "    </tr>\n",
       "  </tbody>\n",
       "</table>\n",
       "<p>1 rows × 1163 columns</p>\n",
       "</div>"
      ],
      "text/plain": [
       "                                S.01.01.02.01,R0010,C0010  \\\n",
       "entity               period                                 \n",
       "0LFF1WMNTWG5PTIYYI38 2019-12-31                  Reported   \n",
       "\n",
       "                                            S.01.01.02.01,R0030,C0010  \\\n",
       "entity               period                                             \n",
       "0LFF1WMNTWG5PTIYYI38 2019-12-31  Exempted under Article 35 (6) to (8)   \n",
       "\n",
       "                                            S.01.01.02.01,R0110,C0010  \\\n",
       "entity               period                                             \n",
       "0LFF1WMNTWG5PTIYYI38 2019-12-31  Exempted under Article 35 (6) to (8)   \n",
       "\n",
       "                                                  S.01.01.02.01,R0140,C0010  \\\n",
       "entity               period                                                   \n",
       "0LFF1WMNTWG5PTIYYI38 2019-12-31  Not due annually as reported for Quarter 4   \n",
       "\n",
       "                                S.01.01.02.01,R0150,C0010  \\\n",
       "entity               period                                 \n",
       "0LFF1WMNTWG5PTIYYI38 2019-12-31                  Reported   \n",
       "\n",
       "                                 S.01.01.02.01,R0170,C0010  \\\n",
       "entity               period                                  \n",
       "0LFF1WMNTWG5PTIYYI38 2019-12-31  Not reported other reason   \n",
       "\n",
       "                                                   S.01.01.02.01,R0180,C0010  \\\n",
       "entity               period                                                    \n",
       "0LFF1WMNTWG5PTIYYI38 2019-12-31  Not reported o/a no derivative transactions   \n",
       "\n",
       "                                S.01.01.02.01,R0220,C0010  \\\n",
       "entity               period                                 \n",
       "0LFF1WMNTWG5PTIYYI38 2019-12-31                  Reported   \n",
       "\n",
       "                                            S.01.01.02.01,R0290,C0010  \\\n",
       "entity               period                                             \n",
       "0LFF1WMNTWG5PTIYYI38 2019-12-31  Exempted under Article 35 (6) to (8)   \n",
       "\n",
       "                                S.01.01.02.01,R0410,C0010  \\\n",
       "entity               period                                 \n",
       "0LFF1WMNTWG5PTIYYI38 2019-12-31                  Reported   \n",
       "\n",
       "                                           ...             \\\n",
       "entity               period                ...              \n",
       "0LFF1WMNTWG5PTIYYI38 2019-12-31            ...              \n",
       "\n",
       "                                S.28.02.01.06,R0520,C0140  \\\n",
       "entity               period                                 \n",
       "0LFF1WMNTWG5PTIYYI38 2019-12-31              5.854466e+08   \n",
       "\n",
       "                                S.28.02.01.06,R0520,C0150  \\\n",
       "entity               period                                 \n",
       "0LFF1WMNTWG5PTIYYI38 2019-12-31              4.441183e+08   \n",
       "\n",
       "                                S.28.02.01.06,R0530,C0140  \\\n",
       "entity               period                                 \n",
       "0LFF1WMNTWG5PTIYYI38 2019-12-31              5.668300e+08   \n",
       "\n",
       "                                S.28.02.01.06,R0530,C0150  \\\n",
       "entity               period                                 \n",
       "0LFF1WMNTWG5PTIYYI38 2019-12-31              7.504875e+08   \n",
       "\n",
       "                                S.28.02.01.06,R0540,C0140  \\\n",
       "entity               period                                 \n",
       "0LFF1WMNTWG5PTIYYI38 2019-12-31              9.070768e+08   \n",
       "\n",
       "                                S.28.02.01.06,R0540,C0150  \\\n",
       "entity               period                                 \n",
       "0LFF1WMNTWG5PTIYYI38 2019-12-31              2.163901e+08   \n",
       "\n",
       "                                S.28.02.01.06,R0550,C0140  \\\n",
       "entity               period                                 \n",
       "0LFF1WMNTWG5PTIYYI38 2019-12-31               563403902.1   \n",
       "\n",
       "                                S.28.02.01.06,R0550,C0150  \\\n",
       "entity               period                                 \n",
       "0LFF1WMNTWG5PTIYYI38 2019-12-31              9.515222e+08   \n",
       "\n",
       "                                S.28.02.01.06,R0560,C0140  \\\n",
       "entity               period                                 \n",
       "0LFF1WMNTWG5PTIYYI38 2019-12-31              5.487391e+08   \n",
       "\n",
       "                                S.28.02.01.06,R0560,C0150  \n",
       "entity               period                                \n",
       "0LFF1WMNTWG5PTIYYI38 2019-12-31              5.306051e+08  \n",
       "\n",
       "[1 rows x 1163 columns]"
      ]
     },
     "execution_count": 13,
     "metadata": {},
     "output_type": "execute_result"
    }
   ],
   "source": [
    "df = pd.read_pickle(join(XBRL_INSTANCES_PATH, subdir, subdir + \".pickle\"))\n",
    "df"
   ]
  },
  {
   "cell_type": "markdown",
   "metadata": {},
   "source": [
    "## Validate instance from Arelle"
   ]
  },
  {
   "cell_type": "markdown",
   "metadata": {},
   "source": [
    "It should be possible to validate the instance (performing the validation rules within the taxonomy) with Arelle with the following code. But we did not test this!"
   ]
  },
  {
   "cell_type": "code",
   "execution_count": 14,
   "metadata": {},
   "outputs": [],
   "source": [
    "# modelXbrl = modelmanager.load(join(XBRL_INSTANCES_PATH, instance_name))"
   ]
  },
  {
   "cell_type": "code",
   "execution_count": 15,
   "metadata": {},
   "outputs": [],
   "source": [
    "# controller = Cntlr.Cntlr(logFileName = \"logToPrint\")\n",
    "# controller.webCache.workOffline = True\n",
    "# controller.setLogCodeFilter(None)\n",
    "# controller.logger.setLevel('INFO')"
   ]
  },
  {
   "cell_type": "code",
   "execution_count": 16,
   "metadata": {},
   "outputs": [],
   "source": [
    "# modelmanager.validateInferDecimals = True\n",
    "# modelmanager.validateCalcLB = True\n",
    "# modelmanager.validate()"
   ]
  }
 ],
 "metadata": {
  "kernelspec": {
   "display_name": "Python 3",
   "language": "python",
   "name": "python3"
  },
  "language_info": {
   "codemirror_mode": {
    "name": "ipython",
    "version": 3
   },
   "file_extension": ".py",
   "mimetype": "text/x-python",
   "name": "python",
   "nbconvert_exporter": "python",
   "pygments_lexer": "ipython3",
   "version": "3.6.12"
  }
 },
 "nbformat": 4,
 "nbformat_minor": 2
}

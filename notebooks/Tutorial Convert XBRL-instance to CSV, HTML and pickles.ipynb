{
 "cells": [
  {
   "cell_type": "markdown",
   "metadata": {},
   "source": [
    "# Tutorial Convert Solvency 2 XBRL-instances to CSV, HTML and pickles"
   ]
  },
  {
   "cell_type": "markdown",
   "metadata": {},
   "source": [
    "This tutorial describes how to convert XBRL-instances to csv-, html- and pickle files per template.\n",
    "\n",
    "We use Arelle, a open source package for processing XBRL. In addition this repository contains code to process the Solvency 2 and FTK instances efficiently."
   ]
  },
  {
   "cell_type": "code",
   "execution_count": 1,
   "metadata": {},
   "outputs": [],
   "source": [
    "from arelle import ModelManager, Cntlr, ModelXbrl, XbrlConst, RenderingEvaluator, \\\n",
    "                   ViewFileRenderedGrid, ModelFormulaObject"
   ]
  },
  {
   "cell_type": "code",
   "execution_count": 2,
   "metadata": {},
   "outputs": [],
   "source": [
    "import src\n",
    "import pandas as pd\n",
    "from os import listdir, walk, makedirs, environ\n",
    "from os.path import isfile, join, exists, basename\n",
    "from datetime import datetime"
   ]
  },
  {
   "cell_type": "markdown",
   "metadata": {},
   "source": [
    "## Initialize the Arelle model manager"
   ]
  },
  {
   "cell_type": "markdown",
   "metadata": {},
   "source": [
    "First we specify the directories with the taxonomy and instances. You can put your own instances in the data/instances directory, or you can specify here the directories that you want to use."
   ]
  },
  {
   "cell_type": "code",
   "execution_count": 3,
   "metadata": {},
   "outputs": [],
   "source": [
    "# the taxonomy should be data/taxonomy/arelle\n",
    "# the instances you want to use should be in data/instances\n",
    "\n",
    "XBRL_TAXONOMY_PATH = join('..', 'data', 'taxonomy')\n",
    "XBRL_INSTANCES_PATH = join('..', 'data', 'instances')\n",
    "\n",
    "LANGUAGE = \"en-GB\"\n",
    "environ['XDG_CONFIG_HOME'] = XBRL_TAXONOMY_PATH\n",
    "\n",
    "# The role defined in the model.xsd schema for resources representing codes of rows or columns is\n",
    "euRCcode = 'http://www.eurofiling.info/xbrl/role/rc-code'"
   ]
  },
  {
   "cell_type": "markdown",
   "metadata": {},
   "source": [
    "To process XBRL, we need a controller and a modelmanager object. \n",
    "\n",
    "In the controller you can specify logging. Here we have set logging to print in this notebook."
   ]
  },
  {
   "cell_type": "code",
   "execution_count": 4,
   "metadata": {
    "scrolled": true
   },
   "outputs": [],
   "source": [
    "# Now we make a modelmanager\n",
    "# logFileName = \"logToPrint\" -> logging is print to notebook\n",
    "# logFileName = \"arelle.log\" -> logging is to filename (use .json or .xml for specific format)\n",
    "\n",
    "controller = Cntlr.Cntlr(logFileName = \"logToPrint\")\n",
    "controller.webCache.workOffline = True\n",
    "controller.logger.messageCodeFilter = None\n",
    "\n",
    "modelmanager = ModelManager.initialize(controller)\n",
    "modelmanager.defaultLang = LANGUAGE\n",
    "modelmanager.formulaOptions = ModelFormulaObject.FormulaOptions()\n",
    "modelmanager.loadCustomTransforms()"
   ]
  },
  {
   "cell_type": "markdown",
   "metadata": {},
   "source": [
    "## Read XBRL-instance in the modelmanager"
   ]
  },
  {
   "cell_type": "markdown",
   "metadata": {},
   "source": [
    "Now we are able to read and process an XBRL-instance.\n",
    "\n",
    "We read the example instances provided with the taxonomy."
   ]
  },
  {
   "cell_type": "code",
   "execution_count": 5,
   "metadata": {},
   "outputs": [],
   "source": [
    "# the example instance of the quarterly templates for solo\n",
    "instance_name = 'qrs_240_instance.xbrl'  \n",
    "\n",
    "# the example instance of the annual templates\n",
    "# instance_name = 'aeb_240_instance.xbrl'\n",
    "\n",
    "# the example instance of the FTK assets templates\n",
    "# instance_name = 'DNB-NR_FTK-2019-06_2019-12-31_MOD_FTK-BEL.XBRL'"
   ]
  },
  {
   "cell_type": "code",
   "execution_count": 6,
   "metadata": {},
   "outputs": [
    {
     "name": "stdout",
     "output_type": "stream",
     "text": [
      "2020-09-02 11:47:44,470 [] Formula xpath2 grammar initialized in 0,89 secs - \n",
      "\n",
      "2020-09-02 11:47:45,695 [info:profileActivity] ... formula parameter checks 1,217 secs\n",
      " - qrs_240_instance.xbrl \n",
      "\n",
      "2020-09-02 11:47:47,118 [info:profileActivity] ... custom function checks and compilation 1,423 secs\n",
      " - qrs_240_instance.xbrl \n",
      "\n"
     ]
    }
   ],
   "source": [
    "xbrl_instance = ModelXbrl.load(modelmanager, join(XBRL_INSTANCES_PATH, instance_name))\n",
    "RenderingEvaluator.init(xbrl_instance)"
   ]
  },
  {
   "cell_type": "markdown",
   "metadata": {},
   "source": [
    "## Convert XBRL-instance to CSV and Pandas-pickle"
   ]
  },
  {
   "cell_type": "markdown",
   "metadata": {},
   "source": [
    "For each template or table in the instance we export the results to a csv file and a Pandas pickle-file. \n",
    "\n",
    "A Pandas pickle-file maintains the correct indices, whereas the csv does not, so if you want to access the data read the pickle (we included an example below).\n",
    "\n",
    "The csv-files and the pickle-files are stored in a subdirectory identical to the name of the XBRL-instance (without extension)"
   ]
  },
  {
   "cell_type": "code",
   "execution_count": 7,
   "metadata": {},
   "outputs": [],
   "source": [
    "# The location of the csv-files\n",
    "subdir = basename(instance_name).split(\".\")[0]"
   ]
  },
  {
   "cell_type": "code",
   "execution_count": 8,
   "metadata": {
    "scrolled": true
   },
   "outputs": [
    {
     "name": "stdout",
     "output_type": "stream",
     "text": [
      "S.01.01.02.01\n",
      "S.01.02.01.01\n",
      "S.02.01.02.01\n",
      "S.05.01.02.01\n",
      "S.05.01.02.02\n",
      "S.06.02.01.01\n",
      "S.06.02.01.02\n",
      "S.06.03.01.01\n",
      "S.08.01.01.01\n",
      "S.08.01.01.02\n"
     ]
    }
   ],
   "source": [
    "# get tables in instance and sort by short name and print the first ten tables\n",
    "tables = list(xbrl_instance.modelRenderingTables)\n",
    "tables.sort(key = lambda table: table.genLabel(lang = LANGUAGE,strip = True, role = euRCcode))\n",
    "for table in tables[0:10]:\n",
    "    print(table.genLabel(lang = LANGUAGE,strip = True, role = euRCcode))"
   ]
  },
  {
   "cell_type": "code",
   "execution_count": 9,
   "metadata": {
    "scrolled": true
   },
   "outputs": [
    {
     "name": "stdout",
     "output_type": "stream",
     "text": [
      "2020-09-02 11:47:48,503 [xbrlte:closedDefinitionNodeZeroCardinality] Closed definition node s2md_c74 does not contribute at least one structural node - http://eiopa.europa.eu/eu/xbrl/s2md/fws/solvency/solvency2/2019-07-15/tab/s.01.01.02.01/s.01.01.02.01-rend.xml 12, 16\n",
      "\n",
      "2020-09-02 11:47:48,908 []  ... saved output ..\\data\\instances\\qrs_240_instance\\S.01.01.02.01.csv and .pickle - \n",
      "\n",
      "2020-09-02 11:47:49,806 [xbrlte:closedDefinitionNodeZeroCardinality] Closed definition node s2md_c499 does not contribute at least one structural node - http://eiopa.europa.eu/eu/xbrl/s2md/fws/solvency/solvency2/2019-07-15/tab/s.01.02.01.01/s.01.02.01.01-rend.xml 12, 16\n",
      "\n",
      "2020-09-02 11:47:49,854 []  ... saved output ..\\data\\instances\\qrs_240_instance\\S.01.02.01.01.csv and .pickle - \n",
      "\n",
      "2020-09-02 11:47:50,877 []  ... saved output ..\\data\\instances\\qrs_240_instance\\S.02.01.02.01.csv and .pickle - \n",
      "\n",
      "2020-09-02 11:47:52,070 []  ... saved output ..\\data\\instances\\qrs_240_instance\\S.05.01.02.01.csv and .pickle - \n",
      "\n",
      "2020-09-02 11:47:53,112 []  ... saved output ..\\data\\instances\\qrs_240_instance\\S.05.01.02.02.csv and .pickle - \n",
      "\n",
      "2020-09-02 11:47:54,024 []  ... saved output ..\\data\\instances\\qrs_240_instance\\S.06.02.01.01.csv and .pickle - \n",
      "\n",
      "2020-09-02 11:47:54,996 []  ... saved output ..\\data\\instances\\qrs_240_instance\\S.06.02.01.02.csv and .pickle - \n",
      "\n",
      "2020-09-02 11:47:56,091 []  ... saved output ..\\data\\instances\\qrs_240_instance\\S.06.03.01.01.csv and .pickle - \n",
      "\n",
      "2020-09-02 11:47:56,873 []  ... saved output ..\\data\\instances\\qrs_240_instance\\S.08.01.01.01.csv and .pickle - \n",
      "\n",
      "2020-09-02 11:47:57,632 []  ... saved output ..\\data\\instances\\qrs_240_instance\\S.08.01.01.02.csv and .pickle - \n",
      "\n",
      "2020-09-02 11:47:58,314 []  ... saved output ..\\data\\instances\\qrs_240_instance\\S.08.02.01.01.csv and .pickle - \n",
      "\n",
      "2020-09-02 11:47:58,996 []  ... saved output ..\\data\\instances\\qrs_240_instance\\S.08.02.01.02.csv and .pickle - \n",
      "\n",
      "2020-09-02 11:47:59,649 [xbrlte:closedDefinitionNodeZeroCardinality] Closed definition node s2md_c2703 does not contribute at least one structural node - http://eiopa.europa.eu/eu/xbrl/s2md/fws/solvency/solvency2/2019-07-15/tab/s.12.01.02.01/s.12.01.02.01-rend.xml 12, 41\n",
      "\n",
      "2020-09-02 11:47:59,649 [xbrlte:closedDefinitionNodeZeroCardinality] Closed definition node s2md_c2707 does not contribute at least one structural node - http://eiopa.europa.eu/eu/xbrl/s2md/fws/solvency/solvency2/2019-07-15/tab/s.12.01.02.01/s.12.01.02.01-rend.xml 12, 72\n",
      "\n",
      "2020-09-02 11:47:59,649 [xbrlte:closedDefinitionNodeZeroCardinality] Closed definition node s2md_c2714 does not contribute at least one structural node - http://eiopa.europa.eu/eu/xbrl/s2md/fws/solvency/solvency2/2019-07-15/tab/s.12.01.02.01/s.12.01.02.01-rend.xml 12, 137\n",
      "\n",
      "2020-09-02 11:47:59,789 []  ... saved output ..\\data\\instances\\qrs_240_instance\\S.12.01.02.01.csv and .pickle - \n",
      "\n",
      "2020-09-02 11:48:00,721 []  ... saved output ..\\data\\instances\\qrs_240_instance\\S.17.01.02.01.csv and .pickle - \n",
      "\n",
      "2020-09-02 11:48:01,483 []  ... saved output ..\\data\\instances\\qrs_240_instance\\S.23.01.01.01.csv and .pickle - \n",
      "\n",
      "2020-09-02 11:48:02,173 [xbrlte:closedDefinitionNodeZeroCardinality] Closed definition node s2md_c4300 does not contribute at least one structural node - http://eiopa.europa.eu/eu/xbrl/s2md/fws/solvency/solvency2/2019-07-15/tab/s.23.01.01.02/s.23.01.01.02-rend.xml 12, 16\n",
      "\n",
      "2020-09-02 11:48:02,183 []  ... saved output ..\\data\\instances\\qrs_240_instance\\S.23.01.01.02.csv and .pickle - \n",
      "\n",
      "2020-09-02 11:48:02,866 []  ... saved output ..\\data\\instances\\qrs_240_instance\\S.28.01.01.01.csv and .pickle - \n",
      "\n",
      "2020-09-02 11:48:03,598 []  ... saved output ..\\data\\instances\\qrs_240_instance\\S.28.01.01.02.csv and .pickle - \n",
      "\n",
      "2020-09-02 11:48:04,300 [xbrlte:closedDefinitionNodeZeroCardinality] Closed definition node s2md_c8902 does not contribute at least one structural node - http://eiopa.europa.eu/eu/xbrl/s2md/fws/solvency/solvency2/2019-07-15/tab/s.28.01.01.03/s.28.01.01.03-rend.xml 12, 16\n",
      "\n",
      "2020-09-02 11:48:04,308 []  ... saved output ..\\data\\instances\\qrs_240_instance\\S.28.01.01.03.csv and .pickle - \n",
      "\n",
      "2020-09-02 11:48:04,939 []  ... saved output ..\\data\\instances\\qrs_240_instance\\S.28.01.01.04.csv and .pickle - \n",
      "\n",
      "2020-09-02 11:48:05,644 [xbrlte:closedDefinitionNodeZeroCardinality] Closed definition node s2md_c8912 does not contribute at least one structural node - http://eiopa.europa.eu/eu/xbrl/s2md/fws/solvency/solvency2/2019-07-15/tab/s.28.01.01.05/s.28.01.01.05-rend.xml 12, 16\n",
      "\n",
      "2020-09-02 11:48:05,651 []  ... saved output ..\\data\\instances\\qrs_240_instance\\S.28.01.01.05.csv and .pickle - \n",
      "\n",
      "2020-09-02 11:48:06,354 []  ... saved output ..\\data\\instances\\qrs_240_instance\\S.28.02.01.01.csv and .pickle - \n",
      "\n",
      "2020-09-02 11:48:07,498 []  ... saved output ..\\data\\instances\\qrs_240_instance\\S.28.02.01.02.csv and .pickle - \n",
      "\n",
      "2020-09-02 11:48:08,169 []  ... saved output ..\\data\\instances\\qrs_240_instance\\S.28.02.01.03.csv and .pickle - \n",
      "\n",
      "2020-09-02 11:48:08,899 []  ... saved output ..\\data\\instances\\qrs_240_instance\\S.28.02.01.04.csv and .pickle - \n",
      "\n",
      "2020-09-02 11:48:09,833 [xbrlte:closedDefinitionNodeZeroCardinality] Closed definition node s2md_c8968 does not contribute at least one structural node - http://eiopa.europa.eu/eu/xbrl/s2md/fws/solvency/solvency2/2019-07-15/tab/s.28.02.01.05/s.28.02.01.05-rend.xml 12, 16\n",
      "\n",
      "2020-09-02 11:48:09,851 []  ... saved output ..\\data\\instances\\qrs_240_instance\\S.28.02.01.05.csv and .pickle - \n",
      "\n",
      "2020-09-02 11:48:10,785 []  ... saved output ..\\data\\instances\\qrs_240_instance\\S.28.02.01.06.csv and .pickle - \n",
      "\n",
      "2020-09-02 11:48:11,727 []  ... saved output ..\\data\\instances\\qrs_240_instance\\T.99.01.01.01.csv and .pickle - \n",
      "\n"
     ]
    }
   ],
   "source": [
    "# create csv and pickle files\n",
    "# time_stamp = datetime.now().strftime(\"%Y_%m_%d-%H_%M_%S\")\n",
    "\n",
    "# use verbose_labels = False if you want the row-column code as column names\n",
    "# use verbose_labels = True if you want labels as column names\n",
    "\n",
    "for table in tables:\n",
    "    obj = src.generateCSV.generateCSVTables(xbrl_instance, join(XBRL_INSTANCES_PATH, subdir), \n",
    "                                            table = table, \n",
    "                                            lang = LANGUAGE,\n",
    "                                            verbose_labels = False)"
   ]
  },
  {
   "cell_type": "code",
   "execution_count": 10,
   "metadata": {},
   "outputs": [
    {
     "name": "stdout",
     "output_type": "stream",
     "text": [
      "2020-09-02 11:48:11,908 [xbrlte:closedDefinitionNodeZeroCardinality] Closed definition node s2md_c74 does not contribute at least one structural node - http://eiopa.europa.eu/eu/xbrl/s2md/fws/solvency/solvency2/2019-07-15/tab/s.01.01.02.01/s.01.01.02.01-rend.xml 12, 16\n",
      "\n",
      "2020-09-02 11:48:11,946 [info] Saved output HTML to ..\\data\\instances\\qrs_240_instance\\S.01.01.02.01.html - qrs_240_instance.xbrl \n",
      "\n",
      "2020-09-02 11:48:11,946 [xbrlte:closedDefinitionNodeZeroCardinality] Closed definition node s2md_c499 does not contribute at least one structural node - http://eiopa.europa.eu/eu/xbrl/s2md/fws/solvency/solvency2/2019-07-15/tab/s.01.02.01.01/s.01.02.01.01-rend.xml 12, 16\n",
      "\n",
      "2020-09-02 11:48:11,977 [info] Saved output HTML to ..\\data\\instances\\qrs_240_instance\\S.01.02.01.01.html - qrs_240_instance.xbrl \n",
      "\n",
      "2020-09-02 11:48:12,046 [info] Saved output HTML to ..\\data\\instances\\qrs_240_instance\\S.02.01.02.01.html - qrs_240_instance.xbrl \n",
      "\n",
      "2020-09-02 11:48:12,425 [info] Saved output HTML to ..\\data\\instances\\qrs_240_instance\\S.05.01.02.01.html - qrs_240_instance.xbrl \n",
      "\n",
      "2020-09-02 11:48:12,567 [info] Saved output HTML to ..\\data\\instances\\qrs_240_instance\\S.05.01.02.02.html - qrs_240_instance.xbrl \n",
      "\n",
      "2020-09-02 11:48:12,614 [info] Saved output HTML to ..\\data\\instances\\qrs_240_instance\\S.06.02.01.01.html - qrs_240_instance.xbrl \n",
      "\n",
      "2020-09-02 11:48:12,683 [info] Saved output HTML to ..\\data\\instances\\qrs_240_instance\\S.06.02.01.02.html - qrs_240_instance.xbrl \n",
      "\n",
      "2020-09-02 11:48:12,714 [info] Saved output HTML to ..\\data\\instances\\qrs_240_instance\\S.06.03.01.01.html - qrs_240_instance.xbrl \n",
      "\n",
      "2020-09-02 11:48:12,761 [info] Saved output HTML to ..\\data\\instances\\qrs_240_instance\\S.08.01.01.01.html - qrs_240_instance.xbrl \n",
      "\n",
      "2020-09-02 11:48:12,830 [info] Saved output HTML to ..\\data\\instances\\qrs_240_instance\\S.08.01.01.02.html - qrs_240_instance.xbrl \n",
      "\n",
      "2020-09-02 11:48:12,868 [info] Saved output HTML to ..\\data\\instances\\qrs_240_instance\\S.08.02.01.01.html - qrs_240_instance.xbrl \n",
      "\n",
      "2020-09-02 11:48:12,930 [info] Saved output HTML to ..\\data\\instances\\qrs_240_instance\\S.08.02.01.02.html - qrs_240_instance.xbrl \n",
      "\n",
      "2020-09-02 11:48:12,930 [xbrlte:closedDefinitionNodeZeroCardinality] Closed definition node s2md_c2703 does not contribute at least one structural node - http://eiopa.europa.eu/eu/xbrl/s2md/fws/solvency/solvency2/2019-07-15/tab/s.12.01.02.01/s.12.01.02.01-rend.xml 12, 41\n",
      "\n",
      "2020-09-02 11:48:12,930 [xbrlte:closedDefinitionNodeZeroCardinality] Closed definition node s2md_c2707 does not contribute at least one structural node - http://eiopa.europa.eu/eu/xbrl/s2md/fws/solvency/solvency2/2019-07-15/tab/s.12.01.02.01/s.12.01.02.01-rend.xml 12, 72\n",
      "\n",
      "2020-09-02 11:48:12,930 [xbrlte:closedDefinitionNodeZeroCardinality] Closed definition node s2md_c2714 does not contribute at least one structural node - http://eiopa.europa.eu/eu/xbrl/s2md/fws/solvency/solvency2/2019-07-15/tab/s.12.01.02.01/s.12.01.02.01-rend.xml 12, 137\n",
      "\n",
      "2020-09-02 11:48:13,015 [info] Saved output HTML to ..\\data\\instances\\qrs_240_instance\\S.12.01.02.01.html - qrs_240_instance.xbrl \n",
      "\n",
      "2020-09-02 11:48:13,198 [info] Saved output HTML to ..\\data\\instances\\qrs_240_instance\\S.17.01.02.01.html - qrs_240_instance.xbrl \n",
      "\n",
      "2020-09-02 11:48:13,330 [info] Saved output HTML to ..\\data\\instances\\qrs_240_instance\\S.23.01.01.01.html - qrs_240_instance.xbrl \n",
      "\n",
      "2020-09-02 11:48:13,330 [xbrlte:closedDefinitionNodeZeroCardinality] Closed definition node s2md_c4300 does not contribute at least one structural node - http://eiopa.europa.eu/eu/xbrl/s2md/fws/solvency/solvency2/2019-07-15/tab/s.23.01.01.02/s.23.01.01.02-rend.xml 12, 16\n",
      "\n",
      "2020-09-02 11:48:13,346 [xbrlte:closedDefinitionNodeZeroCardinality] Closed definition node s2md_c4300 does not contribute at least one structural node - http://eiopa.europa.eu/eu/xbrl/s2md/fws/solvency/solvency2/2019-07-15/tab/s.23.01.01.02/s.23.01.01.02-rend.xml 12, 16\n",
      "\n",
      "2020-09-02 11:48:13,361 [info] Saved output HTML to ..\\data\\instances\\qrs_240_instance\\S.23.01.01.02.html - qrs_240_instance.xbrl \n",
      "\n",
      "2020-09-02 11:48:13,377 [info] Saved output HTML to ..\\data\\instances\\qrs_240_instance\\S.28.01.01.01.html - qrs_240_instance.xbrl \n",
      "\n",
      "2020-09-02 11:48:13,446 [info] Saved output HTML to ..\\data\\instances\\qrs_240_instance\\S.28.01.01.02.html - qrs_240_instance.xbrl \n",
      "\n",
      "2020-09-02 11:48:13,446 [xbrlte:closedDefinitionNodeZeroCardinality] Closed definition node s2md_c8902 does not contribute at least one structural node - http://eiopa.europa.eu/eu/xbrl/s2md/fws/solvency/solvency2/2019-07-15/tab/s.28.01.01.03/s.28.01.01.03-rend.xml 12, 16\n",
      "\n",
      "2020-09-02 11:48:13,461 [info] Saved output HTML to ..\\data\\instances\\qrs_240_instance\\S.28.01.01.03.html - qrs_240_instance.xbrl \n",
      "\n",
      "2020-09-02 11:48:13,477 [info] Saved output HTML to ..\\data\\instances\\qrs_240_instance\\S.28.01.01.04.html - qrs_240_instance.xbrl \n",
      "\n",
      "2020-09-02 11:48:13,477 [xbrlte:closedDefinitionNodeZeroCardinality] Closed definition node s2md_c8912 does not contribute at least one structural node - http://eiopa.europa.eu/eu/xbrl/s2md/fws/solvency/solvency2/2019-07-15/tab/s.28.01.01.05/s.28.01.01.05-rend.xml 12, 16\n",
      "\n",
      "2020-09-02 11:48:13,499 [xbrlte:closedDefinitionNodeZeroCardinality] Closed definition node s2md_c8912 does not contribute at least one structural node - http://eiopa.europa.eu/eu/xbrl/s2md/fws/solvency/solvency2/2019-07-15/tab/s.28.01.01.05/s.28.01.01.05-rend.xml 12, 16\n",
      "\n",
      "2020-09-02 11:48:13,515 [info] Saved output HTML to ..\\data\\instances\\qrs_240_instance\\S.28.01.01.05.html - qrs_240_instance.xbrl \n",
      "\n",
      "2020-09-02 11:48:13,530 [info] Saved output HTML to ..\\data\\instances\\qrs_240_instance\\S.28.02.01.01.html - qrs_240_instance.xbrl \n",
      "\n",
      "2020-09-02 11:48:13,615 [info] Saved output HTML to ..\\data\\instances\\qrs_240_instance\\S.28.02.01.02.html - qrs_240_instance.xbrl \n",
      "\n",
      "2020-09-02 11:48:13,631 [info] Saved output HTML to ..\\data\\instances\\qrs_240_instance\\S.28.02.01.03.html - qrs_240_instance.xbrl \n",
      "\n",
      "2020-09-02 11:48:13,662 [info] Saved output HTML to ..\\data\\instances\\qrs_240_instance\\S.28.02.01.04.html - qrs_240_instance.xbrl \n",
      "\n",
      "2020-09-02 11:48:13,662 [xbrlte:closedDefinitionNodeZeroCardinality] Closed definition node s2md_c8968 does not contribute at least one structural node - http://eiopa.europa.eu/eu/xbrl/s2md/fws/solvency/solvency2/2019-07-15/tab/s.28.02.01.05/s.28.02.01.05-rend.xml 12, 16\n",
      "\n",
      "2020-09-02 11:48:13,677 [xbrlte:closedDefinitionNodeZeroCardinality] Closed definition node s2md_c8968 does not contribute at least one structural node - http://eiopa.europa.eu/eu/xbrl/s2md/fws/solvency/solvency2/2019-07-15/tab/s.28.02.01.05/s.28.02.01.05-rend.xml 12, 16\n",
      "\n",
      "2020-09-02 11:48:13,700 [info] Saved output HTML to ..\\data\\instances\\qrs_240_instance\\S.28.02.01.05.html - qrs_240_instance.xbrl \n",
      "\n",
      "2020-09-02 11:48:13,731 [info] Saved output HTML to ..\\data\\instances\\qrs_240_instance\\S.28.02.01.06.html - qrs_240_instance.xbrl \n",
      "\n",
      "2020-09-02 11:48:13,746 [info] Saved output HTML to ..\\data\\instances\\qrs_240_instance\\T.99.01.01.01.html - qrs_240_instance.xbrl \n",
      "\n"
     ]
    }
   ],
   "source": [
    "# create html files\n",
    "# for large tables this will take a lot of time!\n",
    "\n",
    "for table in tables:\n",
    "    ViewFileRenderedGrid.viewRenderedGrid(xbrl_instance,\n",
    "             join(XBRL_INSTANCES_PATH, subdir, table.genLabel(lang = LANGUAGE,strip = True, role = euRCcode)+\".html\"),\n",
    "             viewTblELR = table,\n",
    "             lang = LANGUAGE, \n",
    "             sourceView = None,\n",
    "             diffToFile = False)"
   ]
  },
  {
   "cell_type": "markdown",
   "metadata": {},
   "source": [
    "## Example to read a template from the pickle files"
   ]
  },
  {
   "cell_type": "markdown",
   "metadata": {},
   "source": [
    "The easiest way to access the data of a separate template is to read the corresponding pickle-file."
   ]
  },
  {
   "cell_type": "code",
   "execution_count": 11,
   "metadata": {},
   "outputs": [
    {
     "data": {
      "text/html": [
       "<div>\n",
       "<style scoped>\n",
       "    .dataframe tbody tr th:only-of-type {\n",
       "        vertical-align: middle;\n",
       "    }\n",
       "\n",
       "    .dataframe tbody tr th {\n",
       "        vertical-align: top;\n",
       "    }\n",
       "\n",
       "    .dataframe thead th {\n",
       "        text-align: right;\n",
       "    }\n",
       "</style>\n",
       "<table border=\"1\" class=\"dataframe\">\n",
       "  <thead>\n",
       "    <tr style=\"text-align: right;\">\n",
       "      <th></th>\n",
       "      <th></th>\n",
       "      <th></th>\n",
       "      <th></th>\n",
       "      <th></th>\n",
       "      <th></th>\n",
       "      <th>S.08.02.01.01,C0060</th>\n",
       "      <th>S.08.02.01.01,C0080</th>\n",
       "      <th>S.08.02.01.01,C0110</th>\n",
       "      <th>S.08.02.01.01,C0120</th>\n",
       "      <th>S.08.02.01.01,C0130</th>\n",
       "      <th>S.08.02.01.01,C0140</th>\n",
       "      <th>S.08.02.01.01,C0150</th>\n",
       "      <th>S.08.02.01.01,C0160</th>\n",
       "      <th>S.08.02.01.01,C0170</th>\n",
       "      <th>S.08.02.01.01,C0180</th>\n",
       "      <th>S.08.02.01.01,C0190</th>\n",
       "      <th>S.08.02.01.01,C0200</th>\n",
       "      <th>S.08.02.01.01,C0210</th>\n",
       "      <th>S.08.02.01.01,C0220</th>\n",
       "      <th>S.08.02.01.01,C0230</th>\n",
       "    </tr>\n",
       "    <tr>\n",
       "      <th>entity</th>\n",
       "      <th>period</th>\n",
       "      <th>S.08.02.01.01,C0440</th>\n",
       "      <th>S.08.02.01.01,C0040</th>\n",
       "      <th>S.08.02.01.01,C0070</th>\n",
       "      <th>S.08.02.01.01,C0090</th>\n",
       "      <th></th>\n",
       "      <th></th>\n",
       "      <th></th>\n",
       "      <th></th>\n",
       "      <th></th>\n",
       "      <th></th>\n",
       "      <th></th>\n",
       "      <th></th>\n",
       "      <th></th>\n",
       "      <th></th>\n",
       "      <th></th>\n",
       "      <th></th>\n",
       "      <th></th>\n",
       "      <th></th>\n",
       "      <th></th>\n",
       "    </tr>\n",
       "  </thead>\n",
       "  <tbody>\n",
       "    <tr>\n",
       "      <th>0LFF1WMNTWG5PTIYYI38</th>\n",
       "      <th>2019-12-31</th>\n",
       "      <th>1</th>\n",
       "      <th>ISIN/RB3299788372</th>\n",
       "      <th>1</th>\n",
       "      <th>ISIN/HV1587599059</th>\n",
       "      <td>Ring Fenced Funds</td>\n",
       "      <td>Unit-linked or index-linked</td>\n",
       "      <td>Macro hedge [MA]</td>\n",
       "      <td>8.654659e+08</td>\n",
       "      <td>5 - FL-FX: Deliver floating-for-fixed</td>\n",
       "      <td>96272553.07</td>\n",
       "      <td>5.749187e+08</td>\n",
       "      <td>3.812666e+08</td>\n",
       "      <td>308859.0</td>\n",
       "      <td>818385.0</td>\n",
       "      <td>2.704652e+08</td>\n",
       "      <td>64831970.44</td>\n",
       "      <td>128634715.4</td>\n",
       "      <td>2015-07-08 00:00:00</td>\n",
       "      <td>1.789155e+08</td>\n",
       "    </tr>\n",
       "  </tbody>\n",
       "</table>\n",
       "</div>"
      ],
      "text/plain": [
       "                                                                                                                S.08.02.01.01,C0060  \\\n",
       "entity               period     S.08.02.01.01,C0440 S.08.02.01.01,C0040 S.08.02.01.01,C0070 S.08.02.01.01,C0090                       \n",
       "0LFF1WMNTWG5PTIYYI38 2019-12-31 1                   ISIN/RB3299788372   1                   ISIN/HV1587599059     Ring Fenced Funds   \n",
       "\n",
       "                                                                                                                         S.08.02.01.01,C0080  \\\n",
       "entity               period     S.08.02.01.01,C0440 S.08.02.01.01,C0040 S.08.02.01.01,C0070 S.08.02.01.01,C0090                                \n",
       "0LFF1WMNTWG5PTIYYI38 2019-12-31 1                   ISIN/RB3299788372   1                   ISIN/HV1587599059    Unit-linked or index-linked   \n",
       "\n",
       "                                                                                                                S.08.02.01.01,C0110  \\\n",
       "entity               period     S.08.02.01.01,C0440 S.08.02.01.01,C0040 S.08.02.01.01,C0070 S.08.02.01.01,C0090                       \n",
       "0LFF1WMNTWG5PTIYYI38 2019-12-31 1                   ISIN/RB3299788372   1                   ISIN/HV1587599059      Macro hedge [MA]   \n",
       "\n",
       "                                                                                                                 S.08.02.01.01,C0120  \\\n",
       "entity               period     S.08.02.01.01,C0440 S.08.02.01.01,C0040 S.08.02.01.01,C0070 S.08.02.01.01,C0090                        \n",
       "0LFF1WMNTWG5PTIYYI38 2019-12-31 1                   ISIN/RB3299788372   1                   ISIN/HV1587599059           8.654659e+08   \n",
       "\n",
       "                                                                                                                                   S.08.02.01.01,C0130  \\\n",
       "entity               period     S.08.02.01.01,C0440 S.08.02.01.01,C0040 S.08.02.01.01,C0070 S.08.02.01.01,C0090                                          \n",
       "0LFF1WMNTWG5PTIYYI38 2019-12-31 1                   ISIN/RB3299788372   1                   ISIN/HV1587599059    5 - FL-FX: Deliver floating-for-fixed   \n",
       "\n",
       "                                                                                                                 S.08.02.01.01,C0140  \\\n",
       "entity               period     S.08.02.01.01,C0440 S.08.02.01.01,C0040 S.08.02.01.01,C0070 S.08.02.01.01,C0090                        \n",
       "0LFF1WMNTWG5PTIYYI38 2019-12-31 1                   ISIN/RB3299788372   1                   ISIN/HV1587599059            96272553.07   \n",
       "\n",
       "                                                                                                                 S.08.02.01.01,C0150  \\\n",
       "entity               period     S.08.02.01.01,C0440 S.08.02.01.01,C0040 S.08.02.01.01,C0070 S.08.02.01.01,C0090                        \n",
       "0LFF1WMNTWG5PTIYYI38 2019-12-31 1                   ISIN/RB3299788372   1                   ISIN/HV1587599059           5.749187e+08   \n",
       "\n",
       "                                                                                                                 S.08.02.01.01,C0160  \\\n",
       "entity               period     S.08.02.01.01,C0440 S.08.02.01.01,C0040 S.08.02.01.01,C0070 S.08.02.01.01,C0090                        \n",
       "0LFF1WMNTWG5PTIYYI38 2019-12-31 1                   ISIN/RB3299788372   1                   ISIN/HV1587599059           3.812666e+08   \n",
       "\n",
       "                                                                                                                 S.08.02.01.01,C0170  \\\n",
       "entity               period     S.08.02.01.01,C0440 S.08.02.01.01,C0040 S.08.02.01.01,C0070 S.08.02.01.01,C0090                        \n",
       "0LFF1WMNTWG5PTIYYI38 2019-12-31 1                   ISIN/RB3299788372   1                   ISIN/HV1587599059               308859.0   \n",
       "\n",
       "                                                                                                                 S.08.02.01.01,C0180  \\\n",
       "entity               period     S.08.02.01.01,C0440 S.08.02.01.01,C0040 S.08.02.01.01,C0070 S.08.02.01.01,C0090                        \n",
       "0LFF1WMNTWG5PTIYYI38 2019-12-31 1                   ISIN/RB3299788372   1                   ISIN/HV1587599059               818385.0   \n",
       "\n",
       "                                                                                                                 S.08.02.01.01,C0190  \\\n",
       "entity               period     S.08.02.01.01,C0440 S.08.02.01.01,C0040 S.08.02.01.01,C0070 S.08.02.01.01,C0090                        \n",
       "0LFF1WMNTWG5PTIYYI38 2019-12-31 1                   ISIN/RB3299788372   1                   ISIN/HV1587599059           2.704652e+08   \n",
       "\n",
       "                                                                                                                 S.08.02.01.01,C0200  \\\n",
       "entity               period     S.08.02.01.01,C0440 S.08.02.01.01,C0040 S.08.02.01.01,C0070 S.08.02.01.01,C0090                        \n",
       "0LFF1WMNTWG5PTIYYI38 2019-12-31 1                   ISIN/RB3299788372   1                   ISIN/HV1587599059            64831970.44   \n",
       "\n",
       "                                                                                                                 S.08.02.01.01,C0210  \\\n",
       "entity               period     S.08.02.01.01,C0440 S.08.02.01.01,C0040 S.08.02.01.01,C0070 S.08.02.01.01,C0090                        \n",
       "0LFF1WMNTWG5PTIYYI38 2019-12-31 1                   ISIN/RB3299788372   1                   ISIN/HV1587599059            128634715.4   \n",
       "\n",
       "                                                                                                                 S.08.02.01.01,C0220  \\\n",
       "entity               period     S.08.02.01.01,C0440 S.08.02.01.01,C0040 S.08.02.01.01,C0070 S.08.02.01.01,C0090                        \n",
       "0LFF1WMNTWG5PTIYYI38 2019-12-31 1                   ISIN/RB3299788372   1                   ISIN/HV1587599059    2015-07-08 00:00:00   \n",
       "\n",
       "                                                                                                                 S.08.02.01.01,C0230  \n",
       "entity               period     S.08.02.01.01,C0440 S.08.02.01.01,C0040 S.08.02.01.01,C0070 S.08.02.01.01,C0090                       \n",
       "0LFF1WMNTWG5PTIYYI38 2019-12-31 1                   ISIN/RB3299788372   1                   ISIN/HV1587599059           1.789155e+08  "
      ]
     },
     "execution_count": 11,
     "metadata": {},
     "output_type": "execute_result"
    }
   ],
   "source": [
    "t = tables[10].genLabel(lang = LANGUAGE,strip = True, role = euRCcode)\n",
    "df = pd.read_pickle(join(XBRL_INSTANCES_PATH, subdir, t + \".pickle\"))\n",
    "df"
   ]
  },
  {
   "cell_type": "markdown",
   "metadata": {},
   "source": [
    "## Validate instance from Arelle"
   ]
  },
  {
   "cell_type": "markdown",
   "metadata": {},
   "source": [
    "It should be possible to validate the instance (performing the validation rules within the taxonomy) with Arelle with the following code. But we did not test this!"
   ]
  },
  {
   "cell_type": "code",
   "execution_count": 12,
   "metadata": {},
   "outputs": [],
   "source": [
    "# from arelle import Validate\n",
    "# Validate.validate(xbrl_instance)"
   ]
  },
  {
   "cell_type": "code",
   "execution_count": null,
   "metadata": {},
   "outputs": [],
   "source": []
  }
 ],
 "metadata": {
  "kernelspec": {
   "display_name": "Python 3",
   "language": "python",
   "name": "python3"
  },
  "language_info": {
   "codemirror_mode": {
    "name": "ipython",
    "version": 3
   },
   "file_extension": ".py",
   "mimetype": "text/x-python",
   "name": "python",
   "nbconvert_exporter": "python",
   "pygments_lexer": "ipython3",
   "version": "3.5.6"
  }
 },
 "nbformat": 4,
 "nbformat_minor": 2
}

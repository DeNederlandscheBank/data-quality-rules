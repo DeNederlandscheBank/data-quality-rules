{
 "cells": [
  {
   "cell_type": "markdown",
   "metadata": {},
   "source": [
    "# Tutorial Convert Solvency 2 XBRL-instances to CSV, HTML and pickles"
   ]
  },
  {
   "cell_type": "markdown",
   "metadata": {},
   "source": [
    "This tutorial describes how to convert XBRL-instances to csv-, html- and pickle files per template.\n",
    "\n",
    "We use Arelle, a open source package for processing XBRL. In addition this repository contains code to process the Solvency 2 and FTK instances efficiently."
   ]
  },
  {
   "cell_type": "code",
   "execution_count": 1,
   "metadata": {},
   "outputs": [],
   "source": [
    "from arelle import ModelManager, Cntlr, ModelXbrl, XbrlConst, RenderingEvaluator, \\\n",
    "                   ViewFileRenderedGrid, ModelFormulaObject\n",
    "from arelle import PackageManager, FileSource\n",
    "\n",
    "import src\n",
    "import pandas as pd\n",
    "import os\n",
    "from os import listdir, walk, makedirs, environ\n",
    "from os.path import isfile, join, exists, basename\n",
    "from datetime import datetime"
   ]
  },
  {
   "cell_type": "markdown",
   "metadata": {},
   "source": [
    "## Initialize the Arelle model manager"
   ]
  },
  {
   "cell_type": "markdown",
   "metadata": {},
   "source": [
    "First we specify the directories with the taxonomy and instances. You can put your own instances in the data/instances directory, or you can specify here the directories that you want to use."
   ]
  },
  {
   "cell_type": "code",
   "execution_count": 2,
   "metadata": {},
   "outputs": [],
   "source": [
    "# the taxonomy should be data/taxonomy/arelle\n",
    "# the instances you want to use should be in data/instances\n",
    "\n",
    "XBRL_TAXONOMY_PATH = join('..', 'data', 'taxonomies')\n",
    "XBRL_INSTANCES_PATH = join('..', 'tests', 'data', 'test_instances')\n",
    "\n",
    "LANGUAGE = \"en-GB\"\n",
    "environ['XDG_CONFIG_HOME'] = XBRL_TAXONOMY_PATH\n",
    "\n",
    "# The role defined in the model.xsd schema for resources representing codes of rows or columns is\n",
    "euRCcode = 'http://www.eurofiling.info/xbrl/role/rc-code'"
   ]
  },
  {
   "cell_type": "markdown",
   "metadata": {},
   "source": [
    "To process XBRL, we need a controller and a modelmanager object. \n",
    "\n",
    "In the controller you can specify logging. Here we have set logging to print in this notebook."
   ]
  },
  {
   "cell_type": "code",
   "execution_count": 3,
   "metadata": {
    "scrolled": true
   },
   "outputs": [],
   "source": [
    "# Now we make a modelmanager\n",
    "# logFileName = \"logToPrint\" -> logging is print to notebook\n",
    "# logFileName = \"arelle.log\" -> logging is to filename (use .json or .xml for specific format)\n",
    "\n",
    "controller = Cntlr.Cntlr(logFileName = \"logToPrint\")\n",
    "controller.webCache.workOffline = True\n",
    "controller.logger.messageCodeFilter = None\n",
    "\n",
    "modelmanager = ModelManager.initialize(controller)\n",
    "modelmanager.defaultLang = LANGUAGE\n",
    "modelmanager.formulaOptions = ModelFormulaObject.FormulaOptions()\n",
    "modelmanager.loadCustomTransforms()"
   ]
  },
  {
   "cell_type": "markdown",
   "metadata": {},
   "source": [
    "## Initialize taxonomies"
   ]
  },
  {
   "cell_type": "code",
   "execution_count": 4,
   "metadata": {},
   "outputs": [
    {
     "name": "stdout",
     "output_type": "stream",
     "text": [
      "2020-09-29 09:02:35,196 [arelle.packageRewriteOverlap] Packages overlap the same rewrite start string http://www.eurofiling.info/ - EIOPA_SolvencyII_XBRL_Taxonomy_2.4.0_with_external_hotfix.zip , FTK Taxonomy 2.1.0_tcm46-386386.zip \n",
      "\n",
      "2020-09-29 09:02:35,212 [arelle.packageRewriteOverlap] Packages overlap the same rewrite start string http://www.xbrl.org/ - EIOPA_SolvencyII_XBRL_Taxonomy_2.4.0_with_external_hotfix.zip , FTK Taxonomy 2.1.0_tcm46-386386.zip \n",
      "\n"
     ]
    }
   ],
   "source": [
    "taxonomies = ['FTK Taxonomy 2.1.0_tcm46-386386.zip', \n",
    "              'EIOPA_SolvencyII_XBRL_Taxonomy_2.4.0_with_external_hotfix.zip']\n",
    "PackageManager.init(controller)\n",
    "for taxonomy in taxonomies:\n",
    "    fs = FileSource.openFileSource(filename = join(XBRL_TAXONOMY_PATH, taxonomy))\n",
    "    fs.open()\n",
    "    PackageManager.addPackage(controller, fs.baseurl)\n",
    "    fs.close()\n",
    "PackageManager.rebuildRemappings(controller)\n",
    "PackageManager.save(controller)"
   ]
  },
  {
   "cell_type": "markdown",
   "metadata": {},
   "source": [
    "## Read XBRL-instance in the modelmanager"
   ]
  },
  {
   "cell_type": "markdown",
   "metadata": {},
   "source": [
    "Now we are able to read and process an XBRL-instance.\n",
    "\n",
    "We read the example instances provided with the taxonomy."
   ]
  },
  {
   "cell_type": "code",
   "execution_count": 5,
   "metadata": {},
   "outputs": [],
   "source": [
    "# the example instance of the quarterly templates for solo\n",
    "instance_name = 'qrs_240_instance.xbrl'  \n",
    "\n",
    "# the example instance of the annual templates\n",
    "# instance_name = 'aeb_240_instance.xbrl'\n",
    "\n",
    "# the example instance of the FTK assets templates\n",
    "# instance_name = 'DNB-NR_FTK-2019-06_2019-12-31_MOD_FTK-ALL.XBRL'"
   ]
  },
  {
   "cell_type": "code",
   "execution_count": 6,
   "metadata": {},
   "outputs": [
    {
     "name": "stdout",
     "output_type": "stream",
     "text": [
      "2020-09-29 09:03:26,026 [] Formula xpath2 grammar initialized in 0,92 secs - \n",
      "\n",
      "2020-09-29 09:03:27,240 [info:profileActivity] ... formula parameter checks 1,214 secs\n",
      " - qrs_240_instance.xbrl \n",
      "\n",
      "2020-09-29 09:03:28,625 [info:profileActivity] ... custom function checks and compilation 1,376 secs\n",
      " - qrs_240_instance.xbrl \n",
      "\n"
     ]
    }
   ],
   "source": [
    "xbrl_instance = ModelXbrl.load(modelManager = modelmanager, \n",
    "                               url = join(XBRL_INSTANCES_PATH, instance_name))\n",
    "RenderingEvaluator.init(xbrl_instance)"
   ]
  },
  {
   "cell_type": "markdown",
   "metadata": {},
   "source": [
    "## Convert XBRL-instance to CSV and Pandas-pickle"
   ]
  },
  {
   "cell_type": "markdown",
   "metadata": {},
   "source": [
    "For each template or table in the instance we export the results to a csv file and a Pandas pickle-file. \n",
    "\n",
    "A Pandas pickle-file maintains the correct indices, whereas the csv does not, so if you want to access the data read the pickle (we included an example below).\n",
    "\n",
    "The csv-files and the pickle-files are stored in a subdirectory identical to the name of the XBRL-instance (without extension)"
   ]
  },
  {
   "cell_type": "code",
   "execution_count": 7,
   "metadata": {},
   "outputs": [],
   "source": [
    "# The location of the csv-files\n",
    "subdir = basename(instance_name).split(\".\")[0]"
   ]
  },
  {
   "cell_type": "code",
   "execution_count": 8,
   "metadata": {
    "scrolled": true
   },
   "outputs": [
    {
     "name": "stdout",
     "output_type": "stream",
     "text": [
      "S.01.01.02.01\n",
      "S.01.02.01.01\n",
      "S.02.01.02.01\n",
      "S.05.01.02.01\n",
      "S.05.01.02.02\n",
      "S.06.02.01.01\n",
      "S.06.02.01.02\n",
      "S.06.03.01.01\n",
      "S.08.01.01.01\n",
      "S.08.01.01.02\n",
      "S.08.02.01.01\n",
      "S.08.02.01.02\n",
      "S.12.01.02.01\n",
      "S.17.01.02.01\n",
      "S.23.01.01.01\n",
      "S.23.01.01.02\n",
      "S.28.01.01.01\n",
      "S.28.01.01.02\n",
      "S.28.01.01.03\n",
      "S.28.01.01.04\n",
      "S.28.01.01.05\n",
      "S.28.02.01.01\n",
      "S.28.02.01.02\n",
      "S.28.02.01.03\n",
      "S.28.02.01.04\n",
      "S.28.02.01.05\n",
      "S.28.02.01.06\n",
      "T.99.01.01.01\n"
     ]
    }
   ],
   "source": [
    "# get tables in instance and sort by short name and print the first ten tables\n",
    "tables = list(xbrl_instance.modelRenderingTables)\n",
    "tables.sort(key = lambda table: table.genLabel(lang = LANGUAGE,strip = True, role = euRCcode))\n",
    "for table in tables:\n",
    "    print(table.genLabel(lang = LANGUAGE,strip = True, role = euRCcode))"
   ]
  },
  {
   "cell_type": "code",
   "execution_count": 9,
   "metadata": {
    "scrolled": true
   },
   "outputs": [
    {
     "name": "stdout",
     "output_type": "stream",
     "text": [
      "2020-09-29 09:03:30,026 [xbrlte:closedDefinitionNodeZeroCardinality] Closed definition node s2md_c74 does not contribute at least one structural node - qrs_240_instance.xbrl 12, 16\n",
      "\n",
      "2020-09-29 09:03:30,088 []  ... saved output ..\\tests\\data\\test_instances\\actual\\qrs_240_instance\\S.01.01.02.01.csv and .pickle - \n",
      "\n",
      "2020-09-29 09:03:30,735 [xbrlte:closedDefinitionNodeZeroCardinality] Closed definition node s2md_c499 does not contribute at least one structural node - qrs_240_instance.xbrl 12, 16\n",
      "\n",
      "2020-09-29 09:03:30,773 []  ... saved output ..\\tests\\data\\test_instances\\actual\\qrs_240_instance\\S.01.02.01.01.csv and .pickle - \n",
      "\n",
      "2020-09-29 09:03:31,491 []  ... saved output ..\\tests\\data\\test_instances\\actual\\qrs_240_instance\\S.02.01.02.01.csv and .pickle - \n",
      "\n",
      "2020-09-29 09:03:32,413 []  ... saved output ..\\tests\\data\\test_instances\\actual\\qrs_240_instance\\S.05.01.02.01.csv and .pickle - \n",
      "\n",
      "2020-09-29 09:03:33,524 []  ... saved output ..\\tests\\data\\test_instances\\actual\\qrs_240_instance\\S.05.01.02.02.csv and .pickle - \n",
      "\n",
      "2020-09-29 09:03:34,155 []  ... saved output ..\\tests\\data\\test_instances\\actual\\qrs_240_instance\\S.06.02.01.01.csv and .pickle - \n",
      "\n",
      "2020-09-29 09:03:34,818 []  ... saved output ..\\tests\\data\\test_instances\\actual\\qrs_240_instance\\S.06.02.01.02.csv and .pickle - \n",
      "\n",
      "2020-09-29 09:03:35,469 []  ... saved output ..\\tests\\data\\test_instances\\actual\\qrs_240_instance\\S.06.03.01.01.csv and .pickle - \n",
      "\n",
      "2020-09-29 09:03:36,155 []  ... saved output ..\\tests\\data\\test_instances\\actual\\qrs_240_instance\\S.08.01.01.01.csv and .pickle - \n",
      "\n",
      "2020-09-29 09:03:36,853 []  ... saved output ..\\tests\\data\\test_instances\\actual\\qrs_240_instance\\S.08.01.01.02.csv and .pickle - \n",
      "\n",
      "2020-09-29 09:03:37,488 []  ... saved output ..\\tests\\data\\test_instances\\actual\\qrs_240_instance\\S.08.02.01.01.csv and .pickle - \n",
      "\n",
      "2020-09-29 09:03:38,118 []  ... saved output ..\\tests\\data\\test_instances\\actual\\qrs_240_instance\\S.08.02.01.02.csv and .pickle - \n",
      "\n",
      "2020-09-29 09:03:38,687 [xbrlte:closedDefinitionNodeZeroCardinality] Closed definition node s2md_c2703 does not contribute at least one structural node - qrs_240_instance.xbrl 12, 41\n",
      "\n",
      "2020-09-29 09:03:38,687 [xbrlte:closedDefinitionNodeZeroCardinality] Closed definition node s2md_c2707 does not contribute at least one structural node - qrs_240_instance.xbrl 12, 72\n",
      "\n",
      "2020-09-29 09:03:38,687 [xbrlte:closedDefinitionNodeZeroCardinality] Closed definition node s2md_c2714 does not contribute at least one structural node - qrs_240_instance.xbrl 12, 137\n",
      "\n",
      "2020-09-29 09:03:38,846 []  ... saved output ..\\tests\\data\\test_instances\\actual\\qrs_240_instance\\S.12.01.02.01.csv and .pickle - \n",
      "\n",
      "2020-09-29 09:03:39,739 []  ... saved output ..\\tests\\data\\test_instances\\actual\\qrs_240_instance\\S.17.01.02.01.csv and .pickle - \n",
      "\n",
      "2020-09-29 09:03:40,471 []  ... saved output ..\\tests\\data\\test_instances\\actual\\qrs_240_instance\\S.23.01.01.01.csv and .pickle - \n",
      "\n",
      "2020-09-29 09:03:41,073 [xbrlte:closedDefinitionNodeZeroCardinality] Closed definition node s2md_c4300 does not contribute at least one structural node - qrs_240_instance.xbrl 12, 16\n",
      "\n",
      "2020-09-29 09:03:41,091 []  ... saved output ..\\tests\\data\\test_instances\\actual\\qrs_240_instance\\S.23.01.01.02.csv and .pickle - \n",
      "\n",
      "2020-09-29 09:03:41,709 []  ... saved output ..\\tests\\data\\test_instances\\actual\\qrs_240_instance\\S.28.01.01.01.csv and .pickle - \n",
      "\n",
      "2020-09-29 09:03:42,396 []  ... saved output ..\\tests\\data\\test_instances\\actual\\qrs_240_instance\\S.28.01.01.02.csv and .pickle - \n",
      "\n",
      "2020-09-29 09:03:42,967 [xbrlte:closedDefinitionNodeZeroCardinality] Closed definition node s2md_c8902 does not contribute at least one structural node - qrs_240_instance.xbrl 12, 16\n",
      "\n",
      "2020-09-29 09:03:42,975 []  ... saved output ..\\tests\\data\\test_instances\\actual\\qrs_240_instance\\S.28.01.01.03.csv and .pickle - \n",
      "\n",
      "2020-09-29 09:03:43,568 []  ... saved output ..\\tests\\data\\test_instances\\actual\\qrs_240_instance\\S.28.01.01.04.csv and .pickle - \n",
      "\n",
      "2020-09-29 09:03:44,150 [xbrlte:closedDefinitionNodeZeroCardinality] Closed definition node s2md_c8912 does not contribute at least one structural node - qrs_240_instance.xbrl 12, 16\n",
      "\n",
      "2020-09-29 09:03:44,168 []  ... saved output ..\\tests\\data\\test_instances\\actual\\qrs_240_instance\\S.28.01.01.05.csv and .pickle - \n",
      "\n",
      "2020-09-29 09:03:44,777 []  ... saved output ..\\tests\\data\\test_instances\\actual\\qrs_240_instance\\S.28.02.01.01.csv and .pickle - \n",
      "\n",
      "2020-09-29 09:03:45,490 []  ... saved output ..\\tests\\data\\test_instances\\actual\\qrs_240_instance\\S.28.02.01.02.csv and .pickle - \n",
      "\n",
      "2020-09-29 09:03:46,094 []  ... saved output ..\\tests\\data\\test_instances\\actual\\qrs_240_instance\\S.28.02.01.03.csv and .pickle - \n",
      "\n",
      "2020-09-29 09:03:46,743 []  ... saved output ..\\tests\\data\\test_instances\\actual\\qrs_240_instance\\S.28.02.01.04.csv and .pickle - \n",
      "\n",
      "2020-09-29 09:03:47,345 [xbrlte:closedDefinitionNodeZeroCardinality] Closed definition node s2md_c8968 does not contribute at least one structural node - qrs_240_instance.xbrl 12, 16\n",
      "\n",
      "2020-09-29 09:03:47,355 []  ... saved output ..\\tests\\data\\test_instances\\actual\\qrs_240_instance\\S.28.02.01.05.csv and .pickle - \n",
      "\n",
      "2020-09-29 09:03:47,998 []  ... saved output ..\\tests\\data\\test_instances\\actual\\qrs_240_instance\\S.28.02.01.06.csv and .pickle - \n",
      "\n",
      "2020-09-29 09:03:49,061 []  ... saved output ..\\tests\\data\\test_instances\\actual\\qrs_240_instance\\T.99.01.01.01.csv and .pickle - \n",
      "\n"
     ]
    }
   ],
   "source": [
    "# create csv and pickle files\n",
    "# time_stamp = datetime.now().strftime(\"%Y_%m_%d-%H_%M_%S\")\n",
    "\n",
    "# use verbose_labels = False if you want the row-column code as column names\n",
    "# use verbose_labels = True if you want labels as column names\n",
    "\n",
    "for table in tables:\n",
    "    obj = src.generateCSV.generateCSVTables(xbrl_instance, join(XBRL_INSTANCES_PATH, 'actual', subdir), \n",
    "                                            table = table, \n",
    "                                            lang = LANGUAGE,\n",
    "                                            verbose_labels = False)"
   ]
  },
  {
   "cell_type": "code",
   "execution_count": 10,
   "metadata": {},
   "outputs": [
    {
     "name": "stdout",
     "output_type": "stream",
     "text": [
      "2020-09-29 09:03:49,179 [xbrlte:closedDefinitionNodeZeroCardinality] Closed definition node s2md_c74 does not contribute at least one structural node - qrs_240_instance.xbrl 12, 16\n",
      "\n",
      "2020-09-29 09:03:49,195 [info] Saved output HTML to ..\\tests\\data\\test_instances\\actual\\qrs_240_instance\\S.01.01.02.01.html - qrs_240_instance.xbrl \n",
      "\n",
      "2020-09-29 09:03:49,210 [xbrlte:closedDefinitionNodeZeroCardinality] Closed definition node s2md_c499 does not contribute at least one structural node - qrs_240_instance.xbrl 12, 16\n",
      "\n",
      "2020-09-29 09:03:49,226 [info] Saved output HTML to ..\\tests\\data\\test_instances\\actual\\qrs_240_instance\\S.01.02.01.01.html - qrs_240_instance.xbrl \n",
      "\n",
      "2020-09-29 09:03:49,311 [info] Saved output HTML to ..\\tests\\data\\test_instances\\actual\\qrs_240_instance\\S.02.01.02.01.html - qrs_240_instance.xbrl \n",
      "\n",
      "2020-09-29 09:03:49,680 [info] Saved output HTML to ..\\tests\\data\\test_instances\\actual\\qrs_240_instance\\S.05.01.02.01.html - qrs_240_instance.xbrl \n",
      "\n",
      "2020-09-29 09:03:49,843 [info] Saved output HTML to ..\\tests\\data\\test_instances\\actual\\qrs_240_instance\\S.05.01.02.02.html - qrs_240_instance.xbrl \n",
      "\n",
      "2020-09-29 09:03:49,881 [info] Saved output HTML to ..\\tests\\data\\test_instances\\actual\\qrs_240_instance\\S.06.02.01.01.html - qrs_240_instance.xbrl \n",
      "\n",
      "2020-09-29 09:03:49,974 [info] Saved output HTML to ..\\tests\\data\\test_instances\\actual\\qrs_240_instance\\S.06.02.01.02.html - qrs_240_instance.xbrl \n",
      "\n",
      "2020-09-29 09:03:49,997 [info] Saved output HTML to ..\\tests\\data\\test_instances\\actual\\qrs_240_instance\\S.06.03.01.01.html - qrs_240_instance.xbrl \n",
      "\n",
      "2020-09-29 09:03:50,043 [info] Saved output HTML to ..\\tests\\data\\test_instances\\actual\\qrs_240_instance\\S.08.01.01.01.html - qrs_240_instance.xbrl \n",
      "\n",
      "2020-09-29 09:03:50,112 [info] Saved output HTML to ..\\tests\\data\\test_instances\\actual\\qrs_240_instance\\S.08.01.01.02.html - qrs_240_instance.xbrl \n",
      "\n",
      "2020-09-29 09:03:50,159 [info] Saved output HTML to ..\\tests\\data\\test_instances\\actual\\qrs_240_instance\\S.08.02.01.01.html - qrs_240_instance.xbrl \n",
      "\n",
      "2020-09-29 09:03:50,244 [info] Saved output HTML to ..\\tests\\data\\test_instances\\actual\\qrs_240_instance\\S.08.02.01.02.html - qrs_240_instance.xbrl \n",
      "\n",
      "2020-09-29 09:03:50,244 [xbrlte:closedDefinitionNodeZeroCardinality] Closed definition node s2md_c2703 does not contribute at least one structural node - qrs_240_instance.xbrl 12, 41\n",
      "\n",
      "2020-09-29 09:03:50,259 [xbrlte:closedDefinitionNodeZeroCardinality] Closed definition node s2md_c2707 does not contribute at least one structural node - qrs_240_instance.xbrl 12, 72\n",
      "\n",
      "2020-09-29 09:03:50,259 [xbrlte:closedDefinitionNodeZeroCardinality] Closed definition node s2md_c2714 does not contribute at least one structural node - qrs_240_instance.xbrl 12, 137\n",
      "\n",
      "2020-09-29 09:03:50,360 [info] Saved output HTML to ..\\tests\\data\\test_instances\\actual\\qrs_240_instance\\S.12.01.02.01.html - qrs_240_instance.xbrl \n",
      "\n",
      "2020-09-29 09:03:50,532 [info] Saved output HTML to ..\\tests\\data\\test_instances\\actual\\qrs_240_instance\\S.17.01.02.01.html - qrs_240_instance.xbrl \n",
      "\n",
      "2020-09-29 09:03:50,679 [info] Saved output HTML to ..\\tests\\data\\test_instances\\actual\\qrs_240_instance\\S.23.01.01.01.html - qrs_240_instance.xbrl \n",
      "\n",
      "2020-09-29 09:03:50,695 [xbrlte:closedDefinitionNodeZeroCardinality] Closed definition node s2md_c4300 does not contribute at least one structural node - qrs_240_instance.xbrl 12, 16\n",
      "\n",
      "2020-09-29 09:03:50,695 [xbrlte:closedDefinitionNodeZeroCardinality] Closed definition node s2md_c4300 does not contribute at least one structural node - qrs_240_instance.xbrl 12, 16\n",
      "\n",
      "2020-09-29 09:03:50,711 [info] Saved output HTML to ..\\tests\\data\\test_instances\\actual\\qrs_240_instance\\S.23.01.01.02.html - qrs_240_instance.xbrl \n",
      "\n",
      "2020-09-29 09:03:50,733 [info] Saved output HTML to ..\\tests\\data\\test_instances\\actual\\qrs_240_instance\\S.28.01.01.01.html - qrs_240_instance.xbrl \n",
      "\n",
      "2020-09-29 09:03:50,795 [info] Saved output HTML to ..\\tests\\data\\test_instances\\actual\\qrs_240_instance\\S.28.01.01.02.html - qrs_240_instance.xbrl \n",
      "\n",
      "2020-09-29 09:03:50,811 [xbrlte:closedDefinitionNodeZeroCardinality] Closed definition node s2md_c8902 does not contribute at least one structural node - qrs_240_instance.xbrl 12, 16\n",
      "\n",
      "2020-09-29 09:03:50,826 [info] Saved output HTML to ..\\tests\\data\\test_instances\\actual\\qrs_240_instance\\S.28.01.01.03.html - qrs_240_instance.xbrl \n",
      "\n",
      "2020-09-29 09:03:50,849 [info] Saved output HTML to ..\\tests\\data\\test_instances\\actual\\qrs_240_instance\\S.28.01.01.04.html - qrs_240_instance.xbrl \n",
      "\n",
      "2020-09-29 09:03:50,849 [xbrlte:closedDefinitionNodeZeroCardinality] Closed definition node s2md_c8912 does not contribute at least one structural node - qrs_240_instance.xbrl 12, 16\n",
      "\n",
      "2020-09-29 09:03:50,864 [xbrlte:closedDefinitionNodeZeroCardinality] Closed definition node s2md_c8912 does not contribute at least one structural node - qrs_240_instance.xbrl 12, 16\n",
      "\n",
      "2020-09-29 09:03:50,880 [info] Saved output HTML to ..\\tests\\data\\test_instances\\actual\\qrs_240_instance\\S.28.01.01.05.html - qrs_240_instance.xbrl \n",
      "\n",
      "2020-09-29 09:03:50,895 [info] Saved output HTML to ..\\tests\\data\\test_instances\\actual\\qrs_240_instance\\S.28.02.01.01.html - qrs_240_instance.xbrl \n",
      "\n",
      "2020-09-29 09:03:50,996 [info] Saved output HTML to ..\\tests\\data\\test_instances\\actual\\qrs_240_instance\\S.28.02.01.02.html - qrs_240_instance.xbrl \n",
      "\n",
      "2020-09-29 09:03:51,027 [info] Saved output HTML to ..\\tests\\data\\test_instances\\actual\\qrs_240_instance\\S.28.02.01.03.html - qrs_240_instance.xbrl \n",
      "\n",
      "2020-09-29 09:03:51,065 [info] Saved output HTML to ..\\tests\\data\\test_instances\\actual\\qrs_240_instance\\S.28.02.01.04.html - qrs_240_instance.xbrl \n",
      "\n",
      "2020-09-29 09:03:51,065 [xbrlte:closedDefinitionNodeZeroCardinality] Closed definition node s2md_c8968 does not contribute at least one structural node - qrs_240_instance.xbrl 12, 16\n",
      "\n",
      "2020-09-29 09:03:51,065 [xbrlte:closedDefinitionNodeZeroCardinality] Closed definition node s2md_c8968 does not contribute at least one structural node - qrs_240_instance.xbrl 12, 16\n",
      "\n",
      "2020-09-29 09:03:51,096 [info] Saved output HTML to ..\\tests\\data\\test_instances\\actual\\qrs_240_instance\\S.28.02.01.05.html - qrs_240_instance.xbrl \n",
      "\n",
      "2020-09-29 09:03:51,127 [info] Saved output HTML to ..\\tests\\data\\test_instances\\actual\\qrs_240_instance\\S.28.02.01.06.html - qrs_240_instance.xbrl \n",
      "\n",
      "2020-09-29 09:03:51,149 [info] Saved output HTML to ..\\tests\\data\\test_instances\\actual\\qrs_240_instance\\T.99.01.01.01.html - qrs_240_instance.xbrl \n",
      "\n"
     ]
    }
   ],
   "source": [
    "# create html files\n",
    "# for large tables this will take a lot of time!\n",
    "\n",
    "for table in tables:\n",
    "    ViewFileRenderedGrid.viewRenderedGrid(xbrl_instance,\n",
    "             join(XBRL_INSTANCES_PATH, 'actual', subdir, table.genLabel(lang = LANGUAGE,strip = True, role = euRCcode)+\".html\"),\n",
    "             viewTblELR = table,\n",
    "             lang = LANGUAGE, \n",
    "             sourceView = None,\n",
    "             diffToFile = False)"
   ]
  },
  {
   "cell_type": "markdown",
   "metadata": {},
   "source": [
    "## Example to read a template from the pickle files"
   ]
  },
  {
   "cell_type": "markdown",
   "metadata": {},
   "source": [
    "The easiest way to access the data of a separate template is to read the corresponding pickle-file."
   ]
  },
  {
   "cell_type": "code",
   "execution_count": 11,
   "metadata": {},
   "outputs": [
    {
     "data": {
      "text/html": [
       "<div>\n",
       "<style scoped>\n",
       "    .dataframe tbody tr th:only-of-type {\n",
       "        vertical-align: middle;\n",
       "    }\n",
       "\n",
       "    .dataframe tbody tr th {\n",
       "        vertical-align: top;\n",
       "    }\n",
       "\n",
       "    .dataframe thead th {\n",
       "        text-align: right;\n",
       "    }\n",
       "</style>\n",
       "<table border=\"1\" class=\"dataframe\">\n",
       "  <thead>\n",
       "    <tr style=\"text-align: right;\">\n",
       "      <th></th>\n",
       "      <th></th>\n",
       "      <th>S.12.01.02.01,R0010,C0020</th>\n",
       "      <th>S.12.01.02.01,R0010,C0030</th>\n",
       "      <th>S.12.01.02.01,R0010,C0060</th>\n",
       "      <th>S.12.01.02.01,R0010,C0090</th>\n",
       "      <th>S.12.01.02.01,R0010,C0100</th>\n",
       "      <th>S.12.01.02.01,R0010,C0150</th>\n",
       "      <th>S.12.01.02.01,R0010,C0160</th>\n",
       "      <th>S.12.01.02.01,R0010,C0190</th>\n",
       "      <th>S.12.01.02.01,R0010,C0200</th>\n",
       "      <th>S.12.01.02.01,R0010,C0210</th>\n",
       "      <th>...</th>\n",
       "      <th>S.12.01.02.01,R0200,C0020</th>\n",
       "      <th>S.12.01.02.01,R0200,C0030</th>\n",
       "      <th>S.12.01.02.01,R0200,C0060</th>\n",
       "      <th>S.12.01.02.01,R0200,C0090</th>\n",
       "      <th>S.12.01.02.01,R0200,C0100</th>\n",
       "      <th>S.12.01.02.01,R0200,C0150</th>\n",
       "      <th>S.12.01.02.01,R0200,C0160</th>\n",
       "      <th>S.12.01.02.01,R0200,C0190</th>\n",
       "      <th>S.12.01.02.01,R0200,C0200</th>\n",
       "      <th>S.12.01.02.01,R0200,C0210</th>\n",
       "    </tr>\n",
       "    <tr>\n",
       "      <th>entity</th>\n",
       "      <th>period</th>\n",
       "      <th></th>\n",
       "      <th></th>\n",
       "      <th></th>\n",
       "      <th></th>\n",
       "      <th></th>\n",
       "      <th></th>\n",
       "      <th></th>\n",
       "      <th></th>\n",
       "      <th></th>\n",
       "      <th></th>\n",
       "      <th></th>\n",
       "      <th></th>\n",
       "      <th></th>\n",
       "      <th></th>\n",
       "      <th></th>\n",
       "      <th></th>\n",
       "      <th></th>\n",
       "      <th></th>\n",
       "      <th></th>\n",
       "      <th></th>\n",
       "      <th></th>\n",
       "    </tr>\n",
       "  </thead>\n",
       "  <tbody>\n",
       "    <tr>\n",
       "      <th>0LFF1WMNTWG5PTIYYI38</th>\n",
       "      <th>2019-12-31</th>\n",
       "      <td>3.091352e+08</td>\n",
       "      <td>4.254319e+08</td>\n",
       "      <td>6.534239e+08</td>\n",
       "      <td>2.648805e+08</td>\n",
       "      <td>8.725597e+08</td>\n",
       "      <td>3.759592e+08</td>\n",
       "      <td>9.337171e+08</td>\n",
       "      <td>90930554.09</td>\n",
       "      <td>3.776374e+08</td>\n",
       "      <td>392468316.1</td>\n",
       "      <td>...</td>\n",
       "      <td>1.446843e+08</td>\n",
       "      <td>7.099264e+08</td>\n",
       "      <td>2.427328e+08</td>\n",
       "      <td>9.483667e+08</td>\n",
       "      <td>4.198717e+08</td>\n",
       "      <td>819253818.6</td>\n",
       "      <td>9.077553e+08</td>\n",
       "      <td>9.107667e+08</td>\n",
       "      <td>9.275308e+08</td>\n",
       "      <td>6.839209e+08</td>\n",
       "    </tr>\n",
       "  </tbody>\n",
       "</table>\n",
       "<p>1 rows × 112 columns</p>\n",
       "</div>"
      ],
      "text/plain": [
       "                                 S.12.01.02.01,R0010,C0020  \\\n",
       "entity               period                                  \n",
       "0LFF1WMNTWG5PTIYYI38 2019-12-31               3.091352e+08   \n",
       "\n",
       "                                 S.12.01.02.01,R0010,C0030  \\\n",
       "entity               period                                  \n",
       "0LFF1WMNTWG5PTIYYI38 2019-12-31               4.254319e+08   \n",
       "\n",
       "                                 S.12.01.02.01,R0010,C0060  \\\n",
       "entity               period                                  \n",
       "0LFF1WMNTWG5PTIYYI38 2019-12-31               6.534239e+08   \n",
       "\n",
       "                                 S.12.01.02.01,R0010,C0090  \\\n",
       "entity               period                                  \n",
       "0LFF1WMNTWG5PTIYYI38 2019-12-31               2.648805e+08   \n",
       "\n",
       "                                 S.12.01.02.01,R0010,C0100  \\\n",
       "entity               period                                  \n",
       "0LFF1WMNTWG5PTIYYI38 2019-12-31               8.725597e+08   \n",
       "\n",
       "                                 S.12.01.02.01,R0010,C0150  \\\n",
       "entity               period                                  \n",
       "0LFF1WMNTWG5PTIYYI38 2019-12-31               3.759592e+08   \n",
       "\n",
       "                                 S.12.01.02.01,R0010,C0160  \\\n",
       "entity               period                                  \n",
       "0LFF1WMNTWG5PTIYYI38 2019-12-31               9.337171e+08   \n",
       "\n",
       "                                 S.12.01.02.01,R0010,C0190  \\\n",
       "entity               period                                  \n",
       "0LFF1WMNTWG5PTIYYI38 2019-12-31                90930554.09   \n",
       "\n",
       "                                 S.12.01.02.01,R0010,C0200  \\\n",
       "entity               period                                  \n",
       "0LFF1WMNTWG5PTIYYI38 2019-12-31               3.776374e+08   \n",
       "\n",
       "                                 S.12.01.02.01,R0010,C0210  \\\n",
       "entity               period                                  \n",
       "0LFF1WMNTWG5PTIYYI38 2019-12-31                392468316.1   \n",
       "\n",
       "                                           ...              \\\n",
       "entity               period                ...               \n",
       "0LFF1WMNTWG5PTIYYI38 2019-12-31            ...               \n",
       "\n",
       "                                 S.12.01.02.01,R0200,C0020  \\\n",
       "entity               period                                  \n",
       "0LFF1WMNTWG5PTIYYI38 2019-12-31               1.446843e+08   \n",
       "\n",
       "                                 S.12.01.02.01,R0200,C0030  \\\n",
       "entity               period                                  \n",
       "0LFF1WMNTWG5PTIYYI38 2019-12-31               7.099264e+08   \n",
       "\n",
       "                                 S.12.01.02.01,R0200,C0060  \\\n",
       "entity               period                                  \n",
       "0LFF1WMNTWG5PTIYYI38 2019-12-31               2.427328e+08   \n",
       "\n",
       "                                 S.12.01.02.01,R0200,C0090  \\\n",
       "entity               period                                  \n",
       "0LFF1WMNTWG5PTIYYI38 2019-12-31               9.483667e+08   \n",
       "\n",
       "                                 S.12.01.02.01,R0200,C0100  \\\n",
       "entity               period                                  \n",
       "0LFF1WMNTWG5PTIYYI38 2019-12-31               4.198717e+08   \n",
       "\n",
       "                                 S.12.01.02.01,R0200,C0150  \\\n",
       "entity               period                                  \n",
       "0LFF1WMNTWG5PTIYYI38 2019-12-31                819253818.6   \n",
       "\n",
       "                                 S.12.01.02.01,R0200,C0160  \\\n",
       "entity               period                                  \n",
       "0LFF1WMNTWG5PTIYYI38 2019-12-31               9.077553e+08   \n",
       "\n",
       "                                 S.12.01.02.01,R0200,C0190  \\\n",
       "entity               period                                  \n",
       "0LFF1WMNTWG5PTIYYI38 2019-12-31               9.107667e+08   \n",
       "\n",
       "                                 S.12.01.02.01,R0200,C0200  \\\n",
       "entity               period                                  \n",
       "0LFF1WMNTWG5PTIYYI38 2019-12-31               9.275308e+08   \n",
       "\n",
       "                                 S.12.01.02.01,R0200,C0210  \n",
       "entity               period                                 \n",
       "0LFF1WMNTWG5PTIYYI38 2019-12-31               6.839209e+08  \n",
       "\n",
       "[1 rows x 112 columns]"
      ]
     },
     "execution_count": 11,
     "metadata": {},
     "output_type": "execute_result"
    }
   ],
   "source": [
    "t = tables[12].genLabel(lang = LANGUAGE,strip = True, role = euRCcode)\n",
    "df = pd.read_pickle(join(XBRL_INSTANCES_PATH, 'actual', subdir, t + \".pickle\"))\n",
    "df"
   ]
  },
  {
   "cell_type": "markdown",
   "metadata": {},
   "source": [
    "## Validate instance from Arelle"
   ]
  },
  {
   "cell_type": "markdown",
   "metadata": {},
   "source": [
    "It should be possible to validate the instance (performing the validation rules within the taxonomy) with Arelle with the following code. But we did not test this!"
   ]
  },
  {
   "cell_type": "code",
   "execution_count": null,
   "metadata": {},
   "outputs": [],
   "source": [
    "modelXbrl = modelmanager.load(join(XBRL_INSTANCES_PATH, instance_name))"
   ]
  },
  {
   "cell_type": "code",
   "execution_count": null,
   "metadata": {},
   "outputs": [],
   "source": [
    "controller = Cntlr.Cntlr(logFileName = \"logToPrint\")\n",
    "controller.webCache.workOffline = True\n",
    "controller.setLogCodeFilter(None)\n",
    "controller.logger.setLevel('INFO')"
   ]
  },
  {
   "cell_type": "code",
   "execution_count": null,
   "metadata": {},
   "outputs": [],
   "source": [
    "modelmanager.validateInferDecimals = True\n",
    "modelmanager.validateCalcLB = True\n",
    "modelmanager.validate()"
   ]
  }
 ],
 "metadata": {
  "kernelspec": {
   "display_name": "Python 3",
   "language": "python",
   "name": "python3"
  },
  "language_info": {
   "codemirror_mode": {
    "name": "ipython",
    "version": 3
   },
   "file_extension": ".py",
   "mimetype": "text/x-python",
   "name": "python",
   "nbconvert_exporter": "python",
   "pygments_lexer": "ipython3",
   "version": "3.6.12"
  }
 },
 "nbformat": 4,
 "nbformat_minor": 2
}

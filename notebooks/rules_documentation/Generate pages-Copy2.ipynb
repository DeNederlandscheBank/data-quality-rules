{
 "cells": [
  {
   "cell_type": "markdown",
   "metadata": {},
   "source": [
    "Generate pages"
   ]
  },
  {
   "cell_type": "markdown",
   "metadata": {},
   "source": [
    "## Read the XBRL-instance"
   ]
  },
  {
   "cell_type": "code",
   "execution_count": 1,
   "metadata": {},
   "outputs": [],
   "source": [
    "from arelle import ViewFileDTS, ViewFileFactTable, ViewFileFactList, ModelManager, FileSource, ViewFileRelationshipSet\n",
    "from arelle import Cntlr, ModelXbrl, ModelDocument, ViewFileFormulae\n",
    "from arelle import ModelFormulaObject, RenderingEvaluator, XbrlConst\n",
    "from arelle.ModelDtsObject import ModelRelationship\n",
    "import arelle"
   ]
  },
  {
   "cell_type": "code",
   "execution_count": 2,
   "metadata": {},
   "outputs": [],
   "source": [
    "import src\n",
    "import pandas as pd\n",
    "import re\n",
    "import os\n",
    "from os import listdir, walk, makedirs\n",
    "from os.path import isfile, join, exists\n",
    "from io import StringIO"
   ]
  },
  {
   "cell_type": "code",
   "execution_count": 3,
   "metadata": {},
   "outputs": [],
   "source": [
    "# make sure you have a 'arelle' directory in the data_path! (This is where the taxonomy is stored)\n",
    "XBRL_DATA_PATH    = 'C:\\\\Users\\\\wjwil\\\\20_local_data\\\\xbrl\\\\' \n",
    "#DATA_PATH    = 'H:\\\\20_local_data\\\\xbrl\\\\' \n",
    "XBRL_RESULTS_PATH = 'C:\\\\Users\\\\wjwil\\\\50_results\\\\xbrl\\\\'\n",
    "LANGUAGE     = \"en-GB\"\n",
    "# set the location of taxonomy\n",
    "os.environ['XDG_CONFIG_HOME'] = XBRL_DATA_PATH "
   ]
  },
  {
   "cell_type": "code",
   "execution_count": 4,
   "metadata": {},
   "outputs": [],
   "source": [
    "DOCS_PATH =\"..\\\\docs\\\\\"\n",
    "DATA_PATH =\"..\\\\data\\\\\"\n",
    "RULES_PATH = \"..\\\\Solvency2-rules\\\\\""
   ]
  },
  {
   "cell_type": "code",
   "execution_count": 5,
   "metadata": {
    "scrolled": true
   },
   "outputs": [],
   "source": [
    "# Now we make a modelmanager\n",
    "controller = Cntlr.Cntlr()\n",
    "controller.webCache.workOffline = True\n",
    "\n",
    "modelmanager = ModelManager.initialize(controller)\n",
    "modelmanager.defaultLang = LANGUAGE\n",
    "modelmanager.formulaOptions = ModelFormulaObject.FormulaOptions()\n",
    "modelmanager.loadCustomTransforms()"
   ]
  },
  {
   "cell_type": "code",
   "execution_count": 6,
   "metadata": {},
   "outputs": [],
   "source": [
    "# And we read the XBRL instance\n",
    "XBRL_INSTANCE = 'qrs_240_instance.xbrl'\n",
    "\n",
    "xbrl_instance = ModelXbrl.load(modelmanager, XBRL_DATA_PATH + XBRL_INSTANCE)"
   ]
  },
  {
   "cell_type": "code",
   "execution_count": 7,
   "metadata": {},
   "outputs": [
    {
     "name": "stdout",
     "output_type": "stream",
     "text": [
      "['http://eiopa.europa.eu/xbrl/s2md/role/fws/solvency/solvency2/2019-07-15/tab/S.01.01.02.01', 'http://eiopa.europa.eu/xbrl/s2md/role/fws/solvency/solvency2/2019-07-15/tab/S.01.02.01.01', 'http://eiopa.europa.eu/xbrl/s2md/role/fws/solvency/solvency2/2019-07-15/tab/S.02.01.02.01', 'http://eiopa.europa.eu/xbrl/s2md/role/fws/solvency/solvency2/2019-07-15/tab/S.05.01.02.01', 'http://eiopa.europa.eu/xbrl/s2md/role/fws/solvency/solvency2/2019-07-15/tab/S.05.01.02.02']\n"
     ]
    }
   ],
   "source": [
    "tables = list(xbrl_instance.relationshipSet(\"Table-rendering\").linkRoleUris)\n",
    "tables.sort()\n",
    "print(tables[0:5])"
   ]
  },
  {
   "cell_type": "markdown",
   "metadata": {},
   "source": [
    "## Extract from XBRL-instance"
   ]
  },
  {
   "cell_type": "code",
   "execution_count": 8,
   "metadata": {},
   "outputs": [],
   "source": [
    "#ViewFileDTS.viewDTS(xbrl_instance, XBRL_RESULTS_PATH + \"dts.csv\")"
   ]
  },
  {
   "cell_type": "code",
   "execution_count": 10,
   "metadata": {
    "scrolled": true
   },
   "outputs": [
    {
     "name": "stderr",
     "output_type": "stream",
     "text": [
      "Closed definition node s2md_c74 does not contribute at least one structural node\n",
      "Closed definition node s2md_c499 does not contribute at least one structural node\n",
      "Closed definition node s2md_c2703 does not contribute at least one structural node\n",
      "Closed definition node s2md_c2707 does not contribute at least one structural node\n",
      "Closed definition node s2md_c2714 does not contribute at least one structural node\n",
      "Closed definition node s2md_c4300 does not contribute at least one structural node\n",
      "Closed definition node s2md_c8902 does not contribute at least one structural node\n",
      "Closed definition node s2md_c8912 does not contribute at least one structural node\n",
      "Closed definition node s2md_c8968 does not contribute at least one structural node\n"
     ]
    }
   ],
   "source": [
    "RenderingEvaluator.init(xbrl_instance)\n",
    "for table in tables:\n",
    "    src.toDataFrame.generateCSVTables(xbrl_instance, XBRL_RESULTS_PATH, table_uri = table, lang = LANGUAGE)"
   ]
  },
  {
   "cell_type": "code",
   "execution_count": null,
   "metadata": {},
   "outputs": [],
   "source": [
    "# Generate English table labels\n",
    "template_dict = {}\n",
    "linkRoleUris = xbrl_instance.relationshipSet(\"Table-rendering\").linkRoleUris\n",
    "for role_uri in linkRoleUris:\n",
    "    definition = os.path.basename(role_uri)\n",
    "    tblAxisRelSet = xbrl_instance.relationshipSet(XbrlConst.euTableAxis, role_uri)\n",
    "    if len(tblAxisRelSet.modelRelationships)==0:\n",
    "        tblAxisRelSet = xbrl_instance.relationshipSet((XbrlConst.tableBreakdown, XbrlConst.tableBreakdownMMDD, XbrlConst.tableBreakdown201305, XbrlConst.tableBreakdown201301, XbrlConst.tableAxis2011), role_uri)\n",
    "    for rootconcept in tblAxisRelSet.rootConcepts:\n",
    "        # rootconcept is a modelTable-object\n",
    "        template_dict[rootconcept.definitionLabelsView[2][1]] = rootconcept.definitionLabelsView[3][1]"
   ]
  },
  {
   "cell_type": "code",
   "execution_count": null,
   "metadata": {},
   "outputs": [],
   "source": [
    "# # Generate dictionary with rc-codes to labels\n",
    "# tables = list(xbrl_instance.relationshipSet(\"Table-rendering\").linkRoleUris)\n",
    "# tables.sort()\n",
    "\n",
    "# datapoint_dict = {}\n",
    "# RenderingEvaluator.init(xbrl_instance)\n",
    "# for table in tables:\n",
    "#     d = src.rc2label.rc2label_dict(xbrl_instance, RESULTS_PATH, table_uri = table, lang = LANGUAGE)\n",
    "#     datapoint_dict.update(d)"
   ]
  },
  {
   "cell_type": "code",
   "execution_count": null,
   "metadata": {},
   "outputs": [],
   "source": []
  },
  {
   "cell_type": "code",
   "execution_count": null,
   "metadata": {},
   "outputs": [],
   "source": [
    "FILENAME_TAXO = 'simple_taxo.csv'\n",
    "df_taxo = pd.read_csv(join(DATA_PATH, FILENAME_TAXO))\n",
    "datapoint_dict = {}\n",
    "for row in df_taxo.index:\n",
    "    label = df_taxo.loc[row, 'label']\n",
    "    datapoint_dict[df_taxo.loc[row, 'datapoint']] = str(label)\n",
    "    "
   ]
  },
  {
   "cell_type": "markdown",
   "metadata": {},
   "source": [
    "## List validation rules in taxonomy"
   ]
  },
  {
   "cell_type": "code",
   "execution_count": null,
   "metadata": {},
   "outputs": [],
   "source": [
    "ViewFileFormulae.viewFormulae(xbrl_instance, XBRL_RESULTS_PATH + \"formulae.csv\", \"header\", None)"
   ]
  },
  {
   "cell_type": "code",
   "execution_count": null,
   "metadata": {},
   "outputs": [],
   "source": [
    "formulae = pd.read_csv(XBRL_RESULTS_PATH + \"formulae.csv\")\n",
    "df_xbrl = formulae[formulae['Expression'].str[0:2]==\"BV\"]"
   ]
  },
  {
   "cell_type": "code",
   "execution_count": null,
   "metadata": {},
   "outputs": [],
   "source": [
    "len(df_xbrl.index)"
   ]
  },
  {
   "cell_type": "code",
   "execution_count": null,
   "metadata": {},
   "outputs": [],
   "source": [
    "df = pd.DataFrame()\n",
    "for row in df_xbrl.index:\n",
    "    expr = df_xbrl.loc[row, 'Expression']\n",
    "    label = df_xbrl.loc[row, 'Label']\n",
    "    rule_templates, rule_datapoints, rule_id, rule_ref = src.parse_formula(expr, syntax = \"XBRL\")\n",
    "    rule_date = \"Unknown\"\n",
    "    df = df.append(pd.DataFrame(data = [[rule_id, label, rule_templates, rule_datapoints, rule_ref, expr]]), ignore_index = True)\n",
    "df.columns = ['Rule id', 'Rule label', 'Rule templates', 'Rule datapoints', 'Rule references', 'Rule expression']"
   ]
  },
  {
   "cell_type": "markdown",
   "metadata": {},
   "source": [
    "## Generate subdirectories for XBRL Formulae"
   ]
  },
  {
   "cell_type": "code",
   "execution_count": null,
   "metadata": {},
   "outputs": [],
   "source": [
    "DIR_NAME = \"EIOPA Validation rules_2.4.0\\\\\"\n",
    "\n",
    "all_templates = []\n",
    "for row in df.index:\n",
    "    all_templates.extend(df.loc[row, \"Rule templates\"])\n",
    "templates = list(pd.Series(data = all_templates).sort_values().unique())\n",
    "\n",
    "for template in templates:\n",
    "    if not exists(join(DOCS_PATH, DIR_NAME, template)):\n",
    "        makedirs(join(DOCS_PATH, DIR_NAME, template))"
   ]
  },
  {
   "cell_type": "code",
   "execution_count": null,
   "metadata": {},
   "outputs": [],
   "source": [
    "src.write_rst(join(DOCS_PATH, DIR_NAME), df, template_dict, datapoint_dict)"
   ]
  },
  {
   "cell_type": "markdown",
   "metadata": {},
   "source": [
    "## Read DNB Validation rules"
   ]
  },
  {
   "cell_type": "code",
   "execution_count": null,
   "metadata": {},
   "outputs": [],
   "source": [
    "FILE_NAME = '2020-01-22 Set aanvullende controleregels Solvency II_tcm46-387021.xlsx'\n",
    "DIR_NAME = \"DNB Additional validation rules.2.4.0\"\n",
    "\n",
    "df_dnb = pd.read_excel(os.path.join(RULES_PATH, FILE_NAME), header = 1)\n",
    "df_dnb = df_dnb.set_index('ControleRegelCode')\n",
    "df_dnb = df_dnb.drop('S.01.03_110', axis = 0)\n",
    "df_dnb.fillna(\"\", inplace = True)"
   ]
  },
  {
   "cell_type": "code",
   "execution_count": null,
   "metadata": {},
   "outputs": [],
   "source": [
    "df = pd.DataFrame()\n",
    "for row in df_dnb.index:\n",
    "    expr = df_dnb.loc[row, 'Formule']\n",
    "    label = \"\"\n",
    "    rule_templates, rule_datapoints, rule_id, rule_ref = src.parse_formula(expr, syntax = \"EVA2\")\n",
    "    rule_id = row\n",
    "    rule_date = \"2010-01-22\"\n",
    "    df = df.append(pd.DataFrame(data = [[rule_id, label, rule_templates, rule_datapoints, rule_ref, expr]]), ignore_index = True)\n",
    "df.columns = ['Rule id', 'Rule label', 'Rule templates', 'Rule datapoints', 'Rule references', 'Rule expression'] "
   ]
  },
  {
   "cell_type": "code",
   "execution_count": null,
   "metadata": {},
   "outputs": [],
   "source": []
  },
  {
   "cell_type": "markdown",
   "metadata": {},
   "source": [
    "## Generate subdirectories for DNB Validation rules"
   ]
  },
  {
   "cell_type": "code",
   "execution_count": null,
   "metadata": {},
   "outputs": [],
   "source": [
    "all_templates = []\n",
    "for row in df.index:\n",
    "    all_templates.extend(df.loc[row, \"Rule templates\"])\n",
    "templates = list(pd.Series(data = all_templates).sort_values().unique())\n",
    "\n",
    "for template in templates:\n",
    "    if not exists(join(DOCS_PATH, DIR_NAME, template)):\n",
    "        makedirs(join(DOCS_PATH, DIR_NAME, template))"
   ]
  },
  {
   "cell_type": "code",
   "execution_count": null,
   "metadata": {},
   "outputs": [],
   "source": [
    "src.write_rst(join(DOCS_PATH, DIR_NAME), df, template_dict, datapoint_dict)"
   ]
  },
  {
   "cell_type": "code",
   "execution_count": null,
   "metadata": {},
   "outputs": [],
   "source": []
  }
 ],
 "metadata": {
  "kernelspec": {
   "display_name": "Python 3",
   "language": "python",
   "name": "python3"
  },
  "language_info": {
   "codemirror_mode": {
    "name": "ipython",
    "version": 3
   },
   "file_extension": ".py",
   "mimetype": "text/x-python",
   "name": "python",
   "nbconvert_exporter": "python",
   "pygments_lexer": "ipython3",
   "version": "3.5.6"
  }
 },
 "nbformat": 4,
 "nbformat_minor": 2
}

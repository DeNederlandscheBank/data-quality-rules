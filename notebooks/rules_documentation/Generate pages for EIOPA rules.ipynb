{
 "cells": [
  {
   "cell_type": "markdown",
   "metadata": {},
   "source": [
    "# Generate docs for validation rules taxo"
   ]
  },
  {
   "cell_type": "markdown",
   "metadata": {},
   "source": [
    "## Read the XBRL-instance"
   ]
  },
  {
   "cell_type": "code",
   "execution_count": null,
   "metadata": {},
   "outputs": [],
   "source": [
    "from arelle import ModelManager, Cntlr, ModelFormulaObject, ModelXbrl, ViewFileFormulae, XbrlConst\n",
    "from arelle import RenderingEvaluator"
   ]
  },
  {
   "cell_type": "code",
   "execution_count": null,
   "metadata": {},
   "outputs": [],
   "source": [
    "import src\n",
    "import pandas as pd\n",
    "from os import listdir, walk, makedirs, environ\n",
    "from os.path import isfile, join, exists, basename\n",
    "from io import StringIO\n",
    "import ast"
   ]
  },
  {
   "cell_type": "code",
   "execution_count": null,
   "metadata": {},
   "outputs": [],
   "source": [
    "# make sure you have a 'arelle' directory in the data_path! (This is where the taxonomy is stored)\n",
    "XBRL_DATA_PATH    = '..\\\\data\\\\taxonomy\\\\' \n",
    "XBRL_RESULTS_PATH = '..\\\\data\\\\' \n",
    "LANGUAGE     = \"en-GB\"\n",
    "# set the location of taxonomy\n",
    "environ['XDG_CONFIG_HOME'] = XBRL_DATA_PATH"
   ]
  },
  {
   "cell_type": "code",
   "execution_count": null,
   "metadata": {},
   "outputs": [],
   "source": [
    "DOCS_PATH =\"..\\\\docs\\\\\"\n",
    "DATA_PATH =\"..\\\\data\\\\\"\n",
    "RULES_PATH = \"..\\\\Solvency2-rules\\\\\"\n",
    "DIR_NAME = \"EIOPA Validation rules_2.4.0\\\\\""
   ]
  },
  {
   "cell_type": "code",
   "execution_count": null,
   "metadata": {
    "scrolled": true
   },
   "outputs": [],
   "source": [
    "# Now we make a modelmanager\n",
    "controller = Cntlr.Cntlr()\n",
    "controller.webCache.workOffline = True\n",
    "\n",
    "modelmanager = ModelManager.initialize(controller)\n",
    "modelmanager.defaultLang = LANGUAGE\n",
    "modelmanager.formulaOptions = ModelFormulaObject.FormulaOptions()\n",
    "modelmanager.loadCustomTransforms()"
   ]
  },
  {
   "cell_type": "code",
   "execution_count": null,
   "metadata": {},
   "outputs": [],
   "source": [
    "if (not exists(join(DATA_PATH, \"datapoints.txt\"))) and (not exists(join(DATA_PATH, \"templates.txt\"))):\n",
    "    # Constructing dictionary of datapoints in rc-format\n",
    "    # This will take a while\n",
    "    template_dict = {}\n",
    "    datapoint_dict = {}\n",
    "    instances = [file for file in listdir(XBRL_DATA_PATH) if file.endswith(\".xbrl\")]\n",
    "    # And we read the XBRL instances to extract datapoints in rc-format\n",
    "    for file in instances:\n",
    "        print(file)\n",
    "        xbrl_instance = ModelXbrl.load(modelmanager, join(XBRL_DATA_PATH, file))\n",
    "        linkRoleUris = xbrl_instance.relationshipSet(\"Table-rendering\").linkRoleUris\n",
    "        for role_uri in linkRoleUris:\n",
    "            definition = basename(role_uri)\n",
    "            tblAxisRelSet = xbrl_instance.relationshipSet(XbrlConst.euTableAxis, role_uri)\n",
    "            if len(tblAxisRelSet.modelRelationships)==0:\n",
    "                tblAxisRelSet = xbrl_instance.relationshipSet((XbrlConst.tableBreakdown, XbrlConst.tableBreakdownMMDD, XbrlConst.tableBreakdown201305, XbrlConst.tableBreakdown201301, XbrlConst.tableAxis2011), role_uri)\n",
    "            for rootconcept in tblAxisRelSet.rootConcepts:\n",
    "                # rootconcept is a modelTable-object\n",
    "                template_dict[rootconcept.definitionLabelsView[2][1]] = rootconcept.definitionLabelsView[3][1]\n",
    "        tables = list(xbrl_instance.relationshipSet(\"Table-rendering\").linkRoleUris)\n",
    "        RenderingEvaluator.init(xbrl_instance)\n",
    "        datapoint_dict.update(src.rc2label.rc2label_dict(xbrl_instance))\n",
    "        \n",
    "    f = open(join(DATA_PATH, \"datapoints.txt\"),\"w\")\n",
    "    f.write(str(datapoint_dict))\n",
    "    f.close()\n",
    "    f = open(join(DATA_PATH, \"templates.txt\"),\"w\")\n",
    "    f.write(str(template_dict))\n",
    "    f.close()\n",
    "else:\n",
    "    f = open(join(DATA_PATH, \"datapoints.txt\"),\"r\")\n",
    "    datapoint_dict = ast.literal_eval(f.read())\n",
    "    f.close()\n",
    "    f = open(join(DATA_PATH, \"templates.txt\"),\"r\")\n",
    "    template_dict = ast.literal_eval(f.read())\n",
    "    f.close()"
   ]
  },
  {
   "cell_type": "markdown",
   "metadata": {},
   "source": [
    "## List validation rules in taxonomy"
   ]
  },
  {
   "cell_type": "code",
   "execution_count": null,
   "metadata": {},
   "outputs": [],
   "source": [
    "XBRL_INSTANCE = 'examples\\\\qrs_240_instance.xbrl'\n",
    "\n",
    "xbrl_instance = ModelXbrl.load(modelmanager, XBRL_DATA_PATH + XBRL_INSTANCE)\n",
    "\n",
    "ViewFileFormulae.viewFormulae(xbrl_instance, XBRL_RESULTS_PATH + \"formulae.csv\", \"header\", None)\n",
    "formulae = pd.read_csv(XBRL_RESULTS_PATH + \"formulae.csv\")\n",
    "df_xbrl = formulae[formulae['Expression'].str[0:2]==\"BV\"]"
   ]
  },
  {
   "cell_type": "code",
   "execution_count": null,
   "metadata": {},
   "outputs": [],
   "source": [
    "len(df_xbrl.index)"
   ]
  },
  {
   "cell_type": "code",
   "execution_count": null,
   "metadata": {},
   "outputs": [],
   "source": [
    "df = pd.DataFrame()\n",
    "for row in df_xbrl.index:\n",
    "    expr = df_xbrl.loc[row, 'Expression']\n",
    "    label = df_xbrl.loc[row, 'Label']\n",
    "    rule_templates, rule_datapoints, rule_id, rule_ref = src.parse_formula(expr, syntax = \"XBRL\")\n",
    "    rule_date = \"Unknown\"\n",
    "    df = df.append(pd.DataFrame(data = [[rule_id, label, rule_templates, rule_datapoints, rule_ref, expr]]), ignore_index = True)\n",
    "df.columns = ['Rule id', 'Rule label', 'Rule templates', 'Rule datapoints', 'Rule references', 'Rule expression']"
   ]
  },
  {
   "cell_type": "code",
   "execution_count": null,
   "metadata": {},
   "outputs": [],
   "source": [
    "df.head(5)"
   ]
  },
  {
   "cell_type": "markdown",
   "metadata": {},
   "source": [
    "## Generate subdirectories for XBRL Formulae"
   ]
  },
  {
   "cell_type": "code",
   "execution_count": null,
   "metadata": {},
   "outputs": [],
   "source": [
    "all_templates = []\n",
    "for row in df.index:\n",
    "    all_templates.extend(df.loc[row, \"Rule templates\"])\n",
    "templates = list(pd.Series(data = all_templates).sort_values().unique())\n",
    "\n",
    "for template in templates:\n",
    "    if not exists(join(DOCS_PATH, DIR_NAME, template)):\n",
    "        makedirs(join(DOCS_PATH, DIR_NAME, template))"
   ]
  },
  {
   "cell_type": "code",
   "execution_count": null,
   "metadata": {},
   "outputs": [],
   "source": [
    "src.write_rst(join(DOCS_PATH, DIR_NAME), df, template_dict, datapoint_dict)"
   ]
  },
  {
   "cell_type": "code",
   "execution_count": null,
   "metadata": {},
   "outputs": [],
   "source": []
  }
 ],
 "metadata": {
  "kernelspec": {
   "display_name": "Python 3",
   "language": "python",
   "name": "python3"
  },
  "language_info": {
   "codemirror_mode": {
    "name": "ipython",
    "version": 3
   },
   "file_extension": ".py",
   "mimetype": "text/x-python",
   "name": "python",
   "nbconvert_exporter": "python",
   "pygments_lexer": "ipython3",
   "version": "3.5.6"
  }
 },
 "nbformat": 4,
 "nbformat_minor": 2
}

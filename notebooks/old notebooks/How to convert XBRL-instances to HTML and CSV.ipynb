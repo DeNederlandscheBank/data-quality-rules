{
 "cells": [
  {
   "cell_type": "markdown",
   "metadata": {},
   "source": [
    "# How to convert Solvency 2 XBRL-instances to HTML and CSV-files"
   ]
  },
  {
   "cell_type": "markdown",
   "metadata": {},
   "source": [
    "This tutorial shows you how to convert a XBRL-instance of a Solvency 2 report to a csv-file. This enables you to use the data from the XBRL-instance in your Python environment.\n",
    "\n",
    "* install the Arelle package\n",
    "\n",
    "* download the Solvency 2 taxonomy from the EIOPA website\n",
    "\n",
    "* get your XBRL-instance(s) (we use here the Solvency 2 XBRL instance examples from the EIOPA website)\n",
    "\n",
    "* read the XBRL-instance and convert it to a csv-file"
   ]
  },
  {
   "cell_type": "markdown",
   "metadata": {},
   "source": [
    "## Install the Arelle package"
   ]
  },
  {
   "cell_type": "markdown",
   "metadata": {},
   "source": [
    "Clone the package from https://github.com/Arelle/Arelle.git and install the package."
   ]
  },
  {
   "cell_type": "markdown",
   "metadata": {},
   "source": [
    "## Download the Solvency 2 taxonomy from the EIOPA website"
   ]
  },
  {
   "cell_type": "markdown",
   "metadata": {},
   "source": [
    "The file we downloaded was:\n",
    "https://dev.eiopa.europa.eu/Taxonomy/Full/2.4.0/S2/EIOPA_SolvencyII_XBRL_Taxonomy_2.4.0_with_external_hotfix.zip"
   ]
  },
  {
   "cell_type": "markdown",
   "metadata": {},
   "source": [
    "## Get your XBRL-instance(s)"
   ]
  },
  {
   "cell_type": "markdown",
   "metadata": {},
   "source": [
    "We got ours from:\n",
    "https://eiopa.europa.eu/regulation-supervision/insurance/reporting-format/data-point-model-and-xbrl. \n",
    "\n",
    "The test instances are here:\n",
    "https://dev.eiopa.europa.eu/Taxonomy/Full/2.4.0/S2/EIOPA_SolvencyII_XBRL_Instance_documents_2.4.0.zip\n"
   ]
  },
  {
   "cell_type": "markdown",
   "metadata": {},
   "source": [
    "## Read the XBRL-instance"
   ]
  },
  {
   "cell_type": "code",
   "execution_count": 1,
   "metadata": {},
   "outputs": [],
   "source": [
    "from arelle import ViewFileFactTable, ViewFileFactList, ModelManager, FileSource, ViewFileRelationshipSet\n",
    "from arelle import Cntlr, ModelXbrl, ModelDocument, ViewFileFormulae\n",
    "from arelle import ModelFormulaObject, RenderingEvaluator, XbrlConst\n",
    "from arelle.ModelDtsObject import ModelRelationship\n",
    "import arelle\n",
    "from arelle.ModelRenderingObject import (ModelEuTable, ModelTable, ModelBreakdown,\n",
    "                                         ModelEuAxisCoord, ModelDefinitionNode, ModelClosedDefinitionNode, ModelRuleDefinitionNode,\n",
    "                                         ModelRelationshipDefinitionNode, ModelSelectionDefinitionNode, ModelFilterDefinitionNode,\n",
    "                                         ModelConceptRelationshipDefinitionNode, ModelDimensionRelationshipDefinitionNode,\n",
    "                                         ModelCompositionDefinitionNode, ModelTupleDefinitionNode, StructuralNode,\n",
    "                                         ROLLUP_NOT_ANALYZED, CHILDREN_BUT_NO_ROLLUP, CHILD_ROLLUP_FIRST, CHILD_ROLLUP_LAST,\n",
    "                                         OPEN_ASPECT_ENTRY_SURROGATE)\n",
    "from arelle.ModelDtsObject import ModelResource"
   ]
  },
  {
   "cell_type": "code",
   "execution_count": 2,
   "metadata": {},
   "outputs": [],
   "source": [
    "import os\n",
    "import src"
   ]
  },
  {
   "cell_type": "code",
   "execution_count": 3,
   "metadata": {},
   "outputs": [],
   "source": [
    "# make sure you have a 'arelle' directory in the data_path! (This is where the taxonomy is stored)\n",
    "DATA_PATH    = 'C:\\\\Users\\\\wjwil\\\\20_local_data\\\\xbrl\\\\' \n",
    "RESULTS_PATH = 'C:\\\\Users\\\\wjwil\\\\50_results\\\\xbrl\\\\'\n",
    "LANGUAGE     = \"en-GB\"\n",
    "# set the location of taxonomy\n",
    "os.environ['XDG_CONFIG_HOME'] = DATA_PATH "
   ]
  },
  {
   "cell_type": "code",
   "execution_count": 4,
   "metadata": {
    "scrolled": true
   },
   "outputs": [],
   "source": [
    "# Now we make a modelmanager\n",
    "modelmanager = ModelManager.initialize(Cntlr.Cntlr())\n",
    "modelmanager.defaultLang = LANGUAGE\n",
    "modelmanager.formulaOptions = ModelFormulaObject.FormulaOptions()\n",
    "modelmanager.loadCustomTransforms()"
   ]
  },
  {
   "cell_type": "code",
   "execution_count": 5,
   "metadata": {},
   "outputs": [],
   "source": [
    "# And we read the XBRL instance\n",
    "XBRL_INSTANCE = 'qrs_240_instance.xbrl'\n",
    "\n",
    "xbrl_instance = ModelXbrl.load(modelmanager, DATA_PATH + XBRL_INSTANCE)"
   ]
  },
  {
   "cell_type": "markdown",
   "metadata": {},
   "source": [
    "## Convert XBRL-instance to HTML"
   ]
  },
  {
   "cell_type": "code",
   "execution_count": null,
   "metadata": {},
   "outputs": [],
   "source": []
  },
  {
   "cell_type": "code",
   "execution_count": null,
   "metadata": {},
   "outputs": [],
   "source": [
    "tables = list(xbrl_instance.relationshipSet(\"Table-rendering\").linkRoleUris)\n",
    "tables.sort()\n",
    "RenderingEvaluator.init(xbrl_instance)\n",
    "for item in list(tables):\n",
    "    arelle.ViewFileRenderedGrid.viewRenderedGrid(xbrl_instance,\n",
    "                 RESULTS_PATH + item[-13:]+\".html\", \n",
    "                 viewTblELR = item,\n",
    "                 lang = LANGUAGE, \n",
    "                 sourceView = None,\n",
    "                 diffToFile = False)"
   ]
  },
  {
   "cell_type": "markdown",
   "metadata": {},
   "source": [
    "## XBRL RelationshipSet"
   ]
  },
  {
   "cell_type": "code",
   "execution_count": null,
   "metadata": {},
   "outputs": [],
   "source": [
    "# arcole can be one of the following:\n",
    "# XbrlConst.parentChild\n",
    "# XbrlConst.summationItem\n",
    "# \"XBRL-dimensions\"\n",
    "# \"Table-rendering\"\n",
    "# isinstance(arcrole, (list,tuple)) \n",
    "# XbrlConst.isResourceArcrole(arcrole):\n",
    "\n",
    "RenderingEvaluator.init(xbrl_instance)\n",
    "ViewFileRelationshipSet.viewRelationshipSet(modelXbrl = xbrl_instance, \n",
    "                                            arcrole = XbrlConst.parentChild,\n",
    "                                            header = \"test\",\n",
    "                                            outfile = RESULTS_PATH + \"parentchild.html\", \n",
    "                                            lang = \"en-GB\") "
   ]
  },
  {
   "cell_type": "code",
   "execution_count": null,
   "metadata": {},
   "outputs": [],
   "source": [
    "# a = src.processXBRL.DartXbrl(xbrl = xbrl_instance)\n",
    "# labels = []\n",
    "# for table in a.tables:\n",
    "#     labels.append((table.uri, table.labels))"
   ]
  },
  {
   "cell_type": "code",
   "execution_count": null,
   "metadata": {},
   "outputs": [],
   "source": [
    "arcrole = XbrlConst.parentChild\n",
    "relationship = xbrl_instance.relationshipSet(arcrole)\n",
    "\n",
    "parentchildrelations = None\n",
    "if relationship is not None:\n",
    "    parentchildrelations = []\n",
    "    for uri in relationship.linkRoleUris:\n",
    "        role_types = xbrl_instance.roleTypes.get(uri)\n",
    "        if role_types is not None:\n",
    "            definition = role_types[0].genLabel(lang='en-GB')\n",
    "        else:\n",
    "            definition = uri\n",
    "        code = uri\n",
    "        parentchildrelations.append(src.processXBRL.Table(xbrl_instance, xbrl_instance, code = code, definition = definition, uri = uri))"
   ]
  },
  {
   "cell_type": "markdown",
   "metadata": {},
   "source": [
    "## Convert XBRL-instance to DataFrame"
   ]
  },
  {
   "cell_type": "markdown",
   "metadata": {},
   "source": [
    "TODO: z-axis tables"
   ]
  },
  {
   "cell_type": "code",
   "execution_count": null,
   "metadata": {},
   "outputs": [],
   "source": []
  },
  {
   "cell_type": "code",
   "execution_count": 6,
   "metadata": {
    "scrolled": true
   },
   "outputs": [
    {
     "name": "stdout",
     "output_type": "stream",
     "text": [
      "Formula xpath2 grammar initialized in 0,85 secs\n"
     ]
    },
    {
     "name": "stderr",
     "output_type": "stream",
     "text": [
      "Closed definition node s2md_c74 does not contribute at least one structural node\n",
      "Closed definition node s2md_c499 does not contribute at least one structural node\n",
      "Closed definition node s2md_c2703 does not contribute at least one structural node\n",
      "Closed definition node s2md_c2707 does not contribute at least one structural node\n",
      "Closed definition node s2md_c2714 does not contribute at least one structural node\n",
      "Closed definition node s2md_c4300 does not contribute at least one structural node\n",
      "Closed definition node s2md_c8902 does not contribute at least one structural node\n",
      "Closed definition node s2md_c8912 does not contribute at least one structural node\n",
      "Closed definition node s2md_c8968 does not contribute at least one structural node\n"
     ]
    }
   ],
   "source": [
    "tables = list(xbrl_instance.relationshipSet(\"Table-rendering\").linkRoleUris)\n",
    "tables.sort()\n",
    "\n",
    "RenderingEvaluator.init(xbrl_instance)\n",
    "for table in tables:\n",
    "    src.toDataFrame.generateCSVTables(xbrl_instance, RESULTS_PATH, table_uri = table, lang = LANGUAGE)"
   ]
  },
  {
   "cell_type": "code",
   "execution_count": null,
   "metadata": {},
   "outputs": [],
   "source": [
    "# Experiments\n",
    "\n",
    "arcrole = \"Table-rendering\"\n",
    "relationship = xbrl_instance.relationshipSet(arcrole)\n",
    "\n",
    "tables = None\n",
    "if relationship is not None:\n",
    "    tables = []\n",
    "    for role_uri in relationship.linkRoleUris:\n",
    "        definition = os.path.basename(role_uri)\n",
    "    #    tables.append(src.processXBRL.Table(xbrl_instance, xbrl_instance, code = uri, definition = definition, uri = uri))\n",
    "        \n",
    "        tblAxisRelSet = xbrl_instance.relationshipSet(XbrlConst.euTableAxis, role_uri)\n",
    "        if len(tblAxisRelSet.modelRelationships) > 0:\n",
    "            axisSubtreeRelSet = xbrl_instance.relationshipSet(XbrlConst.euAxisMember, role_uri)\n",
    "        else:\n",
    "            tblAxisRelSet = xbrl_instance.relationshipSet((XbrlConst.tableBreakdown, XbrlConst.tableBreakdownMMDD, XbrlConst.tableBreakdown201305, XbrlConst.tableBreakdown201301, XbrlConst.tableAxis2011), role_uri)\n",
    "            axisSubtreeRelSet = xbrl_instance.relationshipSet((XbrlConst.tableBreakdownTree, XbrlConst.tableBreakdownTreeMMDD, XbrlConst.tableBreakdownTree201305, XbrlConst.tableDefinitionNodeSubtree, XbrlConst.tableDefinitionNodeSubtreeMMDD, XbrlConst.tableDefinitionNodeSubtree201305, XbrlConst.tableDefinitionNodeSubtree201301, XbrlConst.tableAxisSubtree2011), role_uri)\n",
    "\n",
    "        for rootconcept in tblAxisRelSet.rootConcepts:\n",
    "            # rootconcept is a modelTable-object\n",
    "            print(rootconcept.definitionLabelsView)\n",
    "            tblAxisRels = tblAxisRelSet.fromModelObject(rootconcept)\n",
    "            for i, tblAxisRel in enumerate(tblAxisRels):\n",
    "                definitionNode = tblAxisRel.toModelObject\n",
    "                print(tblAxisRel.axisDisposition + \": \", end = \"\")\n",
    "                for rel in xbrl_instance.relationshipSet(XbrlConst.elementLabel).fromModelObject(definitionNode):\n",
    "                    if isinstance(rel.toModelObject, ModelResource) and rel.toModelObject.role != XbrlConst.genStandardLabel:\n",
    "                        labelRole = rel.toModelObject.role\n",
    "                        print(\"Non-standard label role : \" + labelRole)\n",
    "                    if isinstance(rel.toModelObject, ModelResource) and rel.toModelObject.role == XbrlConst.genStandardLabel:\n",
    "                        labelRole = rel.toModelObject.role\n",
    "                        print(\"Standard label role : \" + labelRole)\n",
    "        print('')"
   ]
  },
  {
   "cell_type": "markdown",
   "metadata": {},
   "source": [
    "## List validation rules in taxonomy"
   ]
  },
  {
   "cell_type": "code",
   "execution_count": 6,
   "metadata": {},
   "outputs": [],
   "source": [
    "import pandas as pd"
   ]
  },
  {
   "cell_type": "code",
   "execution_count": 7,
   "metadata": {},
   "outputs": [],
   "source": [
    "ViewFileFormulae.viewFormulae(xbrl_instance, RESULTS_PATH + \"formulae.csv\", \"header\", None)"
   ]
  },
  {
   "cell_type": "code",
   "execution_count": 16,
   "metadata": {},
   "outputs": [
    {
     "data": {
      "text/plain": [
       "array(['BV916-1: if ({{S.28.01.01.05,r0400,c0070}} != {{S.28.01.01.05,r0350,c0070}}) then {{S.28.01.01.05,r0400,c0070}} >= 0.25*{{S.28.01.01.05,r0310,c0070}} and {{S.28.01.01.05,r0400,c0070}} <= 0.45*{{S.28.01.01.05,r0310,c0070}}',\n",
       "       'BV916-1: if ({{S.28.01.01.05,r0400,c0070}} != {{S.28.01.01.05,r0350,c0070}}) then {{S.28.01.01.05,r0400,c0070}} >= 0.25*{{S.28.01.01.05,r0310,c0070}} and {{S.28.01.01.05,r0400,c0070}} <= 0.45*{{S.28.01.01.05,r0310,c0070}}',\n",
       "       'BV916-1: if ({{S.28.01.01.05,r0400,c0070}} != {{S.28.01.01.05,r0350,c0070}}) then {{S.28.01.01.05,r0400,c0070}} >= 0.25*{{S.28.01.01.05,r0310,c0070}} and {{S.28.01.01.05,r0400,c0070}} <= 0.45*{{S.28.01.01.05,r0310,c0070}}',\n",
       "       ...,\n",
       "       'BV921-1: {{S.28.02.01.05, r0330,c0130}} = 0.25 * {{S.28.02.01.05, r0310,c0130}}',\n",
       "       'BV920-1_W: {{S.28.02.01.05, r0320,c0130}} = 0.45 * {{S.28.02.01.05, r0310,c0130}}',\n",
       "       'BV920-1_W: {{S.28.02.01.05, r0320,c0130}} = 0.45 * {{S.28.02.01.05, r0310,c0130}}'],\n",
       "      dtype=object)"
      ]
     },
     "execution_count": 16,
     "metadata": {},
     "output_type": "execute_result"
    }
   ],
   "source": [
    "formulae = pd.read_csv(RESULTS_PATH + \"formulae.csv\")\n",
    "formulae[formulae['Expression'].str[0:2]==\"BV\"]['Expression'].values"
   ]
  },
  {
   "cell_type": "code",
   "execution_count": 17,
   "metadata": {},
   "outputs": [
    {
     "data": {
      "text/plain": [
       "1210"
      ]
     },
     "execution_count": 17,
     "metadata": {},
     "output_type": "execute_result"
    }
   ],
   "source": [
    "len(formulae[formulae['Expression'].str[0:2]==\"BV\"]['Expression'])"
   ]
  },
  {
   "cell_type": "code",
   "execution_count": null,
   "metadata": {},
   "outputs": [],
   "source": [
    "formulae"
   ]
  },
  {
   "cell_type": "code",
   "execution_count": null,
   "metadata": {},
   "outputs": [],
   "source": [
    "# from arelle import ViewFileFactTable\n",
    "# ViewFileFactTable.viewFacts(xbrl_instance, RESULTS_PATH + \"facts.html\", arcrole=None, linkrole=None, linkqname=None, arcqname=None, ignoreDims=False, showDimDefaults=False, labelrole=None, lang = \"en-GB\")"
   ]
  },
  {
   "cell_type": "code",
   "execution_count": null,
   "metadata": {},
   "outputs": [],
   "source": [
    "# from arelle import ViewFileFactList\n",
    "# ViewFileFactTable.viewFacts(xbrl_instance, RESULTS_PATH + \"facts_list.html\")"
   ]
  },
  {
   "cell_type": "code",
   "execution_count": null,
   "metadata": {},
   "outputs": [],
   "source": [
    "import regex\n",
    "from src import saveHtmlEBAtables, saveLoadableExcel, saveSampleInstance, saveLoadableOIM"
   ]
  },
  {
   "cell_type": "code",
   "execution_count": null,
   "metadata": {},
   "outputs": [],
   "source": [
    "saveLoadableOIM.saveLoadableOIM(xbrl_instance, \"test.csv\")"
   ]
  },
  {
   "cell_type": "code",
   "execution_count": null,
   "metadata": {},
   "outputs": [],
   "source": []
  },
  {
   "cell_type": "raw",
   "metadata": {},
   "source": []
  }
 ],
 "metadata": {
  "kernelspec": {
   "display_name": "Python 3",
   "language": "python",
   "name": "python3"
  },
  "language_info": {
   "codemirror_mode": {
    "name": "ipython",
    "version": 3
   },
   "file_extension": ".py",
   "mimetype": "text/x-python",
   "name": "python",
   "nbconvert_exporter": "python",
   "pygments_lexer": "ipython3",
   "version": "3.5.6"
  }
 },
 "nbformat": 4,
 "nbformat_minor": 2
}

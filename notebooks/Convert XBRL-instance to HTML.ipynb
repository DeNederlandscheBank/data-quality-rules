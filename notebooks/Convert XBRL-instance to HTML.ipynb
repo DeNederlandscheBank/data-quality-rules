{
 "cells": [
  {
   "cell_type": "markdown",
   "metadata": {},
   "source": [
    "# Convert Solvency 2 XBRL-instances to HTML"
   ]
  },
  {
   "cell_type": "markdown",
   "metadata": {},
   "source": [
    "## Read the XBRL-instance"
   ]
  },
  {
   "cell_type": "code",
   "execution_count": 2,
   "metadata": {},
   "outputs": [],
   "source": [
    "from arelle import ModelManager, Cntlr, ModelFormulaObject, ModelXbrl, ViewFileFormulae, XbrlConst, ViewFileRenderedGrid\n",
    "from arelle import RenderingEvaluator"
   ]
  },
  {
   "cell_type": "code",
   "execution_count": 3,
   "metadata": {},
   "outputs": [],
   "source": [
    "import src\n",
    "import pandas as pd\n",
    "from os import listdir, walk, makedirs, environ\n",
    "from os.path import isfile, join, exists, basename\n",
    "from io import StringIO\n",
    "import ast"
   ]
  },
  {
   "cell_type": "code",
   "execution_count": 4,
   "metadata": {},
   "outputs": [],
   "source": [
    "# make sure you have a 'arelle' directory in the data_path! (This is where the taxonomy is stored)\n",
    "XBRL_DATA_PATH    = join('..', 'data', 'taxonomy')\n",
    "XBRL_RESULTS_PATH = join('..', 'results')\n",
    "LANGUAGE     = \"en-GB\"\n",
    "# set the location of taxonomy\n",
    "environ['XDG_CONFIG_HOME'] = XBRL_DATA_PATH"
   ]
  },
  {
   "cell_type": "code",
   "execution_count": 5,
   "metadata": {
    "scrolled": true
   },
   "outputs": [],
   "source": [
    "# Now we make a modelmanager\n",
    "controller = Cntlr.Cntlr()\n",
    "controller.webCache.workOffline = True\n",
    "\n",
    "modelmanager = ModelManager.initialize(controller)\n",
    "modelmanager.defaultLang = LANGUAGE\n",
    "modelmanager.formulaOptions = ModelFormulaObject.FormulaOptions()\n",
    "modelmanager.loadCustomTransforms()"
   ]
  },
  {
   "cell_type": "code",
   "execution_count": 6,
   "metadata": {},
   "outputs": [],
   "source": [
    "# And we read the XBRL instance\n",
    "XBRL_INSTANCE = 'examples\\\\qrs_240_instance.xbrl'\n",
    "xbrl_instance = ModelXbrl.load(modelmanager, join(XBRL_DATA_PATH, XBRL_INSTANCE))"
   ]
  },
  {
   "cell_type": "code",
   "execution_count": 7,
   "metadata": {},
   "outputs": [
    {
     "name": "stdout",
     "output_type": "stream",
     "text": [
      "Formula xpath2 grammar initialized in 5,47 secs\n"
     ]
    }
   ],
   "source": [
    "tables = list(xbrl_instance.relationshipSet(\"Table-rendering\").linkRoleUris)\n",
    "tables.sort()\n",
    "RenderingEvaluator.init(xbrl_instance)\n",
    "for item in list(tables):\n",
    "    ViewFileRenderedGrid.viewRenderedGrid(xbrl_instance,\n",
    "                 join(XBRL_RESULTS_PATH, item[-13:]+\".html\"),\n",
    "                 viewTblELR = item,\n",
    "                 lang = LANGUAGE, \n",
    "                 sourceView = None,\n",
    "                 diffToFile = False)"
   ]
  },
  {
   "cell_type": "code",
   "execution_count": null,
   "metadata": {},
   "outputs": [],
   "source": [
    "# And we read the XBRL instance\n",
    "XBRL_INSTANCE = join('examples', 'aeb_240_instance.xbrl')\n",
    "xbrl_instance = ModelXbrl.load(modelmanager, join(XBRL_DATA_PATH, XBRL_INSTANCE))"
   ]
  },
  {
   "cell_type": "code",
   "execution_count": null,
   "metadata": {},
   "outputs": [],
   "source": [
    "tables = list(xbrl_instance.relationshipSet(\"Table-rendering\").linkRoleUris)\n",
    "tables.sort()\n",
    "RenderingEvaluator.init(xbrl_instance)\n",
    "for item in list(tables):\n",
    "    ViewFileRenderedGrid.viewRenderedGrid(xbrl_instance,\n",
    "                 join(XBRL_RESULTS_PATH, item[-13:]+\".html\"),\n",
    "                 viewTblELR = item,\n",
    "                 lang = LANGUAGE, \n",
    "                 sourceView = None,\n",
    "                 diffToFile = False)"
   ]
  },
  {
   "cell_type": "code",
   "execution_count": null,
   "metadata": {},
   "outputs": [],
   "source": []
  }
 ],
 "metadata": {
  "kernelspec": {
   "display_name": "Python 3",
   "language": "python",
   "name": "python3"
  }
 },
 "nbformat": 4,
 "nbformat_minor": 2
}
